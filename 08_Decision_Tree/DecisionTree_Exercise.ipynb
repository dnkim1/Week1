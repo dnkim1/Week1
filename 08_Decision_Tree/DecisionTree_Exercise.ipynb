{
 "cells": [
  {
   "cell_type": "markdown",
   "source": "# Decision Tree Worksheet",
   "metadata": {
    "colab_type": "text",
    "id": "-UimMCmGe19F",
    "cell_id": "00000-a17bbd0c-936b-4d1f-bfc8-e616765c57a2",
    "deepnote_cell_type": "markdown",
    "deepnote_cell_height": 82
   }
  },
  {
   "cell_type": "code",
   "source": "!pip install graphviz",
   "metadata": {
    "cell_id": "2087358fd04d47ec871395363b38a563",
    "tags": [],
    "deepnote_to_be_reexecuted": false,
    "source_hash": "ca10e547",
    "execution_start": 1657814362420,
    "execution_millis": 5509,
    "deepnote_cell_type": "code",
    "deepnote_cell_height": 200.578125
   },
   "outputs": [
    {
     "name": "stdout",
     "text": "Requirement already satisfied: graphviz in /root/venv/lib/python3.9/site-packages (0.20)\n\u001b[33mWARNING: You are using pip version 22.0.4; however, version 22.1.2 is available.\nYou should consider upgrading via the '/root/venv/bin/python -m pip install --upgrade pip' command.\u001b[0m\u001b[33m\n\u001b[0m",
     "output_type": "stream"
    }
   ],
   "execution_count": null
  },
  {
   "cell_type": "code",
   "metadata": {
    "colab": {
     "autoexec": {
      "startup": false,
      "wait_interval": 0
     }
    },
    "colab_type": "code",
    "id": "kedW02LgKjVL",
    "cell_id": "00001-c3a1e231-0620-4e41-9bfb-126e240634bd",
    "deepnote_to_be_reexecuted": false,
    "source_hash": "eb9a879d",
    "execution_start": 1657814367929,
    "execution_millis": 2483,
    "deepnote_cell_type": "code",
    "deepnote_cell_height": 243
   },
   "source": "import numpy as np\nimport pandas as pd\nfrom sklearn.model_selection import train_test_split\nfrom sklearn.tree import DecisionTreeClassifier\nfrom sklearn.metrics import accuracy_score\nfrom sklearn import tree\nfrom sklearn.ensemble import RandomForestClassifier\nfrom sklearn import metrics\nimport graphviz\nimport matplotlib.pyplot as plt",
   "outputs": [],
   "execution_count": null
  },
  {
   "cell_type": "markdown",
   "source": "## Loading data\n\nLoad Pima diabetes dataset and split data, with test size 20% and validaton 20%.",
   "metadata": {
    "colab_type": "text",
    "id": "rz35eT5-SMht",
    "cell_id": "00002-e2b4cf2f-ab18-4c3d-a27e-cb9494cd9638",
    "deepnote_cell_type": "markdown",
    "deepnote_cell_height": 108.390625
   }
  },
  {
   "cell_type": "code",
   "metadata": {
    "colab": {
     "autoexec": {
      "startup": false,
      "wait_interval": 0
     }
    },
    "colab_type": "code",
    "id": "Ydh9gmDkMGmu",
    "cell_id": "00003-5bf0a911-8f0b-4156-b87f-79779a708c8b",
    "deepnote_to_be_reexecuted": false,
    "source_hash": "337fec51",
    "execution_start": 1657814370449,
    "execution_millis": 80,
    "owner_user_id": "5515ba96-af66-44fc-bc53-50948bc28ae2",
    "deepnote_cell_type": "code",
    "deepnote_cell_height": 387
   },
   "source": "url = \"https://raw.githubusercontent.com/jbrownlee/Datasets/master/pima-indians-diabetes.data.csv\"\nnames = ['preg', 'plas', 'pres', 'skin', 'test', 'mass', 'pedi', 'age', 'class']\n\ndata = pd.read_csv(url,names=names)\ninvalid = ['plas', 'pres', 'skin', 'test', 'mass']\n\nfor i in invalid:\n    data[i].replace(to_replace=0, value=np.nan, inplace=True)\n    \ndata = data.dropna(axis=0).reset_index(drop=True)\ndata.head()\n\n\nX_cols = ['preg', 'plas', 'pres', 'skin', 'test', 'mass', 'pedi', 'age']\ny_col = 'class'\ntest_size = 0.20\nX_train, X_test, y_train, y_test = train_test_split(data[X_cols], data[y_col], test_size=test_size, random_state=0)\nX_train, X_val, y_train, y_val = train_test_split(X_train, y_train, test_size=test_size, random_state=0)",
   "outputs": [],
   "execution_count": null
  },
  {
   "cell_type": "markdown",
   "source": "## Creating Model\n\nMake a model using sklearn's DecisionTreeClassifier, with a high max-depth and low minimum sample leafs.",
   "metadata": {
    "colab_type": "text",
    "id": "KAFhsJIsSpMR",
    "cell_id": "00004-6639bcea-5f35-47d7-b6ef-12778faac808",
    "deepnote_cell_type": "markdown",
    "deepnote_cell_height": 130.796875
   }
  },
  {
   "cell_type": "code",
   "metadata": {
    "colab": {
     "autoexec": {
      "startup": false,
      "wait_interval": 0
     }
    },
    "colab_type": "code",
    "id": "fHbA28aFS2DM",
    "cell_id": "00005-34b9ffb0-76e4-42f5-8e16-3f49f8c50e72",
    "deepnote_to_be_reexecuted": false,
    "source_hash": "d917cae9",
    "execution_start": 1657814370534,
    "execution_millis": 22,
    "deepnote_cell_type": "code",
    "deepnote_cell_height": 193.375,
    "deepnote_output_heights": [
     60.375
    ]
   },
   "source": "decision_tree = DecisionTreeClassifier(criterion = \"entropy\", random_state = None,\n                              max_depth=10, min_samples_leaf=1)  \ndecision_tree.fit(X_train, y_train)",
   "outputs": [
    {
     "output_type": "execute_result",
     "execution_count": 4,
     "data": {
      "text/plain": "DecisionTreeClassifier(criterion='entropy', max_depth=10)",
      "text/html": "<style>#sk-container-id-1 {color: black;background-color: white;}#sk-container-id-1 pre{padding: 0;}#sk-container-id-1 div.sk-toggleable {background-color: white;}#sk-container-id-1 label.sk-toggleable__label {cursor: pointer;display: block;width: 100%;margin-bottom: 0;padding: 0.3em;box-sizing: border-box;text-align: center;}#sk-container-id-1 label.sk-toggleable__label-arrow:before {content: \"▸\";float: left;margin-right: 0.25em;color: #696969;}#sk-container-id-1 label.sk-toggleable__label-arrow:hover:before {color: black;}#sk-container-id-1 div.sk-estimator:hover label.sk-toggleable__label-arrow:before {color: black;}#sk-container-id-1 div.sk-toggleable__content {max-height: 0;max-width: 0;overflow: hidden;text-align: left;background-color: #f0f8ff;}#sk-container-id-1 div.sk-toggleable__content pre {margin: 0.2em;color: black;border-radius: 0.25em;background-color: #f0f8ff;}#sk-container-id-1 input.sk-toggleable__control:checked~div.sk-toggleable__content {max-height: 200px;max-width: 100%;overflow: auto;}#sk-container-id-1 input.sk-toggleable__control:checked~label.sk-toggleable__label-arrow:before {content: \"▾\";}#sk-container-id-1 div.sk-estimator input.sk-toggleable__control:checked~label.sk-toggleable__label {background-color: #d4ebff;}#sk-container-id-1 div.sk-label input.sk-toggleable__control:checked~label.sk-toggleable__label {background-color: #d4ebff;}#sk-container-id-1 input.sk-hidden--visually {border: 0;clip: rect(1px 1px 1px 1px);clip: rect(1px, 1px, 1px, 1px);height: 1px;margin: -1px;overflow: hidden;padding: 0;position: absolute;width: 1px;}#sk-container-id-1 div.sk-estimator {font-family: monospace;background-color: #f0f8ff;border: 1px dotted black;border-radius: 0.25em;box-sizing: border-box;margin-bottom: 0.5em;}#sk-container-id-1 div.sk-estimator:hover {background-color: #d4ebff;}#sk-container-id-1 div.sk-parallel-item::after {content: \"\";width: 100%;border-bottom: 1px solid gray;flex-grow: 1;}#sk-container-id-1 div.sk-label:hover label.sk-toggleable__label {background-color: #d4ebff;}#sk-container-id-1 div.sk-serial::before {content: \"\";position: absolute;border-left: 1px solid gray;box-sizing: border-box;top: 0;bottom: 0;left: 50%;z-index: 0;}#sk-container-id-1 div.sk-serial {display: flex;flex-direction: column;align-items: center;background-color: white;padding-right: 0.2em;padding-left: 0.2em;position: relative;}#sk-container-id-1 div.sk-item {position: relative;z-index: 1;}#sk-container-id-1 div.sk-parallel {display: flex;align-items: stretch;justify-content: center;background-color: white;position: relative;}#sk-container-id-1 div.sk-item::before, #sk-container-id-1 div.sk-parallel-item::before {content: \"\";position: absolute;border-left: 1px solid gray;box-sizing: border-box;top: 0;bottom: 0;left: 50%;z-index: -1;}#sk-container-id-1 div.sk-parallel-item {display: flex;flex-direction: column;z-index: 1;position: relative;background-color: white;}#sk-container-id-1 div.sk-parallel-item:first-child::after {align-self: flex-end;width: 50%;}#sk-container-id-1 div.sk-parallel-item:last-child::after {align-self: flex-start;width: 50%;}#sk-container-id-1 div.sk-parallel-item:only-child::after {width: 0;}#sk-container-id-1 div.sk-dashed-wrapped {border: 1px dashed gray;margin: 0 0.4em 0.5em 0.4em;box-sizing: border-box;padding-bottom: 0.4em;background-color: white;}#sk-container-id-1 div.sk-label label {font-family: monospace;font-weight: bold;display: inline-block;line-height: 1.2em;}#sk-container-id-1 div.sk-label-container {text-align: center;}#sk-container-id-1 div.sk-container {/* jupyter's `normalize.less` sets `[hidden] { display: none; }` but bootstrap.min.css set `[hidden] { display: none !important; }` so we also need the `!important` here to be able to override the default hidden behavior on the sphinx rendered scikit-learn.org. See: https://github.com/scikit-learn/scikit-learn/issues/21755 */display: inline-block !important;position: relative;}#sk-container-id-1 div.sk-text-repr-fallback {display: none;}</style><div id=\"sk-container-id-1\" class=\"sk-top-container\"><div class=\"sk-text-repr-fallback\"><pre>DecisionTreeClassifier(criterion=&#x27;entropy&#x27;, max_depth=10)</pre><b>In a Jupyter environment, please rerun this cell to show the HTML representation or trust the notebook. <br />On GitHub, the HTML representation is unable to render, please try loading this page with nbviewer.org.</b></div><div class=\"sk-container\" hidden><div class=\"sk-item\"><div class=\"sk-estimator sk-toggleable\"><input class=\"sk-toggleable__control sk-hidden--visually\" id=\"sk-estimator-id-1\" type=\"checkbox\" checked><label for=\"sk-estimator-id-1\" class=\"sk-toggleable__label sk-toggleable__label-arrow\">DecisionTreeClassifier</label><div class=\"sk-toggleable__content\"><pre>DecisionTreeClassifier(criterion=&#x27;entropy&#x27;, max_depth=10)</pre></div></div></div></div></div>"
     },
     "metadata": {}
    }
   ],
   "execution_count": null
  },
  {
   "cell_type": "markdown",
   "source": "Print accuracy of training and validation data.",
   "metadata": {
    "colab_type": "text",
    "id": "4_8DZinWTJRa",
    "cell_id": "00006-81e439d6-7a96-472e-9262-17c68e1d0b9e",
    "deepnote_cell_type": "markdown",
    "deepnote_cell_height": 52.390625
   }
  },
  {
   "cell_type": "code",
   "metadata": {
    "colab": {
     "autoexec": {
      "startup": false,
      "wait_interval": 0
     }
    },
    "colab_type": "code",
    "id": "EgByCP_EhyB2",
    "cell_id": "00007-e8d6f2e4-f39b-46a2-9d98-d51ee62690da",
    "deepnote_to_be_reexecuted": false,
    "source_hash": "859975f8",
    "execution_start": 1657814370565,
    "execution_millis": 9,
    "deepnote_cell_type": "code",
    "deepnote_cell_height": 185.390625
   },
   "source": "y_train_pred=decision_tree.predict(X_train)\nprint(\"Training Accuracy is\", accuracy_score(y_train, y_train_pred)*100)\ny_val_pred=decision_tree.predict(X_val)\nprint(\"Validation Accuracy is\", accuracy_score(y_val,y_val_pred)*100)",
   "outputs": [
    {
     "name": "stdout",
     "text": "Training Accuracy is 98.4\nValidation Accuracy is 82.53968253968253\n",
     "output_type": "stream"
    }
   ],
   "execution_count": null
  },
  {
   "cell_type": "markdown",
   "source": "Make a model with a low max-depth and higher minimum sample leafs.",
   "metadata": {
    "colab_type": "text",
    "id": "6HNa6fxbT6ak",
    "cell_id": "00008-6e91e88a-ef5c-4aed-8764-def8ee31374d",
    "deepnote_cell_type": "markdown",
    "deepnote_cell_height": 52.390625
   }
  },
  {
   "cell_type": "code",
   "metadata": {
    "colab": {
     "autoexec": {
      "startup": false,
      "wait_interval": 0
     },
     "base_uri": "https://localhost:8080/",
     "height": 17
    },
    "colab_type": "code",
    "executionInfo": {
     "elapsed": 287,
     "status": "ok",
     "timestamp": 1530627778885,
     "user": {
      "displayName": "john passarelli",
      "photoUrl": "https://lh3.googleusercontent.com/a/default-user=s128",
      "userId": "102241934905781120798"
     },
     "user_tz": 240
    },
    "id": "6Pbu-t_tiqnB",
    "outputId": "ef95b427-e6b4-41a7-f992-9826342b662c",
    "cell_id": "00009-dc03dee1-6581-4b23-bd62-24cf1243aa14",
    "deepnote_to_be_reexecuted": false,
    "source_hash": "8bd2e712",
    "execution_start": 1657814370579,
    "execution_millis": 93,
    "deepnote_cell_type": "code",
    "deepnote_cell_height": 193.375,
    "deepnote_output_heights": [
     60.375
    ]
   },
   "source": "decision_tree2 = DecisionTreeClassifier(criterion = \"entropy\", random_state = None,\n                              max_depth=4, min_samples_leaf=20)  \ndecision_tree2.fit(X_train, y_train)",
   "outputs": [
    {
     "output_type": "execute_result",
     "execution_count": 6,
     "data": {
      "text/plain": "DecisionTreeClassifier(criterion='entropy', max_depth=4, min_samples_leaf=20)",
      "text/html": "<style>#sk-container-id-2 {color: black;background-color: white;}#sk-container-id-2 pre{padding: 0;}#sk-container-id-2 div.sk-toggleable {background-color: white;}#sk-container-id-2 label.sk-toggleable__label {cursor: pointer;display: block;width: 100%;margin-bottom: 0;padding: 0.3em;box-sizing: border-box;text-align: center;}#sk-container-id-2 label.sk-toggleable__label-arrow:before {content: \"▸\";float: left;margin-right: 0.25em;color: #696969;}#sk-container-id-2 label.sk-toggleable__label-arrow:hover:before {color: black;}#sk-container-id-2 div.sk-estimator:hover label.sk-toggleable__label-arrow:before {color: black;}#sk-container-id-2 div.sk-toggleable__content {max-height: 0;max-width: 0;overflow: hidden;text-align: left;background-color: #f0f8ff;}#sk-container-id-2 div.sk-toggleable__content pre {margin: 0.2em;color: black;border-radius: 0.25em;background-color: #f0f8ff;}#sk-container-id-2 input.sk-toggleable__control:checked~div.sk-toggleable__content {max-height: 200px;max-width: 100%;overflow: auto;}#sk-container-id-2 input.sk-toggleable__control:checked~label.sk-toggleable__label-arrow:before {content: \"▾\";}#sk-container-id-2 div.sk-estimator input.sk-toggleable__control:checked~label.sk-toggleable__label {background-color: #d4ebff;}#sk-container-id-2 div.sk-label input.sk-toggleable__control:checked~label.sk-toggleable__label {background-color: #d4ebff;}#sk-container-id-2 input.sk-hidden--visually {border: 0;clip: rect(1px 1px 1px 1px);clip: rect(1px, 1px, 1px, 1px);height: 1px;margin: -1px;overflow: hidden;padding: 0;position: absolute;width: 1px;}#sk-container-id-2 div.sk-estimator {font-family: monospace;background-color: #f0f8ff;border: 1px dotted black;border-radius: 0.25em;box-sizing: border-box;margin-bottom: 0.5em;}#sk-container-id-2 div.sk-estimator:hover {background-color: #d4ebff;}#sk-container-id-2 div.sk-parallel-item::after {content: \"\";width: 100%;border-bottom: 1px solid gray;flex-grow: 1;}#sk-container-id-2 div.sk-label:hover label.sk-toggleable__label {background-color: #d4ebff;}#sk-container-id-2 div.sk-serial::before {content: \"\";position: absolute;border-left: 1px solid gray;box-sizing: border-box;top: 0;bottom: 0;left: 50%;z-index: 0;}#sk-container-id-2 div.sk-serial {display: flex;flex-direction: column;align-items: center;background-color: white;padding-right: 0.2em;padding-left: 0.2em;position: relative;}#sk-container-id-2 div.sk-item {position: relative;z-index: 1;}#sk-container-id-2 div.sk-parallel {display: flex;align-items: stretch;justify-content: center;background-color: white;position: relative;}#sk-container-id-2 div.sk-item::before, #sk-container-id-2 div.sk-parallel-item::before {content: \"\";position: absolute;border-left: 1px solid gray;box-sizing: border-box;top: 0;bottom: 0;left: 50%;z-index: -1;}#sk-container-id-2 div.sk-parallel-item {display: flex;flex-direction: column;z-index: 1;position: relative;background-color: white;}#sk-container-id-2 div.sk-parallel-item:first-child::after {align-self: flex-end;width: 50%;}#sk-container-id-2 div.sk-parallel-item:last-child::after {align-self: flex-start;width: 50%;}#sk-container-id-2 div.sk-parallel-item:only-child::after {width: 0;}#sk-container-id-2 div.sk-dashed-wrapped {border: 1px dashed gray;margin: 0 0.4em 0.5em 0.4em;box-sizing: border-box;padding-bottom: 0.4em;background-color: white;}#sk-container-id-2 div.sk-label label {font-family: monospace;font-weight: bold;display: inline-block;line-height: 1.2em;}#sk-container-id-2 div.sk-label-container {text-align: center;}#sk-container-id-2 div.sk-container {/* jupyter's `normalize.less` sets `[hidden] { display: none; }` but bootstrap.min.css set `[hidden] { display: none !important; }` so we also need the `!important` here to be able to override the default hidden behavior on the sphinx rendered scikit-learn.org. See: https://github.com/scikit-learn/scikit-learn/issues/21755 */display: inline-block !important;position: relative;}#sk-container-id-2 div.sk-text-repr-fallback {display: none;}</style><div id=\"sk-container-id-2\" class=\"sk-top-container\"><div class=\"sk-text-repr-fallback\"><pre>DecisionTreeClassifier(criterion=&#x27;entropy&#x27;, max_depth=4, min_samples_leaf=20)</pre><b>In a Jupyter environment, please rerun this cell to show the HTML representation or trust the notebook. <br />On GitHub, the HTML representation is unable to render, please try loading this page with nbviewer.org.</b></div><div class=\"sk-container\" hidden><div class=\"sk-item\"><div class=\"sk-estimator sk-toggleable\"><input class=\"sk-toggleable__control sk-hidden--visually\" id=\"sk-estimator-id-2\" type=\"checkbox\" checked><label for=\"sk-estimator-id-2\" class=\"sk-toggleable__label sk-toggleable__label-arrow\">DecisionTreeClassifier</label><div class=\"sk-toggleable__content\"><pre>DecisionTreeClassifier(criterion=&#x27;entropy&#x27;, max_depth=4, min_samples_leaf=20)</pre></div></div></div></div></div>"
     },
     "metadata": {}
    }
   ],
   "execution_count": null
  },
  {
   "cell_type": "markdown",
   "source": "Print accuracy of training and validation data.",
   "metadata": {
    "cell_id": "00010-7d8f485f-76b0-4e38-a2e5-088cb3280c4c",
    "deepnote_cell_type": "markdown",
    "deepnote_cell_height": 52.390625
   }
  },
  {
   "cell_type": "code",
   "metadata": {
    "cell_id": "00011-3f1ae7c6-a846-4695-94e8-22d5b70aa40e",
    "deepnote_to_be_reexecuted": false,
    "source_hash": "cd8827d1",
    "execution_start": 1657814370659,
    "execution_millis": 13,
    "deepnote_cell_type": "code",
    "deepnote_cell_height": 185.390625
   },
   "source": "y_train_pred=decision_tree2.predict(X_train)\nprint(\"Training Accuracy is\", accuracy_score(y_train, y_train_pred)*100)\ny_val_pred=decision_tree2.predict(X_val)\nprint(\"Validation Accuracy is\", accuracy_score(y_val,y_val_pred)*100)",
   "outputs": [
    {
     "name": "stdout",
     "text": "Training Accuracy is 80.4\nValidation Accuracy is 74.60317460317461\n",
     "output_type": "stream"
    }
   ],
   "execution_count": null
  },
  {
   "cell_type": "markdown",
   "source": "Explain the accuracy results below. \n\nA high max-depth and lower min. sample leafs warranted a larger margin between the training accuracy and the validation accuracy, whereas a lower max-depth and higher min. sample leafs (2nd model) warranted a smaller margin between the two. Low max-depth and high min. sample leafs help prevent overfitting to the training data, which explains the decreased training accuracy and increased validation accuracy in model 2 compared to model 1. ",
   "metadata": {
    "cell_id": "00012-9cf39459-b066-4108-a92c-db97336134c5",
    "deepnote_cell_type": "markdown",
    "deepnote_cell_height": 178.390625
   }
  },
  {
   "cell_type": "markdown",
   "source": "## Metrics",
   "metadata": {
    "cell_id": "00013-f73ddd54-5cd5-4d88-bfef-6e7d298889a7",
    "deepnote_cell_type": "markdown",
    "deepnote_cell_height": 70
   }
  },
  {
   "cell_type": "markdown",
   "source": "Plot the ROC curve and print the AUC of the second model.",
   "metadata": {
    "cell_id": "00014-debf10c1-dd3b-46a5-ac8b-2371da3d5867",
    "deepnote_cell_type": "markdown",
    "deepnote_cell_height": 52.390625
   }
  },
  {
   "cell_type": "code",
   "metadata": {
    "cell_id": "00015-e99a7d62-9b22-4318-b695-8427017bfbcf",
    "deepnote_to_be_reexecuted": false,
    "source_hash": "2ad338cf",
    "execution_start": 1657814370675,
    "execution_millis": 1484,
    "deepnote_cell_type": "code",
    "deepnote_cell_height": 711.6875,
    "deepnote_output_heights": [
     443.484375,
     389
    ]
   },
   "source": "y_val_prob = decision_tree2.predict_proba(X_val)\nfpr, tpr, thresholds = metrics.roc_curve(y_val, y_val_prob[:,1])\nroc_auc = metrics.auc(fpr, tpr)\n\nplt.figure(figsize=(6,6))\nplt.plot(fpr, tpr)\nplt.xlabel('FPR')\nplt.ylabel('TPR')\nplt.title('ROC')\n\nprint('AUC:', roc_auc)",
   "outputs": [
    {
     "name": "stdout",
     "text": "AUC: 0.8331521739130435\n",
     "output_type": "stream"
    },
    {
     "data": {
      "text/plain": "<Figure size 432x432 with 1 Axes>",
      "image/png": "[encoded data removed]"
     },
     "metadata": {
      "needs_background": "light",
      "image/png": {
       "width": 386,
       "height": 387
      }
     },
     "output_type": "display_data"
    }
   ],
   "execution_count": null
  },
  {
   "cell_type": "markdown",
   "source": "Use graphviz to visualize your 2nd tree.",
   "metadata": {
    "colab_type": "text",
    "id": "tKdqOMBKUvGZ",
    "cell_id": "00016-ceb0a3bf-53b7-4fda-95a1-8759c4cf9041",
    "deepnote_cell_type": "markdown",
    "deepnote_cell_height": 52.390625
   }
  },
  {
   "cell_type": "code",
   "metadata": {
    "colab": {
     "autoexec": {
      "startup": false,
      "wait_interval": 0
     }
    },
    "colab_type": "code",
    "id": "8o55bY_jl8gj",
    "cell_id": "00017-937c99ac-ed8f-4575-8a24-2033a69b5153",
    "deepnote_to_be_reexecuted": false,
    "source_hash": "b8d17d5d",
    "execution_start": 1657814371313,
    "execution_millis": 855,
    "deepnote_cell_type": "code",
    "deepnote_cell_height": 757.5,
    "deepnote_output_heights": [
     606.5
    ]
   },
   "source": "dot_data = tree.export_graphviz(decision_tree2, out_file=None, filled=True)\n\ngraph = graphviz.Source(dot_data)\ngraph",
   "outputs": [
    {
     "output_type": "execute_result",
     "execution_count": 9,
     "data": {
      "image/svg+xml": "<?xml version=\"1.0\" encoding=\"UTF-8\" standalone=\"no\"?>\n<!DOCTYPE svg PUBLIC \"-//W3C//DTD SVG 1.1//EN\"\n \"http://www.w3.org/Graphics/SVG/1.1/DTD/svg11.dtd\">\n<!-- Generated by graphviz version 2.40.1 (20161225.0304)\n -->\n<!-- Title: Tree Pages: 1 -->\n<svg width=\"893pt\" height=\"477pt\"\n viewBox=\"0.00 0.00 892.50 477.00\" xmlns=\"http://www.w3.org/2000/svg\" xmlns:xlink=\"http://www.w3.org/1999/xlink\">\n<g id=\"graph0\" class=\"graph\" transform=\"scale(1 1) rotate(0) translate(4 473)\">\n<title>Tree</title>\n<polygon fill=\"#ffffff\" stroke=\"transparent\" points=\"-4,4 -4,-473 888.5,-473 888.5,4 -4,4\"/>\n<!-- 0 -->\n<g id=\"node1\" class=\"node\">\n<title>0</title>\n<polygon fill=\"#f2be9a\" stroke=\"#000000\" points=\"508,-469 367,-469 367,-401 508,-401 508,-469\"/>\n<text text-anchor=\"middle\" x=\"437.5\" y=\"-453.8\" font-family=\"Helvetica,sans-Serif\" font-size=\"14.00\" fill=\"#000000\">X[1] &lt;= 127.5</text>\n<text text-anchor=\"middle\" x=\"437.5\" y=\"-438.8\" font-family=\"Helvetica,sans-Serif\" font-size=\"14.00\" fill=\"#000000\">entropy = 0.913</text>\n<text text-anchor=\"middle\" x=\"437.5\" y=\"-423.8\" font-family=\"Helvetica,sans-Serif\" font-size=\"14.00\" fill=\"#000000\">samples = 250</text>\n<text text-anchor=\"middle\" x=\"437.5\" y=\"-408.8\" font-family=\"Helvetica,sans-Serif\" font-size=\"14.00\" fill=\"#000000\">value = [168, 82]</text>\n</g>\n<!-- 1 -->\n<g id=\"node2\" class=\"node\">\n<title>1</title>\n<polygon fill=\"#e9965a\" stroke=\"#000000\" points=\"430,-365 289,-365 289,-297 430,-297 430,-365\"/>\n<text text-anchor=\"middle\" x=\"359.5\" y=\"-349.8\" font-family=\"Helvetica,sans-Serif\" font-size=\"14.00\" fill=\"#000000\">X[6] &lt;= 0.677</text>\n<text text-anchor=\"middle\" x=\"359.5\" y=\"-334.8\" font-family=\"Helvetica,sans-Serif\" font-size=\"14.00\" fill=\"#000000\">entropy = 0.589</text>\n<text text-anchor=\"middle\" x=\"359.5\" y=\"-319.8\" font-family=\"Helvetica,sans-Serif\" font-size=\"14.00\" fill=\"#000000\">samples = 155</text>\n<text text-anchor=\"middle\" x=\"359.5\" y=\"-304.8\" font-family=\"Helvetica,sans-Serif\" font-size=\"14.00\" fill=\"#000000\">value = [133, 22]</text>\n</g>\n<!-- 0&#45;&gt;1 -->\n<g id=\"edge1\" class=\"edge\">\n<title>0&#45;&gt;1</title>\n<path fill=\"none\" stroke=\"#000000\" d=\"M411.9599,-400.9465C405.3607,-392.1475 398.1754,-382.5672 391.2995,-373.3993\"/>\n<polygon fill=\"#000000\" stroke=\"#000000\" points=\"393.8975,-371.03 385.0975,-365.13 388.2975,-375.23 393.8975,-371.03\"/>\n<text text-anchor=\"middle\" x=\"381.562\" y=\"-386.1787\" font-family=\"Helvetica,sans-Serif\" font-size=\"14.00\" fill=\"#000000\">True</text>\n</g>\n<!-- 10 -->\n<g id=\"node11\" class=\"node\">\n<title>10</title>\n<polygon fill=\"#acd6f4\" stroke=\"#000000\" points=\"582.5,-365 448.5,-365 448.5,-297 582.5,-297 582.5,-365\"/>\n<text text-anchor=\"middle\" x=\"515.5\" y=\"-349.8\" font-family=\"Helvetica,sans-Serif\" font-size=\"14.00\" fill=\"#000000\">X[5] &lt;= 29.7</text>\n<text text-anchor=\"middle\" x=\"515.5\" y=\"-334.8\" font-family=\"Helvetica,sans-Serif\" font-size=\"14.00\" fill=\"#000000\">entropy = 0.949</text>\n<text text-anchor=\"middle\" x=\"515.5\" y=\"-319.8\" font-family=\"Helvetica,sans-Serif\" font-size=\"14.00\" fill=\"#000000\">samples = 95</text>\n<text text-anchor=\"middle\" x=\"515.5\" y=\"-304.8\" font-family=\"Helvetica,sans-Serif\" font-size=\"14.00\" fill=\"#000000\">value = [35, 60]</text>\n</g>\n<!-- 0&#45;&gt;10 -->\n<g id=\"edge10\" class=\"edge\">\n<title>0&#45;&gt;10</title>\n<path fill=\"none\" stroke=\"#000000\" d=\"M463.0401,-400.9465C469.6393,-392.1475 476.8246,-382.5672 483.7005,-373.3993\"/>\n<polygon fill=\"#000000\" stroke=\"#000000\" points=\"486.7025,-375.23 489.9025,-365.13 481.1025,-371.03 486.7025,-375.23\"/>\n<text text-anchor=\"middle\" x=\"493.438\" y=\"-386.1787\" font-family=\"Helvetica,sans-Serif\" font-size=\"14.00\" fill=\"#000000\">False</text>\n</g>\n<!-- 2 -->\n<g id=\"node3\" class=\"node\">\n<title>2</title>\n<polygon fill=\"#e78a46\" stroke=\"#000000\" points=\"275.5,-261 141.5,-261 141.5,-193 275.5,-193 275.5,-261\"/>\n<text text-anchor=\"middle\" x=\"208.5\" y=\"-245.8\" font-family=\"Helvetica,sans-Serif\" font-size=\"14.00\" fill=\"#000000\">X[5] &lt;= 30.95</text>\n<text text-anchor=\"middle\" x=\"208.5\" y=\"-230.8\" font-family=\"Helvetica,sans-Serif\" font-size=\"14.00\" fill=\"#000000\">entropy = 0.342</text>\n<text text-anchor=\"middle\" x=\"208.5\" y=\"-215.8\" font-family=\"Helvetica,sans-Serif\" font-size=\"14.00\" fill=\"#000000\">samples = 110</text>\n<text text-anchor=\"middle\" x=\"208.5\" y=\"-200.8\" font-family=\"Helvetica,sans-Serif\" font-size=\"14.00\" fill=\"#000000\">value = [103, 7]</text>\n</g>\n<!-- 1&#45;&gt;2 -->\n<g id=\"edge2\" class=\"edge\">\n<title>1&#45;&gt;2</title>\n<path fill=\"none\" stroke=\"#000000\" d=\"M310.057,-296.9465C296.1083,-287.3395 280.8071,-276.8009 266.4097,-266.8848\"/>\n<polygon fill=\"#000000\" stroke=\"#000000\" points=\"268.2751,-263.9198 258.0541,-261.13 264.3045,-269.6848 268.2751,-263.9198\"/>\n</g>\n<!-- 7 -->\n<g id=\"node8\" class=\"node\">\n<title>7</title>\n<polygon fill=\"#f2c09c\" stroke=\"#000000\" points=\"427.5,-261 293.5,-261 293.5,-193 427.5,-193 427.5,-261\"/>\n<text text-anchor=\"middle\" x=\"360.5\" y=\"-245.8\" font-family=\"Helvetica,sans-Serif\" font-size=\"14.00\" fill=\"#000000\">X[0] &lt;= 2.5</text>\n<text text-anchor=\"middle\" x=\"360.5\" y=\"-230.8\" font-family=\"Helvetica,sans-Serif\" font-size=\"14.00\" fill=\"#000000\">entropy = 0.918</text>\n<text text-anchor=\"middle\" x=\"360.5\" y=\"-215.8\" font-family=\"Helvetica,sans-Serif\" font-size=\"14.00\" fill=\"#000000\">samples = 45</text>\n<text text-anchor=\"middle\" x=\"360.5\" y=\"-200.8\" font-family=\"Helvetica,sans-Serif\" font-size=\"14.00\" fill=\"#000000\">value = [30, 15]</text>\n</g>\n<!-- 1&#45;&gt;7 -->\n<g id=\"edge7\" class=\"edge\">\n<title>1&#45;&gt;7</title>\n<path fill=\"none\" stroke=\"#000000\" d=\"M359.8274,-296.9465C359.906,-288.776 359.991,-279.9318 360.0734,-271.3697\"/>\n<polygon fill=\"#000000\" stroke=\"#000000\" points=\"363.5754,-271.1632 360.1718,-261.13 356.5757,-271.0958 363.5754,-271.1632\"/>\n</g>\n<!-- 3 -->\n<g id=\"node4\" class=\"node\">\n<title>3</title>\n<polygon fill=\"#e58139\" stroke=\"#000000\" points=\"123,-149.5 0,-149.5 0,-96.5 123,-96.5 123,-149.5\"/>\n<text text-anchor=\"middle\" x=\"61.5\" y=\"-134.3\" font-family=\"Helvetica,sans-Serif\" font-size=\"14.00\" fill=\"#000000\">entropy = 0.0</text>\n<text text-anchor=\"middle\" x=\"61.5\" y=\"-119.3\" font-family=\"Helvetica,sans-Serif\" font-size=\"14.00\" fill=\"#000000\">samples = 45</text>\n<text text-anchor=\"middle\" x=\"61.5\" y=\"-104.3\" font-family=\"Helvetica,sans-Serif\" font-size=\"14.00\" fill=\"#000000\">value = [45, 0]</text>\n</g>\n<!-- 2&#45;&gt;3 -->\n<g id=\"edge3\" class=\"edge\">\n<title>2&#45;&gt;3</title>\n<path fill=\"none\" stroke=\"#000000\" d=\"M160.3667,-192.9465C143.3963,-180.9403 124.3696,-167.4791 107.5735,-155.5962\"/>\n<polygon fill=\"#000000\" stroke=\"#000000\" points=\"109.2013,-152.4605 99.0163,-149.5422 105.1584,-158.175 109.2013,-152.4605\"/>\n</g>\n<!-- 4 -->\n<g id=\"node5\" class=\"node\">\n<title>4</title>\n<polygon fill=\"#e89051\" stroke=\"#000000\" points=\"275.5,-157 141.5,-157 141.5,-89 275.5,-89 275.5,-157\"/>\n<text text-anchor=\"middle\" x=\"208.5\" y=\"-141.8\" font-family=\"Helvetica,sans-Serif\" font-size=\"14.00\" fill=\"#000000\">X[5] &lt;= 37.5</text>\n<text text-anchor=\"middle\" x=\"208.5\" y=\"-126.8\" font-family=\"Helvetica,sans-Serif\" font-size=\"14.00\" fill=\"#000000\">entropy = 0.493</text>\n<text text-anchor=\"middle\" x=\"208.5\" y=\"-111.8\" font-family=\"Helvetica,sans-Serif\" font-size=\"14.00\" fill=\"#000000\">samples = 65</text>\n<text text-anchor=\"middle\" x=\"208.5\" y=\"-96.8\" font-family=\"Helvetica,sans-Serif\" font-size=\"14.00\" fill=\"#000000\">value = [58, 7]</text>\n</g>\n<!-- 2&#45;&gt;4 -->\n<g id=\"edge4\" class=\"edge\">\n<title>2&#45;&gt;4</title>\n<path fill=\"none\" stroke=\"#000000\" d=\"M208.5,-192.9465C208.5,-184.776 208.5,-175.9318 208.5,-167.3697\"/>\n<polygon fill=\"#000000\" stroke=\"#000000\" points=\"212.0001,-167.13 208.5,-157.13 205.0001,-167.13 212.0001,-167.13\"/>\n</g>\n<!-- 5 -->\n<g id=\"node6\" class=\"node\">\n<title>5</title>\n<polygon fill=\"#ea9a61\" stroke=\"#000000\" points=\"200,-53 75,-53 75,0 200,0 200,-53\"/>\n<text text-anchor=\"middle\" x=\"137.5\" y=\"-37.8\" font-family=\"Helvetica,sans-Serif\" font-size=\"14.00\" fill=\"#000000\">entropy = 0.65</text>\n<text text-anchor=\"middle\" x=\"137.5\" y=\"-22.8\" font-family=\"Helvetica,sans-Serif\" font-size=\"14.00\" fill=\"#000000\">samples = 42</text>\n<text text-anchor=\"middle\" x=\"137.5\" y=\"-7.8\" font-family=\"Helvetica,sans-Serif\" font-size=\"14.00\" fill=\"#000000\">value = [35, 7]</text>\n</g>\n<!-- 4&#45;&gt;5 -->\n<g id=\"edge5\" class=\"edge\">\n<title>4&#45;&gt;5</title>\n<path fill=\"none\" stroke=\"#000000\" d=\"M183.4681,-88.9777C176.9329,-80.0954 169.878,-70.5067 163.3036,-61.5711\"/>\n<polygon fill=\"#000000\" stroke=\"#000000\" points=\"165.9257,-59.229 157.1802,-53.2485 160.2874,-63.3775 165.9257,-59.229\"/>\n</g>\n<!-- 6 -->\n<g id=\"node7\" class=\"node\">\n<title>6</title>\n<polygon fill=\"#e58139\" stroke=\"#000000\" points=\"341,-53 218,-53 218,0 341,0 341,-53\"/>\n<text text-anchor=\"middle\" x=\"279.5\" y=\"-37.8\" font-family=\"Helvetica,sans-Serif\" font-size=\"14.00\" fill=\"#000000\">entropy = 0.0</text>\n<text text-anchor=\"middle\" x=\"279.5\" y=\"-22.8\" font-family=\"Helvetica,sans-Serif\" font-size=\"14.00\" fill=\"#000000\">samples = 23</text>\n<text text-anchor=\"middle\" x=\"279.5\" y=\"-7.8\" font-family=\"Helvetica,sans-Serif\" font-size=\"14.00\" fill=\"#000000\">value = [23, 0]</text>\n</g>\n<!-- 4&#45;&gt;6 -->\n<g id=\"edge6\" class=\"edge\">\n<title>4&#45;&gt;6</title>\n<path fill=\"none\" stroke=\"#000000\" d=\"M233.5319,-88.9777C240.0671,-80.0954 247.122,-70.5067 253.6964,-61.5711\"/>\n<polygon fill=\"#000000\" stroke=\"#000000\" points=\"256.7126,-63.3775 259.8198,-53.2485 251.0743,-59.229 256.7126,-63.3775\"/>\n</g>\n<!-- 8 -->\n<g id=\"node9\" class=\"node\">\n<title>8</title>\n<polygon fill=\"#eca26d\" stroke=\"#000000\" points=\"427.5,-149.5 293.5,-149.5 293.5,-96.5 427.5,-96.5 427.5,-149.5\"/>\n<text text-anchor=\"middle\" x=\"360.5\" y=\"-134.3\" font-family=\"Helvetica,sans-Serif\" font-size=\"14.00\" fill=\"#000000\">entropy = 0.738</text>\n<text text-anchor=\"middle\" x=\"360.5\" y=\"-119.3\" font-family=\"Helvetica,sans-Serif\" font-size=\"14.00\" fill=\"#000000\">samples = 24</text>\n<text text-anchor=\"middle\" x=\"360.5\" y=\"-104.3\" font-family=\"Helvetica,sans-Serif\" font-size=\"14.00\" fill=\"#000000\">value = [19, 5]</text>\n</g>\n<!-- 7&#45;&gt;8 -->\n<g id=\"edge8\" class=\"edge\">\n<title>7&#45;&gt;8</title>\n<path fill=\"none\" stroke=\"#000000\" d=\"M360.5,-192.9465C360.5,-182.2621 360.5,-170.4254 360.5,-159.5742\"/>\n<polygon fill=\"#000000\" stroke=\"#000000\" points=\"364.0001,-159.5421 360.5,-149.5422 357.0001,-159.5422 364.0001,-159.5421\"/>\n</g>\n<!-- 9 -->\n<g id=\"node10\" class=\"node\">\n<title>9</title>\n<polygon fill=\"#fdf4ed\" stroke=\"#000000\" points=\"579.5,-149.5 445.5,-149.5 445.5,-96.5 579.5,-96.5 579.5,-149.5\"/>\n<text text-anchor=\"middle\" x=\"512.5\" y=\"-134.3\" font-family=\"Helvetica,sans-Serif\" font-size=\"14.00\" fill=\"#000000\">entropy = 0.998</text>\n<text text-anchor=\"middle\" x=\"512.5\" y=\"-119.3\" font-family=\"Helvetica,sans-Serif\" font-size=\"14.00\" fill=\"#000000\">samples = 21</text>\n<text text-anchor=\"middle\" x=\"512.5\" y=\"-104.3\" font-family=\"Helvetica,sans-Serif\" font-size=\"14.00\" fill=\"#000000\">value = [11, 10]</text>\n</g>\n<!-- 7&#45;&gt;9 -->\n<g id=\"edge9\" class=\"edge\">\n<title>7&#45;&gt;9</title>\n<path fill=\"none\" stroke=\"#000000\" d=\"M410.2705,-192.9465C427.9791,-180.8301 447.8532,-167.232 465.3368,-155.2696\"/>\n<polygon fill=\"#000000\" stroke=\"#000000\" points=\"467.4309,-158.0776 473.7076,-149.5422 463.4781,-152.3005 467.4309,-158.0776\"/>\n</g>\n<!-- 11 -->\n<g id=\"node12\" class=\"node\">\n<title>11</title>\n<polygon fill=\"#f1bc95\" stroke=\"#000000\" points=\"581.5,-253.5 447.5,-253.5 447.5,-200.5 581.5,-200.5 581.5,-253.5\"/>\n<text text-anchor=\"middle\" x=\"514.5\" y=\"-238.3\" font-family=\"Helvetica,sans-Serif\" font-size=\"14.00\" fill=\"#000000\">entropy = 0.902</text>\n<text text-anchor=\"middle\" x=\"514.5\" y=\"-223.3\" font-family=\"Helvetica,sans-Serif\" font-size=\"14.00\" fill=\"#000000\">samples = 22</text>\n<text text-anchor=\"middle\" x=\"514.5\" y=\"-208.3\" font-family=\"Helvetica,sans-Serif\" font-size=\"14.00\" fill=\"#000000\">value = [15, 7]</text>\n</g>\n<!-- 10&#45;&gt;11 -->\n<g id=\"edge11\" class=\"edge\">\n<title>10&#45;&gt;11</title>\n<path fill=\"none\" stroke=\"#000000\" d=\"M515.1726,-296.9465C515.0698,-286.2621 514.956,-274.4254 514.8517,-263.5742\"/>\n<polygon fill=\"#000000\" stroke=\"#000000\" points=\"518.3513,-263.508 514.7552,-253.5422 511.3516,-263.5754 518.3513,-263.508\"/>\n</g>\n<!-- 12 -->\n<g id=\"node13\" class=\"node\">\n<title>12</title>\n<polygon fill=\"#84c2ef\" stroke=\"#000000\" points=\"733.5,-261 599.5,-261 599.5,-193 733.5,-193 733.5,-261\"/>\n<text text-anchor=\"middle\" x=\"666.5\" y=\"-245.8\" font-family=\"Helvetica,sans-Serif\" font-size=\"14.00\" fill=\"#000000\">X[1] &lt;= 167.0</text>\n<text text-anchor=\"middle\" x=\"666.5\" y=\"-230.8\" font-family=\"Helvetica,sans-Serif\" font-size=\"14.00\" fill=\"#000000\">entropy = 0.847</text>\n<text text-anchor=\"middle\" x=\"666.5\" y=\"-215.8\" font-family=\"Helvetica,sans-Serif\" font-size=\"14.00\" fill=\"#000000\">samples = 73</text>\n<text text-anchor=\"middle\" x=\"666.5\" y=\"-200.8\" font-family=\"Helvetica,sans-Serif\" font-size=\"14.00\" fill=\"#000000\">value = [20, 53]</text>\n</g>\n<!-- 10&#45;&gt;12 -->\n<g id=\"edge12\" class=\"edge\">\n<title>10&#45;&gt;12</title>\n<path fill=\"none\" stroke=\"#000000\" d=\"M564.943,-296.9465C578.8917,-287.3395 594.1929,-276.8009 608.5903,-266.8848\"/>\n<polygon fill=\"#000000\" stroke=\"#000000\" points=\"610.6955,-269.6848 616.9459,-261.13 606.7249,-263.9198 610.6955,-269.6848\"/>\n</g>\n<!-- 13 -->\n<g id=\"node14\" class=\"node\">\n<title>13</title>\n<polygon fill=\"#a3d1f3\" stroke=\"#000000\" points=\"732.5,-157 598.5,-157 598.5,-89 732.5,-89 732.5,-157\"/>\n<text text-anchor=\"middle\" x=\"665.5\" y=\"-141.8\" font-family=\"Helvetica,sans-Serif\" font-size=\"14.00\" fill=\"#000000\">X[1] &lt;= 145.5</text>\n<text text-anchor=\"middle\" x=\"665.5\" y=\"-126.8\" font-family=\"Helvetica,sans-Serif\" font-size=\"14.00\" fill=\"#000000\">entropy = 0.932</text>\n<text text-anchor=\"middle\" x=\"665.5\" y=\"-111.8\" font-family=\"Helvetica,sans-Serif\" font-size=\"14.00\" fill=\"#000000\">samples = 46</text>\n<text text-anchor=\"middle\" x=\"665.5\" y=\"-96.8\" font-family=\"Helvetica,sans-Serif\" font-size=\"14.00\" fill=\"#000000\">value = [16, 30]</text>\n</g>\n<!-- 12&#45;&gt;13 -->\n<g id=\"edge13\" class=\"edge\">\n<title>12&#45;&gt;13</title>\n<path fill=\"none\" stroke=\"#000000\" d=\"M666.1726,-192.9465C666.094,-184.776 666.009,-175.9318 665.9266,-167.3697\"/>\n<polygon fill=\"#000000\" stroke=\"#000000\" points=\"669.4243,-167.0958 665.8282,-157.13 662.4246,-167.1632 669.4243,-167.0958\"/>\n</g>\n<!-- 16 -->\n<g id=\"node17\" class=\"node\">\n<title>16</title>\n<polygon fill=\"#5baeea\" stroke=\"#000000\" points=\"884.5,-149.5 750.5,-149.5 750.5,-96.5 884.5,-96.5 884.5,-149.5\"/>\n<text text-anchor=\"middle\" x=\"817.5\" y=\"-134.3\" font-family=\"Helvetica,sans-Serif\" font-size=\"14.00\" fill=\"#000000\">entropy = 0.605</text>\n<text text-anchor=\"middle\" x=\"817.5\" y=\"-119.3\" font-family=\"Helvetica,sans-Serif\" font-size=\"14.00\" fill=\"#000000\">samples = 27</text>\n<text text-anchor=\"middle\" x=\"817.5\" y=\"-104.3\" font-family=\"Helvetica,sans-Serif\" font-size=\"14.00\" fill=\"#000000\">value = [4, 23]</text>\n</g>\n<!-- 12&#45;&gt;16 -->\n<g id=\"edge16\" class=\"edge\">\n<title>12&#45;&gt;16</title>\n<path fill=\"none\" stroke=\"#000000\" d=\"M715.943,-192.9465C733.5351,-180.8301 753.2785,-167.232 770.647,-155.2696\"/>\n<polygon fill=\"#000000\" stroke=\"#000000\" points=\"772.7125,-158.0969 778.9628,-149.5422 768.7419,-152.332 772.7125,-158.0969\"/>\n</g>\n<!-- 14 -->\n<g id=\"node15\" class=\"node\">\n<title>14</title>\n<polygon fill=\"#73baed\" stroke=\"#000000\" points=\"656.5,-53 522.5,-53 522.5,0 656.5,0 656.5,-53\"/>\n<text text-anchor=\"middle\" x=\"589.5\" y=\"-37.8\" font-family=\"Helvetica,sans-Serif\" font-size=\"14.00\" fill=\"#000000\">entropy = 0.773</text>\n<text text-anchor=\"middle\" x=\"589.5\" y=\"-22.8\" font-family=\"Helvetica,sans-Serif\" font-size=\"14.00\" fill=\"#000000\">samples = 22</text>\n<text text-anchor=\"middle\" x=\"589.5\" y=\"-7.8\" font-family=\"Helvetica,sans-Serif\" font-size=\"14.00\" fill=\"#000000\">value = [5, 17]</text>\n</g>\n<!-- 13&#45;&gt;14 -->\n<g id=\"edge14\" class=\"edge\">\n<title>13&#45;&gt;14</title>\n<path fill=\"none\" stroke=\"#000000\" d=\"M638.7052,-88.9777C631.6378,-80.0039 624.0024,-70.3089 616.9033,-61.295\"/>\n<polygon fill=\"#000000\" stroke=\"#000000\" points=\"619.503,-58.9391 610.5662,-53.2485 614.0037,-63.2701 619.503,-58.9391\"/>\n</g>\n<!-- 15 -->\n<g id=\"node16\" class=\"node\">\n<title>15</title>\n<polygon fill=\"#e1f0fb\" stroke=\"#000000\" points=\"808.5,-53 674.5,-53 674.5,0 808.5,0 808.5,-53\"/>\n<text text-anchor=\"middle\" x=\"741.5\" y=\"-37.8\" font-family=\"Helvetica,sans-Serif\" font-size=\"14.00\" fill=\"#000000\">entropy = 0.995</text>\n<text text-anchor=\"middle\" x=\"741.5\" y=\"-22.8\" font-family=\"Helvetica,sans-Serif\" font-size=\"14.00\" fill=\"#000000\">samples = 24</text>\n<text text-anchor=\"middle\" x=\"741.5\" y=\"-7.8\" font-family=\"Helvetica,sans-Serif\" font-size=\"14.00\" fill=\"#000000\">value = [11, 13]</text>\n</g>\n<!-- 13&#45;&gt;15 -->\n<g id=\"edge15\" class=\"edge\">\n<title>13&#45;&gt;15</title>\n<path fill=\"none\" stroke=\"#000000\" d=\"M692.2948,-88.9777C699.3622,-80.0039 706.9976,-70.3089 714.0967,-61.295\"/>\n<polygon fill=\"#000000\" stroke=\"#000000\" points=\"716.9963,-63.2701 720.4338,-53.2485 711.497,-58.9391 716.9963,-63.2701\"/>\n</g>\n</g>\n</svg>\n",
      "text/plain": "<graphviz.sources.Source at 0x7f90db8a1b50>"
     },
     "metadata": {}
    }
   ],
   "execution_count": null
  },
  {
   "cell_type": "markdown",
   "source": "#### Use the graph above to answer the questions below",
   "metadata": {
    "colab_type": "text",
    "id": "4iz4meWDVmo2",
    "cell_id": "00018-d531e6b3-0be6-4593-911a-1697ac904853",
    "deepnote_cell_type": "markdown",
    "deepnote_cell_height": 54
   }
  },
  {
   "cell_type": "markdown",
   "source": "Question 1: What do you think X[n] represents in the nodes from the graph?\n\nDifferent features",
   "metadata": {
    "colab_type": "text",
    "id": "u1yM9h10WUEv",
    "cell_id": "00019-51773616-e8a0-44ba-9e36-d70097fa5655",
    "deepnote_cell_type": "markdown",
    "deepnote_cell_height": 88.796875
   }
  },
  {
   "cell_type": "markdown",
   "source": "Question 2: What is the root feature? Does it make sense as the root feature?\n\n'plas' is the root feature. It makes sense because class correlates the most strongly with plas, so plas is the most determinative of class, and higher nodes should be able to split the data more effectively.",
   "metadata": {
    "colab_type": "text",
    "id": "rA7B0oTaWUIe",
    "cell_id": "00020-2deceefe-565a-4b18-8401-7c83ec9bda5e",
    "deepnote_cell_type": "markdown",
    "deepnote_cell_height": 133.59375
   }
  },
  {
   "cell_type": "code",
   "source": "data.corr()",
   "metadata": {
    "cell_id": "389de25951d6431f8620272bb2decc9f",
    "tags": [],
    "deepnote_to_be_reexecuted": false,
    "source_hash": "d0fc2601",
    "execution_start": 1657814371314,
    "execution_millis": 854,
    "deepnote_cell_type": "code",
    "deepnote_cell_height": 559,
    "deepnote_output_heights": [
     21.1875
    ]
   },
   "outputs": [
    {
     "output_type": "execute_result",
     "execution_count": 10,
     "data": {
      "application/vnd.deepnote.dataframe.v3+json": {
       "column_count": 9,
       "row_count": 9,
       "columns": [
        {
         "name": "preg",
         "dtype": "float64",
         "stats": {
          "unique_count": 9,
          "nan_count": 0,
          "min": "-0.02534727605604625",
          "max": "1.0",
          "histogram": [
           {
            "bin_start": -0.02534727605604625,
            "bin_end": 0.07718745154955838,
            "count": 2
           },
           {
            "bin_start": 0.07718745154955838,
            "bin_end": 0.179722179155163,
            "count": 2
           },
           {
            "bin_start": 0.179722179155163,
            "bin_end": 0.28225690676076765,
            "count": 3
           },
           {
            "bin_start": 0.28225690676076765,
            "bin_end": 0.38479163436637226,
            "count": 0
           },
           {
            "bin_start": 0.38479163436637226,
            "bin_end": 0.4873263619719769,
            "count": 0
           },
           {
            "bin_start": 0.4873263619719769,
            "bin_end": 0.5898610895775815,
            "count": 0
           },
           {
            "bin_start": 0.5898610895775815,
            "bin_end": 0.6923958171831861,
            "count": 1
           },
           {
            "bin_start": 0.6923958171831861,
            "bin_end": 0.7949305447887908,
            "count": 0
           },
           {
            "bin_start": 0.7949305447887908,
            "bin_end": 0.8974652723943954,
            "count": 0
           },
           {
            "bin_start": 0.8974652723943954,
            "bin_end": 1,
            "count": 1
           }
          ]
         }
        },
        {
         "name": "plas",
         "dtype": "float64",
         "stats": {
          "unique_count": 9,
          "nan_count": 0,
          "min": "0.14018017990769047",
          "max": "1.0",
          "histogram": [
           {
            "bin_start": 0.14018017990769047,
            "bin_end": 0.2261621619169214,
            "count": 5
           },
           {
            "bin_start": 0.2261621619169214,
            "bin_end": 0.31214414392615236,
            "count": 0
           },
           {
            "bin_start": 0.31214414392615236,
            "bin_end": 0.3981261259353833,
            "count": 1
           },
           {
            "bin_start": 0.3981261259353833,
            "bin_end": 0.48410810794461423,
            "count": 0
           },
           {
            "bin_start": 0.48410810794461423,
            "bin_end": 0.5700900899538452,
            "count": 1
           },
           {
            "bin_start": 0.5700900899538452,
            "bin_end": 0.6560720719630762,
            "count": 1
           },
           {
            "bin_start": 0.6560720719630762,
            "bin_end": 0.7420540539723072,
            "count": 0
           },
           {
            "bin_start": 0.7420540539723072,
            "bin_end": 0.8280360359815381,
            "count": 0
           },
           {
            "bin_start": 0.8280360359815381,
            "bin_end": 0.914018017990769,
            "count": 0
           },
           {
            "bin_start": 0.914018017990769,
            "bin_end": 1,
            "count": 1
           }
          ]
         }
        },
        {
         "name": "pres",
         "dtype": "float64",
         "stats": {
          "unique_count": 9,
          "nan_count": 0,
          "min": "-0.01597110350582244",
          "max": "1.0",
          "histogram": [
           {
            "bin_start": -0.01597110350582244,
            "bin_end": 0.08562600684475981,
            "count": 1
           },
           {
            "bin_start": 0.08562600684475981,
            "bin_end": 0.18722311719534207,
            "count": 1
           },
           {
            "bin_start": 0.18722311719534207,
            "bin_end": 0.2888202275459243,
            "count": 4
           },
           {
            "bin_start": 0.2888202275459243,
            "bin_end": 0.39041733789650657,
            "count": 2
           },
           {
            "bin_start": 0.39041733789650657,
            "bin_end": 0.49201444824708884,
            "count": 0
           },
           {
            "bin_start": 0.49201444824708884,
            "bin_end": 0.593611558597671,
            "count": 0
           },
           {
            "bin_start": 0.593611558597671,
            "bin_end": 0.6952086689482533,
            "count": 0
           },
           {
            "bin_start": 0.6952086689482533,
            "bin_end": 0.7968057792988356,
            "count": 0
           },
           {
            "bin_start": 0.7968057792988356,
            "bin_end": 0.8984028896494178,
            "count": 0
           },
           {
            "bin_start": 0.8984028896494178,
            "bin_end": 1,
            "count": 1
           }
          ]
         }
        },
        {
         "name": "skin",
         "dtype": "float64",
         "stats": {
          "unique_count": 9,
          "nan_count": 0,
          "min": "0.09320939740545235",
          "max": "1.0",
          "histogram": [
           {
            "bin_start": 0.09320939740545235,
            "bin_end": 0.18388845766490713,
            "count": 4
           },
           {
            "bin_start": 0.18388845766490713,
            "bin_end": 0.2745675179243619,
            "count": 3
           },
           {
            "bin_start": 0.2745675179243619,
            "bin_end": 0.3652465781838167,
            "count": 0
           },
           {
            "bin_start": 0.3652465781838167,
            "bin_end": 0.45592563844327144,
            "count": 0
           },
           {
            "bin_start": 0.45592563844327144,
            "bin_end": 0.5466046987027262,
            "count": 0
           },
           {
            "bin_start": 0.5466046987027262,
            "bin_end": 0.6372837589621809,
            "count": 0
           },
           {
            "bin_start": 0.6372837589621809,
            "bin_end": 0.7279628192216357,
            "count": 1
           },
           {
            "bin_start": 0.7279628192216357,
            "bin_end": 0.8186418794810905,
            "count": 0
           },
           {
            "bin_start": 0.8186418794810905,
            "bin_end": 0.9093209397405452,
            "count": 0
           },
           {
            "bin_start": 0.9093209397405452,
            "bin_end": 1,
            "count": 1
           }
          ]
         }
        },
        {
         "name": "test",
         "dtype": "float64",
         "stats": {
          "unique_count": 9,
          "nan_count": 0,
          "min": "0.07898362510990958",
          "max": "1.0",
          "histogram": [
           {
            "bin_start": 0.07898362510990958,
            "bin_end": 0.17108526259891862,
            "count": 3
           },
           {
            "bin_start": 0.17108526259891862,
            "bin_end": 0.26318690008792767,
            "count": 3
           },
           {
            "bin_start": 0.26318690008792767,
            "bin_end": 0.35528853757693674,
            "count": 1
           },
           {
            "bin_start": 0.35528853757693674,
            "bin_end": 0.44739017506594575,
            "count": 0
           },
           {
            "bin_start": 0.44739017506594575,
            "bin_end": 0.5394918125549548,
            "count": 0
           },
           {
            "bin_start": 0.5394918125549548,
            "bin_end": 0.6315934500439639,
            "count": 1
           },
           {
            "bin_start": 0.6315934500439639,
            "bin_end": 0.7236950875329728,
            "count": 0
           },
           {
            "bin_start": 0.7236950875329728,
            "bin_end": 0.815796725021982,
            "count": 0
           },
           {
            "bin_start": 0.815796725021982,
            "bin_end": 0.9078983625109909,
            "count": 0
           },
           {
            "bin_start": 0.9078983625109909,
            "bin_end": 1,
            "count": 1
           }
          ]
         }
        },
        {
         "name": "mass",
         "dtype": "float64",
         "stats": {
          "unique_count": 9,
          "nan_count": 0,
          "min": "-0.02534727605604625",
          "max": "1.0",
          "histogram": [
           {
            "bin_start": -0.02534727605604625,
            "bin_end": 0.07718745154955838,
            "count": 2
           },
           {
            "bin_start": 0.07718745154955838,
            "bin_end": 0.179722179155163,
            "count": 1
           },
           {
            "bin_start": 0.179722179155163,
            "bin_end": 0.28225690676076765,
            "count": 3
           },
           {
            "bin_start": 0.28225690676076765,
            "bin_end": 0.38479163436637226,
            "count": 1
           },
           {
            "bin_start": 0.38479163436637226,
            "bin_end": 0.4873263619719769,
            "count": 0
           },
           {
            "bin_start": 0.4873263619719769,
            "bin_end": 0.5898610895775815,
            "count": 0
           },
           {
            "bin_start": 0.5898610895775815,
            "bin_end": 0.6923958171831861,
            "count": 1
           },
           {
            "bin_start": 0.6923958171831861,
            "bin_end": 0.7949305447887908,
            "count": 0
           },
           {
            "bin_start": 0.7949305447887908,
            "bin_end": 0.8974652723943954,
            "count": 0
           },
           {
            "bin_start": 0.8974652723943954,
            "bin_end": 1,
            "count": 1
           }
          ]
         }
        },
        {
         "name": "pedi",
         "dtype": "float64",
         "stats": {
          "unique_count": 9,
          "nan_count": 0,
          "min": "-0.01597110350582244",
          "max": "1.0",
          "histogram": [
           {
            "bin_start": -0.01597110350582244,
            "bin_end": 0.08562600684475981,
            "count": 3
           },
           {
            "bin_start": 0.08562600684475981,
            "bin_end": 0.18722311719534207,
            "count": 4
           },
           {
            "bin_start": 0.18722311719534207,
            "bin_end": 0.2888202275459243,
            "count": 1
           },
           {
            "bin_start": 0.2888202275459243,
            "bin_end": 0.39041733789650657,
            "count": 0
           },
           {
            "bin_start": 0.39041733789650657,
            "bin_end": 0.49201444824708884,
            "count": 0
           },
           {
            "bin_start": 0.49201444824708884,
            "bin_end": 0.593611558597671,
            "count": 0
           },
           {
            "bin_start": 0.593611558597671,
            "bin_end": 0.6952086689482533,
            "count": 0
           },
           {
            "bin_start": 0.6952086689482533,
            "bin_end": 0.7968057792988356,
            "count": 0
           },
           {
            "bin_start": 0.7968057792988356,
            "bin_end": 0.8984028896494178,
            "count": 0
           },
           {
            "bin_start": 0.8984028896494178,
            "bin_end": 1,
            "count": 1
           }
          ]
         }
        },
        {
         "name": "age",
         "dtype": "float64",
         "stats": {
          "unique_count": 9,
          "nan_count": 0,
          "min": "0.0698137985786792",
          "max": "1.0",
          "histogram": [
           {
            "bin_start": 0.0698137985786792,
            "bin_end": 0.16283241872081128,
            "count": 2
           },
           {
            "bin_start": 0.16283241872081128,
            "bin_end": 0.25585103886294336,
            "count": 2
           },
           {
            "bin_start": 0.25585103886294336,
            "bin_end": 0.34886965900507544,
            "count": 2
           },
           {
            "bin_start": 0.34886965900507544,
            "bin_end": 0.4418882791472075,
            "count": 1
           },
           {
            "bin_start": 0.4418882791472075,
            "bin_end": 0.5349068992893395,
            "count": 0
           },
           {
            "bin_start": 0.5349068992893395,
            "bin_end": 0.6279255194314717,
            "count": 0
           },
           {
            "bin_start": 0.6279255194314717,
            "bin_end": 0.7209441395736037,
            "count": 1
           },
           {
            "bin_start": 0.7209441395736037,
            "bin_end": 0.8139627597157358,
            "count": 0
           },
           {
            "bin_start": 0.8139627597157358,
            "bin_end": 0.906981379857868,
            "count": 0
           },
           {
            "bin_start": 0.906981379857868,
            "bin_end": 1,
            "count": 1
           }
          ]
         }
        },
        {
         "name": "class",
         "dtype": "float64",
         "stats": {
          "unique_count": 9,
          "nan_count": 0,
          "min": "0.1926732690966535",
          "max": "1.0",
          "histogram": [
           {
            "bin_start": 0.1926732690966535,
            "bin_end": 0.27340594218698816,
            "count": 5
           },
           {
            "bin_start": 0.27340594218698816,
            "bin_end": 0.3541386152773228,
            "count": 2
           },
           {
            "bin_start": 0.3541386152773228,
            "bin_end": 0.4348712883676574,
            "count": 0
           },
           {
            "bin_start": 0.4348712883676574,
            "bin_end": 0.5156039614579921,
            "count": 0
           },
           {
            "bin_start": 0.5156039614579921,
            "bin_end": 0.5963366345483267,
            "count": 1
           },
           {
            "bin_start": 0.5963366345483267,
            "bin_end": 0.6770693076386614,
            "count": 0
           },
           {
            "bin_start": 0.6770693076386614,
            "bin_end": 0.7578019807289961,
            "count": 0
           },
           {
            "bin_start": 0.7578019807289961,
            "bin_end": 0.8385346538193307,
            "count": 0
           },
           {
            "bin_start": 0.8385346538193307,
            "bin_end": 0.9192673269096653,
            "count": 0
           },
           {
            "bin_start": 0.9192673269096653,
            "bin_end": 1,
            "count": 1
           }
          ]
         }
        },
        {
         "name": "_deepnote_index_column",
         "dtype": "object"
        }
       ],
       "rows": [
        {
         "preg": 1,
         "plas": 0.19829104308052062,
         "pres": 0.21335477472245082,
         "skin": 0.09320939740545235,
         "test": 0.07898362510990958,
         "mass": -0.02534727605604625,
         "pedi": 0.007562116438437548,
         "age": 0.6796084703853128,
         "class": 0.2565659558914167,
         "_deepnote_index_column": "preg"
        },
        {
         "preg": 0.19829104308052062,
         "plas": 1,
         "pres": 0.21002657364775346,
         "skin": 0.19885581885227446,
         "test": 0.5812230123542537,
         "mass": 0.20951591881842835,
         "pedi": 0.14018017990769047,
         "age": 0.34364149991026505,
         "class": 0.5157027324140475,
         "_deepnote_index_column": "plas"
        },
        {
         "preg": 0.21335477472245082,
         "plas": 0.21002657364775346,
         "pres": 1,
         "skin": 0.23257118913532587,
         "test": 0.09851150312787152,
         "mass": 0.30440336850360017,
         "pedi": -0.01597110350582244,
         "age": 0.30003894627879313,
         "class": 0.1926732690966535,
         "_deepnote_index_column": "pres"
        },
        {
         "preg": 0.09320939740545235,
         "plas": 0.19885581885227446,
         "pres": 0.23257118913532587,
         "skin": 1,
         "test": 0.18219906133856992,
         "mass": 0.6643548666929336,
         "pedi": 0.16049852633674927,
         "age": 0.1677611415016031,
         "class": 0.25593565847298966,
         "_deepnote_index_column": "skin"
        },
        {
         "preg": 0.07898362510990958,
         "plas": 0.5812230123542537,
         "pres": 0.09851150312787152,
         "skin": 0.18219906133856992,
         "test": 1,
         "mass": 0.2263965177449757,
         "pedi": 0.13590578113752128,
         "age": 0.21708199090471653,
         "class": 0.30142921904914405,
         "_deepnote_index_column": "test"
        },
        {
         "preg": -0.02534727605604625,
         "plas": 0.20951591881842835,
         "pres": 0.30440336850360017,
         "skin": 0.6643548666929336,
         "test": 0.2263965177449757,
         "mass": 1,
         "pedi": 0.15877104319825325,
         "age": 0.0698137985786792,
         "class": 0.270118409404338,
         "_deepnote_index_column": "mass"
        },
        {
         "preg": 0.007562116438437548,
         "plas": 0.14018017990769047,
         "pres": -0.01597110350582244,
         "skin": 0.16049852633674927,
         "test": 0.13590578113752128,
         "mass": 0.15877104319825325,
         "pedi": 1,
         "age": 0.08502910583181741,
         "class": 0.2093295108751476,
         "_deepnote_index_column": "pedi"
        },
        {
         "preg": 0.6796084703853128,
         "plas": 0.34364149991026505,
         "pres": 0.30003894627879313,
         "skin": 0.1677611415016031,
         "test": 0.21708199090471653,
         "mass": 0.0698137985786792,
         "pedi": 0.08502910583181741,
         "age": 1,
         "class": 0.350803803354006,
         "_deepnote_index_column": "age"
        },
        {
         "preg": 0.2565659558914167,
         "plas": 0.5157027324140475,
         "pres": 0.1926732690966535,
         "skin": 0.25593565847298966,
         "test": 0.30142921904914405,
         "mass": 0.270118409404338,
         "pedi": 0.2093295108751476,
         "age": 0.350803803354006,
         "class": 1,
         "_deepnote_index_column": "class"
        }
       ]
      },
      "text/plain": "           preg      plas      pres      skin      test      mass      pedi  \\\npreg   1.000000  0.198291  0.213355  0.093209  0.078984 -0.025347  0.007562   \nplas   0.198291  1.000000  0.210027  0.198856  0.581223  0.209516  0.140180   \npres   0.213355  0.210027  1.000000  0.232571  0.098512  0.304403 -0.015971   \nskin   0.093209  0.198856  0.232571  1.000000  0.182199  0.664355  0.160499   \ntest   0.078984  0.581223  0.098512  0.182199  1.000000  0.226397  0.135906   \nmass  -0.025347  0.209516  0.304403  0.664355  0.226397  1.000000  0.158771   \npedi   0.007562  0.140180 -0.015971  0.160499  0.135906  0.158771  1.000000   \nage    0.679608  0.343641  0.300039  0.167761  0.217082  0.069814  0.085029   \nclass  0.256566  0.515703  0.192673  0.255936  0.301429  0.270118  0.209330   \n\n            age     class  \npreg   0.679608  0.256566  \nplas   0.343641  0.515703  \npres   0.300039  0.192673  \nskin   0.167761  0.255936  \ntest   0.217082  0.301429  \nmass   0.069814  0.270118  \npedi   0.085029  0.209330  \nage    1.000000  0.350804  \nclass  0.350804  1.000000  ",
      "text/html": "<div>\n<style scoped>\n    .dataframe tbody tr th:only-of-type {\n        vertical-align: middle;\n    }\n\n    .dataframe tbody tr th {\n        vertical-align: top;\n    }\n\n    .dataframe thead th {\n        text-align: right;\n    }\n</style>\n<table border=\"1\" class=\"dataframe\">\n  <thead>\n    <tr style=\"text-align: right;\">\n      <th></th>\n      <th>preg</th>\n      <th>plas</th>\n      <th>pres</th>\n      <th>skin</th>\n      <th>test</th>\n      <th>mass</th>\n      <th>pedi</th>\n      <th>age</th>\n      <th>class</th>\n    </tr>\n  </thead>\n  <tbody>\n    <tr>\n      <th>preg</th>\n      <td>1.000000</td>\n      <td>0.198291</td>\n      <td>0.213355</td>\n      <td>0.093209</td>\n      <td>0.078984</td>\n      <td>-0.025347</td>\n      <td>0.007562</td>\n      <td>0.679608</td>\n      <td>0.256566</td>\n    </tr>\n    <tr>\n      <th>plas</th>\n      <td>0.198291</td>\n      <td>1.000000</td>\n      <td>0.210027</td>\n      <td>0.198856</td>\n      <td>0.581223</td>\n      <td>0.209516</td>\n      <td>0.140180</td>\n      <td>0.343641</td>\n      <td>0.515703</td>\n    </tr>\n    <tr>\n      <th>pres</th>\n      <td>0.213355</td>\n      <td>0.210027</td>\n      <td>1.000000</td>\n      <td>0.232571</td>\n      <td>0.098512</td>\n      <td>0.304403</td>\n      <td>-0.015971</td>\n      <td>0.300039</td>\n      <td>0.192673</td>\n    </tr>\n    <tr>\n      <th>skin</th>\n      <td>0.093209</td>\n      <td>0.198856</td>\n      <td>0.232571</td>\n      <td>1.000000</td>\n      <td>0.182199</td>\n      <td>0.664355</td>\n      <td>0.160499</td>\n      <td>0.167761</td>\n      <td>0.255936</td>\n    </tr>\n    <tr>\n      <th>test</th>\n      <td>0.078984</td>\n      <td>0.581223</td>\n      <td>0.098512</td>\n      <td>0.182199</td>\n      <td>1.000000</td>\n      <td>0.226397</td>\n      <td>0.135906</td>\n      <td>0.217082</td>\n      <td>0.301429</td>\n    </tr>\n    <tr>\n      <th>mass</th>\n      <td>-0.025347</td>\n      <td>0.209516</td>\n      <td>0.304403</td>\n      <td>0.664355</td>\n      <td>0.226397</td>\n      <td>1.000000</td>\n      <td>0.158771</td>\n      <td>0.069814</td>\n      <td>0.270118</td>\n    </tr>\n    <tr>\n      <th>pedi</th>\n      <td>0.007562</td>\n      <td>0.140180</td>\n      <td>-0.015971</td>\n      <td>0.160499</td>\n      <td>0.135906</td>\n      <td>0.158771</td>\n      <td>1.000000</td>\n      <td>0.085029</td>\n      <td>0.209330</td>\n    </tr>\n    <tr>\n      <th>age</th>\n      <td>0.679608</td>\n      <td>0.343641</td>\n      <td>0.300039</td>\n      <td>0.167761</td>\n      <td>0.217082</td>\n      <td>0.069814</td>\n      <td>0.085029</td>\n      <td>1.000000</td>\n      <td>0.350804</td>\n    </tr>\n    <tr>\n      <th>class</th>\n      <td>0.256566</td>\n      <td>0.515703</td>\n      <td>0.192673</td>\n      <td>0.255936</td>\n      <td>0.301429</td>\n      <td>0.270118</td>\n      <td>0.209330</td>\n      <td>0.350804</td>\n      <td>1.000000</td>\n    </tr>\n  </tbody>\n</table>\n</div>"
     },
     "metadata": {}
    }
   ],
   "execution_count": null
  },
  {
   "cell_type": "markdown",
   "source": "Question 3: If you were to change the parameters to have a max_depth of 500 and min_samples_leaf of 1, what do you think the effect would be on the test accuracy? Training accuracy?\n\nTraining accuracy would increase and the test accuracy would decrease. ",
   "metadata": {
    "colab_type": "text",
    "id": "1t559pS3ZHES",
    "cell_id": "00021-e29e7b88-9eaf-4236-8c1d-c18d93258c0b",
    "deepnote_cell_type": "markdown",
    "deepnote_cell_height": 133.59375
   }
  },
  {
   "cell_type": "markdown",
   "source": "**Test your guesses, create a model with max_depth=500 and min_samples_leaf=1, and predict values for the training and validation data**",
   "metadata": {
    "colab_type": "text",
    "id": "7dnlqId2bIcR",
    "cell_id": "00022-ed72e79c-1fb3-44cb-b533-d47d428bf747",
    "deepnote_cell_type": "markdown",
    "deepnote_cell_height": 74.796875
   }
  },
  {
   "cell_type": "code",
   "metadata": {
    "colab": {
     "autoexec": {
      "startup": false,
      "wait_interval": 0
     },
     "base_uri": "https://localhost:8080/",
     "height": 17
    },
    "colab_type": "code",
    "executionInfo": {
     "elapsed": 235,
     "status": "ok",
     "timestamp": 1530627843330,
     "user": {
      "displayName": "john passarelli",
      "photoUrl": "https://lh3.googleusercontent.com/a/default-user=s128",
      "userId": "102241934905781120798"
     },
     "user_tz": 240
    },
    "id": "hnUQKX9vl9Gy",
    "outputId": "ebaa5e52-a33f-4749-a3f6-6a3fde24da1f",
    "cell_id": "00023-49fb46da-e9bc-4bf3-a37f-ba7898041e16",
    "deepnote_to_be_reexecuted": false,
    "source_hash": "cc1d5a8",
    "execution_start": 1657814371317,
    "execution_millis": 852,
    "deepnote_cell_type": "code",
    "deepnote_cell_height": 193.375,
    "deepnote_output_heights": [
     60.375
    ]
   },
   "source": "decision_tree2 = DecisionTreeClassifier(criterion = \"entropy\", random_state = None,\n                              max_depth=500, min_samples_leaf=1)  \ndecision_tree2.fit(X_train, y_train)",
   "outputs": [
    {
     "output_type": "execute_result",
     "execution_count": 11,
     "data": {
      "text/plain": "DecisionTreeClassifier(criterion='entropy', max_depth=500)",
      "text/html": "<style>#sk-container-id-3 {color: black;background-color: white;}#sk-container-id-3 pre{padding: 0;}#sk-container-id-3 div.sk-toggleable {background-color: white;}#sk-container-id-3 label.sk-toggleable__label {cursor: pointer;display: block;width: 100%;margin-bottom: 0;padding: 0.3em;box-sizing: border-box;text-align: center;}#sk-container-id-3 label.sk-toggleable__label-arrow:before {content: \"▸\";float: left;margin-right: 0.25em;color: #696969;}#sk-container-id-3 label.sk-toggleable__label-arrow:hover:before {color: black;}#sk-container-id-3 div.sk-estimator:hover label.sk-toggleable__label-arrow:before {color: black;}#sk-container-id-3 div.sk-toggleable__content {max-height: 0;max-width: 0;overflow: hidden;text-align: left;background-color: #f0f8ff;}#sk-container-id-3 div.sk-toggleable__content pre {margin: 0.2em;color: black;border-radius: 0.25em;background-color: #f0f8ff;}#sk-container-id-3 input.sk-toggleable__control:checked~div.sk-toggleable__content {max-height: 200px;max-width: 100%;overflow: auto;}#sk-container-id-3 input.sk-toggleable__control:checked~label.sk-toggleable__label-arrow:before {content: \"▾\";}#sk-container-id-3 div.sk-estimator input.sk-toggleable__control:checked~label.sk-toggleable__label {background-color: #d4ebff;}#sk-container-id-3 div.sk-label input.sk-toggleable__control:checked~label.sk-toggleable__label {background-color: #d4ebff;}#sk-container-id-3 input.sk-hidden--visually {border: 0;clip: rect(1px 1px 1px 1px);clip: rect(1px, 1px, 1px, 1px);height: 1px;margin: -1px;overflow: hidden;padding: 0;position: absolute;width: 1px;}#sk-container-id-3 div.sk-estimator {font-family: monospace;background-color: #f0f8ff;border: 1px dotted black;border-radius: 0.25em;box-sizing: border-box;margin-bottom: 0.5em;}#sk-container-id-3 div.sk-estimator:hover {background-color: #d4ebff;}#sk-container-id-3 div.sk-parallel-item::after {content: \"\";width: 100%;border-bottom: 1px solid gray;flex-grow: 1;}#sk-container-id-3 div.sk-label:hover label.sk-toggleable__label {background-color: #d4ebff;}#sk-container-id-3 div.sk-serial::before {content: \"\";position: absolute;border-left: 1px solid gray;box-sizing: border-box;top: 0;bottom: 0;left: 50%;z-index: 0;}#sk-container-id-3 div.sk-serial {display: flex;flex-direction: column;align-items: center;background-color: white;padding-right: 0.2em;padding-left: 0.2em;position: relative;}#sk-container-id-3 div.sk-item {position: relative;z-index: 1;}#sk-container-id-3 div.sk-parallel {display: flex;align-items: stretch;justify-content: center;background-color: white;position: relative;}#sk-container-id-3 div.sk-item::before, #sk-container-id-3 div.sk-parallel-item::before {content: \"\";position: absolute;border-left: 1px solid gray;box-sizing: border-box;top: 0;bottom: 0;left: 50%;z-index: -1;}#sk-container-id-3 div.sk-parallel-item {display: flex;flex-direction: column;z-index: 1;position: relative;background-color: white;}#sk-container-id-3 div.sk-parallel-item:first-child::after {align-self: flex-end;width: 50%;}#sk-container-id-3 div.sk-parallel-item:last-child::after {align-self: flex-start;width: 50%;}#sk-container-id-3 div.sk-parallel-item:only-child::after {width: 0;}#sk-container-id-3 div.sk-dashed-wrapped {border: 1px dashed gray;margin: 0 0.4em 0.5em 0.4em;box-sizing: border-box;padding-bottom: 0.4em;background-color: white;}#sk-container-id-3 div.sk-label label {font-family: monospace;font-weight: bold;display: inline-block;line-height: 1.2em;}#sk-container-id-3 div.sk-label-container {text-align: center;}#sk-container-id-3 div.sk-container {/* jupyter's `normalize.less` sets `[hidden] { display: none; }` but bootstrap.min.css set `[hidden] { display: none !important; }` so we also need the `!important` here to be able to override the default hidden behavior on the sphinx rendered scikit-learn.org. See: https://github.com/scikit-learn/scikit-learn/issues/21755 */display: inline-block !important;position: relative;}#sk-container-id-3 div.sk-text-repr-fallback {display: none;}</style><div id=\"sk-container-id-3\" class=\"sk-top-container\"><div class=\"sk-text-repr-fallback\"><pre>DecisionTreeClassifier(criterion=&#x27;entropy&#x27;, max_depth=500)</pre><b>In a Jupyter environment, please rerun this cell to show the HTML representation or trust the notebook. <br />On GitHub, the HTML representation is unable to render, please try loading this page with nbviewer.org.</b></div><div class=\"sk-container\" hidden><div class=\"sk-item\"><div class=\"sk-estimator sk-toggleable\"><input class=\"sk-toggleable__control sk-hidden--visually\" id=\"sk-estimator-id-3\" type=\"checkbox\" checked><label for=\"sk-estimator-id-3\" class=\"sk-toggleable__label sk-toggleable__label-arrow\">DecisionTreeClassifier</label><div class=\"sk-toggleable__content\"><pre>DecisionTreeClassifier(criterion=&#x27;entropy&#x27;, max_depth=500)</pre></div></div></div></div></div>"
     },
     "metadata": {}
    }
   ],
   "execution_count": null
  },
  {
   "cell_type": "code",
   "source": "y_train_pred=decision_tree2.predict(X_train)\nprint(\"Training Accuracy is\", accuracy_score(y_train, y_train_pred)*100)\ny_val_pred=decision_tree2.predict(X_val)\nprint(\"Validation Accuracy is\", accuracy_score(y_val,y_val_pred)*100)",
   "metadata": {
    "cell_id": "d1150eaee4ae43f294ef5a1c8bdb63c5",
    "tags": [],
    "deepnote_to_be_reexecuted": false,
    "source_hash": "cd8827d1",
    "execution_start": 1657814371318,
    "execution_millis": 854,
    "deepnote_cell_type": "code",
    "deepnote_cell_height": 185.390625
   },
   "outputs": [
    {
     "name": "stdout",
     "text": "Training Accuracy is 100.0\nValidation Accuracy is 79.36507936507937\n",
     "output_type": "stream"
    }
   ],
   "execution_count": null
  },
  {
   "cell_type": "markdown",
   "source": "# Random Forest",
   "metadata": {
    "colab_type": "text",
    "id": "40Psyt65pD8p",
    "cell_id": "00024-f6243122-11c3-4e0e-b411-2261dd2a6ce6",
    "deepnote_cell_type": "markdown",
    "deepnote_cell_height": 82
   }
  },
  {
   "cell_type": "markdown",
   "source": "## Creating Model\n\nCreate a model with sklearn's RandomForestClassifier and predict values on your validation set.",
   "metadata": {
    "colab_type": "text",
    "id": "mjLu1MLIpGNF",
    "cell_id": "00025-9ac59e6e-64f7-43cb-9dc9-ee4523ef3599",
    "deepnote_cell_type": "markdown",
    "deepnote_cell_height": 108.390625
   }
  },
  {
   "cell_type": "code",
   "metadata": {
    "colab": {
     "autoexec": {
      "startup": false,
      "wait_interval": 0
     },
     "base_uri": "https://localhost:8080/",
     "height": 37
    },
    "colab_type": "code",
    "executionInfo": {
     "elapsed": 318,
     "status": "ok",
     "timestamp": 1530627847311,
     "user": {
      "displayName": "john passarelli",
      "photoUrl": "https://lh3.googleusercontent.com/a/default-user=s128",
      "userId": "102241934905781120798"
     },
     "user_tz": 240
    },
    "id": "TYwbpWxUfDIY",
    "outputId": "0008a18f-a9e3-4c04-b42e-adc8ce9aa966",
    "cell_id": "00026-de694ae1-f14e-428e-a672-14f3cfa91f97",
    "deepnote_to_be_reexecuted": false,
    "source_hash": "e8cec968",
    "execution_start": 1657814371320,
    "execution_millis": 880,
    "deepnote_cell_type": "code",
    "deepnote_cell_height": 175.375,
    "deepnote_output_heights": [
     60.375
    ]
   },
   "source": "random_forest = RandomForestClassifier(n_estimators = 100)\nrandom_forest.fit(X_train,y_train)",
   "outputs": [
    {
     "output_type": "execute_result",
     "execution_count": 13,
     "data": {
      "text/plain": "RandomForestClassifier()",
      "text/html": "<style>#sk-container-id-4 {color: black;background-color: white;}#sk-container-id-4 pre{padding: 0;}#sk-container-id-4 div.sk-toggleable {background-color: white;}#sk-container-id-4 label.sk-toggleable__label {cursor: pointer;display: block;width: 100%;margin-bottom: 0;padding: 0.3em;box-sizing: border-box;text-align: center;}#sk-container-id-4 label.sk-toggleable__label-arrow:before {content: \"▸\";float: left;margin-right: 0.25em;color: #696969;}#sk-container-id-4 label.sk-toggleable__label-arrow:hover:before {color: black;}#sk-container-id-4 div.sk-estimator:hover label.sk-toggleable__label-arrow:before {color: black;}#sk-container-id-4 div.sk-toggleable__content {max-height: 0;max-width: 0;overflow: hidden;text-align: left;background-color: #f0f8ff;}#sk-container-id-4 div.sk-toggleable__content pre {margin: 0.2em;color: black;border-radius: 0.25em;background-color: #f0f8ff;}#sk-container-id-4 input.sk-toggleable__control:checked~div.sk-toggleable__content {max-height: 200px;max-width: 100%;overflow: auto;}#sk-container-id-4 input.sk-toggleable__control:checked~label.sk-toggleable__label-arrow:before {content: \"▾\";}#sk-container-id-4 div.sk-estimator input.sk-toggleable__control:checked~label.sk-toggleable__label {background-color: #d4ebff;}#sk-container-id-4 div.sk-label input.sk-toggleable__control:checked~label.sk-toggleable__label {background-color: #d4ebff;}#sk-container-id-4 input.sk-hidden--visually {border: 0;clip: rect(1px 1px 1px 1px);clip: rect(1px, 1px, 1px, 1px);height: 1px;margin: -1px;overflow: hidden;padding: 0;position: absolute;width: 1px;}#sk-container-id-4 div.sk-estimator {font-family: monospace;background-color: #f0f8ff;border: 1px dotted black;border-radius: 0.25em;box-sizing: border-box;margin-bottom: 0.5em;}#sk-container-id-4 div.sk-estimator:hover {background-color: #d4ebff;}#sk-container-id-4 div.sk-parallel-item::after {content: \"\";width: 100%;border-bottom: 1px solid gray;flex-grow: 1;}#sk-container-id-4 div.sk-label:hover label.sk-toggleable__label {background-color: #d4ebff;}#sk-container-id-4 div.sk-serial::before {content: \"\";position: absolute;border-left: 1px solid gray;box-sizing: border-box;top: 0;bottom: 0;left: 50%;z-index: 0;}#sk-container-id-4 div.sk-serial {display: flex;flex-direction: column;align-items: center;background-color: white;padding-right: 0.2em;padding-left: 0.2em;position: relative;}#sk-container-id-4 div.sk-item {position: relative;z-index: 1;}#sk-container-id-4 div.sk-parallel {display: flex;align-items: stretch;justify-content: center;background-color: white;position: relative;}#sk-container-id-4 div.sk-item::before, #sk-container-id-4 div.sk-parallel-item::before {content: \"\";position: absolute;border-left: 1px solid gray;box-sizing: border-box;top: 0;bottom: 0;left: 50%;z-index: -1;}#sk-container-id-4 div.sk-parallel-item {display: flex;flex-direction: column;z-index: 1;position: relative;background-color: white;}#sk-container-id-4 div.sk-parallel-item:first-child::after {align-self: flex-end;width: 50%;}#sk-container-id-4 div.sk-parallel-item:last-child::after {align-self: flex-start;width: 50%;}#sk-container-id-4 div.sk-parallel-item:only-child::after {width: 0;}#sk-container-id-4 div.sk-dashed-wrapped {border: 1px dashed gray;margin: 0 0.4em 0.5em 0.4em;box-sizing: border-box;padding-bottom: 0.4em;background-color: white;}#sk-container-id-4 div.sk-label label {font-family: monospace;font-weight: bold;display: inline-block;line-height: 1.2em;}#sk-container-id-4 div.sk-label-container {text-align: center;}#sk-container-id-4 div.sk-container {/* jupyter's `normalize.less` sets `[hidden] { display: none; }` but bootstrap.min.css set `[hidden] { display: none !important; }` so we also need the `!important` here to be able to override the default hidden behavior on the sphinx rendered scikit-learn.org. See: https://github.com/scikit-learn/scikit-learn/issues/21755 */display: inline-block !important;position: relative;}#sk-container-id-4 div.sk-text-repr-fallback {display: none;}</style><div id=\"sk-container-id-4\" class=\"sk-top-container\"><div class=\"sk-text-repr-fallback\"><pre>RandomForestClassifier()</pre><b>In a Jupyter environment, please rerun this cell to show the HTML representation or trust the notebook. <br />On GitHub, the HTML representation is unable to render, please try loading this page with nbviewer.org.</b></div><div class=\"sk-container\" hidden><div class=\"sk-item\"><div class=\"sk-estimator sk-toggleable\"><input class=\"sk-toggleable__control sk-hidden--visually\" id=\"sk-estimator-id-4\" type=\"checkbox\" checked><label for=\"sk-estimator-id-4\" class=\"sk-toggleable__label sk-toggleable__label-arrow\">RandomForestClassifier</label><div class=\"sk-toggleable__content\"><pre>RandomForestClassifier()</pre></div></div></div></div></div>"
     },
     "metadata": {}
    }
   ],
   "execution_count": null
  },
  {
   "cell_type": "markdown",
   "source": "Print accuracy of training and validation data.",
   "metadata": {
    "colab_type": "text",
    "id": "6Ys_J3O4pd0u",
    "cell_id": "00027-37ee0acc-7ffe-4b8a-b287-d02e0827e18e",
    "deepnote_cell_type": "markdown",
    "deepnote_cell_height": 52.390625
   }
  },
  {
   "cell_type": "code",
   "metadata": {
    "colab": {
     "autoexec": {
      "startup": false,
      "wait_interval": 0
     },
     "base_uri": "https://localhost:8080/",
     "height": 17
    },
    "colab_type": "code",
    "executionInfo": {
     "elapsed": 337,
     "status": "ok",
     "timestamp": 1530627851278,
     "user": {
      "displayName": "john passarelli",
      "photoUrl": "https://lh3.googleusercontent.com/a/default-user=s128",
      "userId": "102241934905781120798"
     },
     "user_tz": 240
    },
    "id": "aQdfjEWdfDOH",
    "outputId": "751008b5-156c-4bea-d599-37f84bd1b60c",
    "cell_id": "00028-6dc8051a-5dab-40fd-8577-1a964ad85ec1",
    "deepnote_to_be_reexecuted": false,
    "source_hash": "1f51ec0d",
    "execution_start": 1657814371590,
    "execution_millis": 611,
    "deepnote_cell_type": "code",
    "deepnote_cell_height": 185.390625
   },
   "source": "y_train_pred=random_forest.predict(X_train)\nprint(\"Training Accuracy is \", accuracy_score(y_train, y_train_pred)*100)\ny_val_pred=random_forest.predict(X_val)\nprint(\"Validation Accuracy is \", accuracy_score(y_val,y_val_pred)*100)",
   "outputs": [
    {
     "name": "stdout",
     "text": "Training Accuracy is  100.0\nValidation Accuracy is  82.53968253968253\n",
     "output_type": "stream"
    }
   ],
   "execution_count": null
  },
  {
   "cell_type": "markdown",
   "source": "How did the accuracy compare to the decision tree's accuracy?\n\nThe training accuracy for the Random Forest Classifier (100%) was overall higher than the training accuracy for the decision tree (94%).",
   "metadata": {
    "cell_id": "00029-e39ef078-6e30-45dd-926b-bbb507b140eb",
    "deepnote_cell_type": "markdown",
    "deepnote_cell_height": 111.1875
   }
  },
  {
   "cell_type": "markdown",
   "source": "Print the 3 most important features (hint: sklearn has an attribute to help you find these)",
   "metadata": {
    "colab_type": "text",
    "id": "jGlSHxuUqAnX",
    "cell_id": "00030-5e94d202-3299-4773-8fe0-f4448bcb9862",
    "deepnote_cell_type": "markdown",
    "deepnote_cell_height": 52.390625
   }
  },
  {
   "cell_type": "code",
   "metadata": {
    "colab": {
     "autoexec": {
      "startup": false,
      "wait_interval": 0
     },
     "base_uri": "https://localhost:8080/",
     "height": 17
    },
    "colab_type": "code",
    "executionInfo": {
     "elapsed": 448,
     "status": "ok",
     "timestamp": 1530627855691,
     "user": {
      "displayName": "john passarelli",
      "photoUrl": "https://lh3.googleusercontent.com/a/default-user=s128",
      "userId": "102241934905781120798"
     },
     "user_tz": 240
    },
    "id": "5rVekWn0qw3r",
    "outputId": "d5e516d3-4f91-4394-b2e5-f26427b404ef",
    "cell_id": "00031-8c53bed0-f3ad-4d2c-9d15-a2d331c52695",
    "deepnote_to_be_reexecuted": false,
    "source_hash": "ddf0f7cf",
    "execution_start": 1657814371614,
    "execution_millis": 588,
    "deepnote_cell_type": "code",
    "deepnote_cell_height": 255.6875
   },
   "source": "from sklearn.feature_selection import SelectKBest,chi2\nX_3_best = SelectKBest(chi2,k=3).fit(X_train,y_train)\nmask = X_3_best.get_support()\nnew_feat = []\nfor bool,feature in zip(mask,X_train.columns):\n    if bool:\n        new_feat.append(feature)\n\nprint(new_feat)",
   "outputs": [
    {
     "name": "stdout",
     "text": "['plas', 'test', 'age']\n",
     "output_type": "stream"
    }
   ],
   "execution_count": null
  },
  {
   "cell_type": "markdown",
   "source": "Find the accuracy for random forests with 1 to 100 trees, counting by 5. Print and then plot these accuracies.",
   "metadata": {
    "colab_type": "text",
    "id": "lynu8pLDtd0S",
    "cell_id": "00032-b66c2556-892c-4fe8-8399-f5699345b768",
    "deepnote_cell_type": "markdown",
    "deepnote_cell_height": 74.796875
   }
  },
  {
   "cell_type": "code",
   "metadata": {
    "colab": {
     "autoexec": {
      "startup": false,
      "wait_interval": 0
     },
     "base_uri": "https://localhost:8080/",
     "height": 17
    },
    "colab_type": "code",
    "executionInfo": {
     "elapsed": 371,
     "status": "ok",
     "timestamp": 1530627860158,
     "user": {
      "displayName": "john passarelli",
      "photoUrl": "https://lh3.googleusercontent.com/a/default-user=s128",
      "userId": "102241934905781120798"
     },
     "user_tz": 240
    },
    "id": "e2hG7npcuM7f",
    "outputId": "fb9e32ed-fb17-462e-a2f2-8db7964bb3d7",
    "cell_id": "00033-cc17e767-e961-47c5-b451-f98211db658d",
    "deepnote_to_be_reexecuted": false,
    "source_hash": "fad51b88",
    "execution_start": 1657814371673,
    "execution_millis": 4670,
    "deepnote_cell_type": "code",
    "deepnote_cell_height": 1288,
    "deepnote_output_heights": [
     null,
     250,
     252
    ]
   },
   "source": "for num_trees in range(1,100,5):\n    random_forest = RandomForestClassifier(n_estimators = num_trees)\n    random_forest.fit(X_train,y_train)\n\n    y_train_pred=random_forest.predict(X_train)\n    train_acc = accuracy_score(y_train, y_train_pred)*100\n    print(\"Training Accuracy is \", train_acc)\n    plt.plot(num_trees,train_acc,color='green', linestyle='solid', linewidth = 3, \n         marker='o')\n\n    y_val_pred=random_forest.predict(X_val)\n    val_acc = accuracy_score(y_val,y_val_pred)*100\n    print(\"Validation Accuracy is \",val_acc )\n    plt.plot(num_trees,val_acc,color='blue', linestyle='solid', linewidth = 3, \n         marker='o')\n\nplt.show()\n",
   "outputs": [
    {
     "name": "stdout",
     "text": "Training Accuracy is  86.8\nValidation Accuracy is  58.730158730158735\nTraining Accuracy is  98.0\nValidation Accuracy is  77.77777777777779\nTraining Accuracy is  98.8\nValidation Accuracy is  79.36507936507937\nTraining Accuracy is  99.2\nValidation Accuracy is  71.42857142857143\nTraining Accuracy is  100.0\nValidation Accuracy is  76.19047619047619\nTraining Accuracy is  99.6\nValidation Accuracy is  80.95238095238095\nTraining Accuracy is  99.6\nValidation Accuracy is  76.19047619047619\nTraining Accuracy is  99.6\nValidation Accuracy is  79.36507936507937\nTraining Accuracy is  100.0\nValidation Accuracy is  74.60317460317461\nTraining Accuracy is  100.0\nValidation Accuracy is  79.36507936507937\nTraining Accuracy is  100.0\nValidation Accuracy is  80.95238095238095\nTraining Accuracy is  100.0\nValidation Accuracy is  80.95238095238095\nTraining Accuracy is  100.0\nValidation Accuracy is  84.12698412698413\nTraining Accuracy is  100.0\nValidation Accuracy is  79.36507936507937\nTraining Accuracy is  100.0\nValidation Accuracy is  80.95238095238095\nTraining Accuracy is  100.0\nValidation Accuracy is  77.77777777777779\nTraining Accuracy is  100.0\nValidation Accuracy is  80.95238095238095\nTraining Accuracy is  100.0\nValidation Accuracy is  76.19047619047619\nTraining Accuracy is  100.0\nValidation Accuracy is  74.60317460317461\nTraining Accuracy is  100.0\nValidation Accuracy is  80.95238095238095\n",
     "output_type": "stream"
    },
    {
     "data": {
      "text/plain": "<Figure size 432x288 with 1 Axes>",
      "image/png": "[encoded data removed]"
     },
     "metadata": {
      "needs_background": "light",
      "image/png": {
       "width": 382,
       "height": 248
      }
     },
     "output_type": "display_data"
    }
   ],
   "execution_count": null
  },
  {
   "cell_type": "code",
   "source": "X_val.shape",
   "metadata": {
    "cell_id": "f80729ca37504d55abed39ce7bed203c",
    "tags": [],
    "deepnote_to_be_reexecuted": false,
    "source_hash": "d4270260",
    "execution_start": 1657814376326,
    "execution_millis": 17,
    "deepnote_cell_type": "code",
    "deepnote_cell_height": 118.1875,
    "deepnote_output_heights": [
     21.1875
    ]
   },
   "outputs": [
    {
     "output_type": "execute_result",
     "execution_count": 17,
     "data": {
      "text/plain": "(63, 8)"
     },
     "metadata": {}
    }
   ],
   "execution_count": null
  },
  {
   "cell_type": "markdown",
   "source": "Plot the roc_curve using predict_proba a function for our random forest model, and metrics.roc_curve\n\nIt might help to google these functions and look at sklearn's documentation.",
   "metadata": {
    "cell_id": "00034-e51aa614-cd4a-40a3-9dcd-64e7966fbf1c",
    "deepnote_cell_type": "markdown",
    "deepnote_cell_height": 111.1875
   }
  },
  {
   "cell_type": "code",
   "metadata": {
    "cell_id": "00035-104f4dee-fe87-4866-ad6c-d7b4b3d97e90",
    "deepnote_to_be_reexecuted": false,
    "source_hash": "41498a44",
    "execution_start": 1657814376326,
    "execution_millis": 1,
    "deepnote_cell_type": "code",
    "deepnote_cell_height": 135
   },
   "source": "from sklearn.model_selection import train_test_split\nfrom sklearn.linear_model import LogisticRegression\nfrom sklearn import metrics\nimport matplotlib.pyplot as plt",
   "outputs": [],
   "execution_count": null
  },
  {
   "cell_type": "code",
   "source": "url = \"https://raw.githubusercontent.com/jbrownlee/Datasets/master/pima-indians-diabetes.data.csv\"\ndata = pd.read_csv(url)\n\nX = ['preg', 'plas', 'pres', 'skin', 'test', 'mass', 'pedi', 'age']\ny = 'class'\n\nlog_regression = LogisticRegression()\nlog_regression.fit(X_train,y_train)\n\n\npredict_proba = log_regression.predict_proba(X_test)[::,1]\n#fpr = metrics.roc_curve(y_test, predict_proba)\n#tpr = metrics.roc_curve(y_test, predict_proba)\n\nplt.plot(fpr,tpr)\nplt.ylabel('True Positive Rate')\nplt.xlabel('False Positive Rate')\nplt.show()",
   "metadata": {
    "cell_id": "e52e45caaaca419782eb8c947bad5641",
    "tags": [],
    "deepnote_to_be_reexecuted": false,
    "source_hash": "e9010cfa",
    "execution_start": 1657814376327,
    "execution_millis": 17,
    "owner_user_id": "7e1bf79a-8cbb-4e6d-ac8e-c6916872ecc5",
    "deepnote_cell_type": "code",
    "deepnote_cell_height": 855.0625,
    "deepnote_output_heights": [
     null,
     264
    ]
   },
   "outputs": [
    {
     "name": "stderr",
     "text": "/shared-libs/python3.9/py/lib/python3.9/site-packages/sklearn/linear_model/_logistic.py:444: ConvergenceWarning: lbfgs failed to converge (status=1):\nSTOP: TOTAL NO. of ITERATIONS REACHED LIMIT.\n\nIncrease the number of iterations (max_iter) or scale the data as shown in:\n    https://scikit-learn.org/stable/modules/preprocessing.html\nPlease also refer to the documentation for alternative solver options:\n    https://scikit-learn.org/stable/modules/linear_model.html#logistic-regression\n  n_iter_i = _check_optimize_result(\n",
     "output_type": "stream"
    },
    {
     "data": {
      "text/plain": "<Figure size 432x288 with 1 Axes>",
      "image/png": "[encoded data removed]"
     },
     "metadata": {
      "needs_background": "light",
      "image/png": {
       "width": 386,
       "height": 262
      }
     },
     "output_type": "display_data"
    }
   ],
   "execution_count": null
  },
  {
   "cell_type": "markdown",
   "source": "<a style='text-decoration:none;line-height:16px;display:flex;color:#5B5B62;padding:10px;justify-content:end;' href='https://deepnote.com?utm_source=created-in-deepnote-cell&projectId=9e65ab1c-218c-4689-b130-b98413f4efb9' target=\"_blank\">\n<img alt='Created in deepnote.com' style='display:inline;max-height:16px;margin:0px;margin-right:7.5px;' src='data:image/svg+xml;base64,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' > </img>\nCreated in <span style='font-weight:600;margin-left:4px;'>Deepnote</span></a>",
   "metadata": {
    "tags": [],
    "created_in_deepnote_cell": true,
    "deepnote_cell_type": "markdown"
   }
  }
 ],
 "nbformat": 4,
 "nbformat_minor": 1,
 "metadata": {
  "colab": {
   "collapsed_sections": [],
   "default_view": {},
   "name": "DecisionTreeWorksheetStudent",
   "provenance": [
    {
     "file_id": "165CSmT99w4_Sv1UENIyvIkH7ZEw2Xeh8",
     "timestamp": 1527780043079
    }
   ],
   "version": "0.3.2",
   "views": {}
  },
  "kernelspec": {
   "display_name": "Python 3",
   "language": "python",
   "name": "python3"
  },
  "language_info": {
   "codemirror_mode": {
    "name": "ipython",
    "version": 3
   },
   "file_extension": ".py",
   "mimetype": "text/x-python",
   "name": "python",
   "nbconvert_exporter": "python",
   "pygments_lexer": "ipython3",
   "version": "3.7.3"
  },
  "deepnote_notebook_id": "5160454b-8d9a-4d65-91ef-99b6d4c100e8",
  "deepnote": {},
  "deepnote_execution_queue": []
 }
}