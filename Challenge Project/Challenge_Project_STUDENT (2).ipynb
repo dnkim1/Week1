{
 "cells": [
  {
   "cell_type": "markdown",
   "source": "# Week 1 Challenge Project\n### Lyle Lalunio\n---\nHypothyroidism, also called underactive thyroid or low thyroid, is a disorder of the endocrine system in which the thyroid gland does not produce enough thyroid hormone. It can cause a number of symptoms, such as poor ability to tolerate cold, a feeling of tiredness, constipation, depression, and weight gain. Occasionally there may be swelling of the front part of the neck due to goitre. Untreated hypothyroidism during pregnancy can lead to delays in growth and intellectual development in the baby or cretinism.\n\nWorldwide, too little iodine in the diet is the most common cause of hypothyroidism. In countries with enough iodine in the diet, the most common cause of hypothyroidism is the autoimmune condition Hashimoto's thyroiditis. Less common causes include: previous treatment with radioactive iodine, injury to the hypothalamus or the anterior pituitary gland, certain medications, a lack of a functioning thyroid at birth, or previous thyroid surgery. The diagnosis of hypothyroidism, when suspected, can be confirmed with blood tests measuring thyroid-stimulating hormone (TSH) and thyroxine levels.\n\nWorldwide about one billion people are estimated to be iodine deficient; however, it is unknown how often this results in hypothyroidism. In the United States, hypothyroidism occurs in 0.3–0.4% of people.\n\nAnd that is why we iodize salt.\n\n![alt text](https://www.mayoclinic.org/-/media/kcms/gbs/patient-consumer/images/2013/11/15/17/39/ds00181_-ds00344_-ds00353_-ds00491_-ds00492_-ds00567_-ds00660_-my00709_im01872_thyroid_gif.jpg)\n\n",
   "metadata": {
    "colab_type": "text",
    "id": "XQDE8pPCpFRb",
    "cell_id": "00000-8b5d522d-fc03-43db-aaff-a40f052bec90",
    "owner_user_id": "b55e2086-05ad-4387-a33c-7824764ad5c7",
    "deepnote_cell_type": "markdown",
    "deepnote_cell_height": 497.6875
   }
  },
  {
   "cell_type": "markdown",
   "source": "Background: Doctors all around the world need our help to predict whether a patient has hypothyroid disease. We have already overspent our budget to collect such complete data on about 30 attributes for 2800 patients--a good starting number, but a larger sample would certainly be preferred. Moving forward, however, we simply cannot afford to spend so much money on data collection. Therefore, we also need to determine which attributes are the most meaningful to the predictive models, and cut out the rest that don't contribute much. \n\nThe boss wants to see a **balanced** model that can predict with a **high sensitivity** and **high specificity** while using a ***low amount of features***. Collecting complete data such as this is very rare, very time-consuming, and often very expensive. By minimizing the number of features, it will optimize future data collection by deciding what needs to be collected, and what doesn't.",
   "metadata": {
    "colab_type": "text",
    "id": "OFF1-BLiSLZ8",
    "cell_id": "00001-0e5a6dfa-b096-43d7-b48a-e2621857d4f4",
    "deepnote_cell_type": "markdown",
    "deepnote_cell_height": 223.125
   }
  },
  {
   "cell_type": "markdown",
   "source": "## Loading the data",
   "metadata": {
    "colab_type": "text",
    "id": "HsZB_SGvp4mP",
    "cell_id": "00002-b5d69cb5-0118-40c5-b8a2-fb1f84c8a4ac",
    "deepnote_cell_type": "markdown",
    "deepnote_cell_height": 70
   }
  },
  {
   "cell_type": "markdown",
   "source": "Let's read the data into a Pandas dataframe and look at the first 20 records.",
   "metadata": {
    "colab_type": "text",
    "id": "DWrUz9OQ0uAU",
    "cell_id": "00003-c0f7d2a4-4fa9-4018-a10d-9368c9ec1204",
    "deepnote_cell_type": "markdown",
    "deepnote_cell_height": 52.390625
   }
  },
  {
   "cell_type": "code",
   "metadata": {
    "colab": {
     "autoexec": {
      "startup": false,
      "wait_interval": 0
     }
    },
    "colab_type": "code",
    "id": "s9AtXQPkzC8j",
    "cell_id": "00004-4c43f37e-a713-4459-a63a-b7c11bec377c",
    "deepnote_to_be_reexecuted": false,
    "source_hash": "1ea053a2",
    "execution_start": 1657921461992,
    "execution_millis": 149,
    "deepnote_cell_type": "code",
    "deepnote_cell_height": 689
   },
   "source": "import pandas as po\n### Your code here\nurl = \"../Datasets/allhypo.train.data\"\ndataset = po.read_csv(url) \ndataset.head(20)",
   "execution_count": null,
   "outputs": [
    {
     "output_type": "execute_result",
     "execution_count": 1,
     "data": {
      "application/vnd.deepnote.dataframe.v3+json": {
       "column_count": 30,
       "row_count": 20,
       "columns": [
        {
         "name": "Age",
         "dtype": "object",
         "stats": {
          "unique_count": 16,
          "nan_count": 0,
          "categories": [
           {
            "name": "70",
            "count": 2
           },
           {
            "name": "59",
            "count": 2
           },
           {
            "name": "14 others",
            "count": 16
           }
          ]
         }
        },
        {
         "name": "Sex",
         "dtype": "object",
         "stats": {
          "unique_count": 3,
          "nan_count": 0,
          "categories": [
           {
            "name": "F",
            "count": 15
           },
           {
            "name": "M",
            "count": 4
           },
           {
            "name": "?",
            "count": 1
           }
          ]
         }
        },
        {
         "name": "On Thyroxine",
         "dtype": "object",
         "stats": {
          "unique_count": 2,
          "nan_count": 0,
          "categories": [
           {
            "name": "f",
            "count": 17
           },
           {
            "name": "t",
            "count": 3
           }
          ]
         }
        },
        {
         "name": "Query on Thyroxine",
         "dtype": "object",
         "stats": {
          "unique_count": 1,
          "nan_count": 0,
          "categories": [
           {
            "name": "f",
            "count": 20
           }
          ]
         }
        },
        {
         "name": "On Antithyroid Medication",
         "dtype": "object",
         "stats": {
          "unique_count": 1,
          "nan_count": 0,
          "categories": [
           {
            "name": "f",
            "count": 20
           }
          ]
         }
        },
        {
         "name": "Sick",
         "dtype": "object",
         "stats": {
          "unique_count": 2,
          "nan_count": 0,
          "categories": [
           {
            "name": "f",
            "count": 19
           },
           {
            "name": "t",
            "count": 1
           }
          ]
         }
        },
        {
         "name": "Pregnant",
         "dtype": "object",
         "stats": {
          "unique_count": 1,
          "nan_count": 0,
          "categories": [
           {
            "name": "f",
            "count": 20
           }
          ]
         }
        },
        {
         "name": "Thyroid Surgery",
         "dtype": "object",
         "stats": {
          "unique_count": 1,
          "nan_count": 0,
          "categories": [
           {
            "name": "f",
            "count": 20
           }
          ]
         }
        },
        {
         "name": "I131 Treatment",
         "dtype": "object",
         "stats": {
          "unique_count": 1,
          "nan_count": 0,
          "categories": [
           {
            "name": "f",
            "count": 20
           }
          ]
         }
        },
        {
         "name": "Query Hypothyroid",
         "dtype": "object",
         "stats": {
          "unique_count": 2,
          "nan_count": 0,
          "categories": [
           {
            "name": "f",
            "count": 19
           },
           {
            "name": "t",
            "count": 1
           }
          ]
         }
        },
        {
         "name": "Query Hyperthyroid",
         "dtype": "object",
         "stats": {
          "unique_count": 2,
          "nan_count": 0,
          "categories": [
           {
            "name": "f",
            "count": 19
           },
           {
            "name": "t",
            "count": 1
           }
          ]
         }
        },
        {
         "name": "Lithium",
         "dtype": "object",
         "stats": {
          "unique_count": 1,
          "nan_count": 0,
          "categories": [
           {
            "name": "f",
            "count": 20
           }
          ]
         }
        },
        {
         "name": "Goiter",
         "dtype": "object",
         "stats": {
          "unique_count": 1,
          "nan_count": 0,
          "categories": [
           {
            "name": "f",
            "count": 20
           }
          ]
         }
        },
        {
         "name": "Tumor",
         "dtype": "object",
         "stats": {
          "unique_count": 2,
          "nan_count": 0,
          "categories": [
           {
            "name": "f",
            "count": 18
           },
           {
            "name": "t",
            "count": 2
           }
          ]
         }
        },
        {
         "name": "Hypopituitary",
         "dtype": "object",
         "stats": {
          "unique_count": 1,
          "nan_count": 0,
          "categories": [
           {
            "name": "f",
            "count": 20
           }
          ]
         }
        },
        {
         "name": "Psych",
         "dtype": "object",
         "stats": {
          "unique_count": 2,
          "nan_count": 0,
          "categories": [
           {
            "name": "f",
            "count": 18
           },
           {
            "name": "t",
            "count": 2
           }
          ]
         }
        },
        {
         "name": "TSH Measured",
         "dtype": "object",
         "stats": {
          "unique_count": 2,
          "nan_count": 0,
          "categories": [
           {
            "name": "t",
            "count": 19
           },
           {
            "name": "f",
            "count": 1
           }
          ]
         }
        },
        {
         "name": "TSH",
         "dtype": "object",
         "stats": {
          "unique_count": 18,
          "nan_count": 0,
          "categories": [
           {
            "name": "0.03",
            "count": 3
           },
           {
            "name": "1.3",
            "count": 1
           },
           {
            "name": "16 others",
            "count": 16
           }
          ]
         }
        },
        {
         "name": "T3 Measured",
         "dtype": "object",
         "stats": {
          "unique_count": 2,
          "nan_count": 0,
          "categories": [
           {
            "name": "t",
            "count": 15
           },
           {
            "name": "f",
            "count": 5
           }
          ]
         }
        },
        {
         "name": "T3",
         "dtype": "object",
         "stats": {
          "unique_count": 12,
          "nan_count": 0,
          "categories": [
           {
            "name": "?",
            "count": 5
           },
           {
            "name": "1.2",
            "count": 2
           },
           {
            "name": "10 others",
            "count": 13
           }
          ]
         }
        },
        {
         "name": "TT4 Measured",
         "dtype": "object",
         "stats": {
          "unique_count": 1,
          "nan_count": 0,
          "categories": [
           {
            "name": "t",
            "count": 20
           }
          ]
         }
        },
        {
         "name": "TT4",
         "dtype": "object",
         "stats": {
          "unique_count": 18,
          "nan_count": 0,
          "categories": [
           {
            "name": "109",
            "count": 2
           },
           {
            "name": "99",
            "count": 2
           },
           {
            "name": "16 others",
            "count": 16
           }
          ]
         }
        },
        {
         "name": "T4U Measured",
         "dtype": "object",
         "stats": {
          "unique_count": 2,
          "nan_count": 0,
          "categories": [
           {
            "name": "t",
            "count": 18
           },
           {
            "name": "f",
            "count": 2
           }
          ]
         }
        },
        {
         "name": "T4U",
         "dtype": "object",
         "stats": {
          "unique_count": 15,
          "nan_count": 0,
          "categories": [
           {
            "name": "0.91",
            "count": 3
           },
           {
            "name": "1.14",
            "count": 2
           },
           {
            "name": "13 others",
            "count": 15
           }
          ]
         }
        },
        {
         "name": "FTI Measured",
         "dtype": "object",
         "stats": {
          "unique_count": 2,
          "nan_count": 0,
          "categories": [
           {
            "name": "t",
            "count": 18
           },
           {
            "name": "f",
            "count": 2
           }
          ]
         }
        },
        {
         "name": "FTI",
         "dtype": "object",
         "stats": {
          "unique_count": 18,
          "nan_count": 0,
          "categories": [
           {
            "name": "?",
            "count": 2
           },
           {
            "name": "121",
            "count": 2
           },
           {
            "name": "16 others",
            "count": 16
           }
          ]
         }
        },
        {
         "name": "TBG Measured",
         "dtype": "object",
         "stats": {
          "unique_count": 1,
          "nan_count": 0,
          "categories": [
           {
            "name": "f",
            "count": 20
           }
          ]
         }
        },
        {
         "name": "TBG",
         "dtype": "object",
         "stats": {
          "unique_count": 1,
          "nan_count": 0,
          "categories": [
           {
            "name": "?",
            "count": 20
           }
          ]
         }
        },
        {
         "name": "Referral Source",
         "dtype": "object",
         "stats": {
          "unique_count": 3,
          "nan_count": 0,
          "categories": [
           {
            "name": "other",
            "count": 9
           },
           {
            "name": "SVI",
            "count": 8
           },
           {
            "name": "SVHC",
            "count": 3
           }
          ]
         }
        },
        {
         "name": "Class ",
         "dtype": "object",
         "stats": {
          "unique_count": 20,
          "nan_count": 0,
          "categories": [
           {
            "name": "negative.|3733",
            "count": 1
           },
           {
            "name": "negative.|1442",
            "count": 1
           },
           {
            "name": "18 others",
            "count": 18
           }
          ]
         }
        },
        {
         "name": "_deepnote_index_column",
         "dtype": "int64"
        }
       ],
       "rows": [
        {
         "Age": "41",
         "Sex": "F",
         "On Thyroxine": "f",
         "Query on Thyroxine": "f",
         "On Antithyroid Medication": "f",
         "Sick": "f",
         "Pregnant": "f",
         "Thyroid Surgery": "f",
         "I131 Treatment": "f",
         "Query Hypothyroid": "f",
         "Query Hyperthyroid": "f",
         "Lithium": "f",
         "Goiter": "f",
         "Tumor": "f",
         "Hypopituitary": "f",
         "Psych": "f",
         "TSH Measured": "t",
         "TSH": "1.3",
         "T3 Measured": "t",
         "T3": "2.5",
         "TT4 Measured": "t",
         "TT4": "125",
         "T4U Measured": "t",
         "T4U": "1.14",
         "FTI Measured": "t",
         "FTI": "109",
         "TBG Measured": "f",
         "TBG": "?",
         "Referral Source": "SVHC",
         "Class ": "negative.|3733",
         "_deepnote_index_column": 0
        },
        {
         "Age": "23",
         "Sex": "F",
         "On Thyroxine": "f",
         "Query on Thyroxine": "f",
         "On Antithyroid Medication": "f",
         "Sick": "f",
         "Pregnant": "f",
         "Thyroid Surgery": "f",
         "I131 Treatment": "f",
         "Query Hypothyroid": "f",
         "Query Hyperthyroid": "f",
         "Lithium": "f",
         "Goiter": "f",
         "Tumor": "f",
         "Hypopituitary": "f",
         "Psych": "f",
         "TSH Measured": "t",
         "TSH": "4.1",
         "T3 Measured": "t",
         "T3": "2",
         "TT4 Measured": "t",
         "TT4": "102",
         "T4U Measured": "f",
         "T4U": "?",
         "FTI Measured": "f",
         "FTI": "?",
         "TBG Measured": "f",
         "TBG": "?",
         "Referral Source": "other",
         "Class ": "negative.|1442",
         "_deepnote_index_column": 1
        },
        {
         "Age": "46",
         "Sex": "M",
         "On Thyroxine": "f",
         "Query on Thyroxine": "f",
         "On Antithyroid Medication": "f",
         "Sick": "f",
         "Pregnant": "f",
         "Thyroid Surgery": "f",
         "I131 Treatment": "f",
         "Query Hypothyroid": "f",
         "Query Hyperthyroid": "f",
         "Lithium": "f",
         "Goiter": "f",
         "Tumor": "f",
         "Hypopituitary": "f",
         "Psych": "f",
         "TSH Measured": "t",
         "TSH": "0.98",
         "T3 Measured": "f",
         "T3": "?",
         "TT4 Measured": "t",
         "TT4": "109",
         "T4U Measured": "t",
         "T4U": "0.91",
         "FTI Measured": "t",
         "FTI": "120",
         "TBG Measured": "f",
         "TBG": "?",
         "Referral Source": "other",
         "Class ": "negative.|2965",
         "_deepnote_index_column": 2
        },
        {
         "Age": "70",
         "Sex": "F",
         "On Thyroxine": "t",
         "Query on Thyroxine": "f",
         "On Antithyroid Medication": "f",
         "Sick": "f",
         "Pregnant": "f",
         "Thyroid Surgery": "f",
         "I131 Treatment": "f",
         "Query Hypothyroid": "f",
         "Query Hyperthyroid": "f",
         "Lithium": "f",
         "Goiter": "f",
         "Tumor": "f",
         "Hypopituitary": "f",
         "Psych": "f",
         "TSH Measured": "t",
         "TSH": "0.16",
         "T3 Measured": "t",
         "T3": "1.9",
         "TT4 Measured": "t",
         "TT4": "175",
         "T4U Measured": "f",
         "T4U": "?",
         "FTI Measured": "f",
         "FTI": "?",
         "TBG Measured": "f",
         "TBG": "?",
         "Referral Source": "other",
         "Class ": "negative.|806",
         "_deepnote_index_column": 3
        },
        {
         "Age": "70",
         "Sex": "F",
         "On Thyroxine": "f",
         "Query on Thyroxine": "f",
         "On Antithyroid Medication": "f",
         "Sick": "f",
         "Pregnant": "f",
         "Thyroid Surgery": "f",
         "I131 Treatment": "f",
         "Query Hypothyroid": "f",
         "Query Hyperthyroid": "f",
         "Lithium": "f",
         "Goiter": "f",
         "Tumor": "f",
         "Hypopituitary": "f",
         "Psych": "f",
         "TSH Measured": "t",
         "TSH": "0.72",
         "T3 Measured": "t",
         "T3": "1.2",
         "TT4 Measured": "t",
         "TT4": "61",
         "T4U Measured": "t",
         "T4U": "0.87",
         "FTI Measured": "t",
         "FTI": "70",
         "TBG Measured": "f",
         "TBG": "?",
         "Referral Source": "SVI",
         "Class ": "negative.|2807",
         "_deepnote_index_column": 4
        },
        {
         "Age": "18",
         "Sex": "F",
         "On Thyroxine": "t",
         "Query on Thyroxine": "f",
         "On Antithyroid Medication": "f",
         "Sick": "f",
         "Pregnant": "f",
         "Thyroid Surgery": "f",
         "I131 Treatment": "f",
         "Query Hypothyroid": "f",
         "Query Hyperthyroid": "f",
         "Lithium": "f",
         "Goiter": "f",
         "Tumor": "f",
         "Hypopituitary": "f",
         "Psych": "f",
         "TSH Measured": "t",
         "TSH": "0.03",
         "T3 Measured": "f",
         "T3": "?",
         "TT4 Measured": "t",
         "TT4": "183",
         "T4U Measured": "t",
         "T4U": "1.3",
         "FTI Measured": "t",
         "FTI": "141",
         "TBG Measured": "f",
         "TBG": "?",
         "Referral Source": "other",
         "Class ": "negative.|3434",
         "_deepnote_index_column": 5
        },
        {
         "Age": "59",
         "Sex": "F",
         "On Thyroxine": "f",
         "Query on Thyroxine": "f",
         "On Antithyroid Medication": "f",
         "Sick": "f",
         "Pregnant": "f",
         "Thyroid Surgery": "f",
         "I131 Treatment": "f",
         "Query Hypothyroid": "f",
         "Query Hyperthyroid": "f",
         "Lithium": "f",
         "Goiter": "f",
         "Tumor": "f",
         "Hypopituitary": "f",
         "Psych": "f",
         "TSH Measured": "f",
         "TSH": "?",
         "T3 Measured": "f",
         "T3": "?",
         "TT4 Measured": "t",
         "TT4": "72",
         "T4U Measured": "t",
         "T4U": "0.92",
         "FTI Measured": "t",
         "FTI": "78",
         "TBG Measured": "f",
         "TBG": "?",
         "Referral Source": "other",
         "Class ": "negative.|1595",
         "_deepnote_index_column": 6
        },
        {
         "Age": "80",
         "Sex": "F",
         "On Thyroxine": "f",
         "Query on Thyroxine": "f",
         "On Antithyroid Medication": "f",
         "Sick": "f",
         "Pregnant": "f",
         "Thyroid Surgery": "f",
         "I131 Treatment": "f",
         "Query Hypothyroid": "f",
         "Query Hyperthyroid": "f",
         "Lithium": "f",
         "Goiter": "f",
         "Tumor": "f",
         "Hypopituitary": "f",
         "Psych": "f",
         "TSH Measured": "t",
         "TSH": "2.2",
         "T3 Measured": "t",
         "T3": "0.6",
         "TT4 Measured": "t",
         "TT4": "80",
         "T4U Measured": "t",
         "T4U": "0.7",
         "FTI Measured": "t",
         "FTI": "115",
         "TBG Measured": "f",
         "TBG": "?",
         "Referral Source": "SVI",
         "Class ": "negative.|1367",
         "_deepnote_index_column": 7
        },
        {
         "Age": "66",
         "Sex": "F",
         "On Thyroxine": "f",
         "Query on Thyroxine": "f",
         "On Antithyroid Medication": "f",
         "Sick": "f",
         "Pregnant": "f",
         "Thyroid Surgery": "f",
         "I131 Treatment": "f",
         "Query Hypothyroid": "f",
         "Query Hyperthyroid": "f",
         "Lithium": "f",
         "Goiter": "f",
         "Tumor": "t",
         "Hypopituitary": "f",
         "Psych": "f",
         "TSH Measured": "t",
         "TSH": "0.6",
         "T3 Measured": "t",
         "T3": "2.2",
         "TT4 Measured": "t",
         "TT4": "123",
         "T4U Measured": "t",
         "T4U": "0.93",
         "FTI Measured": "t",
         "FTI": "132",
         "TBG Measured": "f",
         "TBG": "?",
         "Referral Source": "SVI",
         "Class ": "negative.|1787",
         "_deepnote_index_column": 8
        },
        {
         "Age": "68",
         "Sex": "M",
         "On Thyroxine": "f",
         "Query on Thyroxine": "f",
         "On Antithyroid Medication": "f",
         "Sick": "f",
         "Pregnant": "f",
         "Thyroid Surgery": "f",
         "I131 Treatment": "f",
         "Query Hypothyroid": "f",
         "Query Hyperthyroid": "f",
         "Lithium": "f",
         "Goiter": "f",
         "Tumor": "f",
         "Hypopituitary": "f",
         "Psych": "f",
         "TSH Measured": "t",
         "TSH": "2.4",
         "T3 Measured": "t",
         "T3": "1.6",
         "TT4 Measured": "t",
         "TT4": "83",
         "T4U Measured": "t",
         "T4U": "0.89",
         "FTI Measured": "t",
         "FTI": "93",
         "TBG Measured": "f",
         "TBG": "?",
         "Referral Source": "SVI",
         "Class ": "negative.|2534",
         "_deepnote_index_column": 9
        }
       ]
      },
      "text/plain": "   Age Sex On Thyroxine Query on Thyroxine On Antithyroid Medication Sick  \\\n0   41   F            f                  f                         f    f   \n1   23   F            f                  f                         f    f   \n2   46   M            f                  f                         f    f   \n3   70   F            t                  f                         f    f   \n4   70   F            f                  f                         f    f   \n5   18   F            t                  f                         f    f   \n6   59   F            f                  f                         f    f   \n7   80   F            f                  f                         f    f   \n8   66   F            f                  f                         f    f   \n9   68   M            f                  f                         f    f   \n10  84   F            f                  f                         f    f   \n11  67   F            t                  f                         f    f   \n12  71   F            f                  f                         f    t   \n13  59   F            f                  f                         f    f   \n14  28   M            f                  f                         f    f   \n15  65   F            f                  f                         f    f   \n16  42   ?            f                  f                         f    f   \n17  63   F            f                  f                         f    f   \n18  80   F            f                  f                         f    f   \n19  28   M            f                  f                         f    f   \n\n   Pregnant Thyroid Surgery I131 Treatment Query Hypothyroid  ...  \\\n0         f               f              f                 f  ...   \n1         f               f              f                 f  ...   \n2         f               f              f                 f  ...   \n3         f               f              f                 f  ...   \n4         f               f              f                 f  ...   \n5         f               f              f                 f  ...   \n6         f               f              f                 f  ...   \n7         f               f              f                 f  ...   \n8         f               f              f                 f  ...   \n9         f               f              f                 f  ...   \n10        f               f              f                 f  ...   \n11        f               f              f                 f  ...   \n12        f               f              f                 f  ...   \n13        f               f              f                 f  ...   \n14        f               f              f                 f  ...   \n15        f               f              f                 t  ...   \n16        f               f              f                 f  ...   \n17        f               f              f                 f  ...   \n18        f               f              f                 f  ...   \n19        f               f              f                 f  ...   \n\n   TT4 Measured  TT4 T4U Measured   T4U FTI Measured  FTI TBG Measured TBG  \\\n0             t  125            t  1.14            t  109            f   ?   \n1             t  102            f     ?            f    ?            f   ?   \n2             t  109            t  0.91            t  120            f   ?   \n3             t  175            f     ?            f    ?            f   ?   \n4             t   61            t  0.87            t   70            f   ?   \n5             t  183            t   1.3            t  141            f   ?   \n6             t   72            t  0.92            t   78            f   ?   \n7             t   80            t   0.7            t  115            f   ?   \n8             t  123            t  0.93            t  132            f   ?   \n9             t   83            t  0.89            t   93            f   ?   \n10            t  115            t  0.95            t  121            f   ?   \n11            t  152            t  0.99            t  153            f   ?   \n12            t  171            t  1.13            t  151            f   ?   \n13            t   97            t  0.91            t  107            f   ?   \n14            t  109            t  0.91            t  119            f   ?   \n15            t   99            t  1.14            t   87            f   ?   \n16            t   70            t  0.86            t   81            f   ?   \n17            t  117            t  0.96            t  121            f   ?   \n18            t   99            t  0.95            t  104            f   ?   \n19            t  121            t  0.94            t  130            f   ?   \n\n   Referral Source                         Class   \n0             SVHC                 negative.|3733  \n1            other                 negative.|1442  \n2            other                 negative.|2965  \n3            other                  negative.|806  \n4              SVI                 negative.|2807  \n5            other                 negative.|3434  \n6            other                 negative.|1595  \n7              SVI                 negative.|1367  \n8              SVI                 negative.|1787  \n9              SVI                 negative.|2534  \n10             SVI                 negative.|1485  \n11           other                 negative.|3448  \n12           other                 negative.|1027  \n13             SVI                 negative.|3331  \n14            SVHC                 negative.|2043  \n15           other  compensated hypothyroid.|3169  \n16           other                 negative.|2755  \n17             SVI                 negative.|1010  \n18             SVI                  negative.|803  \n19            SVHC                 negative.|2297  \n\n[20 rows x 30 columns]",
      "text/html": "<div>\n<style scoped>\n    .dataframe tbody tr th:only-of-type {\n        vertical-align: middle;\n    }\n\n    .dataframe tbody tr th {\n        vertical-align: top;\n    }\n\n    .dataframe thead th {\n        text-align: right;\n    }\n</style>\n<table border=\"1\" class=\"dataframe\">\n  <thead>\n    <tr style=\"text-align: right;\">\n      <th></th>\n      <th>Age</th>\n      <th>Sex</th>\n      <th>On Thyroxine</th>\n      <th>Query on Thyroxine</th>\n      <th>On Antithyroid Medication</th>\n      <th>Sick</th>\n      <th>Pregnant</th>\n      <th>Thyroid Surgery</th>\n      <th>I131 Treatment</th>\n      <th>Query Hypothyroid</th>\n      <th>...</th>\n      <th>TT4 Measured</th>\n      <th>TT4</th>\n      <th>T4U Measured</th>\n      <th>T4U</th>\n      <th>FTI Measured</th>\n      <th>FTI</th>\n      <th>TBG Measured</th>\n      <th>TBG</th>\n      <th>Referral Source</th>\n      <th>Class</th>\n    </tr>\n  </thead>\n  <tbody>\n    <tr>\n      <th>0</th>\n      <td>41</td>\n      <td>F</td>\n      <td>f</td>\n      <td>f</td>\n      <td>f</td>\n      <td>f</td>\n      <td>f</td>\n      <td>f</td>\n      <td>f</td>\n      <td>f</td>\n      <td>...</td>\n      <td>t</td>\n      <td>125</td>\n      <td>t</td>\n      <td>1.14</td>\n      <td>t</td>\n      <td>109</td>\n      <td>f</td>\n      <td>?</td>\n      <td>SVHC</td>\n      <td>negative.|3733</td>\n    </tr>\n    <tr>\n      <th>1</th>\n      <td>23</td>\n      <td>F</td>\n      <td>f</td>\n      <td>f</td>\n      <td>f</td>\n      <td>f</td>\n      <td>f</td>\n      <td>f</td>\n      <td>f</td>\n      <td>f</td>\n      <td>...</td>\n      <td>t</td>\n      <td>102</td>\n      <td>f</td>\n      <td>?</td>\n      <td>f</td>\n      <td>?</td>\n      <td>f</td>\n      <td>?</td>\n      <td>other</td>\n      <td>negative.|1442</td>\n    </tr>\n    <tr>\n      <th>2</th>\n      <td>46</td>\n      <td>M</td>\n      <td>f</td>\n      <td>f</td>\n      <td>f</td>\n      <td>f</td>\n      <td>f</td>\n      <td>f</td>\n      <td>f</td>\n      <td>f</td>\n      <td>...</td>\n      <td>t</td>\n      <td>109</td>\n      <td>t</td>\n      <td>0.91</td>\n      <td>t</td>\n      <td>120</td>\n      <td>f</td>\n      <td>?</td>\n      <td>other</td>\n      <td>negative.|2965</td>\n    </tr>\n    <tr>\n      <th>3</th>\n      <td>70</td>\n      <td>F</td>\n      <td>t</td>\n      <td>f</td>\n      <td>f</td>\n      <td>f</td>\n      <td>f</td>\n      <td>f</td>\n      <td>f</td>\n      <td>f</td>\n      <td>...</td>\n      <td>t</td>\n      <td>175</td>\n      <td>f</td>\n      <td>?</td>\n      <td>f</td>\n      <td>?</td>\n      <td>f</td>\n      <td>?</td>\n      <td>other</td>\n      <td>negative.|806</td>\n    </tr>\n    <tr>\n      <th>4</th>\n      <td>70</td>\n      <td>F</td>\n      <td>f</td>\n      <td>f</td>\n      <td>f</td>\n      <td>f</td>\n      <td>f</td>\n      <td>f</td>\n      <td>f</td>\n      <td>f</td>\n      <td>...</td>\n      <td>t</td>\n      <td>61</td>\n      <td>t</td>\n      <td>0.87</td>\n      <td>t</td>\n      <td>70</td>\n      <td>f</td>\n      <td>?</td>\n      <td>SVI</td>\n      <td>negative.|2807</td>\n    </tr>\n    <tr>\n      <th>5</th>\n      <td>18</td>\n      <td>F</td>\n      <td>t</td>\n      <td>f</td>\n      <td>f</td>\n      <td>f</td>\n      <td>f</td>\n      <td>f</td>\n      <td>f</td>\n      <td>f</td>\n      <td>...</td>\n      <td>t</td>\n      <td>183</td>\n      <td>t</td>\n      <td>1.3</td>\n      <td>t</td>\n      <td>141</td>\n      <td>f</td>\n      <td>?</td>\n      <td>other</td>\n      <td>negative.|3434</td>\n    </tr>\n    <tr>\n      <th>6</th>\n      <td>59</td>\n      <td>F</td>\n      <td>f</td>\n      <td>f</td>\n      <td>f</td>\n      <td>f</td>\n      <td>f</td>\n      <td>f</td>\n      <td>f</td>\n      <td>f</td>\n      <td>...</td>\n      <td>t</td>\n      <td>72</td>\n      <td>t</td>\n      <td>0.92</td>\n      <td>t</td>\n      <td>78</td>\n      <td>f</td>\n      <td>?</td>\n      <td>other</td>\n      <td>negative.|1595</td>\n    </tr>\n    <tr>\n      <th>7</th>\n      <td>80</td>\n      <td>F</td>\n      <td>f</td>\n      <td>f</td>\n      <td>f</td>\n      <td>f</td>\n      <td>f</td>\n      <td>f</td>\n      <td>f</td>\n      <td>f</td>\n      <td>...</td>\n      <td>t</td>\n      <td>80</td>\n      <td>t</td>\n      <td>0.7</td>\n      <td>t</td>\n      <td>115</td>\n      <td>f</td>\n      <td>?</td>\n      <td>SVI</td>\n      <td>negative.|1367</td>\n    </tr>\n    <tr>\n      <th>8</th>\n      <td>66</td>\n      <td>F</td>\n      <td>f</td>\n      <td>f</td>\n      <td>f</td>\n      <td>f</td>\n      <td>f</td>\n      <td>f</td>\n      <td>f</td>\n      <td>f</td>\n      <td>...</td>\n      <td>t</td>\n      <td>123</td>\n      <td>t</td>\n      <td>0.93</td>\n      <td>t</td>\n      <td>132</td>\n      <td>f</td>\n      <td>?</td>\n      <td>SVI</td>\n      <td>negative.|1787</td>\n    </tr>\n    <tr>\n      <th>9</th>\n      <td>68</td>\n      <td>M</td>\n      <td>f</td>\n      <td>f</td>\n      <td>f</td>\n      <td>f</td>\n      <td>f</td>\n      <td>f</td>\n      <td>f</td>\n      <td>f</td>\n      <td>...</td>\n      <td>t</td>\n      <td>83</td>\n      <td>t</td>\n      <td>0.89</td>\n      <td>t</td>\n      <td>93</td>\n      <td>f</td>\n      <td>?</td>\n      <td>SVI</td>\n      <td>negative.|2534</td>\n    </tr>\n    <tr>\n      <th>10</th>\n      <td>84</td>\n      <td>F</td>\n      <td>f</td>\n      <td>f</td>\n      <td>f</td>\n      <td>f</td>\n      <td>f</td>\n      <td>f</td>\n      <td>f</td>\n      <td>f</td>\n      <td>...</td>\n      <td>t</td>\n      <td>115</td>\n      <td>t</td>\n      <td>0.95</td>\n      <td>t</td>\n      <td>121</td>\n      <td>f</td>\n      <td>?</td>\n      <td>SVI</td>\n      <td>negative.|1485</td>\n    </tr>\n    <tr>\n      <th>11</th>\n      <td>67</td>\n      <td>F</td>\n      <td>t</td>\n      <td>f</td>\n      <td>f</td>\n      <td>f</td>\n      <td>f</td>\n      <td>f</td>\n      <td>f</td>\n      <td>f</td>\n      <td>...</td>\n      <td>t</td>\n      <td>152</td>\n      <td>t</td>\n      <td>0.99</td>\n      <td>t</td>\n      <td>153</td>\n      <td>f</td>\n      <td>?</td>\n      <td>other</td>\n      <td>negative.|3448</td>\n    </tr>\n    <tr>\n      <th>12</th>\n      <td>71</td>\n      <td>F</td>\n      <td>f</td>\n      <td>f</td>\n      <td>f</td>\n      <td>t</td>\n      <td>f</td>\n      <td>f</td>\n      <td>f</td>\n      <td>f</td>\n      <td>...</td>\n      <td>t</td>\n      <td>171</td>\n      <td>t</td>\n      <td>1.13</td>\n      <td>t</td>\n      <td>151</td>\n      <td>f</td>\n      <td>?</td>\n      <td>other</td>\n      <td>negative.|1027</td>\n    </tr>\n    <tr>\n      <th>13</th>\n      <td>59</td>\n      <td>F</td>\n      <td>f</td>\n      <td>f</td>\n      <td>f</td>\n      <td>f</td>\n      <td>f</td>\n      <td>f</td>\n      <td>f</td>\n      <td>f</td>\n      <td>...</td>\n      <td>t</td>\n      <td>97</td>\n      <td>t</td>\n      <td>0.91</td>\n      <td>t</td>\n      <td>107</td>\n      <td>f</td>\n      <td>?</td>\n      <td>SVI</td>\n      <td>negative.|3331</td>\n    </tr>\n    <tr>\n      <th>14</th>\n      <td>28</td>\n      <td>M</td>\n      <td>f</td>\n      <td>f</td>\n      <td>f</td>\n      <td>f</td>\n      <td>f</td>\n      <td>f</td>\n      <td>f</td>\n      <td>f</td>\n      <td>...</td>\n      <td>t</td>\n      <td>109</td>\n      <td>t</td>\n      <td>0.91</td>\n      <td>t</td>\n      <td>119</td>\n      <td>f</td>\n      <td>?</td>\n      <td>SVHC</td>\n      <td>negative.|2043</td>\n    </tr>\n    <tr>\n      <th>15</th>\n      <td>65</td>\n      <td>F</td>\n      <td>f</td>\n      <td>f</td>\n      <td>f</td>\n      <td>f</td>\n      <td>f</td>\n      <td>f</td>\n      <td>f</td>\n      <td>t</td>\n      <td>...</td>\n      <td>t</td>\n      <td>99</td>\n      <td>t</td>\n      <td>1.14</td>\n      <td>t</td>\n      <td>87</td>\n      <td>f</td>\n      <td>?</td>\n      <td>other</td>\n      <td>compensated hypothyroid.|3169</td>\n    </tr>\n    <tr>\n      <th>16</th>\n      <td>42</td>\n      <td>?</td>\n      <td>f</td>\n      <td>f</td>\n      <td>f</td>\n      <td>f</td>\n      <td>f</td>\n      <td>f</td>\n      <td>f</td>\n      <td>f</td>\n      <td>...</td>\n      <td>t</td>\n      <td>70</td>\n      <td>t</td>\n      <td>0.86</td>\n      <td>t</td>\n      <td>81</td>\n      <td>f</td>\n      <td>?</td>\n      <td>other</td>\n      <td>negative.|2755</td>\n    </tr>\n    <tr>\n      <th>17</th>\n      <td>63</td>\n      <td>F</td>\n      <td>f</td>\n      <td>f</td>\n      <td>f</td>\n      <td>f</td>\n      <td>f</td>\n      <td>f</td>\n      <td>f</td>\n      <td>f</td>\n      <td>...</td>\n      <td>t</td>\n      <td>117</td>\n      <td>t</td>\n      <td>0.96</td>\n      <td>t</td>\n      <td>121</td>\n      <td>f</td>\n      <td>?</td>\n      <td>SVI</td>\n      <td>negative.|1010</td>\n    </tr>\n    <tr>\n      <th>18</th>\n      <td>80</td>\n      <td>F</td>\n      <td>f</td>\n      <td>f</td>\n      <td>f</td>\n      <td>f</td>\n      <td>f</td>\n      <td>f</td>\n      <td>f</td>\n      <td>f</td>\n      <td>...</td>\n      <td>t</td>\n      <td>99</td>\n      <td>t</td>\n      <td>0.95</td>\n      <td>t</td>\n      <td>104</td>\n      <td>f</td>\n      <td>?</td>\n      <td>SVI</td>\n      <td>negative.|803</td>\n    </tr>\n    <tr>\n      <th>19</th>\n      <td>28</td>\n      <td>M</td>\n      <td>f</td>\n      <td>f</td>\n      <td>f</td>\n      <td>f</td>\n      <td>f</td>\n      <td>f</td>\n      <td>f</td>\n      <td>f</td>\n      <td>...</td>\n      <td>t</td>\n      <td>121</td>\n      <td>t</td>\n      <td>0.94</td>\n      <td>t</td>\n      <td>130</td>\n      <td>f</td>\n      <td>?</td>\n      <td>SVHC</td>\n      <td>negative.|2297</td>\n    </tr>\n  </tbody>\n</table>\n<p>20 rows × 30 columns</p>\n</div>"
     },
     "metadata": {}
    }
   ]
  },
  {
   "cell_type": "code",
   "metadata": {
    "tags": [],
    "cell_id": "00005-be250d89-6f37-46bc-95df-9c79159d1b21",
    "deepnote_to_be_reexecuted": false,
    "source_hash": "efbbfa43",
    "execution_start": 1657921462135,
    "execution_millis": 0,
    "deepnote_cell_type": "code",
    "deepnote_cell_height": 81
   },
   "source": "dataset.columns = ['Age', 'Sex', 'On Thyroxine', 'Query on Thyroxine', 'On Antithyroid Medication', 'Sick', 'Pregnant', 'Thyroid Surgery', 'I131 Treatment', 'Query Hypothyroid', 'Query Hyperthyroid', 'Lithium', 'Goiter', 'Tumor', 'Hypopituitary', 'Psych', 'TSH Measured', 'TSH', 'T3 Measured', 'T3', 'TT4 Measured', 'TT4', 'T4U Measured', 'T4U', 'FTI Measured', 'FTI', 'TBG Measured', 'TBG', 'Referral Source', 'Class']",
   "execution_count": null,
   "outputs": []
  },
  {
   "cell_type": "markdown",
   "source": "Great, looks like the data loaded in properly. Let's continue looking at some summary statistics on our data.",
   "metadata": {
    "colab_type": "text",
    "id": "tYhtoqdR6Y3J",
    "cell_id": "00005-f0353135-7fee-4c88-96f3-1874b7fd9b18",
    "deepnote_cell_type": "markdown",
    "deepnote_cell_height": 52.390625
   }
  },
  {
   "cell_type": "markdown",
   "source": "## Viewing summary statistics\nThe functions describe() and info() are your friends",
   "metadata": {
    "colab_type": "text",
    "id": "sGKbG-eBqBjF",
    "cell_id": "00006-86706ee1-5d51-44f9-847b-471d75f7193c",
    "deepnote_cell_type": "markdown",
    "deepnote_cell_height": 108.390625
   }
  },
  {
   "cell_type": "code",
   "metadata": {
    "colab": {
     "autoexec": {
      "startup": false,
      "wait_interval": 0
     }
    },
    "colab_type": "code",
    "id": "rnp3nN9b6ZNw",
    "cell_id": "00007-6c5d1792-60ac-4055-a37e-481025d882bf",
    "deepnote_to_be_reexecuted": false,
    "source_hash": "f5acf3f1",
    "execution_start": 1657921462137,
    "execution_millis": 150,
    "deepnote_cell_type": "code",
    "deepnote_cell_height": 389
   },
   "source": "# output high-level column statistics\ndataset.describe()",
   "execution_count": null,
   "outputs": [
    {
     "output_type": "execute_result",
     "execution_count": 3,
     "data": {
      "application/vnd.deepnote.dataframe.v3+json": {
       "column_count": 30,
       "row_count": 4,
       "columns": [
        {
         "name": "Age",
         "dtype": "object",
         "stats": {
          "unique_count": 4,
          "nan_count": 0,
          "categories": [
           {
            "name": "2800",
            "count": 1
           },
           {
            "name": "94",
            "count": 1
           },
           {
            "name": "2 others",
            "count": 2
           }
          ]
         }
        },
        {
         "name": "Sex",
         "dtype": "object",
         "stats": {
          "unique_count": 4,
          "nan_count": 0,
          "categories": [
           {
            "name": "2800",
            "count": 1
           },
           {
            "name": "3",
            "count": 1
           },
           {
            "name": "2 others",
            "count": 2
           }
          ]
         }
        },
        {
         "name": "On Thyroxine",
         "dtype": "object",
         "stats": {
          "unique_count": 4,
          "nan_count": 0,
          "categories": [
           {
            "name": "2800",
            "count": 1
           },
           {
            "name": "2",
            "count": 1
           },
           {
            "name": "2 others",
            "count": 2
           }
          ]
         }
        },
        {
         "name": "Query on Thyroxine",
         "dtype": "object",
         "stats": {
          "unique_count": 4,
          "nan_count": 0,
          "categories": [
           {
            "name": "2800",
            "count": 1
           },
           {
            "name": "2",
            "count": 1
           },
           {
            "name": "2 others",
            "count": 2
           }
          ]
         }
        },
        {
         "name": "On Antithyroid Medication",
         "dtype": "object",
         "stats": {
          "unique_count": 4,
          "nan_count": 0,
          "categories": [
           {
            "name": "2800",
            "count": 1
           },
           {
            "name": "2",
            "count": 1
           },
           {
            "name": "2 others",
            "count": 2
           }
          ]
         }
        },
        {
         "name": "Sick",
         "dtype": "object",
         "stats": {
          "unique_count": 4,
          "nan_count": 0,
          "categories": [
           {
            "name": "2800",
            "count": 1
           },
           {
            "name": "2",
            "count": 1
           },
           {
            "name": "2 others",
            "count": 2
           }
          ]
         }
        },
        {
         "name": "Pregnant",
         "dtype": "object",
         "stats": {
          "unique_count": 4,
          "nan_count": 0,
          "categories": [
           {
            "name": "2800",
            "count": 1
           },
           {
            "name": "2",
            "count": 1
           },
           {
            "name": "2 others",
            "count": 2
           }
          ]
         }
        },
        {
         "name": "Thyroid Surgery",
         "dtype": "object",
         "stats": {
          "unique_count": 4,
          "nan_count": 0,
          "categories": [
           {
            "name": "2800",
            "count": 1
           },
           {
            "name": "2",
            "count": 1
           },
           {
            "name": "2 others",
            "count": 2
           }
          ]
         }
        },
        {
         "name": "I131 Treatment",
         "dtype": "object",
         "stats": {
          "unique_count": 4,
          "nan_count": 0,
          "categories": [
           {
            "name": "2800",
            "count": 1
           },
           {
            "name": "2",
            "count": 1
           },
           {
            "name": "2 others",
            "count": 2
           }
          ]
         }
        },
        {
         "name": "Query Hypothyroid",
         "dtype": "object",
         "stats": {
          "unique_count": 4,
          "nan_count": 0,
          "categories": [
           {
            "name": "2800",
            "count": 1
           },
           {
            "name": "2",
            "count": 1
           },
           {
            "name": "2 others",
            "count": 2
           }
          ]
         }
        },
        {
         "name": "Query Hyperthyroid",
         "dtype": "object",
         "stats": {
          "unique_count": 4,
          "nan_count": 0,
          "categories": [
           {
            "name": "2800",
            "count": 1
           },
           {
            "name": "2",
            "count": 1
           },
           {
            "name": "2 others",
            "count": 2
           }
          ]
         }
        },
        {
         "name": "Lithium",
         "dtype": "object",
         "stats": {
          "unique_count": 4,
          "nan_count": 0,
          "categories": [
           {
            "name": "2800",
            "count": 1
           },
           {
            "name": "2",
            "count": 1
           },
           {
            "name": "2 others",
            "count": 2
           }
          ]
         }
        },
        {
         "name": "Goiter",
         "dtype": "object",
         "stats": {
          "unique_count": 4,
          "nan_count": 0,
          "categories": [
           {
            "name": "2800",
            "count": 1
           },
           {
            "name": "2",
            "count": 1
           },
           {
            "name": "2 others",
            "count": 2
           }
          ]
         }
        },
        {
         "name": "Tumor",
         "dtype": "object",
         "stats": {
          "unique_count": 4,
          "nan_count": 0,
          "categories": [
           {
            "name": "2800",
            "count": 1
           },
           {
            "name": "2",
            "count": 1
           },
           {
            "name": "2 others",
            "count": 2
           }
          ]
         }
        },
        {
         "name": "Hypopituitary",
         "dtype": "object",
         "stats": {
          "unique_count": 4,
          "nan_count": 0,
          "categories": [
           {
            "name": "2800",
            "count": 1
           },
           {
            "name": "2",
            "count": 1
           },
           {
            "name": "2 others",
            "count": 2
           }
          ]
         }
        },
        {
         "name": "Psych",
         "dtype": "object",
         "stats": {
          "unique_count": 4,
          "nan_count": 0,
          "categories": [
           {
            "name": "2800",
            "count": 1
           },
           {
            "name": "2",
            "count": 1
           },
           {
            "name": "2 others",
            "count": 2
           }
          ]
         }
        },
        {
         "name": "TSH Measured",
         "dtype": "object",
         "stats": {
          "unique_count": 4,
          "nan_count": 0,
          "categories": [
           {
            "name": "2800",
            "count": 1
           },
           {
            "name": "2",
            "count": 1
           },
           {
            "name": "2 others",
            "count": 2
           }
          ]
         }
        },
        {
         "name": "TSH",
         "dtype": "object",
         "stats": {
          "unique_count": 4,
          "nan_count": 0,
          "categories": [
           {
            "name": "2800",
            "count": 1
           },
           {
            "name": "264",
            "count": 1
           },
           {
            "name": "2 others",
            "count": 2
           }
          ]
         }
        },
        {
         "name": "T3 Measured",
         "dtype": "object",
         "stats": {
          "unique_count": 4,
          "nan_count": 0,
          "categories": [
           {
            "name": "2800",
            "count": 1
           },
           {
            "name": "2",
            "count": 1
           },
           {
            "name": "2 others",
            "count": 2
           }
          ]
         }
        },
        {
         "name": "T3",
         "dtype": "object",
         "stats": {
          "unique_count": 4,
          "nan_count": 0,
          "categories": [
           {
            "name": "2800",
            "count": 1
           },
           {
            "name": "65",
            "count": 1
           },
           {
            "name": "2 others",
            "count": 2
           }
          ]
         }
        },
        {
         "name": "TT4 Measured",
         "dtype": "object",
         "stats": {
          "unique_count": 4,
          "nan_count": 0,
          "categories": [
           {
            "name": "2800",
            "count": 1
           },
           {
            "name": "2",
            "count": 1
           },
           {
            "name": "2 others",
            "count": 2
           }
          ]
         }
        },
        {
         "name": "TT4",
         "dtype": "object",
         "stats": {
          "unique_count": 4,
          "nan_count": 0,
          "categories": [
           {
            "name": "2800",
            "count": 1
           },
           {
            "name": "218",
            "count": 1
           },
           {
            "name": "2 others",
            "count": 2
           }
          ]
         }
        },
        {
         "name": "T4U Measured",
         "dtype": "object",
         "stats": {
          "unique_count": 4,
          "nan_count": 0,
          "categories": [
           {
            "name": "2800",
            "count": 1
           },
           {
            "name": "2",
            "count": 1
           },
           {
            "name": "2 others",
            "count": 2
           }
          ]
         }
        },
        {
         "name": "T4U",
         "dtype": "object",
         "stats": {
          "unique_count": 4,
          "nan_count": 0,
          "categories": [
           {
            "name": "2800",
            "count": 1
           },
           {
            "name": "139",
            "count": 1
           },
           {
            "name": "2 others",
            "count": 2
           }
          ]
         }
        },
        {
         "name": "FTI Measured",
         "dtype": "object",
         "stats": {
          "unique_count": 4,
          "nan_count": 0,
          "categories": [
           {
            "name": "2800",
            "count": 1
           },
           {
            "name": "2",
            "count": 1
           },
           {
            "name": "2 others",
            "count": 2
           }
          ]
         }
        },
        {
         "name": "FTI",
         "dtype": "object",
         "stats": {
          "unique_count": 4,
          "nan_count": 0,
          "categories": [
           {
            "name": "2800",
            "count": 1
           },
           {
            "name": "210",
            "count": 1
           },
           {
            "name": "2 others",
            "count": 2
           }
          ]
         }
        },
        {
         "name": "TBG Measured",
         "dtype": "object",
         "stats": {
          "unique_count": 3,
          "nan_count": 0,
          "categories": [
           {
            "name": "2800",
            "count": 2
           },
           {
            "name": "1",
            "count": 1
           },
           {
            "name": "f",
            "count": 1
           }
          ]
         }
        },
        {
         "name": "TBG",
         "dtype": "object",
         "stats": {
          "unique_count": 3,
          "nan_count": 0,
          "categories": [
           {
            "name": "2800",
            "count": 2
           },
           {
            "name": "1",
            "count": 1
           },
           {
            "name": "?",
            "count": 1
           }
          ]
         }
        },
        {
         "name": "Referral Source",
         "dtype": "object",
         "stats": {
          "unique_count": 4,
          "nan_count": 0,
          "categories": [
           {
            "name": "2800",
            "count": 1
           },
           {
            "name": "5",
            "count": 1
           },
           {
            "name": "2 others",
            "count": 2
           }
          ]
         }
        },
        {
         "name": "Class",
         "dtype": "object",
         "stats": {
          "unique_count": 3,
          "nan_count": 0,
          "categories": [
           {
            "name": "2800",
            "count": 2
           },
           {
            "name": "negative.|949",
            "count": 1
           },
           {
            "name": "1",
            "count": 1
           }
          ]
         }
        },
        {
         "name": "_deepnote_index_column",
         "dtype": "object"
        }
       ],
       "rows": [
        {
         "Age": "2800",
         "Sex": "2800",
         "On Thyroxine": "2800",
         "Query on Thyroxine": "2800",
         "On Antithyroid Medication": "2800",
         "Sick": "2800",
         "Pregnant": "2800",
         "Thyroid Surgery": "2800",
         "I131 Treatment": "2800",
         "Query Hypothyroid": "2800",
         "Query Hyperthyroid": "2800",
         "Lithium": "2800",
         "Goiter": "2800",
         "Tumor": "2800",
         "Hypopituitary": "2800",
         "Psych": "2800",
         "TSH Measured": "2800",
         "TSH": "2800",
         "T3 Measured": "2800",
         "T3": "2800",
         "TT4 Measured": "2800",
         "TT4": "2800",
         "T4U Measured": "2800",
         "T4U": "2800",
         "FTI Measured": "2800",
         "FTI": "2800",
         "TBG Measured": "2800",
         "TBG": "2800",
         "Referral Source": "2800",
         "Class": "2800",
         "_deepnote_index_column": "count"
        },
        {
         "Age": "94",
         "Sex": "3",
         "On Thyroxine": "2",
         "Query on Thyroxine": "2",
         "On Antithyroid Medication": "2",
         "Sick": "2",
         "Pregnant": "2",
         "Thyroid Surgery": "2",
         "I131 Treatment": "2",
         "Query Hypothyroid": "2",
         "Query Hyperthyroid": "2",
         "Lithium": "2",
         "Goiter": "2",
         "Tumor": "2",
         "Hypopituitary": "2",
         "Psych": "2",
         "TSH Measured": "2",
         "TSH": "264",
         "T3 Measured": "2",
         "T3": "65",
         "TT4 Measured": "2",
         "TT4": "218",
         "T4U Measured": "2",
         "T4U": "139",
         "FTI Measured": "2",
         "FTI": "210",
         "TBG Measured": "1",
         "TBG": "1",
         "Referral Source": "5",
         "Class": "2800",
         "_deepnote_index_column": "unique"
        },
        {
         "Age": "59",
         "Sex": "F",
         "On Thyroxine": "f",
         "Query on Thyroxine": "f",
         "On Antithyroid Medication": "f",
         "Sick": "f",
         "Pregnant": "f",
         "Thyroid Surgery": "f",
         "I131 Treatment": "f",
         "Query Hypothyroid": "f",
         "Query Hyperthyroid": "f",
         "Lithium": "f",
         "Goiter": "f",
         "Tumor": "f",
         "Hypopituitary": "f",
         "Psych": "f",
         "TSH Measured": "t",
         "TSH": "?",
         "T3 Measured": "t",
         "T3": "?",
         "TT4 Measured": "t",
         "TT4": "?",
         "T4U Measured": "t",
         "T4U": "?",
         "FTI Measured": "t",
         "FTI": "?",
         "TBG Measured": "f",
         "TBG": "?",
         "Referral Source": "other",
         "Class": "negative.|949",
         "_deepnote_index_column": "top"
        },
        {
         "Age": "75",
         "Sex": "1830",
         "On Thyroxine": "2470",
         "Query on Thyroxine": "2760",
         "On Antithyroid Medication": "2766",
         "Sick": "2690",
         "Pregnant": "2759",
         "Thyroid Surgery": "2761",
         "I131 Treatment": "2752",
         "Query Hypothyroid": "2637",
         "Query Hyperthyroid": "2627",
         "Lithium": "2786",
         "Goiter": "2775",
         "Tumor": "2729",
         "Hypopituitary": "2799",
         "Psych": "2665",
         "TSH Measured": "2516",
         "TSH": "284",
         "T3 Measured": "2215",
         "T3": "585",
         "TT4 Measured": "2616",
         "TT4": "184",
         "T4U Measured": "2503",
         "T4U": "297",
         "FTI Measured": "2505",
         "FTI": "295",
         "TBG Measured": "2800",
         "TBG": "2800",
         "Referral Source": "1632",
         "Class": "1",
         "_deepnote_index_column": "freq"
        }
       ]
      },
      "text/plain": "         Age   Sex On Thyroxine Query on Thyroxine On Antithyroid Medication  \\\ncount   2800  2800         2800               2800                      2800   \nunique    94     3            2                  2                         2   \ntop       59     F            f                  f                         f   \nfreq      75  1830         2470               2760                      2766   \n\n        Sick Pregnant Thyroid Surgery I131 Treatment Query Hypothyroid  ...  \\\ncount   2800     2800            2800           2800              2800  ...   \nunique     2        2               2              2                 2  ...   \ntop        f        f               f              f                 f  ...   \nfreq    2690     2759            2761           2752              2637  ...   \n\n       TT4 Measured   TT4 T4U Measured   T4U FTI Measured   FTI TBG Measured  \\\ncount          2800  2800         2800  2800         2800  2800         2800   \nunique            2   218            2   139            2   210            1   \ntop               t     ?            t     ?            t     ?            f   \nfreq           2616   184         2503   297         2505   295         2800   \n\n         TBG Referral Source          Class  \ncount   2800            2800           2800  \nunique     1               5           2800  \ntop        ?           other  negative.|949  \nfreq    2800            1632              1  \n\n[4 rows x 30 columns]",
      "text/html": "<div>\n<style scoped>\n    .dataframe tbody tr th:only-of-type {\n        vertical-align: middle;\n    }\n\n    .dataframe tbody tr th {\n        vertical-align: top;\n    }\n\n    .dataframe thead th {\n        text-align: right;\n    }\n</style>\n<table border=\"1\" class=\"dataframe\">\n  <thead>\n    <tr style=\"text-align: right;\">\n      <th></th>\n      <th>Age</th>\n      <th>Sex</th>\n      <th>On Thyroxine</th>\n      <th>Query on Thyroxine</th>\n      <th>On Antithyroid Medication</th>\n      <th>Sick</th>\n      <th>Pregnant</th>\n      <th>Thyroid Surgery</th>\n      <th>I131 Treatment</th>\n      <th>Query Hypothyroid</th>\n      <th>...</th>\n      <th>TT4 Measured</th>\n      <th>TT4</th>\n      <th>T4U Measured</th>\n      <th>T4U</th>\n      <th>FTI Measured</th>\n      <th>FTI</th>\n      <th>TBG Measured</th>\n      <th>TBG</th>\n      <th>Referral Source</th>\n      <th>Class</th>\n    </tr>\n  </thead>\n  <tbody>\n    <tr>\n      <th>count</th>\n      <td>2800</td>\n      <td>2800</td>\n      <td>2800</td>\n      <td>2800</td>\n      <td>2800</td>\n      <td>2800</td>\n      <td>2800</td>\n      <td>2800</td>\n      <td>2800</td>\n      <td>2800</td>\n      <td>...</td>\n      <td>2800</td>\n      <td>2800</td>\n      <td>2800</td>\n      <td>2800</td>\n      <td>2800</td>\n      <td>2800</td>\n      <td>2800</td>\n      <td>2800</td>\n      <td>2800</td>\n      <td>2800</td>\n    </tr>\n    <tr>\n      <th>unique</th>\n      <td>94</td>\n      <td>3</td>\n      <td>2</td>\n      <td>2</td>\n      <td>2</td>\n      <td>2</td>\n      <td>2</td>\n      <td>2</td>\n      <td>2</td>\n      <td>2</td>\n      <td>...</td>\n      <td>2</td>\n      <td>218</td>\n      <td>2</td>\n      <td>139</td>\n      <td>2</td>\n      <td>210</td>\n      <td>1</td>\n      <td>1</td>\n      <td>5</td>\n      <td>2800</td>\n    </tr>\n    <tr>\n      <th>top</th>\n      <td>59</td>\n      <td>F</td>\n      <td>f</td>\n      <td>f</td>\n      <td>f</td>\n      <td>f</td>\n      <td>f</td>\n      <td>f</td>\n      <td>f</td>\n      <td>f</td>\n      <td>...</td>\n      <td>t</td>\n      <td>?</td>\n      <td>t</td>\n      <td>?</td>\n      <td>t</td>\n      <td>?</td>\n      <td>f</td>\n      <td>?</td>\n      <td>other</td>\n      <td>negative.|949</td>\n    </tr>\n    <tr>\n      <th>freq</th>\n      <td>75</td>\n      <td>1830</td>\n      <td>2470</td>\n      <td>2760</td>\n      <td>2766</td>\n      <td>2690</td>\n      <td>2759</td>\n      <td>2761</td>\n      <td>2752</td>\n      <td>2637</td>\n      <td>...</td>\n      <td>2616</td>\n      <td>184</td>\n      <td>2503</td>\n      <td>297</td>\n      <td>2505</td>\n      <td>295</td>\n      <td>2800</td>\n      <td>2800</td>\n      <td>1632</td>\n      <td>1</td>\n    </tr>\n  </tbody>\n</table>\n<p>4 rows × 30 columns</p>\n</div>"
     },
     "metadata": {}
    }
   ]
  },
  {
   "cell_type": "code",
   "metadata": {
    "colab": {
     "autoexec": {
      "startup": false,
      "wait_interval": 0
     }
    },
    "colab_type": "code",
    "id": "9QndSspU7lW4",
    "cell_id": "00008-a391e6da-8ee5-454d-a730-ae11b3937f1a",
    "deepnote_to_be_reexecuted": false,
    "source_hash": "ecce977f",
    "execution_start": 1657921462286,
    "execution_millis": 13,
    "deepnote_cell_type": "code",
    "deepnote_cell_height": 719
   },
   "source": "# output information about the data including the index dtype and column dtypes, non-null values and memory usage\ndataset.info()",
   "execution_count": null,
   "outputs": [
    {
     "name": "stdout",
     "text": "<class 'pandas.core.frame.DataFrame'>\nRangeIndex: 2800 entries, 0 to 2799\nData columns (total 30 columns):\n #   Column                     Non-Null Count  Dtype \n---  ------                     --------------  ----- \n 0   Age                        2800 non-null   object\n 1   Sex                        2800 non-null   object\n 2   On Thyroxine               2800 non-null   object\n 3   Query on Thyroxine         2800 non-null   object\n 4   On Antithyroid Medication  2800 non-null   object\n 5   Sick                       2800 non-null   object\n 6   Pregnant                   2800 non-null   object\n 7   Thyroid Surgery            2800 non-null   object\n 8   I131 Treatment             2800 non-null   object\n 9   Query Hypothyroid          2800 non-null   object\n 10  Query Hyperthyroid         2800 non-null   object\n 11  Lithium                    2800 non-null   object\n 12  Goiter                     2800 non-null   object\n 13  Tumor                      2800 non-null   object\n 14  Hypopituitary              2800 non-null   object\n 15  Psych                      2800 non-null   object\n 16  TSH Measured               2800 non-null   object\n 17  TSH                        2800 non-null   object\n 18  T3 Measured                2800 non-null   object\n 19  T3                         2800 non-null   object\n 20  TT4 Measured               2800 non-null   object\n 21  TT4                        2800 non-null   object\n 22  T4U Measured               2800 non-null   object\n 23  T4U                        2800 non-null   object\n 24  FTI Measured               2800 non-null   object\n 25  FTI                        2800 non-null   object\n 26  TBG Measured               2800 non-null   object\n 27  TBG                        2800 non-null   object\n 28  Referral Source            2800 non-null   object\n 29  Class                      2800 non-null   object\ndtypes: object(30)\nmemory usage: 656.4+ KB\n",
     "output_type": "stream"
    }
   ]
  },
  {
   "cell_type": "markdown",
   "source": "Note the data types are all objects--even columns that are obviously numeric like Age. This is because there are \"?\" values for some of the cells, making pandas interpret these columns as non-null objects (instead of int, for example).",
   "metadata": {
    "colab_type": "text",
    "id": "olpFokrp8AIH",
    "cell_id": "00009-78093fca-671c-43cb-93cf-b2669de1b5e2",
    "deepnote_cell_type": "markdown",
    "deepnote_cell_height": 74.78125
   }
  },
  {
   "cell_type": "markdown",
   "source": "## Data cleaning",
   "metadata": {
    "colab_type": "text",
    "id": "0emOppVyqQS9",
    "cell_id": "00010-dfb76c7b-2af8-4815-abbf-b1f890b8dc2c",
    "deepnote_cell_type": "markdown",
    "deepnote_cell_height": 70
   }
  },
  {
   "cell_type": "markdown",
   "source": "To start, let's make all the numerical columns contain the correct type of values and change the data type of those columns to numeric. Let's also replace all those question marks with the median of the respective column.\n\nHint: To make it easier, first try converting all the \"?\" to NaN.",
   "metadata": {
    "colab_type": "text",
    "id": "ZRQpnByEWrcx",
    "cell_id": "00011-fdede008-a1e0-4f04-a098-0a4066a990bb",
    "deepnote_cell_type": "markdown",
    "deepnote_cell_height": 111.171875
   }
  },
  {
   "cell_type": "code",
   "metadata": {
    "colab": {
     "autoexec": {
      "startup": false,
      "wait_interval": 0
     }
    },
    "colab_type": "code",
    "id": "BlTsaK5n5Bg1",
    "cell_id": "00012-5ad45718-f562-44fa-af92-c8cac4c9cf5e",
    "deepnote_to_be_reexecuted": false,
    "source_hash": "93a571c9",
    "execution_start": 1657921462350,
    "execution_millis": 92,
    "deepnote_cell_type": "code",
    "deepnote_cell_height": 885.375
   },
   "source": "import numpy as np\n\nnumeric_columns = [\"Age\",\"TSH\",\"T3\",\"TT4\",\"T4U\",\"FTI\"]\ncategorical_columns = list(set(dataset.columns)-set(numeric_columns)-set(['Class']))\n\ndataset[dataset=='?'] = np.nan\ndataset[numeric_columns] = dataset[numeric_columns].apply(po.to_numeric)\n\nprint('Categorical Columns: ', categorical_columns)\nprint('Numerical Columns: ', numeric_columns)\n\ndataset.head(10)",
   "execution_count": null,
   "outputs": [
    {
     "name": "stdout",
     "text": "Categorical Columns:  ['Sick', 'I131 Treatment', 'TT4 Measured', 'Query Hyperthyroid', 'Query Hypothyroid', 'T3 Measured', 'Goiter', 'On Thyroxine', 'On Antithyroid Medication', 'Pregnant', 'TBG', 'Sex', 'Psych', 'Tumor', 'TBG Measured', 'Thyroid Surgery', 'TSH Measured', 'Referral Source', 'Lithium', 'Hypopituitary', 'T4U Measured', 'Query on Thyroxine', 'FTI Measured']\nNumerical Columns:  ['Age', 'TSH', 'T3', 'TT4', 'T4U', 'FTI']\n",
     "output_type": "stream"
    },
    {
     "output_type": "execute_result",
     "execution_count": 5,
     "data": {
      "application/vnd.deepnote.dataframe.v3+json": {
       "column_count": 30,
       "row_count": 10,
       "columns": [
        {
         "name": "Age",
         "dtype": "float64",
         "stats": {
          "unique_count": 9,
          "nan_count": 0,
          "min": "18.0",
          "max": "80.0",
          "histogram": [
           {
            "bin_start": 18,
            "bin_end": 24.2,
            "count": 2
           },
           {
            "bin_start": 24.2,
            "bin_end": 30.4,
            "count": 0
           },
           {
            "bin_start": 30.4,
            "bin_end": 36.6,
            "count": 0
           },
           {
            "bin_start": 36.6,
            "bin_end": 42.8,
            "count": 1
           },
           {
            "bin_start": 42.8,
            "bin_end": 49,
            "count": 1
           },
           {
            "bin_start": 49,
            "bin_end": 55.2,
            "count": 0
           },
           {
            "bin_start": 55.2,
            "bin_end": 61.4,
            "count": 1
           },
           {
            "bin_start": 61.4,
            "bin_end": 67.6,
            "count": 1
           },
           {
            "bin_start": 67.6,
            "bin_end": 73.80000000000001,
            "count": 3
           },
           {
            "bin_start": 73.80000000000001,
            "bin_end": 80,
            "count": 1
           }
          ]
         }
        },
        {
         "name": "Sex",
         "dtype": "object",
         "stats": {
          "unique_count": 2,
          "nan_count": 0,
          "categories": [
           {
            "name": "F",
            "count": 8
           },
           {
            "name": "M",
            "count": 2
           }
          ]
         }
        },
        {
         "name": "On Thyroxine",
         "dtype": "object",
         "stats": {
          "unique_count": 2,
          "nan_count": 0,
          "categories": [
           {
            "name": "f",
            "count": 8
           },
           {
            "name": "t",
            "count": 2
           }
          ]
         }
        },
        {
         "name": "Query on Thyroxine",
         "dtype": "object",
         "stats": {
          "unique_count": 1,
          "nan_count": 0,
          "categories": [
           {
            "name": "f",
            "count": 10
           }
          ]
         }
        },
        {
         "name": "On Antithyroid Medication",
         "dtype": "object",
         "stats": {
          "unique_count": 1,
          "nan_count": 0,
          "categories": [
           {
            "name": "f",
            "count": 10
           }
          ]
         }
        },
        {
         "name": "Sick",
         "dtype": "object",
         "stats": {
          "unique_count": 1,
          "nan_count": 0,
          "categories": [
           {
            "name": "f",
            "count": 10
           }
          ]
         }
        },
        {
         "name": "Pregnant",
         "dtype": "object",
         "stats": {
          "unique_count": 1,
          "nan_count": 0,
          "categories": [
           {
            "name": "f",
            "count": 10
           }
          ]
         }
        },
        {
         "name": "Thyroid Surgery",
         "dtype": "object",
         "stats": {
          "unique_count": 1,
          "nan_count": 0,
          "categories": [
           {
            "name": "f",
            "count": 10
           }
          ]
         }
        },
        {
         "name": "I131 Treatment",
         "dtype": "object",
         "stats": {
          "unique_count": 1,
          "nan_count": 0,
          "categories": [
           {
            "name": "f",
            "count": 10
           }
          ]
         }
        },
        {
         "name": "Query Hypothyroid",
         "dtype": "object",
         "stats": {
          "unique_count": 1,
          "nan_count": 0,
          "categories": [
           {
            "name": "f",
            "count": 10
           }
          ]
         }
        },
        {
         "name": "Query Hyperthyroid",
         "dtype": "object",
         "stats": {
          "unique_count": 1,
          "nan_count": 0,
          "categories": [
           {
            "name": "f",
            "count": 10
           }
          ]
         }
        },
        {
         "name": "Lithium",
         "dtype": "object",
         "stats": {
          "unique_count": 1,
          "nan_count": 0,
          "categories": [
           {
            "name": "f",
            "count": 10
           }
          ]
         }
        },
        {
         "name": "Goiter",
         "dtype": "object",
         "stats": {
          "unique_count": 1,
          "nan_count": 0,
          "categories": [
           {
            "name": "f",
            "count": 10
           }
          ]
         }
        },
        {
         "name": "Tumor",
         "dtype": "object",
         "stats": {
          "unique_count": 2,
          "nan_count": 0,
          "categories": [
           {
            "name": "f",
            "count": 9
           },
           {
            "name": "t",
            "count": 1
           }
          ]
         }
        },
        {
         "name": "Hypopituitary",
         "dtype": "object",
         "stats": {
          "unique_count": 1,
          "nan_count": 0,
          "categories": [
           {
            "name": "f",
            "count": 10
           }
          ]
         }
        },
        {
         "name": "Psych",
         "dtype": "object",
         "stats": {
          "unique_count": 1,
          "nan_count": 0,
          "categories": [
           {
            "name": "f",
            "count": 10
           }
          ]
         }
        },
        {
         "name": "TSH Measured",
         "dtype": "object",
         "stats": {
          "unique_count": 2,
          "nan_count": 0,
          "categories": [
           {
            "name": "t",
            "count": 9
           },
           {
            "name": "f",
            "count": 1
           }
          ]
         }
        },
        {
         "name": "TSH",
         "dtype": "float64",
         "stats": {
          "unique_count": 9,
          "nan_count": 1,
          "min": "0.03",
          "max": "4.1",
          "histogram": [
           {
            "bin_start": 0.03,
            "bin_end": 0.43699999999999994,
            "count": 2
           },
           {
            "bin_start": 0.43699999999999994,
            "bin_end": 0.8439999999999999,
            "count": 2
           },
           {
            "bin_start": 0.8439999999999999,
            "bin_end": 1.2509999999999997,
            "count": 1
           },
           {
            "bin_start": 1.2509999999999997,
            "bin_end": 1.6579999999999997,
            "count": 1
           },
           {
            "bin_start": 1.6579999999999997,
            "bin_end": 2.0649999999999995,
            "count": 0
           },
           {
            "bin_start": 2.0649999999999995,
            "bin_end": 2.471999999999999,
            "count": 2
           },
           {
            "bin_start": 2.471999999999999,
            "bin_end": 2.878999999999999,
            "count": 0
           },
           {
            "bin_start": 2.878999999999999,
            "bin_end": 3.285999999999999,
            "count": 0
           },
           {
            "bin_start": 3.285999999999999,
            "bin_end": 3.692999999999999,
            "count": 0
           },
           {
            "bin_start": 3.692999999999999,
            "bin_end": 4.1,
            "count": 1
           }
          ]
         }
        },
        {
         "name": "T3 Measured",
         "dtype": "object",
         "stats": {
          "unique_count": 2,
          "nan_count": 0,
          "categories": [
           {
            "name": "t",
            "count": 7
           },
           {
            "name": "f",
            "count": 3
           }
          ]
         }
        },
        {
         "name": "T3",
         "dtype": "float64",
         "stats": {
          "unique_count": 7,
          "nan_count": 3,
          "min": "0.6",
          "max": "2.5",
          "histogram": [
           {
            "bin_start": 0.6,
            "bin_end": 0.79,
            "count": 1
           },
           {
            "bin_start": 0.79,
            "bin_end": 0.98,
            "count": 0
           },
           {
            "bin_start": 0.98,
            "bin_end": 1.17,
            "count": 0
           },
           {
            "bin_start": 1.17,
            "bin_end": 1.3599999999999999,
            "count": 1
           },
           {
            "bin_start": 1.3599999999999999,
            "bin_end": 1.5499999999999998,
            "count": 0
           },
           {
            "bin_start": 1.5499999999999998,
            "bin_end": 1.7400000000000002,
            "count": 1
           },
           {
            "bin_start": 1.7400000000000002,
            "bin_end": 1.9300000000000002,
            "count": 1
           },
           {
            "bin_start": 1.9300000000000002,
            "bin_end": 2.12,
            "count": 1
           },
           {
            "bin_start": 2.12,
            "bin_end": 2.31,
            "count": 1
           },
           {
            "bin_start": 2.31,
            "bin_end": 2.5,
            "count": 1
           }
          ]
         }
        },
        {
         "name": "TT4 Measured",
         "dtype": "object",
         "stats": {
          "unique_count": 1,
          "nan_count": 0,
          "categories": [
           {
            "name": "t",
            "count": 10
           }
          ]
         }
        },
        {
         "name": "TT4",
         "dtype": "float64",
         "stats": {
          "unique_count": 10,
          "nan_count": 0,
          "min": "61.0",
          "max": "183.0",
          "histogram": [
           {
            "bin_start": 61,
            "bin_end": 73.2,
            "count": 2
           },
           {
            "bin_start": 73.2,
            "bin_end": 85.4,
            "count": 2
           },
           {
            "bin_start": 85.4,
            "bin_end": 97.6,
            "count": 0
           },
           {
            "bin_start": 97.6,
            "bin_end": 109.8,
            "count": 2
           },
           {
            "bin_start": 109.8,
            "bin_end": 122,
            "count": 0
           },
           {
            "bin_start": 122,
            "bin_end": 134.2,
            "count": 2
           },
           {
            "bin_start": 134.2,
            "bin_end": 146.39999999999998,
            "count": 0
           },
           {
            "bin_start": 146.39999999999998,
            "bin_end": 158.6,
            "count": 0
           },
           {
            "bin_start": 158.6,
            "bin_end": 170.8,
            "count": 0
           },
           {
            "bin_start": 170.8,
            "bin_end": 183,
            "count": 2
           }
          ]
         }
        },
        {
         "name": "T4U Measured",
         "dtype": "object",
         "stats": {
          "unique_count": 2,
          "nan_count": 0,
          "categories": [
           {
            "name": "t",
            "count": 8
           },
           {
            "name": "f",
            "count": 2
           }
          ]
         }
        },
        {
         "name": "T4U",
         "dtype": "float64",
         "stats": {
          "unique_count": 8,
          "nan_count": 2,
          "min": "0.7",
          "max": "1.3",
          "histogram": [
           {
            "bin_start": 0.7,
            "bin_end": 0.76,
            "count": 1
           },
           {
            "bin_start": 0.76,
            "bin_end": 0.82,
            "count": 0
           },
           {
            "bin_start": 0.82,
            "bin_end": 0.88,
            "count": 1
           },
           {
            "bin_start": 0.88,
            "bin_end": 0.94,
            "count": 4
           },
           {
            "bin_start": 0.94,
            "bin_end": 1,
            "count": 0
           },
           {
            "bin_start": 1,
            "bin_end": 1.06,
            "count": 0
           },
           {
            "bin_start": 1.06,
            "bin_end": 1.12,
            "count": 0
           },
           {
            "bin_start": 1.12,
            "bin_end": 1.1800000000000002,
            "count": 1
           },
           {
            "bin_start": 1.1800000000000002,
            "bin_end": 1.2400000000000002,
            "count": 0
           },
           {
            "bin_start": 1.2400000000000002,
            "bin_end": 1.3,
            "count": 1
           }
          ]
         }
        },
        {
         "name": "FTI Measured",
         "dtype": "object",
         "stats": {
          "unique_count": 2,
          "nan_count": 0,
          "categories": [
           {
            "name": "t",
            "count": 8
           },
           {
            "name": "f",
            "count": 2
           }
          ]
         }
        },
        {
         "name": "FTI",
         "dtype": "float64",
         "stats": {
          "unique_count": 8,
          "nan_count": 2,
          "min": "70.0",
          "max": "141.0",
          "histogram": [
           {
            "bin_start": 70,
            "bin_end": 77.1,
            "count": 1
           },
           {
            "bin_start": 77.1,
            "bin_end": 84.2,
            "count": 1
           },
           {
            "bin_start": 84.2,
            "bin_end": 91.3,
            "count": 0
           },
           {
            "bin_start": 91.3,
            "bin_end": 98.4,
            "count": 1
           },
           {
            "bin_start": 98.4,
            "bin_end": 105.5,
            "count": 0
           },
           {
            "bin_start": 105.5,
            "bin_end": 112.6,
            "count": 1
           },
           {
            "bin_start": 112.6,
            "bin_end": 119.69999999999999,
            "count": 1
           },
           {
            "bin_start": 119.69999999999999,
            "bin_end": 126.8,
            "count": 1
           },
           {
            "bin_start": 126.8,
            "bin_end": 133.9,
            "count": 1
           },
           {
            "bin_start": 133.9,
            "bin_end": 141,
            "count": 1
           }
          ]
         }
        },
        {
         "name": "TBG Measured",
         "dtype": "object",
         "stats": {
          "unique_count": 1,
          "nan_count": 0,
          "categories": [
           {
            "name": "f",
            "count": 10
           }
          ]
         }
        },
        {
         "name": "TBG",
         "dtype": "object",
         "stats": {
          "unique_count": 0,
          "nan_count": 10,
          "categories": [
           {
            "name": "Missing",
            "count": 10
           }
          ]
         }
        },
        {
         "name": "Referral Source",
         "dtype": "object",
         "stats": {
          "unique_count": 3,
          "nan_count": 0,
          "categories": [
           {
            "name": "other",
            "count": 5
           },
           {
            "name": "SVI",
            "count": 4
           },
           {
            "name": "SVHC",
            "count": 1
           }
          ]
         }
        },
        {
         "name": "Class",
         "dtype": "object",
         "stats": {
          "unique_count": 10,
          "nan_count": 0,
          "categories": [
           {
            "name": "negative.|3733",
            "count": 1
           },
           {
            "name": "negative.|1442",
            "count": 1
           },
           {
            "name": "8 others",
            "count": 8
           }
          ]
         }
        },
        {
         "name": "_deepnote_index_column",
         "dtype": "int64"
        }
       ],
       "rows": [
        {
         "Age": 41,
         "Sex": "F",
         "On Thyroxine": "f",
         "Query on Thyroxine": "f",
         "On Antithyroid Medication": "f",
         "Sick": "f",
         "Pregnant": "f",
         "Thyroid Surgery": "f",
         "I131 Treatment": "f",
         "Query Hypothyroid": "f",
         "Query Hyperthyroid": "f",
         "Lithium": "f",
         "Goiter": "f",
         "Tumor": "f",
         "Hypopituitary": "f",
         "Psych": "f",
         "TSH Measured": "t",
         "TSH": 1.3,
         "T3 Measured": "t",
         "T3": 2.5,
         "TT4 Measured": "t",
         "TT4": 125,
         "T4U Measured": "t",
         "T4U": 1.14,
         "FTI Measured": "t",
         "FTI": 109,
         "TBG Measured": "f",
         "TBG": "nan",
         "Referral Source": "SVHC",
         "Class": "negative.|3733",
         "_deepnote_index_column": 0
        },
        {
         "Age": 23,
         "Sex": "F",
         "On Thyroxine": "f",
         "Query on Thyroxine": "f",
         "On Antithyroid Medication": "f",
         "Sick": "f",
         "Pregnant": "f",
         "Thyroid Surgery": "f",
         "I131 Treatment": "f",
         "Query Hypothyroid": "f",
         "Query Hyperthyroid": "f",
         "Lithium": "f",
         "Goiter": "f",
         "Tumor": "f",
         "Hypopituitary": "f",
         "Psych": "f",
         "TSH Measured": "t",
         "TSH": 4.1,
         "T3 Measured": "t",
         "T3": 2,
         "TT4 Measured": "t",
         "TT4": 102,
         "T4U Measured": "f",
         "T4U": "nan",
         "FTI Measured": "f",
         "FTI": "nan",
         "TBG Measured": "f",
         "TBG": "nan",
         "Referral Source": "other",
         "Class": "negative.|1442",
         "_deepnote_index_column": 1
        },
        {
         "Age": 46,
         "Sex": "M",
         "On Thyroxine": "f",
         "Query on Thyroxine": "f",
         "On Antithyroid Medication": "f",
         "Sick": "f",
         "Pregnant": "f",
         "Thyroid Surgery": "f",
         "I131 Treatment": "f",
         "Query Hypothyroid": "f",
         "Query Hyperthyroid": "f",
         "Lithium": "f",
         "Goiter": "f",
         "Tumor": "f",
         "Hypopituitary": "f",
         "Psych": "f",
         "TSH Measured": "t",
         "TSH": 0.98,
         "T3 Measured": "f",
         "T3": "nan",
         "TT4 Measured": "t",
         "TT4": 109,
         "T4U Measured": "t",
         "T4U": 0.91,
         "FTI Measured": "t",
         "FTI": 120,
         "TBG Measured": "f",
         "TBG": "nan",
         "Referral Source": "other",
         "Class": "negative.|2965",
         "_deepnote_index_column": 2
        },
        {
         "Age": 70,
         "Sex": "F",
         "On Thyroxine": "t",
         "Query on Thyroxine": "f",
         "On Antithyroid Medication": "f",
         "Sick": "f",
         "Pregnant": "f",
         "Thyroid Surgery": "f",
         "I131 Treatment": "f",
         "Query Hypothyroid": "f",
         "Query Hyperthyroid": "f",
         "Lithium": "f",
         "Goiter": "f",
         "Tumor": "f",
         "Hypopituitary": "f",
         "Psych": "f",
         "TSH Measured": "t",
         "TSH": 0.16,
         "T3 Measured": "t",
         "T3": 1.9,
         "TT4 Measured": "t",
         "TT4": 175,
         "T4U Measured": "f",
         "T4U": "nan",
         "FTI Measured": "f",
         "FTI": "nan",
         "TBG Measured": "f",
         "TBG": "nan",
         "Referral Source": "other",
         "Class": "negative.|806",
         "_deepnote_index_column": 3
        },
        {
         "Age": 70,
         "Sex": "F",
         "On Thyroxine": "f",
         "Query on Thyroxine": "f",
         "On Antithyroid Medication": "f",
         "Sick": "f",
         "Pregnant": "f",
         "Thyroid Surgery": "f",
         "I131 Treatment": "f",
         "Query Hypothyroid": "f",
         "Query Hyperthyroid": "f",
         "Lithium": "f",
         "Goiter": "f",
         "Tumor": "f",
         "Hypopituitary": "f",
         "Psych": "f",
         "TSH Measured": "t",
         "TSH": 0.72,
         "T3 Measured": "t",
         "T3": 1.2,
         "TT4 Measured": "t",
         "TT4": 61,
         "T4U Measured": "t",
         "T4U": 0.87,
         "FTI Measured": "t",
         "FTI": 70,
         "TBG Measured": "f",
         "TBG": "nan",
         "Referral Source": "SVI",
         "Class": "negative.|2807",
         "_deepnote_index_column": 4
        },
        {
         "Age": 18,
         "Sex": "F",
         "On Thyroxine": "t",
         "Query on Thyroxine": "f",
         "On Antithyroid Medication": "f",
         "Sick": "f",
         "Pregnant": "f",
         "Thyroid Surgery": "f",
         "I131 Treatment": "f",
         "Query Hypothyroid": "f",
         "Query Hyperthyroid": "f",
         "Lithium": "f",
         "Goiter": "f",
         "Tumor": "f",
         "Hypopituitary": "f",
         "Psych": "f",
         "TSH Measured": "t",
         "TSH": 0.03,
         "T3 Measured": "f",
         "T3": "nan",
         "TT4 Measured": "t",
         "TT4": 183,
         "T4U Measured": "t",
         "T4U": 1.3,
         "FTI Measured": "t",
         "FTI": 141,
         "TBG Measured": "f",
         "TBG": "nan",
         "Referral Source": "other",
         "Class": "negative.|3434",
         "_deepnote_index_column": 5
        },
        {
         "Age": 59,
         "Sex": "F",
         "On Thyroxine": "f",
         "Query on Thyroxine": "f",
         "On Antithyroid Medication": "f",
         "Sick": "f",
         "Pregnant": "f",
         "Thyroid Surgery": "f",
         "I131 Treatment": "f",
         "Query Hypothyroid": "f",
         "Query Hyperthyroid": "f",
         "Lithium": "f",
         "Goiter": "f",
         "Tumor": "f",
         "Hypopituitary": "f",
         "Psych": "f",
         "TSH Measured": "f",
         "TSH": "nan",
         "T3 Measured": "f",
         "T3": "nan",
         "TT4 Measured": "t",
         "TT4": 72,
         "T4U Measured": "t",
         "T4U": 0.92,
         "FTI Measured": "t",
         "FTI": 78,
         "TBG Measured": "f",
         "TBG": "nan",
         "Referral Source": "other",
         "Class": "negative.|1595",
         "_deepnote_index_column": 6
        },
        {
         "Age": 80,
         "Sex": "F",
         "On Thyroxine": "f",
         "Query on Thyroxine": "f",
         "On Antithyroid Medication": "f",
         "Sick": "f",
         "Pregnant": "f",
         "Thyroid Surgery": "f",
         "I131 Treatment": "f",
         "Query Hypothyroid": "f",
         "Query Hyperthyroid": "f",
         "Lithium": "f",
         "Goiter": "f",
         "Tumor": "f",
         "Hypopituitary": "f",
         "Psych": "f",
         "TSH Measured": "t",
         "TSH": 2.2,
         "T3 Measured": "t",
         "T3": 0.6,
         "TT4 Measured": "t",
         "TT4": 80,
         "T4U Measured": "t",
         "T4U": 0.7,
         "FTI Measured": "t",
         "FTI": 115,
         "TBG Measured": "f",
         "TBG": "nan",
         "Referral Source": "SVI",
         "Class": "negative.|1367",
         "_deepnote_index_column": 7
        },
        {
         "Age": 66,
         "Sex": "F",
         "On Thyroxine": "f",
         "Query on Thyroxine": "f",
         "On Antithyroid Medication": "f",
         "Sick": "f",
         "Pregnant": "f",
         "Thyroid Surgery": "f",
         "I131 Treatment": "f",
         "Query Hypothyroid": "f",
         "Query Hyperthyroid": "f",
         "Lithium": "f",
         "Goiter": "f",
         "Tumor": "t",
         "Hypopituitary": "f",
         "Psych": "f",
         "TSH Measured": "t",
         "TSH": 0.6,
         "T3 Measured": "t",
         "T3": 2.2,
         "TT4 Measured": "t",
         "TT4": 123,
         "T4U Measured": "t",
         "T4U": 0.93,
         "FTI Measured": "t",
         "FTI": 132,
         "TBG Measured": "f",
         "TBG": "nan",
         "Referral Source": "SVI",
         "Class": "negative.|1787",
         "_deepnote_index_column": 8
        },
        {
         "Age": 68,
         "Sex": "M",
         "On Thyroxine": "f",
         "Query on Thyroxine": "f",
         "On Antithyroid Medication": "f",
         "Sick": "f",
         "Pregnant": "f",
         "Thyroid Surgery": "f",
         "I131 Treatment": "f",
         "Query Hypothyroid": "f",
         "Query Hyperthyroid": "f",
         "Lithium": "f",
         "Goiter": "f",
         "Tumor": "f",
         "Hypopituitary": "f",
         "Psych": "f",
         "TSH Measured": "t",
         "TSH": 2.4,
         "T3 Measured": "t",
         "T3": 1.6,
         "TT4 Measured": "t",
         "TT4": 83,
         "T4U Measured": "t",
         "T4U": 0.89,
         "FTI Measured": "t",
         "FTI": 93,
         "TBG Measured": "f",
         "TBG": "nan",
         "Referral Source": "SVI",
         "Class": "negative.|2534",
         "_deepnote_index_column": 9
        }
       ]
      },
      "text/plain": "    Age Sex On Thyroxine Query on Thyroxine On Antithyroid Medication Sick  \\\n0  41.0   F            f                  f                         f    f   \n1  23.0   F            f                  f                         f    f   \n2  46.0   M            f                  f                         f    f   \n3  70.0   F            t                  f                         f    f   \n4  70.0   F            f                  f                         f    f   \n5  18.0   F            t                  f                         f    f   \n6  59.0   F            f                  f                         f    f   \n7  80.0   F            f                  f                         f    f   \n8  66.0   F            f                  f                         f    f   \n9  68.0   M            f                  f                         f    f   \n\n  Pregnant Thyroid Surgery I131 Treatment Query Hypothyroid  ... TT4 Measured  \\\n0        f               f              f                 f  ...            t   \n1        f               f              f                 f  ...            t   \n2        f               f              f                 f  ...            t   \n3        f               f              f                 f  ...            t   \n4        f               f              f                 f  ...            t   \n5        f               f              f                 f  ...            t   \n6        f               f              f                 f  ...            t   \n7        f               f              f                 f  ...            t   \n8        f               f              f                 f  ...            t   \n9        f               f              f                 f  ...            t   \n\n     TT4 T4U Measured   T4U FTI Measured    FTI TBG Measured  TBG  \\\n0  125.0            t  1.14            t  109.0            f  NaN   \n1  102.0            f   NaN            f    NaN            f  NaN   \n2  109.0            t  0.91            t  120.0            f  NaN   \n3  175.0            f   NaN            f    NaN            f  NaN   \n4   61.0            t  0.87            t   70.0            f  NaN   \n5  183.0            t  1.30            t  141.0            f  NaN   \n6   72.0            t  0.92            t   78.0            f  NaN   \n7   80.0            t  0.70            t  115.0            f  NaN   \n8  123.0            t  0.93            t  132.0            f  NaN   \n9   83.0            t  0.89            t   93.0            f  NaN   \n\n  Referral Source           Class  \n0            SVHC  negative.|3733  \n1           other  negative.|1442  \n2           other  negative.|2965  \n3           other   negative.|806  \n4             SVI  negative.|2807  \n5           other  negative.|3434  \n6           other  negative.|1595  \n7             SVI  negative.|1367  \n8             SVI  negative.|1787  \n9             SVI  negative.|2534  \n\n[10 rows x 30 columns]",
      "text/html": "<div>\n<style scoped>\n    .dataframe tbody tr th:only-of-type {\n        vertical-align: middle;\n    }\n\n    .dataframe tbody tr th {\n        vertical-align: top;\n    }\n\n    .dataframe thead th {\n        text-align: right;\n    }\n</style>\n<table border=\"1\" class=\"dataframe\">\n  <thead>\n    <tr style=\"text-align: right;\">\n      <th></th>\n      <th>Age</th>\n      <th>Sex</th>\n      <th>On Thyroxine</th>\n      <th>Query on Thyroxine</th>\n      <th>On Antithyroid Medication</th>\n      <th>Sick</th>\n      <th>Pregnant</th>\n      <th>Thyroid Surgery</th>\n      <th>I131 Treatment</th>\n      <th>Query Hypothyroid</th>\n      <th>...</th>\n      <th>TT4 Measured</th>\n      <th>TT4</th>\n      <th>T4U Measured</th>\n      <th>T4U</th>\n      <th>FTI Measured</th>\n      <th>FTI</th>\n      <th>TBG Measured</th>\n      <th>TBG</th>\n      <th>Referral Source</th>\n      <th>Class</th>\n    </tr>\n  </thead>\n  <tbody>\n    <tr>\n      <th>0</th>\n      <td>41.0</td>\n      <td>F</td>\n      <td>f</td>\n      <td>f</td>\n      <td>f</td>\n      <td>f</td>\n      <td>f</td>\n      <td>f</td>\n      <td>f</td>\n      <td>f</td>\n      <td>...</td>\n      <td>t</td>\n      <td>125.0</td>\n      <td>t</td>\n      <td>1.14</td>\n      <td>t</td>\n      <td>109.0</td>\n      <td>f</td>\n      <td>NaN</td>\n      <td>SVHC</td>\n      <td>negative.|3733</td>\n    </tr>\n    <tr>\n      <th>1</th>\n      <td>23.0</td>\n      <td>F</td>\n      <td>f</td>\n      <td>f</td>\n      <td>f</td>\n      <td>f</td>\n      <td>f</td>\n      <td>f</td>\n      <td>f</td>\n      <td>f</td>\n      <td>...</td>\n      <td>t</td>\n      <td>102.0</td>\n      <td>f</td>\n      <td>NaN</td>\n      <td>f</td>\n      <td>NaN</td>\n      <td>f</td>\n      <td>NaN</td>\n      <td>other</td>\n      <td>negative.|1442</td>\n    </tr>\n    <tr>\n      <th>2</th>\n      <td>46.0</td>\n      <td>M</td>\n      <td>f</td>\n      <td>f</td>\n      <td>f</td>\n      <td>f</td>\n      <td>f</td>\n      <td>f</td>\n      <td>f</td>\n      <td>f</td>\n      <td>...</td>\n      <td>t</td>\n      <td>109.0</td>\n      <td>t</td>\n      <td>0.91</td>\n      <td>t</td>\n      <td>120.0</td>\n      <td>f</td>\n      <td>NaN</td>\n      <td>other</td>\n      <td>negative.|2965</td>\n    </tr>\n    <tr>\n      <th>3</th>\n      <td>70.0</td>\n      <td>F</td>\n      <td>t</td>\n      <td>f</td>\n      <td>f</td>\n      <td>f</td>\n      <td>f</td>\n      <td>f</td>\n      <td>f</td>\n      <td>f</td>\n      <td>...</td>\n      <td>t</td>\n      <td>175.0</td>\n      <td>f</td>\n      <td>NaN</td>\n      <td>f</td>\n      <td>NaN</td>\n      <td>f</td>\n      <td>NaN</td>\n      <td>other</td>\n      <td>negative.|806</td>\n    </tr>\n    <tr>\n      <th>4</th>\n      <td>70.0</td>\n      <td>F</td>\n      <td>f</td>\n      <td>f</td>\n      <td>f</td>\n      <td>f</td>\n      <td>f</td>\n      <td>f</td>\n      <td>f</td>\n      <td>f</td>\n      <td>...</td>\n      <td>t</td>\n      <td>61.0</td>\n      <td>t</td>\n      <td>0.87</td>\n      <td>t</td>\n      <td>70.0</td>\n      <td>f</td>\n      <td>NaN</td>\n      <td>SVI</td>\n      <td>negative.|2807</td>\n    </tr>\n    <tr>\n      <th>5</th>\n      <td>18.0</td>\n      <td>F</td>\n      <td>t</td>\n      <td>f</td>\n      <td>f</td>\n      <td>f</td>\n      <td>f</td>\n      <td>f</td>\n      <td>f</td>\n      <td>f</td>\n      <td>...</td>\n      <td>t</td>\n      <td>183.0</td>\n      <td>t</td>\n      <td>1.30</td>\n      <td>t</td>\n      <td>141.0</td>\n      <td>f</td>\n      <td>NaN</td>\n      <td>other</td>\n      <td>negative.|3434</td>\n    </tr>\n    <tr>\n      <th>6</th>\n      <td>59.0</td>\n      <td>F</td>\n      <td>f</td>\n      <td>f</td>\n      <td>f</td>\n      <td>f</td>\n      <td>f</td>\n      <td>f</td>\n      <td>f</td>\n      <td>f</td>\n      <td>...</td>\n      <td>t</td>\n      <td>72.0</td>\n      <td>t</td>\n      <td>0.92</td>\n      <td>t</td>\n      <td>78.0</td>\n      <td>f</td>\n      <td>NaN</td>\n      <td>other</td>\n      <td>negative.|1595</td>\n    </tr>\n    <tr>\n      <th>7</th>\n      <td>80.0</td>\n      <td>F</td>\n      <td>f</td>\n      <td>f</td>\n      <td>f</td>\n      <td>f</td>\n      <td>f</td>\n      <td>f</td>\n      <td>f</td>\n      <td>f</td>\n      <td>...</td>\n      <td>t</td>\n      <td>80.0</td>\n      <td>t</td>\n      <td>0.70</td>\n      <td>t</td>\n      <td>115.0</td>\n      <td>f</td>\n      <td>NaN</td>\n      <td>SVI</td>\n      <td>negative.|1367</td>\n    </tr>\n    <tr>\n      <th>8</th>\n      <td>66.0</td>\n      <td>F</td>\n      <td>f</td>\n      <td>f</td>\n      <td>f</td>\n      <td>f</td>\n      <td>f</td>\n      <td>f</td>\n      <td>f</td>\n      <td>f</td>\n      <td>...</td>\n      <td>t</td>\n      <td>123.0</td>\n      <td>t</td>\n      <td>0.93</td>\n      <td>t</td>\n      <td>132.0</td>\n      <td>f</td>\n      <td>NaN</td>\n      <td>SVI</td>\n      <td>negative.|1787</td>\n    </tr>\n    <tr>\n      <th>9</th>\n      <td>68.0</td>\n      <td>M</td>\n      <td>f</td>\n      <td>f</td>\n      <td>f</td>\n      <td>f</td>\n      <td>f</td>\n      <td>f</td>\n      <td>f</td>\n      <td>f</td>\n      <td>...</td>\n      <td>t</td>\n      <td>83.0</td>\n      <td>t</td>\n      <td>0.89</td>\n      <td>t</td>\n      <td>93.0</td>\n      <td>f</td>\n      <td>NaN</td>\n      <td>SVI</td>\n      <td>negative.|2534</td>\n    </tr>\n  </tbody>\n</table>\n<p>10 rows × 30 columns</p>\n</div>"
     },
     "metadata": {}
    }
   ]
  },
  {
   "cell_type": "markdown",
   "source": "Hmm, still looks like the TBG column is unfilled, implying it was empty to begin with. Let's get rid of this column, then (and make sure to get rid of it in your list of numeric columns, too!)",
   "metadata": {
    "colab_type": "text",
    "id": "HZo7iKHUD3DG",
    "cell_id": "00013-e17ed78a-5ad6-4e5f-bc07-60cb25a0cd49",
    "deepnote_cell_type": "markdown",
    "deepnote_cell_height": 74.78125
   }
  },
  {
   "cell_type": "code",
   "metadata": {
    "colab": {
     "autoexec": {
      "startup": false,
      "wait_interval": 0
     }
    },
    "colab_type": "code",
    "id": "yAe5FIFkD25f",
    "cell_id": "00014-e0252e39-cf2c-4c89-b151-42ae67b62c9b",
    "deepnote_to_be_reexecuted": false,
    "source_hash": "f9d27cf8",
    "execution_start": 1657921462444,
    "execution_millis": 6,
    "deepnote_cell_type": "code",
    "deepnote_cell_height": 189
   },
   "source": "drop_columns = [\"TBG\", \"TBG Measured\"]\ntry:\n    for col in drop_columns:\n        categorical_columns.remove(col)\n    dataset=dataset.drop(drop_columns,axis=1)\nexcept:\n    print(\"Already dropped\")",
   "execution_count": null,
   "outputs": []
  },
  {
   "cell_type": "markdown",
   "source": "All right, let's take a look now at the info of *just the numeric columns* in the dataset:",
   "metadata": {
    "colab_type": "text",
    "id": "DTjWD_ddCHsA",
    "cell_id": "00015-ff8e61fb-32a7-43f3-bcb4-926e42ac0a77",
    "deepnote_cell_type": "markdown",
    "deepnote_cell_height": 52.390625
   }
  },
  {
   "cell_type": "code",
   "metadata": {
    "colab": {
     "autoexec": {
      "startup": false,
      "wait_interval": 0
     }
    },
    "colab_type": "code",
    "id": "00OaxCAbzRvA",
    "cell_id": "00016-2494c0dd-69f5-4ac5-a081-dfebc59f999c",
    "deepnote_to_be_reexecuted": false,
    "source_hash": "f717e30c",
    "execution_start": 1657921462452,
    "execution_millis": 14,
    "deepnote_cell_type": "code",
    "deepnote_cell_height": 354.4375
   },
   "source": "dataset[numeric_columns].info()",
   "execution_count": null,
   "outputs": [
    {
     "name": "stdout",
     "text": "<class 'pandas.core.frame.DataFrame'>\nRangeIndex: 2800 entries, 0 to 2799\nData columns (total 6 columns):\n #   Column  Non-Null Count  Dtype  \n---  ------  --------------  -----  \n 0   Age     2799 non-null   float64\n 1   TSH     2516 non-null   float64\n 2   T3      2215 non-null   float64\n 3   TT4     2616 non-null   float64\n 4   T4U     2503 non-null   float64\n 5   FTI     2505 non-null   float64\ndtypes: float64(6)\nmemory usage: 131.4 KB\n",
     "output_type": "stream"
    }
   ]
  },
  {
   "cell_type": "markdown",
   "source": "Perfect, now let's fix that class feature. According to the note the data collectors included with this data, the \".|####\" refers to a patient number, and is not necessarily relevant for our purposes here.",
   "metadata": {
    "colab_type": "text",
    "id": "XOzcRX-5YRvz",
    "cell_id": "00017-f251e70d-2ccd-4bee-a053-a6df8755d5d4",
    "deepnote_cell_type": "markdown",
    "deepnote_cell_height": 74.78125
   }
  },
  {
   "cell_type": "code",
   "metadata": {
    "colab": {
     "autoexec": {
      "startup": false,
      "wait_interval": 0
     }
    },
    "colab_type": "code",
    "id": "QFmeyRcGYR7s",
    "cell_id": "00018-3ff01c7d-6ca4-4007-9427-4166bc1e560b",
    "deepnote_to_be_reexecuted": false,
    "source_hash": "a8c515af",
    "execution_start": 1657921462471,
    "execution_millis": 1585,
    "deepnote_table_state": {
     "pageSize": 10,
     "pageIndex": 0,
     "filters": [],
     "sortBy": []
    },
    "deepnote_table_loading": false,
    "deepnote_cell_type": "code",
    "deepnote_cell_height": 671
   },
   "source": "for i, row in dataset.iterrows():\n    dataset.loc[i, 'Class'] = str(row['Class']).split('.|')[0]\n\ndataset.head(20)",
   "execution_count": null,
   "outputs": [
    {
     "output_type": "execute_result",
     "execution_count": 8,
     "data": {
      "application/vnd.deepnote.dataframe.v3+json": {
       "column_count": 28,
       "row_count": 20,
       "columns": [
        {
         "name": "Age",
         "dtype": "float64",
         "stats": {
          "unique_count": 16,
          "nan_count": 0,
          "min": "18.0",
          "max": "84.0",
          "histogram": [
           {
            "bin_start": 18,
            "bin_end": 24.6,
            "count": 2
           },
           {
            "bin_start": 24.6,
            "bin_end": 31.2,
            "count": 2
           },
           {
            "bin_start": 31.2,
            "bin_end": 37.8,
            "count": 0
           },
           {
            "bin_start": 37.8,
            "bin_end": 44.4,
            "count": 2
           },
           {
            "bin_start": 44.4,
            "bin_end": 51,
            "count": 1
           },
           {
            "bin_start": 51,
            "bin_end": 57.599999999999994,
            "count": 0
           },
           {
            "bin_start": 57.599999999999994,
            "bin_end": 64.19999999999999,
            "count": 3
           },
           {
            "bin_start": 64.19999999999999,
            "bin_end": 70.8,
            "count": 6
           },
           {
            "bin_start": 70.8,
            "bin_end": 77.4,
            "count": 1
           },
           {
            "bin_start": 77.4,
            "bin_end": 84,
            "count": 3
           }
          ]
         }
        },
        {
         "name": "Sex",
         "dtype": "object",
         "stats": {
          "unique_count": 2,
          "nan_count": 1,
          "categories": [
           {
            "name": "F",
            "count": 15
           },
           {
            "name": "M",
            "count": 4
           },
           {
            "name": "Missing",
            "count": 1
           }
          ]
         }
        },
        {
         "name": "On Thyroxine",
         "dtype": "object",
         "stats": {
          "unique_count": 2,
          "nan_count": 0,
          "categories": [
           {
            "name": "f",
            "count": 17
           },
           {
            "name": "t",
            "count": 3
           }
          ]
         }
        },
        {
         "name": "Query on Thyroxine",
         "dtype": "object",
         "stats": {
          "unique_count": 1,
          "nan_count": 0,
          "categories": [
           {
            "name": "f",
            "count": 20
           }
          ]
         }
        },
        {
         "name": "On Antithyroid Medication",
         "dtype": "object",
         "stats": {
          "unique_count": 1,
          "nan_count": 0,
          "categories": [
           {
            "name": "f",
            "count": 20
           }
          ]
         }
        },
        {
         "name": "Sick",
         "dtype": "object",
         "stats": {
          "unique_count": 2,
          "nan_count": 0,
          "categories": [
           {
            "name": "f",
            "count": 19
           },
           {
            "name": "t",
            "count": 1
           }
          ]
         }
        },
        {
         "name": "Pregnant",
         "dtype": "object",
         "stats": {
          "unique_count": 1,
          "nan_count": 0,
          "categories": [
           {
            "name": "f",
            "count": 20
           }
          ]
         }
        },
        {
         "name": "Thyroid Surgery",
         "dtype": "object",
         "stats": {
          "unique_count": 1,
          "nan_count": 0,
          "categories": [
           {
            "name": "f",
            "count": 20
           }
          ]
         }
        },
        {
         "name": "I131 Treatment",
         "dtype": "object",
         "stats": {
          "unique_count": 1,
          "nan_count": 0,
          "categories": [
           {
            "name": "f",
            "count": 20
           }
          ]
         }
        },
        {
         "name": "Query Hypothyroid",
         "dtype": "object",
         "stats": {
          "unique_count": 2,
          "nan_count": 0,
          "categories": [
           {
            "name": "f",
            "count": 19
           },
           {
            "name": "t",
            "count": 1
           }
          ]
         }
        },
        {
         "name": "Query Hyperthyroid",
         "dtype": "object",
         "stats": {
          "unique_count": 2,
          "nan_count": 0,
          "categories": [
           {
            "name": "f",
            "count": 19
           },
           {
            "name": "t",
            "count": 1
           }
          ]
         }
        },
        {
         "name": "Lithium",
         "dtype": "object",
         "stats": {
          "unique_count": 1,
          "nan_count": 0,
          "categories": [
           {
            "name": "f",
            "count": 20
           }
          ]
         }
        },
        {
         "name": "Goiter",
         "dtype": "object",
         "stats": {
          "unique_count": 1,
          "nan_count": 0,
          "categories": [
           {
            "name": "f",
            "count": 20
           }
          ]
         }
        },
        {
         "name": "Tumor",
         "dtype": "object",
         "stats": {
          "unique_count": 2,
          "nan_count": 0,
          "categories": [
           {
            "name": "f",
            "count": 18
           },
           {
            "name": "t",
            "count": 2
           }
          ]
         }
        },
        {
         "name": "Hypopituitary",
         "dtype": "object",
         "stats": {
          "unique_count": 1,
          "nan_count": 0,
          "categories": [
           {
            "name": "f",
            "count": 20
           }
          ]
         }
        },
        {
         "name": "Psych",
         "dtype": "object",
         "stats": {
          "unique_count": 2,
          "nan_count": 0,
          "categories": [
           {
            "name": "f",
            "count": 18
           },
           {
            "name": "t",
            "count": 2
           }
          ]
         }
        },
        {
         "name": "TSH Measured",
         "dtype": "object",
         "stats": {
          "unique_count": 2,
          "nan_count": 0,
          "categories": [
           {
            "name": "t",
            "count": 19
           },
           {
            "name": "f",
            "count": 1
           }
          ]
         }
        },
        {
         "name": "TSH",
         "dtype": "float64",
         "stats": {
          "unique_count": 17,
          "nan_count": 1,
          "min": "0.03",
          "max": "12.0",
          "histogram": [
           {
            "bin_start": 0.03,
            "bin_end": 1.227,
            "count": 9
           },
           {
            "bin_start": 1.227,
            "bin_end": 2.424,
            "count": 5
           },
           {
            "bin_start": 2.424,
            "bin_end": 3.621,
            "count": 2
           },
           {
            "bin_start": 3.621,
            "bin_end": 4.8180000000000005,
            "count": 1
           },
           {
            "bin_start": 4.8180000000000005,
            "bin_end": 6.015000000000001,
            "count": 1
           },
           {
            "bin_start": 6.015000000000001,
            "bin_end": 7.212000000000001,
            "count": 0
           },
           {
            "bin_start": 7.212000000000001,
            "bin_end": 8.409,
            "count": 0
           },
           {
            "bin_start": 8.409,
            "bin_end": 9.606,
            "count": 0
           },
           {
            "bin_start": 9.606,
            "bin_end": 10.802999999999999,
            "count": 0
           },
           {
            "bin_start": 10.802999999999999,
            "bin_end": 12,
            "count": 1
           }
          ]
         }
        },
        {
         "name": "T3 Measured",
         "dtype": "object",
         "stats": {
          "unique_count": 2,
          "nan_count": 0,
          "categories": [
           {
            "name": "t",
            "count": 15
           },
           {
            "name": "f",
            "count": 5
           }
          ]
         }
        },
        {
         "name": "T3",
         "dtype": "float64",
         "stats": {
          "unique_count": 11,
          "nan_count": 5,
          "min": "0.6",
          "max": "3.8",
          "histogram": [
           {
            "bin_start": 0.6,
            "bin_end": 0.9199999999999999,
            "count": 1
           },
           {
            "bin_start": 0.9199999999999999,
            "bin_end": 1.2399999999999998,
            "count": 2
           },
           {
            "bin_start": 1.2399999999999998,
            "bin_end": 1.5599999999999998,
            "count": 0
           },
           {
            "bin_start": 1.5599999999999998,
            "bin_end": 1.88,
            "count": 5
           },
           {
            "bin_start": 1.88,
            "bin_end": 2.1999999999999997,
            "count": 2
           },
           {
            "bin_start": 2.1999999999999997,
            "bin_end": 2.5199999999999996,
            "count": 3
           },
           {
            "bin_start": 2.5199999999999996,
            "bin_end": 2.84,
            "count": 1
           },
           {
            "bin_start": 2.84,
            "bin_end": 3.1599999999999997,
            "count": 0
           },
           {
            "bin_start": 3.1599999999999997,
            "bin_end": 3.4799999999999995,
            "count": 0
           },
           {
            "bin_start": 3.4799999999999995,
            "bin_end": 3.8,
            "count": 1
           }
          ]
         }
        },
        {
         "name": "TT4 Measured",
         "dtype": "object",
         "stats": {
          "unique_count": 1,
          "nan_count": 0,
          "categories": [
           {
            "name": "t",
            "count": 20
           }
          ]
         }
        },
        {
         "name": "TT4",
         "dtype": "float64",
         "stats": {
          "unique_count": 18,
          "nan_count": 0,
          "min": "61.0",
          "max": "183.0",
          "histogram": [
           {
            "bin_start": 61,
            "bin_end": 73.2,
            "count": 3
           },
           {
            "bin_start": 73.2,
            "bin_end": 85.4,
            "count": 2
           },
           {
            "bin_start": 85.4,
            "bin_end": 97.6,
            "count": 1
           },
           {
            "bin_start": 97.6,
            "bin_end": 109.8,
            "count": 5
           },
           {
            "bin_start": 109.8,
            "bin_end": 122,
            "count": 3
           },
           {
            "bin_start": 122,
            "bin_end": 134.2,
            "count": 2
           },
           {
            "bin_start": 134.2,
            "bin_end": 146.39999999999998,
            "count": 0
           },
           {
            "bin_start": 146.39999999999998,
            "bin_end": 158.6,
            "count": 1
           },
           {
            "bin_start": 158.6,
            "bin_end": 170.8,
            "count": 0
           },
           {
            "bin_start": 170.8,
            "bin_end": 183,
            "count": 3
           }
          ]
         }
        },
        {
         "name": "T4U Measured",
         "dtype": "object",
         "stats": {
          "unique_count": 2,
          "nan_count": 0,
          "categories": [
           {
            "name": "t",
            "count": 18
           },
           {
            "name": "f",
            "count": 2
           }
          ]
         }
        },
        {
         "name": "T4U",
         "dtype": "float64",
         "stats": {
          "unique_count": 14,
          "nan_count": 2,
          "min": "0.7",
          "max": "1.3",
          "histogram": [
           {
            "bin_start": 0.7,
            "bin_end": 0.76,
            "count": 1
           },
           {
            "bin_start": 0.76,
            "bin_end": 0.82,
            "count": 0
           },
           {
            "bin_start": 0.82,
            "bin_end": 0.88,
            "count": 2
           },
           {
            "bin_start": 0.88,
            "bin_end": 0.94,
            "count": 6
           },
           {
            "bin_start": 0.94,
            "bin_end": 1,
            "count": 5
           },
           {
            "bin_start": 1,
            "bin_end": 1.06,
            "count": 0
           },
           {
            "bin_start": 1.06,
            "bin_end": 1.12,
            "count": 0
           },
           {
            "bin_start": 1.12,
            "bin_end": 1.1800000000000002,
            "count": 3
           },
           {
            "bin_start": 1.1800000000000002,
            "bin_end": 1.2400000000000002,
            "count": 0
           },
           {
            "bin_start": 1.2400000000000002,
            "bin_end": 1.3,
            "count": 1
           }
          ]
         }
        },
        {
         "name": "FTI Measured",
         "dtype": "object",
         "stats": {
          "unique_count": 2,
          "nan_count": 0,
          "categories": [
           {
            "name": "t",
            "count": 18
           },
           {
            "name": "f",
            "count": 2
           }
          ]
         }
        },
        {
         "name": "FTI",
         "dtype": "float64",
         "stats": {
          "unique_count": 17,
          "nan_count": 2,
          "min": "70.0",
          "max": "153.0",
          "histogram": [
           {
            "bin_start": 70,
            "bin_end": 78.3,
            "count": 2
           },
           {
            "bin_start": 78.3,
            "bin_end": 86.6,
            "count": 1
           },
           {
            "bin_start": 86.6,
            "bin_end": 94.9,
            "count": 2
           },
           {
            "bin_start": 94.9,
            "bin_end": 103.2,
            "count": 0
           },
           {
            "bin_start": 103.2,
            "bin_end": 111.5,
            "count": 3
           },
           {
            "bin_start": 111.5,
            "bin_end": 119.80000000000001,
            "count": 2
           },
           {
            "bin_start": 119.80000000000001,
            "bin_end": 128.10000000000002,
            "count": 3
           },
           {
            "bin_start": 128.10000000000002,
            "bin_end": 136.4,
            "count": 2
           },
           {
            "bin_start": 136.4,
            "bin_end": 144.7,
            "count": 1
           },
           {
            "bin_start": 144.7,
            "bin_end": 153,
            "count": 2
           }
          ]
         }
        },
        {
         "name": "Referral Source",
         "dtype": "object",
         "stats": {
          "unique_count": 3,
          "nan_count": 0,
          "categories": [
           {
            "name": "other",
            "count": 9
           },
           {
            "name": "SVI",
            "count": 8
           },
           {
            "name": "SVHC",
            "count": 3
           }
          ]
         }
        },
        {
         "name": "Class",
         "dtype": "object",
         "stats": {
          "unique_count": 2,
          "nan_count": 0,
          "categories": [
           {
            "name": "negative",
            "count": 19
           },
           {
            "name": "compensated hypothyroid",
            "count": 1
           }
          ]
         }
        },
        {
         "name": "_deepnote_index_column",
         "dtype": "int64"
        }
       ],
       "rows": [
        {
         "Age": 41,
         "Sex": "F",
         "On Thyroxine": "f",
         "Query on Thyroxine": "f",
         "On Antithyroid Medication": "f",
         "Sick": "f",
         "Pregnant": "f",
         "Thyroid Surgery": "f",
         "I131 Treatment": "f",
         "Query Hypothyroid": "f",
         "Query Hyperthyroid": "f",
         "Lithium": "f",
         "Goiter": "f",
         "Tumor": "f",
         "Hypopituitary": "f",
         "Psych": "f",
         "TSH Measured": "t",
         "TSH": 1.3,
         "T3 Measured": "t",
         "T3": 2.5,
         "TT4 Measured": "t",
         "TT4": 125,
         "T4U Measured": "t",
         "T4U": 1.14,
         "FTI Measured": "t",
         "FTI": 109,
         "Referral Source": "SVHC",
         "Class": "negative",
         "_deepnote_index_column": 0
        },
        {
         "Age": 23,
         "Sex": "F",
         "On Thyroxine": "f",
         "Query on Thyroxine": "f",
         "On Antithyroid Medication": "f",
         "Sick": "f",
         "Pregnant": "f",
         "Thyroid Surgery": "f",
         "I131 Treatment": "f",
         "Query Hypothyroid": "f",
         "Query Hyperthyroid": "f",
         "Lithium": "f",
         "Goiter": "f",
         "Tumor": "f",
         "Hypopituitary": "f",
         "Psych": "f",
         "TSH Measured": "t",
         "TSH": 4.1,
         "T3 Measured": "t",
         "T3": 2,
         "TT4 Measured": "t",
         "TT4": 102,
         "T4U Measured": "f",
         "T4U": "nan",
         "FTI Measured": "f",
         "FTI": "nan",
         "Referral Source": "other",
         "Class": "negative",
         "_deepnote_index_column": 1
        },
        {
         "Age": 46,
         "Sex": "M",
         "On Thyroxine": "f",
         "Query on Thyroxine": "f",
         "On Antithyroid Medication": "f",
         "Sick": "f",
         "Pregnant": "f",
         "Thyroid Surgery": "f",
         "I131 Treatment": "f",
         "Query Hypothyroid": "f",
         "Query Hyperthyroid": "f",
         "Lithium": "f",
         "Goiter": "f",
         "Tumor": "f",
         "Hypopituitary": "f",
         "Psych": "f",
         "TSH Measured": "t",
         "TSH": 0.98,
         "T3 Measured": "f",
         "T3": "nan",
         "TT4 Measured": "t",
         "TT4": 109,
         "T4U Measured": "t",
         "T4U": 0.91,
         "FTI Measured": "t",
         "FTI": 120,
         "Referral Source": "other",
         "Class": "negative",
         "_deepnote_index_column": 2
        },
        {
         "Age": 70,
         "Sex": "F",
         "On Thyroxine": "t",
         "Query on Thyroxine": "f",
         "On Antithyroid Medication": "f",
         "Sick": "f",
         "Pregnant": "f",
         "Thyroid Surgery": "f",
         "I131 Treatment": "f",
         "Query Hypothyroid": "f",
         "Query Hyperthyroid": "f",
         "Lithium": "f",
         "Goiter": "f",
         "Tumor": "f",
         "Hypopituitary": "f",
         "Psych": "f",
         "TSH Measured": "t",
         "TSH": 0.16,
         "T3 Measured": "t",
         "T3": 1.9,
         "TT4 Measured": "t",
         "TT4": 175,
         "T4U Measured": "f",
         "T4U": "nan",
         "FTI Measured": "f",
         "FTI": "nan",
         "Referral Source": "other",
         "Class": "negative",
         "_deepnote_index_column": 3
        },
        {
         "Age": 70,
         "Sex": "F",
         "On Thyroxine": "f",
         "Query on Thyroxine": "f",
         "On Antithyroid Medication": "f",
         "Sick": "f",
         "Pregnant": "f",
         "Thyroid Surgery": "f",
         "I131 Treatment": "f",
         "Query Hypothyroid": "f",
         "Query Hyperthyroid": "f",
         "Lithium": "f",
         "Goiter": "f",
         "Tumor": "f",
         "Hypopituitary": "f",
         "Psych": "f",
         "TSH Measured": "t",
         "TSH": 0.72,
         "T3 Measured": "t",
         "T3": 1.2,
         "TT4 Measured": "t",
         "TT4": 61,
         "T4U Measured": "t",
         "T4U": 0.87,
         "FTI Measured": "t",
         "FTI": 70,
         "Referral Source": "SVI",
         "Class": "negative",
         "_deepnote_index_column": 4
        },
        {
         "Age": 18,
         "Sex": "F",
         "On Thyroxine": "t",
         "Query on Thyroxine": "f",
         "On Antithyroid Medication": "f",
         "Sick": "f",
         "Pregnant": "f",
         "Thyroid Surgery": "f",
         "I131 Treatment": "f",
         "Query Hypothyroid": "f",
         "Query Hyperthyroid": "f",
         "Lithium": "f",
         "Goiter": "f",
         "Tumor": "f",
         "Hypopituitary": "f",
         "Psych": "f",
         "TSH Measured": "t",
         "TSH": 0.03,
         "T3 Measured": "f",
         "T3": "nan",
         "TT4 Measured": "t",
         "TT4": 183,
         "T4U Measured": "t",
         "T4U": 1.3,
         "FTI Measured": "t",
         "FTI": 141,
         "Referral Source": "other",
         "Class": "negative",
         "_deepnote_index_column": 5
        },
        {
         "Age": 59,
         "Sex": "F",
         "On Thyroxine": "f",
         "Query on Thyroxine": "f",
         "On Antithyroid Medication": "f",
         "Sick": "f",
         "Pregnant": "f",
         "Thyroid Surgery": "f",
         "I131 Treatment": "f",
         "Query Hypothyroid": "f",
         "Query Hyperthyroid": "f",
         "Lithium": "f",
         "Goiter": "f",
         "Tumor": "f",
         "Hypopituitary": "f",
         "Psych": "f",
         "TSH Measured": "f",
         "TSH": "nan",
         "T3 Measured": "f",
         "T3": "nan",
         "TT4 Measured": "t",
         "TT4": 72,
         "T4U Measured": "t",
         "T4U": 0.92,
         "FTI Measured": "t",
         "FTI": 78,
         "Referral Source": "other",
         "Class": "negative",
         "_deepnote_index_column": 6
        },
        {
         "Age": 80,
         "Sex": "F",
         "On Thyroxine": "f",
         "Query on Thyroxine": "f",
         "On Antithyroid Medication": "f",
         "Sick": "f",
         "Pregnant": "f",
         "Thyroid Surgery": "f",
         "I131 Treatment": "f",
         "Query Hypothyroid": "f",
         "Query Hyperthyroid": "f",
         "Lithium": "f",
         "Goiter": "f",
         "Tumor": "f",
         "Hypopituitary": "f",
         "Psych": "f",
         "TSH Measured": "t",
         "TSH": 2.2,
         "T3 Measured": "t",
         "T3": 0.6,
         "TT4 Measured": "t",
         "TT4": 80,
         "T4U Measured": "t",
         "T4U": 0.7,
         "FTI Measured": "t",
         "FTI": 115,
         "Referral Source": "SVI",
         "Class": "negative",
         "_deepnote_index_column": 7
        },
        {
         "Age": 66,
         "Sex": "F",
         "On Thyroxine": "f",
         "Query on Thyroxine": "f",
         "On Antithyroid Medication": "f",
         "Sick": "f",
         "Pregnant": "f",
         "Thyroid Surgery": "f",
         "I131 Treatment": "f",
         "Query Hypothyroid": "f",
         "Query Hyperthyroid": "f",
         "Lithium": "f",
         "Goiter": "f",
         "Tumor": "t",
         "Hypopituitary": "f",
         "Psych": "f",
         "TSH Measured": "t",
         "TSH": 0.6,
         "T3 Measured": "t",
         "T3": 2.2,
         "TT4 Measured": "t",
         "TT4": 123,
         "T4U Measured": "t",
         "T4U": 0.93,
         "FTI Measured": "t",
         "FTI": 132,
         "Referral Source": "SVI",
         "Class": "negative",
         "_deepnote_index_column": 8
        },
        {
         "Age": 68,
         "Sex": "M",
         "On Thyroxine": "f",
         "Query on Thyroxine": "f",
         "On Antithyroid Medication": "f",
         "Sick": "f",
         "Pregnant": "f",
         "Thyroid Surgery": "f",
         "I131 Treatment": "f",
         "Query Hypothyroid": "f",
         "Query Hyperthyroid": "f",
         "Lithium": "f",
         "Goiter": "f",
         "Tumor": "f",
         "Hypopituitary": "f",
         "Psych": "f",
         "TSH Measured": "t",
         "TSH": 2.4,
         "T3 Measured": "t",
         "T3": 1.6,
         "TT4 Measured": "t",
         "TT4": 83,
         "T4U Measured": "t",
         "T4U": 0.89,
         "FTI Measured": "t",
         "FTI": 93,
         "Referral Source": "SVI",
         "Class": "negative",
         "_deepnote_index_column": 9
        }
       ]
      },
      "text/plain": "     Age  Sex On Thyroxine Query on Thyroxine On Antithyroid Medication Sick  \\\n0   41.0    F            f                  f                         f    f   \n1   23.0    F            f                  f                         f    f   \n2   46.0    M            f                  f                         f    f   \n3   70.0    F            t                  f                         f    f   \n4   70.0    F            f                  f                         f    f   \n5   18.0    F            t                  f                         f    f   \n6   59.0    F            f                  f                         f    f   \n7   80.0    F            f                  f                         f    f   \n8   66.0    F            f                  f                         f    f   \n9   68.0    M            f                  f                         f    f   \n10  84.0    F            f                  f                         f    f   \n11  67.0    F            t                  f                         f    f   \n12  71.0    F            f                  f                         f    t   \n13  59.0    F            f                  f                         f    f   \n14  28.0    M            f                  f                         f    f   \n15  65.0    F            f                  f                         f    f   \n16  42.0  NaN            f                  f                         f    f   \n17  63.0    F            f                  f                         f    f   \n18  80.0    F            f                  f                         f    f   \n19  28.0    M            f                  f                         f    f   \n\n   Pregnant Thyroid Surgery I131 Treatment Query Hypothyroid  ... T3 Measured  \\\n0         f               f              f                 f  ...           t   \n1         f               f              f                 f  ...           t   \n2         f               f              f                 f  ...           f   \n3         f               f              f                 f  ...           t   \n4         f               f              f                 f  ...           t   \n5         f               f              f                 f  ...           f   \n6         f               f              f                 f  ...           f   \n7         f               f              f                 f  ...           t   \n8         f               f              f                 f  ...           t   \n9         f               f              f                 f  ...           t   \n10        f               f              f                 f  ...           t   \n11        f               f              f                 f  ...           f   \n12        f               f              f                 f  ...           t   \n13        f               f              f                 f  ...           t   \n14        f               f              f                 f  ...           t   \n15        f               f              f                 t  ...           f   \n16        f               f              f                 f  ...           t   \n17        f               f              f                 f  ...           t   \n18        f               f              f                 f  ...           t   \n19        f               f              f                 f  ...           t   \n\n     T3 TT4 Measured    TT4 T4U Measured   T4U FTI Measured    FTI  \\\n0   2.5            t  125.0            t  1.14            t  109.0   \n1   2.0            t  102.0            f   NaN            f    NaN   \n2   NaN            t  109.0            t  0.91            t  120.0   \n3   1.9            t  175.0            f   NaN            f    NaN   \n4   1.2            t   61.0            t  0.87            t   70.0   \n5   NaN            t  183.0            t  1.30            t  141.0   \n6   NaN            t   72.0            t  0.92            t   78.0   \n7   0.6            t   80.0            t  0.70            t  115.0   \n8   2.2            t  123.0            t  0.93            t  132.0   \n9   1.6            t   83.0            t  0.89            t   93.0   \n10  2.2            t  115.0            t  0.95            t  121.0   \n11  NaN            t  152.0            t  0.99            t  153.0   \n12  3.8            t  171.0            t  1.13            t  151.0   \n13  1.7            t   97.0            t  0.91            t  107.0   \n14  1.8            t  109.0            t  0.91            t  119.0   \n15  NaN            t   99.0            t  1.14            t   87.0   \n16  1.8            t   70.0            t  0.86            t   81.0   \n17  1.2            t  117.0            t  0.96            t  121.0   \n18  1.6            t   99.0            t  0.95            t  104.0   \n19  2.6            t  121.0            t  0.94            t  130.0   \n\n   Referral Source                    Class  \n0             SVHC                 negative  \n1            other                 negative  \n2            other                 negative  \n3            other                 negative  \n4              SVI                 negative  \n5            other                 negative  \n6            other                 negative  \n7              SVI                 negative  \n8              SVI                 negative  \n9              SVI                 negative  \n10             SVI                 negative  \n11           other                 negative  \n12           other                 negative  \n13             SVI                 negative  \n14            SVHC                 negative  \n15           other  compensated hypothyroid  \n16           other                 negative  \n17             SVI                 negative  \n18             SVI                 negative  \n19            SVHC                 negative  \n\n[20 rows x 28 columns]",
      "text/html": "<div>\n<style scoped>\n    .dataframe tbody tr th:only-of-type {\n        vertical-align: middle;\n    }\n\n    .dataframe tbody tr th {\n        vertical-align: top;\n    }\n\n    .dataframe thead th {\n        text-align: right;\n    }\n</style>\n<table border=\"1\" class=\"dataframe\">\n  <thead>\n    <tr style=\"text-align: right;\">\n      <th></th>\n      <th>Age</th>\n      <th>Sex</th>\n      <th>On Thyroxine</th>\n      <th>Query on Thyroxine</th>\n      <th>On Antithyroid Medication</th>\n      <th>Sick</th>\n      <th>Pregnant</th>\n      <th>Thyroid Surgery</th>\n      <th>I131 Treatment</th>\n      <th>Query Hypothyroid</th>\n      <th>...</th>\n      <th>T3 Measured</th>\n      <th>T3</th>\n      <th>TT4 Measured</th>\n      <th>TT4</th>\n      <th>T4U Measured</th>\n      <th>T4U</th>\n      <th>FTI Measured</th>\n      <th>FTI</th>\n      <th>Referral Source</th>\n      <th>Class</th>\n    </tr>\n  </thead>\n  <tbody>\n    <tr>\n      <th>0</th>\n      <td>41.0</td>\n      <td>F</td>\n      <td>f</td>\n      <td>f</td>\n      <td>f</td>\n      <td>f</td>\n      <td>f</td>\n      <td>f</td>\n      <td>f</td>\n      <td>f</td>\n      <td>...</td>\n      <td>t</td>\n      <td>2.5</td>\n      <td>t</td>\n      <td>125.0</td>\n      <td>t</td>\n      <td>1.14</td>\n      <td>t</td>\n      <td>109.0</td>\n      <td>SVHC</td>\n      <td>negative</td>\n    </tr>\n    <tr>\n      <th>1</th>\n      <td>23.0</td>\n      <td>F</td>\n      <td>f</td>\n      <td>f</td>\n      <td>f</td>\n      <td>f</td>\n      <td>f</td>\n      <td>f</td>\n      <td>f</td>\n      <td>f</td>\n      <td>...</td>\n      <td>t</td>\n      <td>2.0</td>\n      <td>t</td>\n      <td>102.0</td>\n      <td>f</td>\n      <td>NaN</td>\n      <td>f</td>\n      <td>NaN</td>\n      <td>other</td>\n      <td>negative</td>\n    </tr>\n    <tr>\n      <th>2</th>\n      <td>46.0</td>\n      <td>M</td>\n      <td>f</td>\n      <td>f</td>\n      <td>f</td>\n      <td>f</td>\n      <td>f</td>\n      <td>f</td>\n      <td>f</td>\n      <td>f</td>\n      <td>...</td>\n      <td>f</td>\n      <td>NaN</td>\n      <td>t</td>\n      <td>109.0</td>\n      <td>t</td>\n      <td>0.91</td>\n      <td>t</td>\n      <td>120.0</td>\n      <td>other</td>\n      <td>negative</td>\n    </tr>\n    <tr>\n      <th>3</th>\n      <td>70.0</td>\n      <td>F</td>\n      <td>t</td>\n      <td>f</td>\n      <td>f</td>\n      <td>f</td>\n      <td>f</td>\n      <td>f</td>\n      <td>f</td>\n      <td>f</td>\n      <td>...</td>\n      <td>t</td>\n      <td>1.9</td>\n      <td>t</td>\n      <td>175.0</td>\n      <td>f</td>\n      <td>NaN</td>\n      <td>f</td>\n      <td>NaN</td>\n      <td>other</td>\n      <td>negative</td>\n    </tr>\n    <tr>\n      <th>4</th>\n      <td>70.0</td>\n      <td>F</td>\n      <td>f</td>\n      <td>f</td>\n      <td>f</td>\n      <td>f</td>\n      <td>f</td>\n      <td>f</td>\n      <td>f</td>\n      <td>f</td>\n      <td>...</td>\n      <td>t</td>\n      <td>1.2</td>\n      <td>t</td>\n      <td>61.0</td>\n      <td>t</td>\n      <td>0.87</td>\n      <td>t</td>\n      <td>70.0</td>\n      <td>SVI</td>\n      <td>negative</td>\n    </tr>\n    <tr>\n      <th>5</th>\n      <td>18.0</td>\n      <td>F</td>\n      <td>t</td>\n      <td>f</td>\n      <td>f</td>\n      <td>f</td>\n      <td>f</td>\n      <td>f</td>\n      <td>f</td>\n      <td>f</td>\n      <td>...</td>\n      <td>f</td>\n      <td>NaN</td>\n      <td>t</td>\n      <td>183.0</td>\n      <td>t</td>\n      <td>1.30</td>\n      <td>t</td>\n      <td>141.0</td>\n      <td>other</td>\n      <td>negative</td>\n    </tr>\n    <tr>\n      <th>6</th>\n      <td>59.0</td>\n      <td>F</td>\n      <td>f</td>\n      <td>f</td>\n      <td>f</td>\n      <td>f</td>\n      <td>f</td>\n      <td>f</td>\n      <td>f</td>\n      <td>f</td>\n      <td>...</td>\n      <td>f</td>\n      <td>NaN</td>\n      <td>t</td>\n      <td>72.0</td>\n      <td>t</td>\n      <td>0.92</td>\n      <td>t</td>\n      <td>78.0</td>\n      <td>other</td>\n      <td>negative</td>\n    </tr>\n    <tr>\n      <th>7</th>\n      <td>80.0</td>\n      <td>F</td>\n      <td>f</td>\n      <td>f</td>\n      <td>f</td>\n      <td>f</td>\n      <td>f</td>\n      <td>f</td>\n      <td>f</td>\n      <td>f</td>\n      <td>...</td>\n      <td>t</td>\n      <td>0.6</td>\n      <td>t</td>\n      <td>80.0</td>\n      <td>t</td>\n      <td>0.70</td>\n      <td>t</td>\n      <td>115.0</td>\n      <td>SVI</td>\n      <td>negative</td>\n    </tr>\n    <tr>\n      <th>8</th>\n      <td>66.0</td>\n      <td>F</td>\n      <td>f</td>\n      <td>f</td>\n      <td>f</td>\n      <td>f</td>\n      <td>f</td>\n      <td>f</td>\n      <td>f</td>\n      <td>f</td>\n      <td>...</td>\n      <td>t</td>\n      <td>2.2</td>\n      <td>t</td>\n      <td>123.0</td>\n      <td>t</td>\n      <td>0.93</td>\n      <td>t</td>\n      <td>132.0</td>\n      <td>SVI</td>\n      <td>negative</td>\n    </tr>\n    <tr>\n      <th>9</th>\n      <td>68.0</td>\n      <td>M</td>\n      <td>f</td>\n      <td>f</td>\n      <td>f</td>\n      <td>f</td>\n      <td>f</td>\n      <td>f</td>\n      <td>f</td>\n      <td>f</td>\n      <td>...</td>\n      <td>t</td>\n      <td>1.6</td>\n      <td>t</td>\n      <td>83.0</td>\n      <td>t</td>\n      <td>0.89</td>\n      <td>t</td>\n      <td>93.0</td>\n      <td>SVI</td>\n      <td>negative</td>\n    </tr>\n    <tr>\n      <th>10</th>\n      <td>84.0</td>\n      <td>F</td>\n      <td>f</td>\n      <td>f</td>\n      <td>f</td>\n      <td>f</td>\n      <td>f</td>\n      <td>f</td>\n      <td>f</td>\n      <td>f</td>\n      <td>...</td>\n      <td>t</td>\n      <td>2.2</td>\n      <td>t</td>\n      <td>115.0</td>\n      <td>t</td>\n      <td>0.95</td>\n      <td>t</td>\n      <td>121.0</td>\n      <td>SVI</td>\n      <td>negative</td>\n    </tr>\n    <tr>\n      <th>11</th>\n      <td>67.0</td>\n      <td>F</td>\n      <td>t</td>\n      <td>f</td>\n      <td>f</td>\n      <td>f</td>\n      <td>f</td>\n      <td>f</td>\n      <td>f</td>\n      <td>f</td>\n      <td>...</td>\n      <td>f</td>\n      <td>NaN</td>\n      <td>t</td>\n      <td>152.0</td>\n      <td>t</td>\n      <td>0.99</td>\n      <td>t</td>\n      <td>153.0</td>\n      <td>other</td>\n      <td>negative</td>\n    </tr>\n    <tr>\n      <th>12</th>\n      <td>71.0</td>\n      <td>F</td>\n      <td>f</td>\n      <td>f</td>\n      <td>f</td>\n      <td>t</td>\n      <td>f</td>\n      <td>f</td>\n      <td>f</td>\n      <td>f</td>\n      <td>...</td>\n      <td>t</td>\n      <td>3.8</td>\n      <td>t</td>\n      <td>171.0</td>\n      <td>t</td>\n      <td>1.13</td>\n      <td>t</td>\n      <td>151.0</td>\n      <td>other</td>\n      <td>negative</td>\n    </tr>\n    <tr>\n      <th>13</th>\n      <td>59.0</td>\n      <td>F</td>\n      <td>f</td>\n      <td>f</td>\n      <td>f</td>\n      <td>f</td>\n      <td>f</td>\n      <td>f</td>\n      <td>f</td>\n      <td>f</td>\n      <td>...</td>\n      <td>t</td>\n      <td>1.7</td>\n      <td>t</td>\n      <td>97.0</td>\n      <td>t</td>\n      <td>0.91</td>\n      <td>t</td>\n      <td>107.0</td>\n      <td>SVI</td>\n      <td>negative</td>\n    </tr>\n    <tr>\n      <th>14</th>\n      <td>28.0</td>\n      <td>M</td>\n      <td>f</td>\n      <td>f</td>\n      <td>f</td>\n      <td>f</td>\n      <td>f</td>\n      <td>f</td>\n      <td>f</td>\n      <td>f</td>\n      <td>...</td>\n      <td>t</td>\n      <td>1.8</td>\n      <td>t</td>\n      <td>109.0</td>\n      <td>t</td>\n      <td>0.91</td>\n      <td>t</td>\n      <td>119.0</td>\n      <td>SVHC</td>\n      <td>negative</td>\n    </tr>\n    <tr>\n      <th>15</th>\n      <td>65.0</td>\n      <td>F</td>\n      <td>f</td>\n      <td>f</td>\n      <td>f</td>\n      <td>f</td>\n      <td>f</td>\n      <td>f</td>\n      <td>f</td>\n      <td>t</td>\n      <td>...</td>\n      <td>f</td>\n      <td>NaN</td>\n      <td>t</td>\n      <td>99.0</td>\n      <td>t</td>\n      <td>1.14</td>\n      <td>t</td>\n      <td>87.0</td>\n      <td>other</td>\n      <td>compensated hypothyroid</td>\n    </tr>\n    <tr>\n      <th>16</th>\n      <td>42.0</td>\n      <td>NaN</td>\n      <td>f</td>\n      <td>f</td>\n      <td>f</td>\n      <td>f</td>\n      <td>f</td>\n      <td>f</td>\n      <td>f</td>\n      <td>f</td>\n      <td>...</td>\n      <td>t</td>\n      <td>1.8</td>\n      <td>t</td>\n      <td>70.0</td>\n      <td>t</td>\n      <td>0.86</td>\n      <td>t</td>\n      <td>81.0</td>\n      <td>other</td>\n      <td>negative</td>\n    </tr>\n    <tr>\n      <th>17</th>\n      <td>63.0</td>\n      <td>F</td>\n      <td>f</td>\n      <td>f</td>\n      <td>f</td>\n      <td>f</td>\n      <td>f</td>\n      <td>f</td>\n      <td>f</td>\n      <td>f</td>\n      <td>...</td>\n      <td>t</td>\n      <td>1.2</td>\n      <td>t</td>\n      <td>117.0</td>\n      <td>t</td>\n      <td>0.96</td>\n      <td>t</td>\n      <td>121.0</td>\n      <td>SVI</td>\n      <td>negative</td>\n    </tr>\n    <tr>\n      <th>18</th>\n      <td>80.0</td>\n      <td>F</td>\n      <td>f</td>\n      <td>f</td>\n      <td>f</td>\n      <td>f</td>\n      <td>f</td>\n      <td>f</td>\n      <td>f</td>\n      <td>f</td>\n      <td>...</td>\n      <td>t</td>\n      <td>1.6</td>\n      <td>t</td>\n      <td>99.0</td>\n      <td>t</td>\n      <td>0.95</td>\n      <td>t</td>\n      <td>104.0</td>\n      <td>SVI</td>\n      <td>negative</td>\n    </tr>\n    <tr>\n      <th>19</th>\n      <td>28.0</td>\n      <td>M</td>\n      <td>f</td>\n      <td>f</td>\n      <td>f</td>\n      <td>f</td>\n      <td>f</td>\n      <td>f</td>\n      <td>f</td>\n      <td>f</td>\n      <td>...</td>\n      <td>t</td>\n      <td>2.6</td>\n      <td>t</td>\n      <td>121.0</td>\n      <td>t</td>\n      <td>0.94</td>\n      <td>t</td>\n      <td>130.0</td>\n      <td>SVHC</td>\n      <td>negative</td>\n    </tr>\n  </tbody>\n</table>\n<p>20 rows × 28 columns</p>\n</div>"
     },
     "metadata": {}
    }
   ]
  },
  {
   "cell_type": "markdown",
   "source": "Let's run the describe() function on just the \"class\" column.",
   "metadata": {
    "colab_type": "text",
    "id": "KYOwWnpqhQvd",
    "cell_id": "00019-66ba0c9c-aabd-4e07-a944-81504329dd89",
    "deepnote_cell_type": "markdown",
    "deepnote_cell_height": 52.390625
   }
  },
  {
   "cell_type": "code",
   "metadata": {
    "colab": {
     "autoexec": {
      "startup": false,
      "wait_interval": 0
     },
     "base_uri": "https://localhost:8080/",
     "height": 105
    },
    "colab_type": "code",
    "executionInfo": {
     "elapsed": 272,
     "status": "ok",
     "timestamp": 1531117211963,
     "user": {
      "displayName": "Lyle Lalunio",
      "photoUrl": "https://lh3.googleusercontent.com/a/default-user=s128",
      "userId": "108954789805627648380"
     },
     "user_tz": 240
    },
    "id": "cq_v45R8hP5A",
    "outputId": "5db97e80-a424-49c9-d58f-a7126894d1c6",
    "cell_id": "00020-1367e747-df0b-414e-b579-f4332435c8e1",
    "deepnote_to_be_reexecuted": false,
    "source_hash": "49976322",
    "execution_start": 1657921463747,
    "execution_millis": 310,
    "deepnote_cell_type": "code",
    "deepnote_cell_height": 194.9375
   },
   "source": "dataset['Class'].describe()",
   "execution_count": null,
   "outputs": [
    {
     "output_type": "execute_result",
     "execution_count": 9,
     "data": {
      "text/plain": "count         2800\nunique           4\ntop       negative\nfreq          2580\nName: Class, dtype: object"
     },
     "metadata": {}
    }
   ]
  },
  {
   "cell_type": "markdown",
   "source": "It looks like there are actually 4 unique classification variables! Thank goodness we didn't assume it was binary.\n\nDisplay all the unique values in the class column.",
   "metadata": {
    "colab_type": "text",
    "id": "m6S7Y6VXhYct",
    "cell_id": "00021-214b1f27-55d2-4b14-962a-ee2f6a40d7a6",
    "deepnote_cell_type": "markdown",
    "deepnote_cell_height": 88.78125
   }
  },
  {
   "cell_type": "code",
   "metadata": {
    "colab": {
     "autoexec": {
      "startup": false,
      "wait_interval": 0
     }
    },
    "colab_type": "code",
    "id": "oH0fTzzvE-oF",
    "cell_id": "00022-2741982f-4184-478c-8307-06e618d5d71a",
    "deepnote_to_be_reexecuted": false,
    "source_hash": "725f0a86",
    "execution_start": 1657921463799,
    "execution_millis": 260,
    "deepnote_cell_type": "code",
    "deepnote_cell_height": 155.375,
    "deepnote_output_heights": [
     40.375
    ]
   },
   "source": "### Your code here\ndataset['Class'].unique()",
   "execution_count": null,
   "outputs": [
    {
     "output_type": "execute_result",
     "execution_count": 10,
     "data": {
      "text/plain": "array(['negative', 'compensated hypothyroid', 'primary hypothyroid',\n       'secondary hypothyroid'], dtype=object)"
     },
     "metadata": {}
    }
   ]
  },
  {
   "cell_type": "markdown",
   "source": "But let's make it binary for the sake of this example anyway. If you finish early later on, try the multiclass classifier with all 4 values!",
   "metadata": {
    "colab_type": "text",
    "id": "aBrmRJHakpWm",
    "cell_id": "00023-d91a3557-da51-49d2-a0b0-b1ba913c638f",
    "deepnote_cell_type": "markdown",
    "deepnote_cell_height": 52.390625
   }
  },
  {
   "cell_type": "code",
   "metadata": {
    "colab": {
     "autoexec": {
      "startup": false,
      "wait_interval": 0
     }
    },
    "colab_type": "code",
    "id": "HwqVoUFTkoa0",
    "cell_id": "00024-df72775d-91e6-4626-b40c-db048f27370d",
    "deepnote_to_be_reexecuted": false,
    "source_hash": "b04a7cc8",
    "execution_start": 1657921463800,
    "execution_millis": 261,
    "deepnote_table_state": {
     "pageSize": 10,
     "pageIndex": 1,
     "filters": [],
     "sortBy": []
    },
    "deepnote_table_loading": false,
    "deepnote_cell_type": "code",
    "deepnote_cell_height": 707
   },
   "source": "dataset['Class'] = dataset['Class'].replace('negative', 0)                    \ndataset['Class'] = dataset['Class'].replace('compensated hypothyroid', 1)     \ndataset['Class'] = dataset['Class'].replace('primary hypothyroid', 1)         \ndataset['Class'] = dataset['Class'].replace('secondary hypothyroid', 1)\n\ndataset.head(100)",
   "execution_count": null,
   "outputs": [
    {
     "output_type": "execute_result",
     "execution_count": 11,
     "data": {
      "application/vnd.deepnote.dataframe.v3+json": {
       "column_count": 28,
       "row_count": 100,
       "columns": [
        {
         "name": "Age",
         "dtype": "float64",
         "stats": {
          "unique_count": 53,
          "nan_count": 0,
          "min": "18.0",
          "max": "87.0",
          "histogram": [
           {
            "bin_start": 18,
            "bin_end": 24.9,
            "count": 5
           },
           {
            "bin_start": 24.9,
            "bin_end": 31.8,
            "count": 10
           },
           {
            "bin_start": 31.8,
            "bin_end": 38.7,
            "count": 7
           },
           {
            "bin_start": 38.7,
            "bin_end": 45.6,
            "count": 12
           },
           {
            "bin_start": 45.6,
            "bin_end": 52.5,
            "count": 7
           },
           {
            "bin_start": 52.5,
            "bin_end": 59.400000000000006,
            "count": 10
           },
           {
            "bin_start": 59.400000000000006,
            "bin_end": 66.30000000000001,
            "count": 15
           },
           {
            "bin_start": 66.30000000000001,
            "bin_end": 73.2,
            "count": 18
           },
           {
            "bin_start": 73.2,
            "bin_end": 80.1,
            "count": 8
           },
           {
            "bin_start": 80.1,
            "bin_end": 87,
            "count": 8
           }
          ]
         }
        },
        {
         "name": "Sex",
         "dtype": "object",
         "stats": {
          "unique_count": 2,
          "nan_count": 9,
          "categories": [
           {
            "name": "F",
            "count": 68
           },
           {
            "name": "M",
            "count": 23
           },
           {
            "name": "Missing",
            "count": 9
           }
          ]
         }
        },
        {
         "name": "On Thyroxine",
         "dtype": "object",
         "stats": {
          "unique_count": 2,
          "nan_count": 0,
          "categories": [
           {
            "name": "f",
            "count": 91
           },
           {
            "name": "t",
            "count": 9
           }
          ]
         }
        },
        {
         "name": "Query on Thyroxine",
         "dtype": "object",
         "stats": {
          "unique_count": 2,
          "nan_count": 0,
          "categories": [
           {
            "name": "f",
            "count": 98
           },
           {
            "name": "t",
            "count": 2
           }
          ]
         }
        },
        {
         "name": "On Antithyroid Medication",
         "dtype": "object",
         "stats": {
          "unique_count": 2,
          "nan_count": 0,
          "categories": [
           {
            "name": "f",
            "count": 99
           },
           {
            "name": "t",
            "count": 1
           }
          ]
         }
        },
        {
         "name": "Sick",
         "dtype": "object",
         "stats": {
          "unique_count": 2,
          "nan_count": 0,
          "categories": [
           {
            "name": "f",
            "count": 95
           },
           {
            "name": "t",
            "count": 5
           }
          ]
         }
        },
        {
         "name": "Pregnant",
         "dtype": "object",
         "stats": {
          "unique_count": 2,
          "nan_count": 0,
          "categories": [
           {
            "name": "f",
            "count": 99
           },
           {
            "name": "t",
            "count": 1
           }
          ]
         }
        },
        {
         "name": "Thyroid Surgery",
         "dtype": "object",
         "stats": {
          "unique_count": 1,
          "nan_count": 0,
          "categories": [
           {
            "name": "f",
            "count": 100
           }
          ]
         }
        },
        {
         "name": "I131 Treatment",
         "dtype": "object",
         "stats": {
          "unique_count": 1,
          "nan_count": 0,
          "categories": [
           {
            "name": "f",
            "count": 100
           }
          ]
         }
        },
        {
         "name": "Query Hypothyroid",
         "dtype": "object",
         "stats": {
          "unique_count": 2,
          "nan_count": 0,
          "categories": [
           {
            "name": "f",
            "count": 97
           },
           {
            "name": "t",
            "count": 3
           }
          ]
         }
        },
        {
         "name": "Query Hyperthyroid",
         "dtype": "object",
         "stats": {
          "unique_count": 2,
          "nan_count": 0,
          "categories": [
           {
            "name": "f",
            "count": 96
           },
           {
            "name": "t",
            "count": 4
           }
          ]
         }
        },
        {
         "name": "Lithium",
         "dtype": "object",
         "stats": {
          "unique_count": 1,
          "nan_count": 0,
          "categories": [
           {
            "name": "f",
            "count": 100
           }
          ]
         }
        },
        {
         "name": "Goiter",
         "dtype": "object",
         "stats": {
          "unique_count": 2,
          "nan_count": 0,
          "categories": [
           {
            "name": "f",
            "count": 99
           },
           {
            "name": "t",
            "count": 1
           }
          ]
         }
        },
        {
         "name": "Tumor",
         "dtype": "object",
         "stats": {
          "unique_count": 2,
          "nan_count": 0,
          "categories": [
           {
            "name": "f",
            "count": 95
           },
           {
            "name": "t",
            "count": 5
           }
          ]
         }
        },
        {
         "name": "Hypopituitary",
         "dtype": "object",
         "stats": {
          "unique_count": 1,
          "nan_count": 0,
          "categories": [
           {
            "name": "f",
            "count": 100
           }
          ]
         }
        },
        {
         "name": "Psych",
         "dtype": "object",
         "stats": {
          "unique_count": 2,
          "nan_count": 0,
          "categories": [
           {
            "name": "f",
            "count": 97
           },
           {
            "name": "t",
            "count": 3
           }
          ]
         }
        },
        {
         "name": "TSH Measured",
         "dtype": "object",
         "stats": {
          "unique_count": 2,
          "nan_count": 0,
          "categories": [
           {
            "name": "t",
            "count": 90
           },
           {
            "name": "f",
            "count": 10
           }
          ]
         }
        },
        {
         "name": "TSH",
         "dtype": "float64",
         "stats": {
          "unique_count": 60,
          "nan_count": 10,
          "min": "0.005",
          "max": "160.0",
          "histogram": [
           {
            "bin_start": 0.005,
            "bin_end": 16.0045,
            "count": 87
           },
           {
            "bin_start": 16.0045,
            "bin_end": 32.004000000000005,
            "count": 1
           },
           {
            "bin_start": 32.004000000000005,
            "bin_end": 48.00350000000001,
            "count": 1
           },
           {
            "bin_start": 48.00350000000001,
            "bin_end": 64.003,
            "count": 0
           },
           {
            "bin_start": 64.003,
            "bin_end": 80.0025,
            "count": 0
           },
           {
            "bin_start": 80.0025,
            "bin_end": 96.00200000000001,
            "count": 0
           },
           {
            "bin_start": 96.00200000000001,
            "bin_end": 112.00150000000001,
            "count": 0
           },
           {
            "bin_start": 112.00150000000001,
            "bin_end": 128.001,
            "count": 0
           },
           {
            "bin_start": 128.001,
            "bin_end": 144.00050000000002,
            "count": 0
           },
           {
            "bin_start": 144.00050000000002,
            "bin_end": 160,
            "count": 1
           }
          ]
         }
        },
        {
         "name": "T3 Measured",
         "dtype": "object",
         "stats": {
          "unique_count": 2,
          "nan_count": 0,
          "categories": [
           {
            "name": "t",
            "count": 75
           },
           {
            "name": "f",
            "count": 25
           }
          ]
         }
        },
        {
         "name": "T3",
         "dtype": "float64",
         "stats": {
          "unique_count": 27,
          "nan_count": 25,
          "min": "0.3",
          "max": "5.5",
          "histogram": [
           {
            "bin_start": 0.3,
            "bin_end": 0.8200000000000001,
            "count": 5
           },
           {
            "bin_start": 0.8200000000000001,
            "bin_end": 1.34,
            "count": 6
           },
           {
            "bin_start": 1.34,
            "bin_end": 1.86,
            "count": 26
           },
           {
            "bin_start": 1.86,
            "bin_end": 2.38,
            "count": 20
           },
           {
            "bin_start": 2.38,
            "bin_end": 2.9,
            "count": 12
           },
           {
            "bin_start": 2.9,
            "bin_end": 3.42,
            "count": 4
           },
           {
            "bin_start": 3.42,
            "bin_end": 3.94,
            "count": 1
           },
           {
            "bin_start": 3.94,
            "bin_end": 4.46,
            "count": 0
           },
           {
            "bin_start": 4.46,
            "bin_end": 4.9799999999999995,
            "count": 0
           },
           {
            "bin_start": 4.9799999999999995,
            "bin_end": 5.5,
            "count": 1
           }
          ]
         }
        },
        {
         "name": "TT4 Measured",
         "dtype": "object",
         "stats": {
          "unique_count": 2,
          "nan_count": 0,
          "categories": [
           {
            "name": "t",
            "count": 95
           },
           {
            "name": "f",
            "count": 5
           }
          ]
         }
        },
        {
         "name": "TT4",
         "dtype": "float64",
         "stats": {
          "unique_count": 69,
          "nan_count": 5,
          "min": "11.0",
          "max": "237.0",
          "histogram": [
           {
            "bin_start": 11,
            "bin_end": 33.6,
            "count": 2
           },
           {
            "bin_start": 33.6,
            "bin_end": 56.2,
            "count": 2
           },
           {
            "bin_start": 56.2,
            "bin_end": 78.80000000000001,
            "count": 11
           },
           {
            "bin_start": 78.80000000000001,
            "bin_end": 101.4,
            "count": 27
           },
           {
            "bin_start": 101.4,
            "bin_end": 124,
            "count": 28
           },
           {
            "bin_start": 124,
            "bin_end": 146.60000000000002,
            "count": 12
           },
           {
            "bin_start": 146.60000000000002,
            "bin_end": 169.20000000000002,
            "count": 8
           },
           {
            "bin_start": 169.20000000000002,
            "bin_end": 191.8,
            "count": 3
           },
           {
            "bin_start": 191.8,
            "bin_end": 214.4,
            "count": 1
           },
           {
            "bin_start": 214.4,
            "bin_end": 237,
            "count": 1
           }
          ]
         }
        },
        {
         "name": "T4U Measured",
         "dtype": "object",
         "stats": {
          "unique_count": 2,
          "nan_count": 0,
          "categories": [
           {
            "name": "t",
            "count": 92
           },
           {
            "name": "f",
            "count": 8
           }
          ]
         }
        },
        {
         "name": "T4U",
         "dtype": "float64",
         "stats": {
          "unique_count": 52,
          "nan_count": 8,
          "min": "0.53",
          "max": "1.63",
          "histogram": [
           {
            "bin_start": 0.53,
            "bin_end": 0.64,
            "count": 3
           },
           {
            "bin_start": 0.64,
            "bin_end": 0.75,
            "count": 4
           },
           {
            "bin_start": 0.75,
            "bin_end": 0.86,
            "count": 12
           },
           {
            "bin_start": 0.86,
            "bin_end": 0.97,
            "count": 36
           },
           {
            "bin_start": 0.97,
            "bin_end": 1.08,
            "count": 14
           },
           {
            "bin_start": 1.08,
            "bin_end": 1.19,
            "count": 11
           },
           {
            "bin_start": 1.19,
            "bin_end": 1.2999999999999998,
            "count": 3
           },
           {
            "bin_start": 1.2999999999999998,
            "bin_end": 1.41,
            "count": 4
           },
           {
            "bin_start": 1.41,
            "bin_end": 1.52,
            "count": 2
           },
           {
            "bin_start": 1.52,
            "bin_end": 1.63,
            "count": 3
           }
          ]
         }
        },
        {
         "name": "FTI Measured",
         "dtype": "object",
         "stats": {
          "unique_count": 2,
          "nan_count": 0,
          "categories": [
           {
            "name": "t",
            "count": 92
           },
           {
            "name": "f",
            "count": 8
           }
          ]
         }
        },
        {
         "name": "FTI",
         "dtype": "float64",
         "stats": {
          "unique_count": 65,
          "nan_count": 8,
          "min": "8.9",
          "max": "203.0",
          "histogram": [
           {
            "bin_start": 8.9,
            "bin_end": 28.310000000000002,
            "count": 1
           },
           {
            "bin_start": 28.310000000000002,
            "bin_end": 47.72,
            "count": 2
           },
           {
            "bin_start": 47.72,
            "bin_end": 67.13000000000001,
            "count": 3
           },
           {
            "bin_start": 67.13000000000001,
            "bin_end": 86.54,
            "count": 9
           },
           {
            "bin_start": 86.54,
            "bin_end": 105.95,
            "count": 28
           },
           {
            "bin_start": 105.95,
            "bin_end": 125.36000000000001,
            "count": 25
           },
           {
            "bin_start": 125.36000000000001,
            "bin_end": 144.77,
            "count": 12
           },
           {
            "bin_start": 144.77,
            "bin_end": 164.18,
            "count": 7
           },
           {
            "bin_start": 164.18,
            "bin_end": 183.59,
            "count": 2
           },
           {
            "bin_start": 183.59,
            "bin_end": 203,
            "count": 3
           }
          ]
         }
        },
        {
         "name": "Referral Source",
         "dtype": "object",
         "stats": {
          "unique_count": 5,
          "nan_count": 0,
          "categories": [
           {
            "name": "other",
            "count": 53
           },
           {
            "name": "SVI",
            "count": 35
           },
           {
            "name": "3 others",
            "count": 12
           }
          ]
         }
        },
        {
         "name": "Class",
         "dtype": "int64",
         "stats": {
          "unique_count": 2,
          "nan_count": 0,
          "min": "0",
          "max": "1",
          "histogram": [
           {
            "bin_start": 0,
            "bin_end": 0.1,
            "count": 93
           },
           {
            "bin_start": 0.1,
            "bin_end": 0.2,
            "count": 0
           },
           {
            "bin_start": 0.2,
            "bin_end": 0.30000000000000004,
            "count": 0
           },
           {
            "bin_start": 0.30000000000000004,
            "bin_end": 0.4,
            "count": 0
           },
           {
            "bin_start": 0.4,
            "bin_end": 0.5,
            "count": 0
           },
           {
            "bin_start": 0.5,
            "bin_end": 0.6000000000000001,
            "count": 0
           },
           {
            "bin_start": 0.6000000000000001,
            "bin_end": 0.7000000000000001,
            "count": 0
           },
           {
            "bin_start": 0.7000000000000001,
            "bin_end": 0.8,
            "count": 0
           },
           {
            "bin_start": 0.8,
            "bin_end": 0.9,
            "count": 0
           },
           {
            "bin_start": 0.9,
            "bin_end": 1,
            "count": 7
           }
          ]
         }
        },
        {
         "name": "_deepnote_index_column",
         "dtype": "int64"
        }
       ],
       "rows": [
        {
         "Age": 84,
         "Sex": "F",
         "On Thyroxine": "f",
         "Query on Thyroxine": "f",
         "On Antithyroid Medication": "f",
         "Sick": "f",
         "Pregnant": "f",
         "Thyroid Surgery": "f",
         "I131 Treatment": "f",
         "Query Hypothyroid": "f",
         "Query Hyperthyroid": "f",
         "Lithium": "f",
         "Goiter": "f",
         "Tumor": "t",
         "Hypopituitary": "f",
         "Psych": "f",
         "TSH Measured": "t",
         "TSH": 1.1,
         "T3 Measured": "t",
         "T3": 2.2,
         "TT4 Measured": "t",
         "TT4": 115,
         "T4U Measured": "t",
         "T4U": 0.95,
         "FTI Measured": "t",
         "FTI": 121,
         "Referral Source": "SVI",
         "Class": 0,
         "_deepnote_index_column": 10
        },
        {
         "Age": 67,
         "Sex": "F",
         "On Thyroxine": "t",
         "Query on Thyroxine": "f",
         "On Antithyroid Medication": "f",
         "Sick": "f",
         "Pregnant": "f",
         "Thyroid Surgery": "f",
         "I131 Treatment": "f",
         "Query Hypothyroid": "f",
         "Query Hyperthyroid": "f",
         "Lithium": "f",
         "Goiter": "f",
         "Tumor": "f",
         "Hypopituitary": "f",
         "Psych": "f",
         "TSH Measured": "t",
         "TSH": 0.03,
         "T3 Measured": "f",
         "T3": "nan",
         "TT4 Measured": "t",
         "TT4": 152,
         "T4U Measured": "t",
         "T4U": 0.99,
         "FTI Measured": "t",
         "FTI": 153,
         "Referral Source": "other",
         "Class": 0,
         "_deepnote_index_column": 11
        },
        {
         "Age": 71,
         "Sex": "F",
         "On Thyroxine": "f",
         "Query on Thyroxine": "f",
         "On Antithyroid Medication": "f",
         "Sick": "t",
         "Pregnant": "f",
         "Thyroid Surgery": "f",
         "I131 Treatment": "f",
         "Query Hypothyroid": "f",
         "Query Hyperthyroid": "t",
         "Lithium": "f",
         "Goiter": "f",
         "Tumor": "f",
         "Hypopituitary": "f",
         "Psych": "f",
         "TSH Measured": "t",
         "TSH": 0.03,
         "T3 Measured": "t",
         "T3": 3.8,
         "TT4 Measured": "t",
         "TT4": 171,
         "T4U Measured": "t",
         "T4U": 1.13,
         "FTI Measured": "t",
         "FTI": 151,
         "Referral Source": "other",
         "Class": 0,
         "_deepnote_index_column": 12
        },
        {
         "Age": 59,
         "Sex": "F",
         "On Thyroxine": "f",
         "Query on Thyroxine": "f",
         "On Antithyroid Medication": "f",
         "Sick": "f",
         "Pregnant": "f",
         "Thyroid Surgery": "f",
         "I131 Treatment": "f",
         "Query Hypothyroid": "f",
         "Query Hyperthyroid": "f",
         "Lithium": "f",
         "Goiter": "f",
         "Tumor": "f",
         "Hypopituitary": "f",
         "Psych": "f",
         "TSH Measured": "t",
         "TSH": 2.8,
         "T3 Measured": "t",
         "T3": 1.7,
         "TT4 Measured": "t",
         "TT4": 97,
         "T4U Measured": "t",
         "T4U": 0.91,
         "FTI Measured": "t",
         "FTI": 107,
         "Referral Source": "SVI",
         "Class": 0,
         "_deepnote_index_column": 13
        },
        {
         "Age": 28,
         "Sex": "M",
         "On Thyroxine": "f",
         "Query on Thyroxine": "f",
         "On Antithyroid Medication": "f",
         "Sick": "f",
         "Pregnant": "f",
         "Thyroid Surgery": "f",
         "I131 Treatment": "f",
         "Query Hypothyroid": "f",
         "Query Hyperthyroid": "f",
         "Lithium": "f",
         "Goiter": "f",
         "Tumor": "f",
         "Hypopituitary": "f",
         "Psych": "f",
         "TSH Measured": "t",
         "TSH": 3.3,
         "T3 Measured": "t",
         "T3": 1.8,
         "TT4 Measured": "t",
         "TT4": 109,
         "T4U Measured": "t",
         "T4U": 0.91,
         "FTI Measured": "t",
         "FTI": 119,
         "Referral Source": "SVHC",
         "Class": 0,
         "_deepnote_index_column": 14
        },
        {
         "Age": 65,
         "Sex": "F",
         "On Thyroxine": "f",
         "Query on Thyroxine": "f",
         "On Antithyroid Medication": "f",
         "Sick": "f",
         "Pregnant": "f",
         "Thyroid Surgery": "f",
         "I131 Treatment": "f",
         "Query Hypothyroid": "t",
         "Query Hyperthyroid": "f",
         "Lithium": "f",
         "Goiter": "f",
         "Tumor": "f",
         "Hypopituitary": "f",
         "Psych": "f",
         "TSH Measured": "t",
         "TSH": 12,
         "T3 Measured": "f",
         "T3": "nan",
         "TT4 Measured": "t",
         "TT4": 99,
         "T4U Measured": "t",
         "T4U": 1.14,
         "FTI Measured": "t",
         "FTI": 87,
         "Referral Source": "other",
         "Class": 1,
         "_deepnote_index_column": 15
        },
        {
         "Age": 42,
         "Sex": "nan",
         "On Thyroxine": "f",
         "Query on Thyroxine": "f",
         "On Antithyroid Medication": "f",
         "Sick": "f",
         "Pregnant": "f",
         "Thyroid Surgery": "f",
         "I131 Treatment": "f",
         "Query Hypothyroid": "f",
         "Query Hyperthyroid": "f",
         "Lithium": "f",
         "Goiter": "f",
         "Tumor": "f",
         "Hypopituitary": "f",
         "Psych": "f",
         "TSH Measured": "t",
         "TSH": 1.2,
         "T3 Measured": "t",
         "T3": 1.8,
         "TT4 Measured": "t",
         "TT4": 70,
         "T4U Measured": "t",
         "T4U": 0.86,
         "FTI Measured": "t",
         "FTI": 81,
         "Referral Source": "other",
         "Class": 0,
         "_deepnote_index_column": 16
        },
        {
         "Age": 63,
         "Sex": "F",
         "On Thyroxine": "f",
         "Query on Thyroxine": "f",
         "On Antithyroid Medication": "f",
         "Sick": "f",
         "Pregnant": "f",
         "Thyroid Surgery": "f",
         "I131 Treatment": "f",
         "Query Hypothyroid": "f",
         "Query Hyperthyroid": "f",
         "Lithium": "f",
         "Goiter": "f",
         "Tumor": "f",
         "Hypopituitary": "f",
         "Psych": "f",
         "TSH Measured": "t",
         "TSH": 1.5,
         "T3 Measured": "t",
         "T3": 1.2,
         "TT4 Measured": "t",
         "TT4": 117,
         "T4U Measured": "t",
         "T4U": 0.96,
         "FTI Measured": "t",
         "FTI": 121,
         "Referral Source": "SVI",
         "Class": 0,
         "_deepnote_index_column": 17
        },
        {
         "Age": 80,
         "Sex": "F",
         "On Thyroxine": "f",
         "Query on Thyroxine": "f",
         "On Antithyroid Medication": "f",
         "Sick": "f",
         "Pregnant": "f",
         "Thyroid Surgery": "f",
         "I131 Treatment": "f",
         "Query Hypothyroid": "f",
         "Query Hyperthyroid": "f",
         "Lithium": "f",
         "Goiter": "f",
         "Tumor": "f",
         "Hypopituitary": "f",
         "Psych": "t",
         "TSH Measured": "t",
         "TSH": 6,
         "T3 Measured": "t",
         "T3": 1.6,
         "TT4 Measured": "t",
         "TT4": 99,
         "T4U Measured": "t",
         "T4U": 0.95,
         "FTI Measured": "t",
         "FTI": 104,
         "Referral Source": "SVI",
         "Class": 0,
         "_deepnote_index_column": 18
        },
        {
         "Age": 28,
         "Sex": "M",
         "On Thyroxine": "f",
         "Query on Thyroxine": "f",
         "On Antithyroid Medication": "f",
         "Sick": "f",
         "Pregnant": "f",
         "Thyroid Surgery": "f",
         "I131 Treatment": "f",
         "Query Hypothyroid": "f",
         "Query Hyperthyroid": "f",
         "Lithium": "f",
         "Goiter": "f",
         "Tumor": "f",
         "Hypopituitary": "f",
         "Psych": "t",
         "TSH Measured": "t",
         "TSH": 2.1,
         "T3 Measured": "t",
         "T3": 2.6,
         "TT4 Measured": "t",
         "TT4": 121,
         "T4U Measured": "t",
         "T4U": 0.94,
         "FTI Measured": "t",
         "FTI": 130,
         "Referral Source": "SVHC",
         "Class": 0,
         "_deepnote_index_column": 19
        }
       ]
      },
      "text/plain": "     Age  Sex On Thyroxine Query on Thyroxine On Antithyroid Medication Sick  \\\n0   41.0    F            f                  f                         f    f   \n1   23.0    F            f                  f                         f    f   \n2   46.0    M            f                  f                         f    f   \n3   70.0    F            t                  f                         f    f   \n4   70.0    F            f                  f                         f    f   \n..   ...  ...          ...                ...                       ...  ...   \n95  26.0    F            f                  f                         f    f   \n96  59.0  NaN            f                  f                         f    f   \n97  39.0    F            f                  f                         t    f   \n98  69.0    F            f                  f                         f    f   \n99  48.0    F            f                  f                         f    f   \n\n   Pregnant Thyroid Surgery I131 Treatment Query Hypothyroid  ... T3 Measured  \\\n0         f               f              f                 f  ...           t   \n1         f               f              f                 f  ...           t   \n2         f               f              f                 f  ...           f   \n3         f               f              f                 f  ...           t   \n4         f               f              f                 f  ...           t   \n..      ...             ...            ...               ...  ...         ...   \n95        f               f              f                 f  ...           f   \n96        f               f              f                 f  ...           f   \n97        f               f              f                 f  ...           t   \n98        f               f              f                 f  ...           f   \n99        f               f              f                 f  ...           t   \n\n     T3 TT4 Measured    TT4 T4U Measured   T4U FTI Measured    FTI  \\\n0   2.5            t  125.0            t  1.14            t  109.0   \n1   2.0            t  102.0            f   NaN            f    NaN   \n2   NaN            t  109.0            t  0.91            t  120.0   \n3   1.9            t  175.0            f   NaN            f    NaN   \n4   1.2            t   61.0            t  0.87            t   70.0   \n..  ...          ...    ...          ...   ...          ...    ...   \n95  NaN            t  137.0            t  1.63            t   84.0   \n96  NaN            t   92.0            t  0.93            t   99.0   \n97  2.4            t  135.0            t  1.51            t   89.0   \n98  NaN            t  123.0            t  0.91            t  136.0   \n99  1.6            t   86.0            t  0.93            t   92.0   \n\n   Referral Source  Class  \n0             SVHC      0  \n1            other      0  \n2            other      0  \n3            other      0  \n4              SVI      0  \n..             ...    ...  \n95           other      0  \n96             SVI      0  \n97           other      0  \n98             SVI      0  \n99             SVI      0  \n\n[100 rows x 28 columns]",
      "text/html": "<div>\n<style scoped>\n    .dataframe tbody tr th:only-of-type {\n        vertical-align: middle;\n    }\n\n    .dataframe tbody tr th {\n        vertical-align: top;\n    }\n\n    .dataframe thead th {\n        text-align: right;\n    }\n</style>\n<table border=\"1\" class=\"dataframe\">\n  <thead>\n    <tr style=\"text-align: right;\">\n      <th></th>\n      <th>Age</th>\n      <th>Sex</th>\n      <th>On Thyroxine</th>\n      <th>Query on Thyroxine</th>\n      <th>On Antithyroid Medication</th>\n      <th>Sick</th>\n      <th>Pregnant</th>\n      <th>Thyroid Surgery</th>\n      <th>I131 Treatment</th>\n      <th>Query Hypothyroid</th>\n      <th>...</th>\n      <th>T3 Measured</th>\n      <th>T3</th>\n      <th>TT4 Measured</th>\n      <th>TT4</th>\n      <th>T4U Measured</th>\n      <th>T4U</th>\n      <th>FTI Measured</th>\n      <th>FTI</th>\n      <th>Referral Source</th>\n      <th>Class</th>\n    </tr>\n  </thead>\n  <tbody>\n    <tr>\n      <th>0</th>\n      <td>41.0</td>\n      <td>F</td>\n      <td>f</td>\n      <td>f</td>\n      <td>f</td>\n      <td>f</td>\n      <td>f</td>\n      <td>f</td>\n      <td>f</td>\n      <td>f</td>\n      <td>...</td>\n      <td>t</td>\n      <td>2.5</td>\n      <td>t</td>\n      <td>125.0</td>\n      <td>t</td>\n      <td>1.14</td>\n      <td>t</td>\n      <td>109.0</td>\n      <td>SVHC</td>\n      <td>0</td>\n    </tr>\n    <tr>\n      <th>1</th>\n      <td>23.0</td>\n      <td>F</td>\n      <td>f</td>\n      <td>f</td>\n      <td>f</td>\n      <td>f</td>\n      <td>f</td>\n      <td>f</td>\n      <td>f</td>\n      <td>f</td>\n      <td>...</td>\n      <td>t</td>\n      <td>2.0</td>\n      <td>t</td>\n      <td>102.0</td>\n      <td>f</td>\n      <td>NaN</td>\n      <td>f</td>\n      <td>NaN</td>\n      <td>other</td>\n      <td>0</td>\n    </tr>\n    <tr>\n      <th>2</th>\n      <td>46.0</td>\n      <td>M</td>\n      <td>f</td>\n      <td>f</td>\n      <td>f</td>\n      <td>f</td>\n      <td>f</td>\n      <td>f</td>\n      <td>f</td>\n      <td>f</td>\n      <td>...</td>\n      <td>f</td>\n      <td>NaN</td>\n      <td>t</td>\n      <td>109.0</td>\n      <td>t</td>\n      <td>0.91</td>\n      <td>t</td>\n      <td>120.0</td>\n      <td>other</td>\n      <td>0</td>\n    </tr>\n    <tr>\n      <th>3</th>\n      <td>70.0</td>\n      <td>F</td>\n      <td>t</td>\n      <td>f</td>\n      <td>f</td>\n      <td>f</td>\n      <td>f</td>\n      <td>f</td>\n      <td>f</td>\n      <td>f</td>\n      <td>...</td>\n      <td>t</td>\n      <td>1.9</td>\n      <td>t</td>\n      <td>175.0</td>\n      <td>f</td>\n      <td>NaN</td>\n      <td>f</td>\n      <td>NaN</td>\n      <td>other</td>\n      <td>0</td>\n    </tr>\n    <tr>\n      <th>4</th>\n      <td>70.0</td>\n      <td>F</td>\n      <td>f</td>\n      <td>f</td>\n      <td>f</td>\n      <td>f</td>\n      <td>f</td>\n      <td>f</td>\n      <td>f</td>\n      <td>f</td>\n      <td>...</td>\n      <td>t</td>\n      <td>1.2</td>\n      <td>t</td>\n      <td>61.0</td>\n      <td>t</td>\n      <td>0.87</td>\n      <td>t</td>\n      <td>70.0</td>\n      <td>SVI</td>\n      <td>0</td>\n    </tr>\n    <tr>\n      <th>...</th>\n      <td>...</td>\n      <td>...</td>\n      <td>...</td>\n      <td>...</td>\n      <td>...</td>\n      <td>...</td>\n      <td>...</td>\n      <td>...</td>\n      <td>...</td>\n      <td>...</td>\n      <td>...</td>\n      <td>...</td>\n      <td>...</td>\n      <td>...</td>\n      <td>...</td>\n      <td>...</td>\n      <td>...</td>\n      <td>...</td>\n      <td>...</td>\n      <td>...</td>\n      <td>...</td>\n    </tr>\n    <tr>\n      <th>95</th>\n      <td>26.0</td>\n      <td>F</td>\n      <td>f</td>\n      <td>f</td>\n      <td>f</td>\n      <td>f</td>\n      <td>f</td>\n      <td>f</td>\n      <td>f</td>\n      <td>f</td>\n      <td>...</td>\n      <td>f</td>\n      <td>NaN</td>\n      <td>t</td>\n      <td>137.0</td>\n      <td>t</td>\n      <td>1.63</td>\n      <td>t</td>\n      <td>84.0</td>\n      <td>other</td>\n      <td>0</td>\n    </tr>\n    <tr>\n      <th>96</th>\n      <td>59.0</td>\n      <td>NaN</td>\n      <td>f</td>\n      <td>f</td>\n      <td>f</td>\n      <td>f</td>\n      <td>f</td>\n      <td>f</td>\n      <td>f</td>\n      <td>f</td>\n      <td>...</td>\n      <td>f</td>\n      <td>NaN</td>\n      <td>t</td>\n      <td>92.0</td>\n      <td>t</td>\n      <td>0.93</td>\n      <td>t</td>\n      <td>99.0</td>\n      <td>SVI</td>\n      <td>0</td>\n    </tr>\n    <tr>\n      <th>97</th>\n      <td>39.0</td>\n      <td>F</td>\n      <td>f</td>\n      <td>f</td>\n      <td>t</td>\n      <td>f</td>\n      <td>f</td>\n      <td>f</td>\n      <td>f</td>\n      <td>f</td>\n      <td>...</td>\n      <td>t</td>\n      <td>2.4</td>\n      <td>t</td>\n      <td>135.0</td>\n      <td>t</td>\n      <td>1.51</td>\n      <td>t</td>\n      <td>89.0</td>\n      <td>other</td>\n      <td>0</td>\n    </tr>\n    <tr>\n      <th>98</th>\n      <td>69.0</td>\n      <td>F</td>\n      <td>f</td>\n      <td>f</td>\n      <td>f</td>\n      <td>f</td>\n      <td>f</td>\n      <td>f</td>\n      <td>f</td>\n      <td>f</td>\n      <td>...</td>\n      <td>f</td>\n      <td>NaN</td>\n      <td>t</td>\n      <td>123.0</td>\n      <td>t</td>\n      <td>0.91</td>\n      <td>t</td>\n      <td>136.0</td>\n      <td>SVI</td>\n      <td>0</td>\n    </tr>\n    <tr>\n      <th>99</th>\n      <td>48.0</td>\n      <td>F</td>\n      <td>f</td>\n      <td>f</td>\n      <td>f</td>\n      <td>f</td>\n      <td>f</td>\n      <td>f</td>\n      <td>f</td>\n      <td>f</td>\n      <td>...</td>\n      <td>t</td>\n      <td>1.6</td>\n      <td>t</td>\n      <td>86.0</td>\n      <td>t</td>\n      <td>0.93</td>\n      <td>t</td>\n      <td>92.0</td>\n      <td>SVI</td>\n      <td>0</td>\n    </tr>\n  </tbody>\n</table>\n<p>100 rows × 28 columns</p>\n</div>"
     },
     "metadata": {}
    }
   ]
  },
  {
   "cell_type": "markdown",
   "source": "Before we move on, let's not forget to run the describe() function on just  your categorical columns, too.\nCompare it to the describe() that your numeric columns produce.",
   "metadata": {
    "colab_type": "text",
    "id": "jbgWOvekhluw",
    "cell_id": "00025-4254945e-4327-4176-99e3-1513627b43ec",
    "deepnote_cell_type": "markdown",
    "deepnote_cell_height": 74.78125
   }
  },
  {
   "cell_type": "code",
   "metadata": {
    "cell_id": "0c3426c1885d49cea165cb6b501a18b0",
    "tags": [],
    "deepnote_to_be_reexecuted": false,
    "source_hash": "ba26103c",
    "execution_start": 1657921463894,
    "execution_millis": 167,
    "deepnote_cell_type": "code",
    "deepnote_cell_height": 518
   },
   "source": "dataset[numeric_columns].describe()",
   "execution_count": null,
   "outputs": [
    {
     "output_type": "execute_result",
     "execution_count": 12,
     "data": {
      "application/vnd.deepnote.dataframe.v3+json": {
       "column_count": 6,
       "row_count": 8,
       "columns": [
        {
         "name": "Age",
         "dtype": "float64",
         "stats": {
          "unique_count": 8,
          "nan_count": 0,
          "min": "1.0",
          "max": "2799.0",
          "histogram": [
           {
            "bin_start": 1,
            "bin_end": 280.8,
            "count": 6
           },
           {
            "bin_start": 280.8,
            "bin_end": 560.6,
            "count": 1
           },
           {
            "bin_start": 560.6,
            "bin_end": 840.4000000000001,
            "count": 0
           },
           {
            "bin_start": 840.4000000000001,
            "bin_end": 1120.2,
            "count": 0
           },
           {
            "bin_start": 1120.2,
            "bin_end": 1400,
            "count": 0
           },
           {
            "bin_start": 1400,
            "bin_end": 1679.8000000000002,
            "count": 0
           },
           {
            "bin_start": 1679.8000000000002,
            "bin_end": 1959.6000000000001,
            "count": 0
           },
           {
            "bin_start": 1959.6000000000001,
            "bin_end": 2239.4,
            "count": 0
           },
           {
            "bin_start": 2239.4,
            "bin_end": 2519.2000000000003,
            "count": 0
           },
           {
            "bin_start": 2519.2000000000003,
            "bin_end": 2799,
            "count": 1
           }
          ]
         }
        },
        {
         "name": "TSH",
         "dtype": "float64",
         "stats": {
          "unique_count": 8,
          "nan_count": 0,
          "min": "0.005",
          "max": "2516.0",
          "histogram": [
           {
            "bin_start": 0.005,
            "bin_end": 251.60449999999997,
            "count": 6
           },
           {
            "bin_start": 251.60449999999997,
            "bin_end": 503.20399999999995,
            "count": 1
           },
           {
            "bin_start": 503.20399999999995,
            "bin_end": 754.8034999999999,
            "count": 0
           },
           {
            "bin_start": 754.8034999999999,
            "bin_end": 1006.4029999999999,
            "count": 0
           },
           {
            "bin_start": 1006.4029999999999,
            "bin_end": 1258.0025,
            "count": 0
           },
           {
            "bin_start": 1258.0025,
            "bin_end": 1509.6019999999999,
            "count": 0
           },
           {
            "bin_start": 1509.6019999999999,
            "bin_end": 1761.2015,
            "count": 0
           },
           {
            "bin_start": 1761.2015,
            "bin_end": 2012.801,
            "count": 0
           },
           {
            "bin_start": 2012.801,
            "bin_end": 2264.4004999999997,
            "count": 0
           },
           {
            "bin_start": 2264.4004999999997,
            "bin_end": 2516,
            "count": 1
           }
          ]
         }
        },
        {
         "name": "T3",
         "dtype": "float64",
         "stats": {
          "unique_count": 8,
          "nan_count": 0,
          "min": "0.05",
          "max": "2215.0",
          "histogram": [
           {
            "bin_start": 0.05,
            "bin_end": 221.545,
            "count": 7
           },
           {
            "bin_start": 221.545,
            "bin_end": 443.03999999999996,
            "count": 0
           },
           {
            "bin_start": 443.03999999999996,
            "bin_end": 664.5349999999999,
            "count": 0
           },
           {
            "bin_start": 664.5349999999999,
            "bin_end": 886.0299999999999,
            "count": 0
           },
           {
            "bin_start": 886.0299999999999,
            "bin_end": 1107.5249999999999,
            "count": 0
           },
           {
            "bin_start": 1107.5249999999999,
            "bin_end": 1329.0199999999998,
            "count": 0
           },
           {
            "bin_start": 1329.0199999999998,
            "bin_end": 1550.5149999999999,
            "count": 0
           },
           {
            "bin_start": 1550.5149999999999,
            "bin_end": 1772.0099999999998,
            "count": 0
           },
           {
            "bin_start": 1772.0099999999998,
            "bin_end": 1993.5049999999997,
            "count": 0
           },
           {
            "bin_start": 1993.5049999999997,
            "bin_end": 2215,
            "count": 1
           }
          ]
         }
        },
        {
         "name": "TT4",
         "dtype": "float64",
         "stats": {
          "unique_count": 8,
          "nan_count": 0,
          "min": "2.0",
          "max": "2616.0",
          "histogram": [
           {
            "bin_start": 2,
            "bin_end": 263.4,
            "count": 6
           },
           {
            "bin_start": 263.4,
            "bin_end": 524.8,
            "count": 1
           },
           {
            "bin_start": 524.8,
            "bin_end": 786.1999999999999,
            "count": 0
           },
           {
            "bin_start": 786.1999999999999,
            "bin_end": 1047.6,
            "count": 0
           },
           {
            "bin_start": 1047.6,
            "bin_end": 1309,
            "count": 0
           },
           {
            "bin_start": 1309,
            "bin_end": 1570.3999999999999,
            "count": 0
           },
           {
            "bin_start": 1570.3999999999999,
            "bin_end": 1831.7999999999997,
            "count": 0
           },
           {
            "bin_start": 1831.7999999999997,
            "bin_end": 2093.2,
            "count": 0
           },
           {
            "bin_start": 2093.2,
            "bin_end": 2354.6,
            "count": 0
           },
           {
            "bin_start": 2354.6,
            "bin_end": 2616,
            "count": 1
           }
          ]
         }
        },
        {
         "name": "T4U",
         "dtype": "float64",
         "stats": {
          "unique_count": 8,
          "nan_count": 0,
          "min": "0.19439048263094486",
          "max": "2503.0",
          "histogram": [
           {
            "bin_start": 0.19439048263094486,
            "bin_end": 250.47495143436788,
            "count": 7
           },
           {
            "bin_start": 250.47495143436788,
            "bin_end": 500.7555123861048,
            "count": 0
           },
           {
            "bin_start": 500.7555123861048,
            "bin_end": 751.0360733378418,
            "count": 0
           },
           {
            "bin_start": 751.0360733378418,
            "bin_end": 1001.3166342895787,
            "count": 0
           },
           {
            "bin_start": 1001.3166342895787,
            "bin_end": 1251.5971952413156,
            "count": 0
           },
           {
            "bin_start": 1251.5971952413156,
            "bin_end": 1501.8777561930526,
            "count": 0
           },
           {
            "bin_start": 1501.8777561930526,
            "bin_end": 1752.1583171447894,
            "count": 0
           },
           {
            "bin_start": 1752.1583171447894,
            "bin_end": 2002.4388780965264,
            "count": 0
           },
           {
            "bin_start": 2002.4388780965264,
            "bin_end": 2252.719439048263,
            "count": 0
           },
           {
            "bin_start": 2252.719439048263,
            "bin_end": 2503,
            "count": 1
           }
          ]
         }
        },
        {
         "name": "FTI",
         "dtype": "float64",
         "stats": {
          "unique_count": 8,
          "nan_count": 0,
          "min": "2.0",
          "max": "2505.0",
          "histogram": [
           {
            "bin_start": 2,
            "bin_end": 252.3,
            "count": 6
           },
           {
            "bin_start": 252.3,
            "bin_end": 502.6,
            "count": 1
           },
           {
            "bin_start": 502.6,
            "bin_end": 752.9000000000001,
            "count": 0
           },
           {
            "bin_start": 752.9000000000001,
            "bin_end": 1003.2,
            "count": 0
           },
           {
            "bin_start": 1003.2,
            "bin_end": 1253.5,
            "count": 0
           },
           {
            "bin_start": 1253.5,
            "bin_end": 1503.8000000000002,
            "count": 0
           },
           {
            "bin_start": 1503.8000000000002,
            "bin_end": 1754.1000000000001,
            "count": 0
           },
           {
            "bin_start": 1754.1000000000001,
            "bin_end": 2004.4,
            "count": 0
           },
           {
            "bin_start": 2004.4,
            "bin_end": 2254.7000000000003,
            "count": 0
           },
           {
            "bin_start": 2254.7000000000003,
            "bin_end": 2505,
            "count": 1
           }
          ]
         }
        },
        {
         "name": "_deepnote_index_column",
         "dtype": "object"
        }
       ],
       "rows": [
        {
         "Age": 2799,
         "TSH": 2516,
         "T3": 2215,
         "TT4": 2616,
         "T4U": 2503,
         "FTI": 2505,
         "_deepnote_index_column": "count"
        },
        {
         "Age": 51.8442300821722,
         "TSH": 4.672150238473768,
         "T3": 2.024966139954853,
         "TT4": 109.07240061162081,
         "T4U": 0.9979121054734318,
         "FTI": 110.78798403193613,
         "_deepnote_index_column": "mean"
        },
        {
         "Age": 20.461160091922956,
         "TSH": 21.449452711830705,
         "T3": 0.8246004130606147,
         "TT4": 35.39244287077476,
         "T4U": 0.19439048263094486,
         "FTI": 32.88398578174966,
         "_deepnote_index_column": "std"
        },
        {
         "Age": 1,
         "TSH": 0.005,
         "T3": 0.05,
         "TT4": 2,
         "T4U": 0.31,
         "FTI": 2,
         "_deepnote_index_column": "min"
        },
        {
         "Age": 36,
         "TSH": 0.44,
         "T3": 1.6,
         "TT4": 88,
         "T4U": 0.88,
         "FTI": 93,
         "_deepnote_index_column": "25%"
        },
        {
         "Age": 54,
         "TSH": 1.4,
         "T3": 2,
         "TT4": 104,
         "T4U": 0.98,
         "FTI": 107,
         "_deepnote_index_column": "50%"
        },
        {
         "Age": 67,
         "TSH": 2.6,
         "T3": 2.4,
         "TT4": 125,
         "T4U": 1.08,
         "FTI": 124,
         "_deepnote_index_column": "75%"
        },
        {
         "Age": 455,
         "TSH": 478,
         "T3": 10.6,
         "TT4": 430,
         "T4U": 2.12,
         "FTI": 395,
         "_deepnote_index_column": "max"
        }
       ]
      },
      "text/plain": "              Age          TSH           T3          TT4          T4U  \\\ncount  2799.00000  2516.000000  2215.000000  2616.000000  2503.000000   \nmean     51.84423     4.672150     2.024966   109.072401     0.997912   \nstd      20.46116    21.449453     0.824600    35.392443     0.194390   \nmin       1.00000     0.005000     0.050000     2.000000     0.310000   \n25%      36.00000     0.440000     1.600000    88.000000     0.880000   \n50%      54.00000     1.400000     2.000000   104.000000     0.980000   \n75%      67.00000     2.600000     2.400000   125.000000     1.080000   \nmax     455.00000   478.000000    10.600000   430.000000     2.120000   \n\n               FTI  \ncount  2505.000000  \nmean    110.787984  \nstd      32.883986  \nmin       2.000000  \n25%      93.000000  \n50%     107.000000  \n75%     124.000000  \nmax     395.000000  ",
      "text/html": "<div>\n<style scoped>\n    .dataframe tbody tr th:only-of-type {\n        vertical-align: middle;\n    }\n\n    .dataframe tbody tr th {\n        vertical-align: top;\n    }\n\n    .dataframe thead th {\n        text-align: right;\n    }\n</style>\n<table border=\"1\" class=\"dataframe\">\n  <thead>\n    <tr style=\"text-align: right;\">\n      <th></th>\n      <th>Age</th>\n      <th>TSH</th>\n      <th>T3</th>\n      <th>TT4</th>\n      <th>T4U</th>\n      <th>FTI</th>\n    </tr>\n  </thead>\n  <tbody>\n    <tr>\n      <th>count</th>\n      <td>2799.00000</td>\n      <td>2516.000000</td>\n      <td>2215.000000</td>\n      <td>2616.000000</td>\n      <td>2503.000000</td>\n      <td>2505.000000</td>\n    </tr>\n    <tr>\n      <th>mean</th>\n      <td>51.84423</td>\n      <td>4.672150</td>\n      <td>2.024966</td>\n      <td>109.072401</td>\n      <td>0.997912</td>\n      <td>110.787984</td>\n    </tr>\n    <tr>\n      <th>std</th>\n      <td>20.46116</td>\n      <td>21.449453</td>\n      <td>0.824600</td>\n      <td>35.392443</td>\n      <td>0.194390</td>\n      <td>32.883986</td>\n    </tr>\n    <tr>\n      <th>min</th>\n      <td>1.00000</td>\n      <td>0.005000</td>\n      <td>0.050000</td>\n      <td>2.000000</td>\n      <td>0.310000</td>\n      <td>2.000000</td>\n    </tr>\n    <tr>\n      <th>25%</th>\n      <td>36.00000</td>\n      <td>0.440000</td>\n      <td>1.600000</td>\n      <td>88.000000</td>\n      <td>0.880000</td>\n      <td>93.000000</td>\n    </tr>\n    <tr>\n      <th>50%</th>\n      <td>54.00000</td>\n      <td>1.400000</td>\n      <td>2.000000</td>\n      <td>104.000000</td>\n      <td>0.980000</td>\n      <td>107.000000</td>\n    </tr>\n    <tr>\n      <th>75%</th>\n      <td>67.00000</td>\n      <td>2.600000</td>\n      <td>2.400000</td>\n      <td>125.000000</td>\n      <td>1.080000</td>\n      <td>124.000000</td>\n    </tr>\n    <tr>\n      <th>max</th>\n      <td>455.00000</td>\n      <td>478.000000</td>\n      <td>10.600000</td>\n      <td>430.000000</td>\n      <td>2.120000</td>\n      <td>395.000000</td>\n    </tr>\n  </tbody>\n</table>\n</div>"
     },
     "metadata": {}
    }
   ]
  },
  {
   "cell_type": "code",
   "metadata": {
    "colab": {
     "autoexec": {
      "startup": false,
      "wait_interval": 0
     }
    },
    "colab_type": "code",
    "id": "WHAZCbNAc5KT",
    "cell_id": "00026-53760f2b-50ed-4d67-88a0-c5c4877696c0",
    "deepnote_to_be_reexecuted": false,
    "source_hash": "36531163",
    "execution_start": 1657921464068,
    "execution_millis": 12,
    "deepnote_cell_type": "code",
    "deepnote_cell_height": 371
   },
   "source": "dataset[categorical_columns].describe()",
   "execution_count": null,
   "outputs": [
    {
     "output_type": "execute_result",
     "execution_count": 13,
     "data": {
      "application/vnd.deepnote.dataframe.v3+json": {
       "column_count": 21,
       "row_count": 4,
       "columns": [
        {
         "name": "Sick",
         "dtype": "object",
         "stats": {
          "unique_count": 4,
          "nan_count": 0,
          "categories": [
           {
            "name": "2800",
            "count": 1
           },
           {
            "name": "2",
            "count": 1
           },
           {
            "name": "2 others",
            "count": 2
           }
          ]
         }
        },
        {
         "name": "I131 Treatment",
         "dtype": "object",
         "stats": {
          "unique_count": 4,
          "nan_count": 0,
          "categories": [
           {
            "name": "2800",
            "count": 1
           },
           {
            "name": "2",
            "count": 1
           },
           {
            "name": "2 others",
            "count": 2
           }
          ]
         }
        },
        {
         "name": "TT4 Measured",
         "dtype": "object",
         "stats": {
          "unique_count": 4,
          "nan_count": 0,
          "categories": [
           {
            "name": "2800",
            "count": 1
           },
           {
            "name": "2",
            "count": 1
           },
           {
            "name": "2 others",
            "count": 2
           }
          ]
         }
        },
        {
         "name": "Query Hyperthyroid",
         "dtype": "object",
         "stats": {
          "unique_count": 4,
          "nan_count": 0,
          "categories": [
           {
            "name": "2800",
            "count": 1
           },
           {
            "name": "2",
            "count": 1
           },
           {
            "name": "2 others",
            "count": 2
           }
          ]
         }
        },
        {
         "name": "Query Hypothyroid",
         "dtype": "object",
         "stats": {
          "unique_count": 4,
          "nan_count": 0,
          "categories": [
           {
            "name": "2800",
            "count": 1
           },
           {
            "name": "2",
            "count": 1
           },
           {
            "name": "2 others",
            "count": 2
           }
          ]
         }
        },
        {
         "name": "T3 Measured",
         "dtype": "object",
         "stats": {
          "unique_count": 4,
          "nan_count": 0,
          "categories": [
           {
            "name": "2800",
            "count": 1
           },
           {
            "name": "2",
            "count": 1
           },
           {
            "name": "2 others",
            "count": 2
           }
          ]
         }
        },
        {
         "name": "Goiter",
         "dtype": "object",
         "stats": {
          "unique_count": 4,
          "nan_count": 0,
          "categories": [
           {
            "name": "2800",
            "count": 1
           },
           {
            "name": "2",
            "count": 1
           },
           {
            "name": "2 others",
            "count": 2
           }
          ]
         }
        },
        {
         "name": "On Thyroxine",
         "dtype": "object",
         "stats": {
          "unique_count": 4,
          "nan_count": 0,
          "categories": [
           {
            "name": "2800",
            "count": 1
           },
           {
            "name": "2",
            "count": 1
           },
           {
            "name": "2 others",
            "count": 2
           }
          ]
         }
        },
        {
         "name": "On Antithyroid Medication",
         "dtype": "object",
         "stats": {
          "unique_count": 4,
          "nan_count": 0,
          "categories": [
           {
            "name": "2800",
            "count": 1
           },
           {
            "name": "2",
            "count": 1
           },
           {
            "name": "2 others",
            "count": 2
           }
          ]
         }
        },
        {
         "name": "Pregnant",
         "dtype": "object",
         "stats": {
          "unique_count": 4,
          "nan_count": 0,
          "categories": [
           {
            "name": "2800",
            "count": 1
           },
           {
            "name": "2",
            "count": 1
           },
           {
            "name": "2 others",
            "count": 2
           }
          ]
         }
        },
        {
         "name": "Sex",
         "dtype": "object",
         "stats": {
          "unique_count": 4,
          "nan_count": 0,
          "categories": [
           {
            "name": "2690",
            "count": 1
           },
           {
            "name": "2",
            "count": 1
           },
           {
            "name": "2 others",
            "count": 2
           }
          ]
         }
        },
        {
         "name": "Psych",
         "dtype": "object",
         "stats": {
          "unique_count": 4,
          "nan_count": 0,
          "categories": [
           {
            "name": "2800",
            "count": 1
           },
           {
            "name": "2",
            "count": 1
           },
           {
            "name": "2 others",
            "count": 2
           }
          ]
         }
        },
        {
         "name": "Tumor",
         "dtype": "object",
         "stats": {
          "unique_count": 4,
          "nan_count": 0,
          "categories": [
           {
            "name": "2800",
            "count": 1
           },
           {
            "name": "2",
            "count": 1
           },
           {
            "name": "2 others",
            "count": 2
           }
          ]
         }
        },
        {
         "name": "Thyroid Surgery",
         "dtype": "object",
         "stats": {
          "unique_count": 4,
          "nan_count": 0,
          "categories": [
           {
            "name": "2800",
            "count": 1
           },
           {
            "name": "2",
            "count": 1
           },
           {
            "name": "2 others",
            "count": 2
           }
          ]
         }
        },
        {
         "name": "TSH Measured",
         "dtype": "object",
         "stats": {
          "unique_count": 4,
          "nan_count": 0,
          "categories": [
           {
            "name": "2800",
            "count": 1
           },
           {
            "name": "2",
            "count": 1
           },
           {
            "name": "2 others",
            "count": 2
           }
          ]
         }
        },
        {
         "name": "Referral Source",
         "dtype": "object",
         "stats": {
          "unique_count": 4,
          "nan_count": 0,
          "categories": [
           {
            "name": "2800",
            "count": 1
           },
           {
            "name": "5",
            "count": 1
           },
           {
            "name": "2 others",
            "count": 2
           }
          ]
         }
        },
        {
         "name": "Lithium",
         "dtype": "object",
         "stats": {
          "unique_count": 4,
          "nan_count": 0,
          "categories": [
           {
            "name": "2800",
            "count": 1
           },
           {
            "name": "2",
            "count": 1
           },
           {
            "name": "2 others",
            "count": 2
           }
          ]
         }
        },
        {
         "name": "Hypopituitary",
         "dtype": "object",
         "stats": {
          "unique_count": 4,
          "nan_count": 0,
          "categories": [
           {
            "name": "2800",
            "count": 1
           },
           {
            "name": "2",
            "count": 1
           },
           {
            "name": "2 others",
            "count": 2
           }
          ]
         }
        },
        {
         "name": "T4U Measured",
         "dtype": "object",
         "stats": {
          "unique_count": 4,
          "nan_count": 0,
          "categories": [
           {
            "name": "2800",
            "count": 1
           },
           {
            "name": "2",
            "count": 1
           },
           {
            "name": "2 others",
            "count": 2
           }
          ]
         }
        },
        {
         "name": "Query on Thyroxine",
         "dtype": "object",
         "stats": {
          "unique_count": 4,
          "nan_count": 0,
          "categories": [
           {
            "name": "2800",
            "count": 1
           },
           {
            "name": "2",
            "count": 1
           },
           {
            "name": "2 others",
            "count": 2
           }
          ]
         }
        },
        {
         "name": "FTI Measured",
         "dtype": "object",
         "stats": {
          "unique_count": 4,
          "nan_count": 0,
          "categories": [
           {
            "name": "2800",
            "count": 1
           },
           {
            "name": "2",
            "count": 1
           },
           {
            "name": "2 others",
            "count": 2
           }
          ]
         }
        },
        {
         "name": "_deepnote_index_column",
         "dtype": "object"
        }
       ],
       "rows": [
        {
         "Sick": "2800",
         "I131 Treatment": "2800",
         "TT4 Measured": "2800",
         "Query Hyperthyroid": "2800",
         "Query Hypothyroid": "2800",
         "T3 Measured": "2800",
         "Goiter": "2800",
         "On Thyroxine": "2800",
         "On Antithyroid Medication": "2800",
         "Pregnant": "2800",
         "Sex": "2690",
         "Psych": "2800",
         "Tumor": "2800",
         "Thyroid Surgery": "2800",
         "TSH Measured": "2800",
         "Referral Source": "2800",
         "Lithium": "2800",
         "Hypopituitary": "2800",
         "T4U Measured": "2800",
         "Query on Thyroxine": "2800",
         "FTI Measured": "2800",
         "_deepnote_index_column": "count"
        },
        {
         "Sick": "2",
         "I131 Treatment": "2",
         "TT4 Measured": "2",
         "Query Hyperthyroid": "2",
         "Query Hypothyroid": "2",
         "T3 Measured": "2",
         "Goiter": "2",
         "On Thyroxine": "2",
         "On Antithyroid Medication": "2",
         "Pregnant": "2",
         "Sex": "2",
         "Psych": "2",
         "Tumor": "2",
         "Thyroid Surgery": "2",
         "TSH Measured": "2",
         "Referral Source": "5",
         "Lithium": "2",
         "Hypopituitary": "2",
         "T4U Measured": "2",
         "Query on Thyroxine": "2",
         "FTI Measured": "2",
         "_deepnote_index_column": "unique"
        },
        {
         "Sick": "f",
         "I131 Treatment": "f",
         "TT4 Measured": "t",
         "Query Hyperthyroid": "f",
         "Query Hypothyroid": "f",
         "T3 Measured": "t",
         "Goiter": "f",
         "On Thyroxine": "f",
         "On Antithyroid Medication": "f",
         "Pregnant": "f",
         "Sex": "F",
         "Psych": "f",
         "Tumor": "f",
         "Thyroid Surgery": "f",
         "TSH Measured": "t",
         "Referral Source": "other",
         "Lithium": "f",
         "Hypopituitary": "f",
         "T4U Measured": "t",
         "Query on Thyroxine": "f",
         "FTI Measured": "t",
         "_deepnote_index_column": "top"
        },
        {
         "Sick": "2690",
         "I131 Treatment": "2752",
         "TT4 Measured": "2616",
         "Query Hyperthyroid": "2627",
         "Query Hypothyroid": "2637",
         "T3 Measured": "2215",
         "Goiter": "2775",
         "On Thyroxine": "2470",
         "On Antithyroid Medication": "2766",
         "Pregnant": "2759",
         "Sex": "1830",
         "Psych": "2665",
         "Tumor": "2729",
         "Thyroid Surgery": "2761",
         "TSH Measured": "2516",
         "Referral Source": "1632",
         "Lithium": "2786",
         "Hypopituitary": "2799",
         "T4U Measured": "2503",
         "Query on Thyroxine": "2760",
         "FTI Measured": "2505",
         "_deepnote_index_column": "freq"
        }
       ]
      },
      "text/plain": "        Sick I131 Treatment TT4 Measured Query Hyperthyroid Query Hypothyroid  \\\ncount   2800           2800         2800               2800              2800   \nunique     2              2            2                  2                 2   \ntop        f              f            t                  f                 f   \nfreq    2690           2752         2616               2627              2637   \n\n       T3 Measured Goiter On Thyroxine On Antithyroid Medication Pregnant  \\\ncount         2800   2800         2800                      2800     2800   \nunique           2      2            2                         2        2   \ntop              t      f            f                         f        f   \nfreq          2215   2775         2470                      2766     2759   \n\n        ... Psych Tumor Thyroid Surgery TSH Measured Referral Source Lithium  \\\ncount   ...  2800  2800            2800         2800            2800    2800   \nunique  ...     2     2               2            2               5       2   \ntop     ...     f     f               f            t           other       f   \nfreq    ...  2665  2729            2761         2516            1632    2786   \n\n       Hypopituitary T4U Measured Query on Thyroxine FTI Measured  \ncount           2800         2800               2800         2800  \nunique             2            2                  2            2  \ntop                f            t                  f            t  \nfreq            2799         2503               2760         2505  \n\n[4 rows x 21 columns]",
      "text/html": "<div>\n<style scoped>\n    .dataframe tbody tr th:only-of-type {\n        vertical-align: middle;\n    }\n\n    .dataframe tbody tr th {\n        vertical-align: top;\n    }\n\n    .dataframe thead th {\n        text-align: right;\n    }\n</style>\n<table border=\"1\" class=\"dataframe\">\n  <thead>\n    <tr style=\"text-align: right;\">\n      <th></th>\n      <th>Sick</th>\n      <th>I131 Treatment</th>\n      <th>TT4 Measured</th>\n      <th>Query Hyperthyroid</th>\n      <th>Query Hypothyroid</th>\n      <th>T3 Measured</th>\n      <th>Goiter</th>\n      <th>On Thyroxine</th>\n      <th>On Antithyroid Medication</th>\n      <th>Pregnant</th>\n      <th>...</th>\n      <th>Psych</th>\n      <th>Tumor</th>\n      <th>Thyroid Surgery</th>\n      <th>TSH Measured</th>\n      <th>Referral Source</th>\n      <th>Lithium</th>\n      <th>Hypopituitary</th>\n      <th>T4U Measured</th>\n      <th>Query on Thyroxine</th>\n      <th>FTI Measured</th>\n    </tr>\n  </thead>\n  <tbody>\n    <tr>\n      <th>count</th>\n      <td>2800</td>\n      <td>2800</td>\n      <td>2800</td>\n      <td>2800</td>\n      <td>2800</td>\n      <td>2800</td>\n      <td>2800</td>\n      <td>2800</td>\n      <td>2800</td>\n      <td>2800</td>\n      <td>...</td>\n      <td>2800</td>\n      <td>2800</td>\n      <td>2800</td>\n      <td>2800</td>\n      <td>2800</td>\n      <td>2800</td>\n      <td>2800</td>\n      <td>2800</td>\n      <td>2800</td>\n      <td>2800</td>\n    </tr>\n    <tr>\n      <th>unique</th>\n      <td>2</td>\n      <td>2</td>\n      <td>2</td>\n      <td>2</td>\n      <td>2</td>\n      <td>2</td>\n      <td>2</td>\n      <td>2</td>\n      <td>2</td>\n      <td>2</td>\n      <td>...</td>\n      <td>2</td>\n      <td>2</td>\n      <td>2</td>\n      <td>2</td>\n      <td>5</td>\n      <td>2</td>\n      <td>2</td>\n      <td>2</td>\n      <td>2</td>\n      <td>2</td>\n    </tr>\n    <tr>\n      <th>top</th>\n      <td>f</td>\n      <td>f</td>\n      <td>t</td>\n      <td>f</td>\n      <td>f</td>\n      <td>t</td>\n      <td>f</td>\n      <td>f</td>\n      <td>f</td>\n      <td>f</td>\n      <td>...</td>\n      <td>f</td>\n      <td>f</td>\n      <td>f</td>\n      <td>t</td>\n      <td>other</td>\n      <td>f</td>\n      <td>f</td>\n      <td>t</td>\n      <td>f</td>\n      <td>t</td>\n    </tr>\n    <tr>\n      <th>freq</th>\n      <td>2690</td>\n      <td>2752</td>\n      <td>2616</td>\n      <td>2627</td>\n      <td>2637</td>\n      <td>2215</td>\n      <td>2775</td>\n      <td>2470</td>\n      <td>2766</td>\n      <td>2759</td>\n      <td>...</td>\n      <td>2665</td>\n      <td>2729</td>\n      <td>2761</td>\n      <td>2516</td>\n      <td>1632</td>\n      <td>2786</td>\n      <td>2799</td>\n      <td>2503</td>\n      <td>2760</td>\n      <td>2505</td>\n    </tr>\n  </tbody>\n</table>\n<p>4 rows × 21 columns</p>\n</div>"
     },
     "metadata": {}
    }
   ]
  },
  {
   "cell_type": "markdown",
   "source": "Great! Let's see if there's any other records we have to address. count() is a nice way to check if we have any other missing values.",
   "metadata": {
    "colab_type": "text",
    "id": "Jo9aRzltCOK8",
    "cell_id": "00027-3c662a88-d2e9-4efa-93a3-bebb230dabcc",
    "deepnote_cell_type": "markdown",
    "deepnote_cell_height": 52.390625
   }
  },
  {
   "cell_type": "code",
   "metadata": {
    "colab": {
     "autoexec": {
      "startup": false,
      "wait_interval": 0
     }
    },
    "colab_type": "code",
    "id": "Q1yGe8nrzozW",
    "cell_id": "00028-ebd9756e-fd9e-44f1-859b-d7f7a393821c",
    "deepnote_to_be_reexecuted": false,
    "source_hash": "5b370030",
    "execution_start": 1657921464092,
    "execution_millis": 8,
    "deepnote_cell_type": "code",
    "deepnote_cell_height": 655.4375,
    "deepnote_output_heights": [
     558.4375
    ]
   },
   "source": "dataset.count()",
   "execution_count": null,
   "outputs": [
    {
     "output_type": "execute_result",
     "execution_count": 14,
     "data": {
      "text/plain": "Age                          2799\nSex                          2690\nOn Thyroxine                 2800\nQuery on Thyroxine           2800\nOn Antithyroid Medication    2800\nSick                         2800\nPregnant                     2800\nThyroid Surgery              2800\nI131 Treatment               2800\nQuery Hypothyroid            2800\nQuery Hyperthyroid           2800\nLithium                      2800\nGoiter                       2800\nTumor                        2800\nHypopituitary                2800\nPsych                        2800\nTSH Measured                 2800\nTSH                          2516\nT3 Measured                  2800\nT3                           2215\nTT4 Measured                 2800\nTT4                          2616\nT4U Measured                 2800\nT4U                          2503\nFTI Measured                 2800\nFTI                          2505\nReferral Source              2800\nClass                        2800\ndtype: int64"
     },
     "metadata": {}
    }
   ]
  },
  {
   "cell_type": "markdown",
   "source": "We could replace the missing values in proportion to the current number of males and females over the total, but that is making an assumption we don't have to make. For now, let's simply cut the records of all these sexless people out of our data.",
   "metadata": {
    "colab_type": "text",
    "id": "-Y9DDq8qCeL8",
    "cell_id": "00029-e3fd0fcd-0d18-44a2-a05d-8cb82d03df9e",
    "deepnote_cell_type": "markdown",
    "deepnote_cell_height": 74.78125
   }
  },
  {
   "cell_type": "code",
   "metadata": {
    "colab": {
     "autoexec": {
      "startup": false,
      "wait_interval": 0
     }
    },
    "colab_type": "code",
    "id": "1E6qS7F5zyt3",
    "cell_id": "00030-58548724-742a-46dd-b3c3-385331d54e45",
    "deepnote_to_be_reexecuted": false,
    "source_hash": "a14a6a1a",
    "execution_start": 1657921464100,
    "execution_millis": 107,
    "deepnote_table_state": {
     "pageSize": 10,
     "pageIndex": 1,
     "filters": [],
     "sortBy": []
    },
    "deepnote_table_loading": false,
    "deepnote_cell_type": "code",
    "deepnote_cell_height": 653
   },
   "source": "### Your code here\ndataset = dataset[dataset['Sex'].notna()]\ndataset.head(100)",
   "execution_count": null,
   "outputs": [
    {
     "output_type": "execute_result",
     "execution_count": 15,
     "data": {
      "application/vnd.deepnote.dataframe.v3+json": {
       "column_count": 28,
       "row_count": 100,
       "columns": [
        {
         "name": "Age",
         "dtype": "float64",
         "stats": {
          "unique_count": 51,
          "nan_count": 0,
          "min": "18.0",
          "max": "87.0",
          "histogram": [
           {
            "bin_start": 18,
            "bin_end": 24.9,
            "count": 5
           },
           {
            "bin_start": 24.9,
            "bin_end": 31.8,
            "count": 12
           },
           {
            "bin_start": 31.8,
            "bin_end": 38.7,
            "count": 5
           },
           {
            "bin_start": 38.7,
            "bin_end": 45.6,
            "count": 9
           },
           {
            "bin_start": 45.6,
            "bin_end": 52.5,
            "count": 7
           },
           {
            "bin_start": 52.5,
            "bin_end": 59.400000000000006,
            "count": 11
           },
           {
            "bin_start": 59.400000000000006,
            "bin_end": 66.30000000000001,
            "count": 15
           },
           {
            "bin_start": 66.30000000000001,
            "bin_end": 73.2,
            "count": 18
           },
           {
            "bin_start": 73.2,
            "bin_end": 80.1,
            "count": 10
           },
           {
            "bin_start": 80.1,
            "bin_end": 87,
            "count": 8
           }
          ]
         }
        },
        {
         "name": "Sex",
         "dtype": "object",
         "stats": {
          "unique_count": 2,
          "nan_count": 0,
          "categories": [
           {
            "name": "F",
            "count": 72
           },
           {
            "name": "M",
            "count": 28
           }
          ]
         }
        },
        {
         "name": "On Thyroxine",
         "dtype": "object",
         "stats": {
          "unique_count": 2,
          "nan_count": 0,
          "categories": [
           {
            "name": "f",
            "count": 91
           },
           {
            "name": "t",
            "count": 9
           }
          ]
         }
        },
        {
         "name": "Query on Thyroxine",
         "dtype": "object",
         "stats": {
          "unique_count": 2,
          "nan_count": 0,
          "categories": [
           {
            "name": "f",
            "count": 98
           },
           {
            "name": "t",
            "count": 2
           }
          ]
         }
        },
        {
         "name": "On Antithyroid Medication",
         "dtype": "object",
         "stats": {
          "unique_count": 2,
          "nan_count": 0,
          "categories": [
           {
            "name": "f",
            "count": 99
           },
           {
            "name": "t",
            "count": 1
           }
          ]
         }
        },
        {
         "name": "Sick",
         "dtype": "object",
         "stats": {
          "unique_count": 2,
          "nan_count": 0,
          "categories": [
           {
            "name": "f",
            "count": 93
           },
           {
            "name": "t",
            "count": 7
           }
          ]
         }
        },
        {
         "name": "Pregnant",
         "dtype": "object",
         "stats": {
          "unique_count": 2,
          "nan_count": 0,
          "categories": [
           {
            "name": "f",
            "count": 99
           },
           {
            "name": "t",
            "count": 1
           }
          ]
         }
        },
        {
         "name": "Thyroid Surgery",
         "dtype": "object",
         "stats": {
          "unique_count": 1,
          "nan_count": 0,
          "categories": [
           {
            "name": "f",
            "count": 100
           }
          ]
         }
        },
        {
         "name": "I131 Treatment",
         "dtype": "object",
         "stats": {
          "unique_count": 1,
          "nan_count": 0,
          "categories": [
           {
            "name": "f",
            "count": 100
           }
          ]
         }
        },
        {
         "name": "Query Hypothyroid",
         "dtype": "object",
         "stats": {
          "unique_count": 2,
          "nan_count": 0,
          "categories": [
           {
            "name": "f",
            "count": 97
           },
           {
            "name": "t",
            "count": 3
           }
          ]
         }
        },
        {
         "name": "Query Hyperthyroid",
         "dtype": "object",
         "stats": {
          "unique_count": 2,
          "nan_count": 0,
          "categories": [
           {
            "name": "f",
            "count": 95
           },
           {
            "name": "t",
            "count": 5
           }
          ]
         }
        },
        {
         "name": "Lithium",
         "dtype": "object",
         "stats": {
          "unique_count": 1,
          "nan_count": 0,
          "categories": [
           {
            "name": "f",
            "count": 100
           }
          ]
         }
        },
        {
         "name": "Goiter",
         "dtype": "object",
         "stats": {
          "unique_count": 2,
          "nan_count": 0,
          "categories": [
           {
            "name": "f",
            "count": 99
           },
           {
            "name": "t",
            "count": 1
           }
          ]
         }
        },
        {
         "name": "Tumor",
         "dtype": "object",
         "stats": {
          "unique_count": 2,
          "nan_count": 0,
          "categories": [
           {
            "name": "f",
            "count": 96
           },
           {
            "name": "t",
            "count": 4
           }
          ]
         }
        },
        {
         "name": "Hypopituitary",
         "dtype": "object",
         "stats": {
          "unique_count": 1,
          "nan_count": 0,
          "categories": [
           {
            "name": "f",
            "count": 100
           }
          ]
         }
        },
        {
         "name": "Psych",
         "dtype": "object",
         "stats": {
          "unique_count": 2,
          "nan_count": 0,
          "categories": [
           {
            "name": "f",
            "count": 97
           },
           {
            "name": "t",
            "count": 3
           }
          ]
         }
        },
        {
         "name": "TSH Measured",
         "dtype": "object",
         "stats": {
          "unique_count": 2,
          "nan_count": 0,
          "categories": [
           {
            "name": "t",
            "count": 89
           },
           {
            "name": "f",
            "count": 11
           }
          ]
         }
        },
        {
         "name": "TSH",
         "dtype": "float64",
         "stats": {
          "unique_count": 55,
          "nan_count": 11,
          "min": "0.005",
          "max": "160.0",
          "histogram": [
           {
            "bin_start": 0.005,
            "bin_end": 16.0045,
            "count": 86
           },
           {
            "bin_start": 16.0045,
            "bin_end": 32.004000000000005,
            "count": 1
           },
           {
            "bin_start": 32.004000000000005,
            "bin_end": 48.00350000000001,
            "count": 1
           },
           {
            "bin_start": 48.00350000000001,
            "bin_end": 64.003,
            "count": 0
           },
           {
            "bin_start": 64.003,
            "bin_end": 80.0025,
            "count": 0
           },
           {
            "bin_start": 80.0025,
            "bin_end": 96.00200000000001,
            "count": 0
           },
           {
            "bin_start": 96.00200000000001,
            "bin_end": 112.00150000000001,
            "count": 0
           },
           {
            "bin_start": 112.00150000000001,
            "bin_end": 128.001,
            "count": 0
           },
           {
            "bin_start": 128.001,
            "bin_end": 144.00050000000002,
            "count": 0
           },
           {
            "bin_start": 144.00050000000002,
            "bin_end": 160,
            "count": 1
           }
          ]
         }
        },
        {
         "name": "T3 Measured",
         "dtype": "object",
         "stats": {
          "unique_count": 2,
          "nan_count": 0,
          "categories": [
           {
            "name": "t",
            "count": 75
           },
           {
            "name": "f",
            "count": 25
           }
          ]
         }
        },
        {
         "name": "T3",
         "dtype": "float64",
         "stats": {
          "unique_count": 27,
          "nan_count": 25,
          "min": "0.3",
          "max": "5.5",
          "histogram": [
           {
            "bin_start": 0.3,
            "bin_end": 0.8200000000000001,
            "count": 5
           },
           {
            "bin_start": 0.8200000000000001,
            "bin_end": 1.34,
            "count": 7
           },
           {
            "bin_start": 1.34,
            "bin_end": 1.86,
            "count": 25
           },
           {
            "bin_start": 1.86,
            "bin_end": 2.38,
            "count": 20
           },
           {
            "bin_start": 2.38,
            "bin_end": 2.9,
            "count": 11
           },
           {
            "bin_start": 2.9,
            "bin_end": 3.42,
            "count": 5
           },
           {
            "bin_start": 3.42,
            "bin_end": 3.94,
            "count": 1
           },
           {
            "bin_start": 3.94,
            "bin_end": 4.46,
            "count": 0
           },
           {
            "bin_start": 4.46,
            "bin_end": 4.9799999999999995,
            "count": 0
           },
           {
            "bin_start": 4.9799999999999995,
            "bin_end": 5.5,
            "count": 1
           }
          ]
         }
        },
        {
         "name": "TT4 Measured",
         "dtype": "object",
         "stats": {
          "unique_count": 2,
          "nan_count": 0,
          "categories": [
           {
            "name": "t",
            "count": 94
           },
           {
            "name": "f",
            "count": 6
           }
          ]
         }
        },
        {
         "name": "TT4",
         "dtype": "float64",
         "stats": {
          "unique_count": 65,
          "nan_count": 6,
          "min": "11.0",
          "max": "199.0",
          "histogram": [
           {
            "bin_start": 11,
            "bin_end": 29.8,
            "count": 1
           },
           {
            "bin_start": 29.8,
            "bin_end": 48.6,
            "count": 3
           },
           {
            "bin_start": 48.6,
            "bin_end": 67.4,
            "count": 6
           },
           {
            "bin_start": 67.4,
            "bin_end": 86.2,
            "count": 16
           },
           {
            "bin_start": 86.2,
            "bin_end": 105,
            "count": 19
           },
           {
            "bin_start": 105,
            "bin_end": 123.80000000000001,
            "count": 24
           },
           {
            "bin_start": 123.80000000000001,
            "bin_end": 142.6,
            "count": 12
           },
           {
            "bin_start": 142.6,
            "bin_end": 161.4,
            "count": 8
           },
           {
            "bin_start": 161.4,
            "bin_end": 180.20000000000002,
            "count": 3
           },
           {
            "bin_start": 180.20000000000002,
            "bin_end": 199,
            "count": 2
           }
          ]
         }
        },
        {
         "name": "T4U Measured",
         "dtype": "object",
         "stats": {
          "unique_count": 2,
          "nan_count": 0,
          "categories": [
           {
            "name": "t",
            "count": 91
           },
           {
            "name": "f",
            "count": 9
           }
          ]
         }
        },
        {
         "name": "T4U",
         "dtype": "float64",
         "stats": {
          "unique_count": 52,
          "nan_count": 9,
          "min": "0.53",
          "max": "1.63",
          "histogram": [
           {
            "bin_start": 0.53,
            "bin_end": 0.64,
            "count": 3
           },
           {
            "bin_start": 0.64,
            "bin_end": 0.75,
            "count": 4
           },
           {
            "bin_start": 0.75,
            "bin_end": 0.86,
            "count": 13
           },
           {
            "bin_start": 0.86,
            "bin_end": 0.97,
            "count": 34
           },
           {
            "bin_start": 0.97,
            "bin_end": 1.08,
            "count": 15
           },
           {
            "bin_start": 1.08,
            "bin_end": 1.19,
            "count": 10
           },
           {
            "bin_start": 1.19,
            "bin_end": 1.2999999999999998,
            "count": 3
           },
           {
            "bin_start": 1.2999999999999998,
            "bin_end": 1.41,
            "count": 4
           },
           {
            "bin_start": 1.41,
            "bin_end": 1.52,
            "count": 3
           },
           {
            "bin_start": 1.52,
            "bin_end": 1.63,
            "count": 2
           }
          ]
         }
        },
        {
         "name": "FTI Measured",
         "dtype": "object",
         "stats": {
          "unique_count": 2,
          "nan_count": 0,
          "categories": [
           {
            "name": "t",
            "count": 91
           },
           {
            "name": "f",
            "count": 9
           }
          ]
         }
        },
        {
         "name": "FTI",
         "dtype": "float64",
         "stats": {
          "unique_count": 64,
          "nan_count": 9,
          "min": "8.9",
          "max": "190.0",
          "histogram": [
           {
            "bin_start": 8.9,
            "bin_end": 27.009999999999998,
            "count": 1
           },
           {
            "bin_start": 27.009999999999998,
            "bin_end": 45.12,
            "count": 2
           },
           {
            "bin_start": 45.12,
            "bin_end": 63.23,
            "count": 2
           },
           {
            "bin_start": 63.23,
            "bin_end": 81.34,
            "count": 7
           },
           {
            "bin_start": 81.34,
            "bin_end": 99.45,
            "count": 21
           },
           {
            "bin_start": 99.45,
            "bin_end": 117.56,
            "count": 24
           },
           {
            "bin_start": 117.56,
            "bin_end": 135.67,
            "count": 16
           },
           {
            "bin_start": 135.67,
            "bin_end": 153.78,
            "count": 12
           },
           {
            "bin_start": 153.78,
            "bin_end": 171.89000000000001,
            "count": 3
           },
           {
            "bin_start": 171.89000000000001,
            "bin_end": 190,
            "count": 3
           }
          ]
         }
        },
        {
         "name": "Referral Source",
         "dtype": "object",
         "stats": {
          "unique_count": 4,
          "nan_count": 0,
          "categories": [
           {
            "name": "other",
            "count": 54
           },
           {
            "name": "SVI",
            "count": 36
           },
           {
            "name": "2 others",
            "count": 10
           }
          ]
         }
        },
        {
         "name": "Class",
         "dtype": "int64",
         "stats": {
          "unique_count": 2,
          "nan_count": 0,
          "min": "0",
          "max": "1",
          "histogram": [
           {
            "bin_start": 0,
            "bin_end": 0.1,
            "count": 93
           },
           {
            "bin_start": 0.1,
            "bin_end": 0.2,
            "count": 0
           },
           {
            "bin_start": 0.2,
            "bin_end": 0.30000000000000004,
            "count": 0
           },
           {
            "bin_start": 0.30000000000000004,
            "bin_end": 0.4,
            "count": 0
           },
           {
            "bin_start": 0.4,
            "bin_end": 0.5,
            "count": 0
           },
           {
            "bin_start": 0.5,
            "bin_end": 0.6000000000000001,
            "count": 0
           },
           {
            "bin_start": 0.6000000000000001,
            "bin_end": 0.7000000000000001,
            "count": 0
           },
           {
            "bin_start": 0.7000000000000001,
            "bin_end": 0.8,
            "count": 0
           },
           {
            "bin_start": 0.8,
            "bin_end": 0.9,
            "count": 0
           },
           {
            "bin_start": 0.9,
            "bin_end": 1,
            "count": 7
           }
          ]
         }
        },
        {
         "name": "_deepnote_index_column",
         "dtype": "int64"
        }
       ],
       "rows": [
        {
         "Age": 84,
         "Sex": "F",
         "On Thyroxine": "f",
         "Query on Thyroxine": "f",
         "On Antithyroid Medication": "f",
         "Sick": "f",
         "Pregnant": "f",
         "Thyroid Surgery": "f",
         "I131 Treatment": "f",
         "Query Hypothyroid": "f",
         "Query Hyperthyroid": "f",
         "Lithium": "f",
         "Goiter": "f",
         "Tumor": "t",
         "Hypopituitary": "f",
         "Psych": "f",
         "TSH Measured": "t",
         "TSH": 1.1,
         "T3 Measured": "t",
         "T3": 2.2,
         "TT4 Measured": "t",
         "TT4": 115,
         "T4U Measured": "t",
         "T4U": 0.95,
         "FTI Measured": "t",
         "FTI": 121,
         "Referral Source": "SVI",
         "Class": 0,
         "_deepnote_index_column": 10
        },
        {
         "Age": 67,
         "Sex": "F",
         "On Thyroxine": "t",
         "Query on Thyroxine": "f",
         "On Antithyroid Medication": "f",
         "Sick": "f",
         "Pregnant": "f",
         "Thyroid Surgery": "f",
         "I131 Treatment": "f",
         "Query Hypothyroid": "f",
         "Query Hyperthyroid": "f",
         "Lithium": "f",
         "Goiter": "f",
         "Tumor": "f",
         "Hypopituitary": "f",
         "Psych": "f",
         "TSH Measured": "t",
         "TSH": 0.03,
         "T3 Measured": "f",
         "T3": "nan",
         "TT4 Measured": "t",
         "TT4": 152,
         "T4U Measured": "t",
         "T4U": 0.99,
         "FTI Measured": "t",
         "FTI": 153,
         "Referral Source": "other",
         "Class": 0,
         "_deepnote_index_column": 11
        },
        {
         "Age": 71,
         "Sex": "F",
         "On Thyroxine": "f",
         "Query on Thyroxine": "f",
         "On Antithyroid Medication": "f",
         "Sick": "t",
         "Pregnant": "f",
         "Thyroid Surgery": "f",
         "I131 Treatment": "f",
         "Query Hypothyroid": "f",
         "Query Hyperthyroid": "t",
         "Lithium": "f",
         "Goiter": "f",
         "Tumor": "f",
         "Hypopituitary": "f",
         "Psych": "f",
         "TSH Measured": "t",
         "TSH": 0.03,
         "T3 Measured": "t",
         "T3": 3.8,
         "TT4 Measured": "t",
         "TT4": 171,
         "T4U Measured": "t",
         "T4U": 1.13,
         "FTI Measured": "t",
         "FTI": 151,
         "Referral Source": "other",
         "Class": 0,
         "_deepnote_index_column": 12
        },
        {
         "Age": 59,
         "Sex": "F",
         "On Thyroxine": "f",
         "Query on Thyroxine": "f",
         "On Antithyroid Medication": "f",
         "Sick": "f",
         "Pregnant": "f",
         "Thyroid Surgery": "f",
         "I131 Treatment": "f",
         "Query Hypothyroid": "f",
         "Query Hyperthyroid": "f",
         "Lithium": "f",
         "Goiter": "f",
         "Tumor": "f",
         "Hypopituitary": "f",
         "Psych": "f",
         "TSH Measured": "t",
         "TSH": 2.8,
         "T3 Measured": "t",
         "T3": 1.7,
         "TT4 Measured": "t",
         "TT4": 97,
         "T4U Measured": "t",
         "T4U": 0.91,
         "FTI Measured": "t",
         "FTI": 107,
         "Referral Source": "SVI",
         "Class": 0,
         "_deepnote_index_column": 13
        },
        {
         "Age": 28,
         "Sex": "M",
         "On Thyroxine": "f",
         "Query on Thyroxine": "f",
         "On Antithyroid Medication": "f",
         "Sick": "f",
         "Pregnant": "f",
         "Thyroid Surgery": "f",
         "I131 Treatment": "f",
         "Query Hypothyroid": "f",
         "Query Hyperthyroid": "f",
         "Lithium": "f",
         "Goiter": "f",
         "Tumor": "f",
         "Hypopituitary": "f",
         "Psych": "f",
         "TSH Measured": "t",
         "TSH": 3.3,
         "T3 Measured": "t",
         "T3": 1.8,
         "TT4 Measured": "t",
         "TT4": 109,
         "T4U Measured": "t",
         "T4U": 0.91,
         "FTI Measured": "t",
         "FTI": 119,
         "Referral Source": "SVHC",
         "Class": 0,
         "_deepnote_index_column": 14
        },
        {
         "Age": 65,
         "Sex": "F",
         "On Thyroxine": "f",
         "Query on Thyroxine": "f",
         "On Antithyroid Medication": "f",
         "Sick": "f",
         "Pregnant": "f",
         "Thyroid Surgery": "f",
         "I131 Treatment": "f",
         "Query Hypothyroid": "t",
         "Query Hyperthyroid": "f",
         "Lithium": "f",
         "Goiter": "f",
         "Tumor": "f",
         "Hypopituitary": "f",
         "Psych": "f",
         "TSH Measured": "t",
         "TSH": 12,
         "T3 Measured": "f",
         "T3": "nan",
         "TT4 Measured": "t",
         "TT4": 99,
         "T4U Measured": "t",
         "T4U": 1.14,
         "FTI Measured": "t",
         "FTI": 87,
         "Referral Source": "other",
         "Class": 1,
         "_deepnote_index_column": 15
        },
        {
         "Age": 63,
         "Sex": "F",
         "On Thyroxine": "f",
         "Query on Thyroxine": "f",
         "On Antithyroid Medication": "f",
         "Sick": "f",
         "Pregnant": "f",
         "Thyroid Surgery": "f",
         "I131 Treatment": "f",
         "Query Hypothyroid": "f",
         "Query Hyperthyroid": "f",
         "Lithium": "f",
         "Goiter": "f",
         "Tumor": "f",
         "Hypopituitary": "f",
         "Psych": "f",
         "TSH Measured": "t",
         "TSH": 1.5,
         "T3 Measured": "t",
         "T3": 1.2,
         "TT4 Measured": "t",
         "TT4": 117,
         "T4U Measured": "t",
         "T4U": 0.96,
         "FTI Measured": "t",
         "FTI": 121,
         "Referral Source": "SVI",
         "Class": 0,
         "_deepnote_index_column": 17
        },
        {
         "Age": 80,
         "Sex": "F",
         "On Thyroxine": "f",
         "Query on Thyroxine": "f",
         "On Antithyroid Medication": "f",
         "Sick": "f",
         "Pregnant": "f",
         "Thyroid Surgery": "f",
         "I131 Treatment": "f",
         "Query Hypothyroid": "f",
         "Query Hyperthyroid": "f",
         "Lithium": "f",
         "Goiter": "f",
         "Tumor": "f",
         "Hypopituitary": "f",
         "Psych": "t",
         "TSH Measured": "t",
         "TSH": 6,
         "T3 Measured": "t",
         "T3": 1.6,
         "TT4 Measured": "t",
         "TT4": 99,
         "T4U Measured": "t",
         "T4U": 0.95,
         "FTI Measured": "t",
         "FTI": 104,
         "Referral Source": "SVI",
         "Class": 0,
         "_deepnote_index_column": 18
        },
        {
         "Age": 28,
         "Sex": "M",
         "On Thyroxine": "f",
         "Query on Thyroxine": "f",
         "On Antithyroid Medication": "f",
         "Sick": "f",
         "Pregnant": "f",
         "Thyroid Surgery": "f",
         "I131 Treatment": "f",
         "Query Hypothyroid": "f",
         "Query Hyperthyroid": "f",
         "Lithium": "f",
         "Goiter": "f",
         "Tumor": "f",
         "Hypopituitary": "f",
         "Psych": "t",
         "TSH Measured": "t",
         "TSH": 2.1,
         "T3 Measured": "t",
         "T3": 2.6,
         "TT4 Measured": "t",
         "TT4": 121,
         "T4U Measured": "t",
         "T4U": 0.94,
         "FTI Measured": "t",
         "FTI": 130,
         "Referral Source": "SVHC",
         "Class": 0,
         "_deepnote_index_column": 19
        },
        {
         "Age": 51,
         "Sex": "F",
         "On Thyroxine": "t",
         "Query on Thyroxine": "f",
         "On Antithyroid Medication": "f",
         "Sick": "f",
         "Pregnant": "f",
         "Thyroid Surgery": "f",
         "I131 Treatment": "f",
         "Query Hypothyroid": "f",
         "Query Hyperthyroid": "f",
         "Lithium": "f",
         "Goiter": "f",
         "Tumor": "f",
         "Hypopituitary": "f",
         "Psych": "f",
         "TSH Measured": "t",
         "TSH": 0.1,
         "T3 Measured": "f",
         "T3": "nan",
         "TT4 Measured": "t",
         "TT4": 130,
         "T4U Measured": "t",
         "T4U": 0.86,
         "FTI Measured": "t",
         "FTI": 151,
         "Referral Source": "other",
         "Class": 0,
         "_deepnote_index_column": 20
        }
       ]
      },
      "text/plain": "      Age Sex On Thyroxine Query on Thyroxine On Antithyroid Medication Sick  \\\n0    41.0   F            f                  f                         f    f   \n1    23.0   F            f                  f                         f    f   \n2    46.0   M            f                  f                         f    f   \n3    70.0   F            t                  f                         f    f   \n4    70.0   F            f                  f                         f    f   \n..    ...  ..          ...                ...                       ...  ...   \n104  57.0   F            f                  f                         f    f   \n105  78.0   M            f                  f                         f    t   \n107  18.0   M            f                  f                         f    f   \n108  59.0   F            f                  f                         f    f   \n109  77.0   M            f                  f                         f    f   \n\n    Pregnant Thyroid Surgery I131 Treatment Query Hypothyroid  ...  \\\n0          f               f              f                 f  ...   \n1          f               f              f                 f  ...   \n2          f               f              f                 f  ...   \n3          f               f              f                 f  ...   \n4          f               f              f                 f  ...   \n..       ...             ...            ...               ...  ...   \n104        f               f              f                 f  ...   \n105        f               f              f                 f  ...   \n107        f               f              f                 f  ...   \n108        f               f              f                 f  ...   \n109        f               f              f                 f  ...   \n\n    T3 Measured   T3 TT4 Measured    TT4 T4U Measured   T4U FTI Measured  \\\n0             t  2.5            t  125.0            t  1.14            t   \n1             t  2.0            t  102.0            f   NaN            f   \n2             f  NaN            t  109.0            t  0.91            t   \n3             t  1.9            t  175.0            f   NaN            f   \n4             t  1.2            t   61.0            t  0.87            t   \n..          ...  ...          ...    ...          ...   ...          ...   \n104           f  NaN            f    NaN            f   NaN            f   \n105           t  1.8            t   80.0            t  0.72            t   \n107           t  2.4            t   86.0            t  1.01            t   \n108           t  3.1            t  110.0            t  1.06            t   \n109           t  1.2            t  146.0            t  0.93            t   \n\n       FTI Referral Source  Class  \n0    109.0            SVHC      0  \n1      NaN           other      0  \n2    120.0           other      0  \n3      NaN           other      0  \n4     70.0             SVI      0  \n..     ...             ...    ...  \n104    NaN           other      0  \n105  111.0           other      0  \n107   85.0           other      0  \n108  104.0             SVI      0  \n109  157.0             SVI      0  \n\n[100 rows x 28 columns]",
      "text/html": "<div>\n<style scoped>\n    .dataframe tbody tr th:only-of-type {\n        vertical-align: middle;\n    }\n\n    .dataframe tbody tr th {\n        vertical-align: top;\n    }\n\n    .dataframe thead th {\n        text-align: right;\n    }\n</style>\n<table border=\"1\" class=\"dataframe\">\n  <thead>\n    <tr style=\"text-align: right;\">\n      <th></th>\n      <th>Age</th>\n      <th>Sex</th>\n      <th>On Thyroxine</th>\n      <th>Query on Thyroxine</th>\n      <th>On Antithyroid Medication</th>\n      <th>Sick</th>\n      <th>Pregnant</th>\n      <th>Thyroid Surgery</th>\n      <th>I131 Treatment</th>\n      <th>Query Hypothyroid</th>\n      <th>...</th>\n      <th>T3 Measured</th>\n      <th>T3</th>\n      <th>TT4 Measured</th>\n      <th>TT4</th>\n      <th>T4U Measured</th>\n      <th>T4U</th>\n      <th>FTI Measured</th>\n      <th>FTI</th>\n      <th>Referral Source</th>\n      <th>Class</th>\n    </tr>\n  </thead>\n  <tbody>\n    <tr>\n      <th>0</th>\n      <td>41.0</td>\n      <td>F</td>\n      <td>f</td>\n      <td>f</td>\n      <td>f</td>\n      <td>f</td>\n      <td>f</td>\n      <td>f</td>\n      <td>f</td>\n      <td>f</td>\n      <td>...</td>\n      <td>t</td>\n      <td>2.5</td>\n      <td>t</td>\n      <td>125.0</td>\n      <td>t</td>\n      <td>1.14</td>\n      <td>t</td>\n      <td>109.0</td>\n      <td>SVHC</td>\n      <td>0</td>\n    </tr>\n    <tr>\n      <th>1</th>\n      <td>23.0</td>\n      <td>F</td>\n      <td>f</td>\n      <td>f</td>\n      <td>f</td>\n      <td>f</td>\n      <td>f</td>\n      <td>f</td>\n      <td>f</td>\n      <td>f</td>\n      <td>...</td>\n      <td>t</td>\n      <td>2.0</td>\n      <td>t</td>\n      <td>102.0</td>\n      <td>f</td>\n      <td>NaN</td>\n      <td>f</td>\n      <td>NaN</td>\n      <td>other</td>\n      <td>0</td>\n    </tr>\n    <tr>\n      <th>2</th>\n      <td>46.0</td>\n      <td>M</td>\n      <td>f</td>\n      <td>f</td>\n      <td>f</td>\n      <td>f</td>\n      <td>f</td>\n      <td>f</td>\n      <td>f</td>\n      <td>f</td>\n      <td>...</td>\n      <td>f</td>\n      <td>NaN</td>\n      <td>t</td>\n      <td>109.0</td>\n      <td>t</td>\n      <td>0.91</td>\n      <td>t</td>\n      <td>120.0</td>\n      <td>other</td>\n      <td>0</td>\n    </tr>\n    <tr>\n      <th>3</th>\n      <td>70.0</td>\n      <td>F</td>\n      <td>t</td>\n      <td>f</td>\n      <td>f</td>\n      <td>f</td>\n      <td>f</td>\n      <td>f</td>\n      <td>f</td>\n      <td>f</td>\n      <td>...</td>\n      <td>t</td>\n      <td>1.9</td>\n      <td>t</td>\n      <td>175.0</td>\n      <td>f</td>\n      <td>NaN</td>\n      <td>f</td>\n      <td>NaN</td>\n      <td>other</td>\n      <td>0</td>\n    </tr>\n    <tr>\n      <th>4</th>\n      <td>70.0</td>\n      <td>F</td>\n      <td>f</td>\n      <td>f</td>\n      <td>f</td>\n      <td>f</td>\n      <td>f</td>\n      <td>f</td>\n      <td>f</td>\n      <td>f</td>\n      <td>...</td>\n      <td>t</td>\n      <td>1.2</td>\n      <td>t</td>\n      <td>61.0</td>\n      <td>t</td>\n      <td>0.87</td>\n      <td>t</td>\n      <td>70.0</td>\n      <td>SVI</td>\n      <td>0</td>\n    </tr>\n    <tr>\n      <th>...</th>\n      <td>...</td>\n      <td>...</td>\n      <td>...</td>\n      <td>...</td>\n      <td>...</td>\n      <td>...</td>\n      <td>...</td>\n      <td>...</td>\n      <td>...</td>\n      <td>...</td>\n      <td>...</td>\n      <td>...</td>\n      <td>...</td>\n      <td>...</td>\n      <td>...</td>\n      <td>...</td>\n      <td>...</td>\n      <td>...</td>\n      <td>...</td>\n      <td>...</td>\n      <td>...</td>\n    </tr>\n    <tr>\n      <th>104</th>\n      <td>57.0</td>\n      <td>F</td>\n      <td>f</td>\n      <td>f</td>\n      <td>f</td>\n      <td>f</td>\n      <td>f</td>\n      <td>f</td>\n      <td>f</td>\n      <td>f</td>\n      <td>...</td>\n      <td>f</td>\n      <td>NaN</td>\n      <td>f</td>\n      <td>NaN</td>\n      <td>f</td>\n      <td>NaN</td>\n      <td>f</td>\n      <td>NaN</td>\n      <td>other</td>\n      <td>0</td>\n    </tr>\n    <tr>\n      <th>105</th>\n      <td>78.0</td>\n      <td>M</td>\n      <td>f</td>\n      <td>f</td>\n      <td>f</td>\n      <td>t</td>\n      <td>f</td>\n      <td>f</td>\n      <td>f</td>\n      <td>f</td>\n      <td>...</td>\n      <td>t</td>\n      <td>1.8</td>\n      <td>t</td>\n      <td>80.0</td>\n      <td>t</td>\n      <td>0.72</td>\n      <td>t</td>\n      <td>111.0</td>\n      <td>other</td>\n      <td>0</td>\n    </tr>\n    <tr>\n      <th>107</th>\n      <td>18.0</td>\n      <td>M</td>\n      <td>f</td>\n      <td>f</td>\n      <td>f</td>\n      <td>f</td>\n      <td>f</td>\n      <td>f</td>\n      <td>f</td>\n      <td>f</td>\n      <td>...</td>\n      <td>t</td>\n      <td>2.4</td>\n      <td>t</td>\n      <td>86.0</td>\n      <td>t</td>\n      <td>1.01</td>\n      <td>t</td>\n      <td>85.0</td>\n      <td>other</td>\n      <td>0</td>\n    </tr>\n    <tr>\n      <th>108</th>\n      <td>59.0</td>\n      <td>F</td>\n      <td>f</td>\n      <td>f</td>\n      <td>f</td>\n      <td>f</td>\n      <td>f</td>\n      <td>f</td>\n      <td>f</td>\n      <td>f</td>\n      <td>...</td>\n      <td>t</td>\n      <td>3.1</td>\n      <td>t</td>\n      <td>110.0</td>\n      <td>t</td>\n      <td>1.06</td>\n      <td>t</td>\n      <td>104.0</td>\n      <td>SVI</td>\n      <td>0</td>\n    </tr>\n    <tr>\n      <th>109</th>\n      <td>77.0</td>\n      <td>M</td>\n      <td>f</td>\n      <td>f</td>\n      <td>f</td>\n      <td>f</td>\n      <td>f</td>\n      <td>f</td>\n      <td>f</td>\n      <td>f</td>\n      <td>...</td>\n      <td>t</td>\n      <td>1.2</td>\n      <td>t</td>\n      <td>146.0</td>\n      <td>t</td>\n      <td>0.93</td>\n      <td>t</td>\n      <td>157.0</td>\n      <td>SVI</td>\n      <td>0</td>\n    </tr>\n  </tbody>\n</table>\n<p>100 rows × 28 columns</p>\n</div>"
     },
     "metadata": {}
    }
   ]
  },
  {
   "cell_type": "markdown",
   "source": "Nice! Now we have a pretty clean dataset to work with. Let's now do some further data analysis and visualization to better understand what we're working with.",
   "metadata": {
    "colab_type": "text",
    "id": "eTcS25EHF4vL",
    "cell_id": "00031-9c48d9a8-de4c-47f8-b216-2d513ccd1e60",
    "deepnote_cell_type": "markdown",
    "deepnote_cell_height": 74.78125
   }
  },
  {
   "cell_type": "markdown",
   "source": "## Data analysis and visualization",
   "metadata": {
    "colab_type": "text",
    "id": "SsiaTCjQql3S",
    "cell_id": "00032-3f0ec780-a580-48d9-9af1-06db3d8591d2",
    "deepnote_cell_type": "markdown",
    "deepnote_cell_height": 70
   }
  },
  {
   "cell_type": "markdown",
   "source": "Check the correlation of the dataset",
   "metadata": {
    "colab_type": "text",
    "id": "huFOG2Mw3OqJ",
    "cell_id": "00033-220c09f0-3cd5-499d-8f19-aadc8492b45d",
    "deepnote_cell_type": "markdown",
    "deepnote_cell_height": 52.390625
   }
  },
  {
   "cell_type": "code",
   "metadata": {
    "colab": {
     "autoexec": {
      "startup": false,
      "wait_interval": 0
     }
    },
    "colab_type": "code",
    "id": "fXrXSMW_GSeT",
    "cell_id": "00034-d2ffd0d7-43eb-473f-9748-36ef544a7e8a",
    "deepnote_to_be_reexecuted": false,
    "source_hash": "1cf5e53b",
    "execution_start": 1657921464207,
    "execution_millis": 46,
    "deepnote_cell_type": "code",
    "deepnote_cell_height": 494
   },
   "source": "dataset.corr()",
   "execution_count": null,
   "outputs": [
    {
     "output_type": "execute_result",
     "execution_count": 16,
     "data": {
      "application/vnd.deepnote.dataframe.v3+json": {
       "column_count": 7,
       "row_count": 7,
       "columns": [
        {
         "name": "Age",
         "dtype": "float64",
         "stats": {
          "unique_count": 7,
          "nan_count": 0,
          "min": "-0.24988811381466144",
          "max": "1.0",
          "histogram": [
           {
            "bin_start": -0.24988811381466144,
            "bin_end": -0.1248993024331953,
            "count": 2
           },
           {
            "bin_start": -0.1248993024331953,
            "bin_end": 0.00008950894827083888,
            "count": 3
           },
           {
            "bin_start": 0.00008950894827083888,
            "bin_end": 0.125078320329737,
            "count": 1
           },
           {
            "bin_start": 0.125078320329737,
            "bin_end": 0.2500671317112031,
            "count": 0
           },
           {
            "bin_start": 0.2500671317112031,
            "bin_end": 0.3750559430926692,
            "count": 0
           },
           {
            "bin_start": 0.3750559430926692,
            "bin_end": 0.5000447544741354,
            "count": 0
           },
           {
            "bin_start": 0.5000447544741354,
            "bin_end": 0.6250335658556015,
            "count": 0
           },
           {
            "bin_start": 0.6250335658556015,
            "bin_end": 0.7500223772370677,
            "count": 0
           },
           {
            "bin_start": 0.7500223772370677,
            "bin_end": 0.8750111886185338,
            "count": 0
           },
           {
            "bin_start": 0.8750111886185338,
            "bin_end": 1,
            "count": 1
           }
          ]
         }
        },
        {
         "name": "TSH",
         "dtype": "float64",
         "stats": {
          "unique_count": 7,
          "nan_count": 0,
          "min": "-0.30667585115027696",
          "max": "1.0",
          "histogram": [
           {
            "bin_start": -0.30667585115027696,
            "bin_end": -0.17600826603524927,
            "count": 3
           },
           {
            "bin_start": -0.17600826603524927,
            "bin_end": -0.04534068092022159,
            "count": 0
           },
           {
            "bin_start": -0.04534068092022159,
            "bin_end": 0.0853269041948061,
            "count": 2
           },
           {
            "bin_start": 0.0853269041948061,
            "bin_end": 0.21599448930983378,
            "count": 0
           },
           {
            "bin_start": 0.21599448930983378,
            "bin_end": 0.3466620744248614,
            "count": 0
           },
           {
            "bin_start": 0.3466620744248614,
            "bin_end": 0.47732965953988915,
            "count": 1
           },
           {
            "bin_start": 0.47732965953988915,
            "bin_end": 0.6079972446549169,
            "count": 0
           },
           {
            "bin_start": 0.6079972446549169,
            "bin_end": 0.7386648297699445,
            "count": 0
           },
           {
            "bin_start": 0.7386648297699445,
            "bin_end": 0.8693324148849721,
            "count": 0
           },
           {
            "bin_start": 0.8693324148849721,
            "bin_end": 1,
            "count": 1
           }
          ]
         }
        },
        {
         "name": "T3",
         "dtype": "float64",
         "stats": {
          "unique_count": 7,
          "nan_count": 0,
          "min": "-0.24988811381466144",
          "max": "1.0",
          "histogram": [
           {
            "bin_start": -0.24988811381466144,
            "bin_end": -0.1248993024331953,
            "count": 3
           },
           {
            "bin_start": -0.1248993024331953,
            "bin_end": 0.00008950894827083888,
            "count": 0
           },
           {
            "bin_start": 0.00008950894827083888,
            "bin_end": 0.125078320329737,
            "count": 0
           },
           {
            "bin_start": 0.125078320329737,
            "bin_end": 0.2500671317112031,
            "count": 0
           },
           {
            "bin_start": 0.2500671317112031,
            "bin_end": 0.3750559430926692,
            "count": 1
           },
           {
            "bin_start": 0.3750559430926692,
            "bin_end": 0.5000447544741354,
            "count": 1
           },
           {
            "bin_start": 0.5000447544741354,
            "bin_end": 0.6250335658556015,
            "count": 1
           },
           {
            "bin_start": 0.6250335658556015,
            "bin_end": 0.7500223772370677,
            "count": 0
           },
           {
            "bin_start": 0.7500223772370677,
            "bin_end": 0.8750111886185338,
            "count": 0
           },
           {
            "bin_start": 0.8750111886185338,
            "bin_end": 1,
            "count": 1
           }
          ]
         }
        },
        {
         "name": "TT4",
         "dtype": "float64",
         "stats": {
          "unique_count": 7,
          "nan_count": 0,
          "min": "-0.27387671869283486",
          "max": "1.0",
          "histogram": [
           {
            "bin_start": -0.27387671869283486,
            "bin_end": -0.14648904682355138,
            "count": 2
           },
           {
            "bin_start": -0.14648904682355138,
            "bin_end": -0.01910137495426789,
            "count": 1
           },
           {
            "bin_start": -0.01910137495426789,
            "bin_end": 0.10828629691501562,
            "count": 0
           },
           {
            "bin_start": 0.10828629691501562,
            "bin_end": 0.23567396878429908,
            "count": 0
           },
           {
            "bin_start": 0.23567396878429908,
            "bin_end": 0.36306164065358254,
            "count": 0
           },
           {
            "bin_start": 0.36306164065358254,
            "bin_end": 0.4904493125228661,
            "count": 1
           },
           {
            "bin_start": 0.4904493125228661,
            "bin_end": 0.6178369843921496,
            "count": 1
           },
           {
            "bin_start": 0.6178369843921496,
            "bin_end": 0.7452246562614331,
            "count": 0
           },
           {
            "bin_start": 0.7452246562614331,
            "bin_end": 0.8726123281307165,
            "count": 1
           },
           {
            "bin_start": 0.8726123281307165,
            "bin_end": 1,
            "count": 1
           }
          ]
         }
        },
        {
         "name": "T4U",
         "dtype": "float64",
         "stats": {
          "unique_count": 7,
          "nan_count": 0,
          "min": "-0.168474442916599",
          "max": "1.0",
          "histogram": [
           {
            "bin_start": -0.168474442916599,
            "bin_end": -0.051626998624939094,
            "count": 2
           },
           {
            "bin_start": -0.051626998624939094,
            "bin_end": 0.0652204456667208,
            "count": 1
           },
           {
            "bin_start": 0.0652204456667208,
            "bin_end": 0.18206788995838072,
            "count": 1
           },
           {
            "bin_start": 0.18206788995838072,
            "bin_end": 0.2989153342500406,
            "count": 0
           },
           {
            "bin_start": 0.2989153342500406,
            "bin_end": 0.4157627785417005,
            "count": 0
           },
           {
            "bin_start": 0.4157627785417005,
            "bin_end": 0.5326102228333605,
            "count": 2
           },
           {
            "bin_start": 0.5326102228333605,
            "bin_end": 0.6494576671250203,
            "count": 0
           },
           {
            "bin_start": 0.6494576671250203,
            "bin_end": 0.7663051114166802,
            "count": 0
           },
           {
            "bin_start": 0.7663051114166802,
            "bin_end": 0.8831525557083402,
            "count": 0
           },
           {
            "bin_start": 0.8831525557083402,
            "bin_end": 1,
            "count": 1
           }
          ]
         }
        },
        {
         "name": "FTI",
         "dtype": "float64",
         "stats": {
          "unique_count": 7,
          "nan_count": 0,
          "min": "-0.30722272243839355",
          "max": "1.0",
          "histogram": [
           {
            "bin_start": -0.30722272243839355,
            "bin_end": -0.1765004501945542,
            "count": 2
           },
           {
            "bin_start": -0.1765004501945542,
            "bin_end": -0.04577817795071487,
            "count": 1
           },
           {
            "bin_start": -0.04577817795071487,
            "bin_end": 0.08494409429312444,
            "count": 1
           },
           {
            "bin_start": 0.08494409429312444,
            "bin_end": 0.2156663665369638,
            "count": 0
           },
           {
            "bin_start": 0.2156663665369638,
            "bin_end": 0.34638863878080317,
            "count": 0
           },
           {
            "bin_start": 0.34638863878080317,
            "bin_end": 0.4771109110246424,
            "count": 1
           },
           {
            "bin_start": 0.4771109110246424,
            "bin_end": 0.6078331832684818,
            "count": 0
           },
           {
            "bin_start": 0.6078331832684818,
            "bin_end": 0.7385554555123212,
            "count": 0
           },
           {
            "bin_start": 0.7385554555123212,
            "bin_end": 0.8692777277561604,
            "count": 1
           },
           {
            "bin_start": 0.8692777277561604,
            "bin_end": 1,
            "count": 1
           }
          ]
         }
        },
        {
         "name": "Class",
         "dtype": "float64",
         "stats": {
          "unique_count": 7,
          "nan_count": 0,
          "min": "-0.30722272243839355",
          "max": "1.0",
          "histogram": [
           {
            "bin_start": -0.30722272243839355,
            "bin_end": -0.1765004501945542,
            "count": 3
           },
           {
            "bin_start": -0.1765004501945542,
            "bin_end": -0.04577817795071487,
            "count": 0
           },
           {
            "bin_start": -0.04577817795071487,
            "bin_end": 0.08494409429312444,
            "count": 2
           },
           {
            "bin_start": 0.08494409429312444,
            "bin_end": 0.2156663665369638,
            "count": 0
           },
           {
            "bin_start": 0.2156663665369638,
            "bin_end": 0.34638863878080317,
            "count": 0
           },
           {
            "bin_start": 0.34638863878080317,
            "bin_end": 0.4771109110246424,
            "count": 1
           },
           {
            "bin_start": 0.4771109110246424,
            "bin_end": 0.6078331832684818,
            "count": 0
           },
           {
            "bin_start": 0.6078331832684818,
            "bin_end": 0.7385554555123212,
            "count": 0
           },
           {
            "bin_start": 0.7385554555123212,
            "bin_end": 0.8692777277561604,
            "count": 0
           },
           {
            "bin_start": 0.8692777277561604,
            "bin_end": 1,
            "count": 1
           }
          ]
         }
        },
        {
         "name": "_deepnote_index_column",
         "dtype": "object"
        }
       ],
       "rows": [
        {
         "Age": 1,
         "TSH": -0.041316297275609676,
         "T3": -0.24988811381466144,
         "TT4": -0.05456020578469191,
         "T4U": -0.16645277344556728,
         "FTI": 0.038775517924493526,
         "Class": -0.008204290216190438,
         "_deepnote_index_column": "Age"
        },
        {
         "Age": -0.041316297275609676,
         "TSH": 1,
         "T3": -0.18482353314174854,
         "TT4": -0.26705047930268705,
         "T4U": 0.06700000162590837,
         "FTI": -0.30667585115027696,
         "Class": 0.4393624779614976,
         "_deepnote_index_column": "TSH"
        },
        {
         "Age": -0.24988811381466144,
         "TSH": -0.18482353314174854,
         "T3": 1,
         "TT4": 0.5657747118257996,
         "T4U": 0.4650888115393535,
         "FTI": 0.3521940759871176,
         "Class": -0.1858609429392713,
         "_deepnote_index_column": "T3"
        },
        {
         "Age": -0.05456020578469191,
         "TSH": -0.26705047930268705,
         "T3": 0.5657747118257996,
         "TT4": 1,
         "T4U": 0.4391252498953175,
         "FTI": 0.7957854364827601,
         "Class": -0.27387671869283486,
         "_deepnote_index_column": "TT4"
        },
        {
         "Age": -0.16645277344556728,
         "TSH": 0.06700000162590837,
         "T3": 0.4650888115393535,
         "TT4": 0.4391252498953175,
         "T4U": 1,
         "FTI": -0.168474442916599,
         "Class": 0.03281107159586635,
         "_deepnote_index_column": "T4U"
        },
        {
         "Age": 0.038775517924493526,
         "TSH": -0.30667585115027696,
         "T3": 0.3521940759871176,
         "TT4": 0.7957854364827601,
         "T4U": -0.168474442916599,
         "FTI": 1,
         "Class": -0.30722272243839355,
         "_deepnote_index_column": "FTI"
        },
        {
         "Age": -0.008204290216190438,
         "TSH": 0.4393624779614976,
         "T3": -0.1858609429392713,
         "TT4": -0.27387671869283486,
         "T4U": 0.03281107159586635,
         "FTI": -0.30722272243839355,
         "Class": 1,
         "_deepnote_index_column": "Class"
        }
       ]
      },
      "text/plain": "            Age       TSH        T3       TT4       T4U       FTI     Class\nAge    1.000000 -0.041316 -0.249888 -0.054560 -0.166453  0.038776 -0.008204\nTSH   -0.041316  1.000000 -0.184824 -0.267050  0.067000 -0.306676  0.439362\nT3    -0.249888 -0.184824  1.000000  0.565775  0.465089  0.352194 -0.185861\nTT4   -0.054560 -0.267050  0.565775  1.000000  0.439125  0.795785 -0.273877\nT4U   -0.166453  0.067000  0.465089  0.439125  1.000000 -0.168474  0.032811\nFTI    0.038776 -0.306676  0.352194  0.795785 -0.168474  1.000000 -0.307223\nClass -0.008204  0.439362 -0.185861 -0.273877  0.032811 -0.307223  1.000000",
      "text/html": "<div>\n<style scoped>\n    .dataframe tbody tr th:only-of-type {\n        vertical-align: middle;\n    }\n\n    .dataframe tbody tr th {\n        vertical-align: top;\n    }\n\n    .dataframe thead th {\n        text-align: right;\n    }\n</style>\n<table border=\"1\" class=\"dataframe\">\n  <thead>\n    <tr style=\"text-align: right;\">\n      <th></th>\n      <th>Age</th>\n      <th>TSH</th>\n      <th>T3</th>\n      <th>TT4</th>\n      <th>T4U</th>\n      <th>FTI</th>\n      <th>Class</th>\n    </tr>\n  </thead>\n  <tbody>\n    <tr>\n      <th>Age</th>\n      <td>1.000000</td>\n      <td>-0.041316</td>\n      <td>-0.249888</td>\n      <td>-0.054560</td>\n      <td>-0.166453</td>\n      <td>0.038776</td>\n      <td>-0.008204</td>\n    </tr>\n    <tr>\n      <th>TSH</th>\n      <td>-0.041316</td>\n      <td>1.000000</td>\n      <td>-0.184824</td>\n      <td>-0.267050</td>\n      <td>0.067000</td>\n      <td>-0.306676</td>\n      <td>0.439362</td>\n    </tr>\n    <tr>\n      <th>T3</th>\n      <td>-0.249888</td>\n      <td>-0.184824</td>\n      <td>1.000000</td>\n      <td>0.565775</td>\n      <td>0.465089</td>\n      <td>0.352194</td>\n      <td>-0.185861</td>\n    </tr>\n    <tr>\n      <th>TT4</th>\n      <td>-0.054560</td>\n      <td>-0.267050</td>\n      <td>0.565775</td>\n      <td>1.000000</td>\n      <td>0.439125</td>\n      <td>0.795785</td>\n      <td>-0.273877</td>\n    </tr>\n    <tr>\n      <th>T4U</th>\n      <td>-0.166453</td>\n      <td>0.067000</td>\n      <td>0.465089</td>\n      <td>0.439125</td>\n      <td>1.000000</td>\n      <td>-0.168474</td>\n      <td>0.032811</td>\n    </tr>\n    <tr>\n      <th>FTI</th>\n      <td>0.038776</td>\n      <td>-0.306676</td>\n      <td>0.352194</td>\n      <td>0.795785</td>\n      <td>-0.168474</td>\n      <td>1.000000</td>\n      <td>-0.307223</td>\n    </tr>\n    <tr>\n      <th>Class</th>\n      <td>-0.008204</td>\n      <td>0.439362</td>\n      <td>-0.185861</td>\n      <td>-0.273877</td>\n      <td>0.032811</td>\n      <td>-0.307223</td>\n      <td>1.000000</td>\n    </tr>\n  </tbody>\n</table>\n</div>"
     },
     "metadata": {}
    }
   ]
  },
  {
   "cell_type": "markdown",
   "source": "Convert the class feature to numeric so we can also see the correlations it has with the numeric features, and check the correlation again.",
   "metadata": {
    "colab_type": "text",
    "id": "scfm6AEv3YIJ",
    "cell_id": "00035-009ef908-375d-4cfb-8820-53547f2f5461",
    "deepnote_cell_type": "markdown",
    "deepnote_cell_height": 74.78125
   }
  },
  {
   "cell_type": "code",
   "metadata": {
    "colab": {
     "autoexec": {
      "startup": false,
      "wait_interval": 0
     }
    },
    "colab_type": "code",
    "id": "2bGleemH3o3b",
    "cell_id": "00036-4f410299-8716-466a-823f-b84324a8eaeb",
    "deepnote_to_be_reexecuted": false,
    "source_hash": "399d6e16",
    "execution_start": 1657921464251,
    "execution_millis": 20,
    "deepnote_cell_type": "code",
    "deepnote_cell_height": 172.1875,
    "deepnote_output_heights": [
     21.1875
    ]
   },
   "source": "import pandas as po\n\ndataset['Class'] = dataset['Class'].apply(po.to_numeric)\ndataset['Class'].dtype",
   "execution_count": null,
   "outputs": [
    {
     "output_type": "execute_result",
     "execution_count": 17,
     "data": {
      "text/plain": "dtype('int64')"
     },
     "metadata": {}
    }
   ]
  },
  {
   "cell_type": "markdown",
   "source": "Let's do some further visual analysis using a new module called seaborn. Explore its incredible versatility and diversity with data visualization here: https://seaborn.pydata.org/",
   "metadata": {
    "colab_type": "text",
    "id": "tp4yO5kUGd3L",
    "cell_id": "00037-9dc89e4b-5eab-4127-997c-1bc5e020e967",
    "deepnote_cell_type": "markdown",
    "deepnote_cell_height": 74.78125
   }
  },
  {
   "cell_type": "code",
   "metadata": {
    "colab": {
     "autoexec": {
      "startup": false,
      "wait_interval": 0
     }
    },
    "colab_type": "code",
    "id": "JzkaBa64aXzb",
    "cell_id": "00038-0099c19e-be78-487c-80f7-3d8583fb7dea",
    "deepnote_to_be_reexecuted": false,
    "source_hash": "5f844cd5",
    "execution_start": 1657921464271,
    "execution_millis": 15299,
    "deepnote_cell_type": "code",
    "deepnote_cell_height": 778,
    "deepnote_output_heights": [
     21,
     611
    ]
   },
   "source": "import seaborn as sns\nsns.pairplot(dataset)",
   "execution_count": null,
   "outputs": [
    {
     "output_type": "execute_result",
     "execution_count": 18,
     "data": {
      "text/plain": "<seaborn.axisgrid.PairGrid at 0x7f0ae98266a0>"
     },
     "metadata": {}
    },
    {
     "data": {
      "text/plain": "<Figure size 1260x1260 with 56 Axes>",
      "image/png": "[encoded data removed]"
     },
     "metadata": {
      "needs_background": "light",
      "image/png": {
       "width": 1242,
       "height": 1239
      }
     },
     "output_type": "display_data"
    }
   ]
  },
  {
   "cell_type": "markdown",
   "source": "OK! I think we're ready to create and select some supervised learning models. To get the ball rolling, select Age and Sex as our explanatory features (and class as the target feature, obviously).",
   "metadata": {
    "colab_type": "text",
    "id": "mvW7_0aWFSEm",
    "cell_id": "00039-db4ba8e1-86fe-4e8b-afbc-b3d3fd0b6bf5",
    "deepnote_cell_type": "markdown",
    "deepnote_cell_height": 74.78125
   }
  },
  {
   "cell_type": "markdown",
   "source": "## Model training and selection",
   "metadata": {
    "colab_type": "text",
    "id": "JXMQ9UaKqyha",
    "cell_id": "00040-baeba808-03ab-4719-b8a9-92d04f4c3e24",
    "deepnote_cell_type": "markdown",
    "deepnote_cell_height": 70
   }
  },
  {
   "cell_type": "markdown",
   "source": "Let's dummy the categorical variables (but not the class value!) and view the column names to select some for our model.",
   "metadata": {
    "colab_type": "text",
    "id": "Mon3ih88tW8y",
    "cell_id": "00041-2bf90da0-c9fc-4816-8216-ed709f798b1a",
    "deepnote_cell_type": "markdown",
    "deepnote_cell_height": 52.390625
   }
  },
  {
   "cell_type": "code",
   "metadata": {
    "colab": {
     "autoexec": {
      "startup": false,
      "wait_interval": 0
     }
    },
    "colab_type": "code",
    "id": "1NqvPYi6itkH",
    "cell_id": "00042-c4328e17-da04-4472-8eda-fe2de2e12a77",
    "deepnote_to_be_reexecuted": false,
    "source_hash": "67b6ae7a",
    "execution_start": 1657921479561,
    "execution_millis": 16,
    "deepnote_cell_type": "code",
    "deepnote_cell_height": 81
   },
   "source": "categorical_dummies = po.get_dummies(dataset[categorical_columns])",
   "execution_count": null,
   "outputs": []
  },
  {
   "cell_type": "markdown",
   "source": "All right, let's now split our data into training and testing in an 80-20 split. For consistency, let's all use a seed of 8675309.",
   "metadata": {
    "colab_type": "text",
    "id": "4yEeqjv19hCX",
    "cell_id": "00043-09382447-ebda-47af-b74e-f30e189109fb",
    "deepnote_cell_type": "markdown",
    "deepnote_cell_height": 52.390625
   }
  },
  {
   "cell_type": "code",
   "metadata": {
    "cell_id": "5132306c6f21493087fce4d215f1b2c0",
    "tags": [],
    "deepnote_to_be_reexecuted": false,
    "source_hash": "d959590e",
    "execution_start": 1657921479586,
    "execution_millis": 560,
    "deepnote_cell_type": "code",
    "deepnote_cell_height": 364.1875
   },
   "source": "from sklearn.feature_selection import SelectKBest, chi2\nfrom sklearn.model_selection import train_test_split\n\nn_nonan = dataset.dropna(subset=numeric_columns)\nX_train, X_test, y_train, y_test = train_test_split(n_nonan[numeric_columns], n_nonan['Class'], \n                                                    test_size=0.2, random_state=8675309)\n\nbest_5 = SelectKBest(chi2, k=5).fit(X_train, y_train)\nmask = best_5.get_support()\nnew_feat = []\nfor boole,feature in zip(mask,X_train.columns):\n    if boole:\n        new_feat.append(feature)\n\nprint(new_feat)",
   "execution_count": null,
   "outputs": [
    {
     "name": "stdout",
     "text": "['Age', 'TSH', 'T3', 'TT4', 'FTI']\n",
     "output_type": "stream"
    }
   ]
  },
  {
   "cell_type": "code",
   "metadata": {
    "cell_id": "7d926735433342f0b57fb99fed95fa29",
    "tags": [],
    "deepnote_to_be_reexecuted": false,
    "source_hash": "c67b01d5",
    "allow_embed": false,
    "execution_start": 1657921480151,
    "execution_millis": 8,
    "deepnote_cell_type": "code",
    "deepnote_cell_height": 292.1875
   },
   "source": "X_train, X_test, y_train, y_test = train_test_split(categorical_dummies, dataset['Class'], \n                                                    test_size=0.2, random_state=8675309)\n\nbest_5 = SelectKBest(chi2, k=5).fit(X_train, y_train)\nmask = best_5.get_support()\nnew_feat = []\nfor bool,feature in zip(mask,X_train.columns):\n    if bool:\n        new_feat.append(feature)\n\nprint(new_feat)",
   "execution_count": null,
   "outputs": [
    {
     "name": "stdout",
     "text": "['TT4 Measured_f', 'Query Hypothyroid_t', 'On Thyroxine_t', 'TSH Measured_f', 'Referral Source_SVHC']\n",
     "output_type": "stream"
    }
   ]
  },
  {
   "cell_type": "code",
   "metadata": {
    "colab": {
     "autoexec": {
      "startup": false,
      "wait_interval": 0
     },
     "base_uri": "https://localhost:8080/",
     "height": 36
    },
    "colab_type": "code",
    "executionInfo": {
     "elapsed": 452,
     "status": "ok",
     "timestamp": 1531117461829,
     "user": {
      "displayName": "Lyle Lalunio",
      "photoUrl": "https://lh3.googleusercontent.com/a/default-user=s128",
      "userId": "108954789805627648380"
     },
     "user_tz": 240
    },
    "id": "GQqlCTGntXCX",
    "outputId": "17fb180a-5a12-4890-8de2-2b2d73bfe9df",
    "cell_id": "00044-4294e06b-991f-493b-9395-85f891db8ee7",
    "deepnote_to_be_reexecuted": false,
    "source_hash": "71c8ba1",
    "execution_start": 1657921480163,
    "execution_millis": 9,
    "deepnote_cell_type": "code",
    "deepnote_cell_height": 294.375
   },
   "source": "from sklearn.model_selection import train_test_split\n\nfeatures = ['TSH', 'Age', 'T3']\n\ndataset = dataset.dropna(subset=features)\n\nX_train, X_test, y_train, y_test = train_test_split(dataset[features], dataset['Class'], test_size=0.2, random_state=8675309)\n\nprint(dataset[features].shape)\nprint(len(y_train))",
   "execution_count": null,
   "outputs": [
    {
     "name": "stdout",
     "text": "(2054, 3)\n1643\n",
     "output_type": "stream"
    }
   ]
  },
  {
   "cell_type": "markdown",
   "source": "For reusability, let's make a logistic regression function that will take our training and testing data as arguments. Inside the function, build a model on your training data, fit it with your training class data, and return a list of your predictions.",
   "metadata": {
    "colab_type": "text",
    "id": "6KGUCXBE-OFy",
    "cell_id": "00045-bf459db7-a71b-4abb-8916-3cb1a58ada89",
    "deepnote_cell_type": "markdown",
    "deepnote_cell_height": 74.78125
   }
  },
  {
   "cell_type": "code",
   "metadata": {
    "colab": {
     "autoexec": {
      "startup": false,
      "wait_interval": 0
     }
    },
    "colab_type": "code",
    "id": "Ur0s4m3kg3H-",
    "cell_id": "00058-b6e1ff9d-e15e-4dea-9fde-44bad027f6f1",
    "deepnote_to_be_reexecuted": false,
    "source_hash": "1efe3cd7",
    "execution_start": 1657921480179,
    "execution_millis": 10,
    "deepnote_cell_type": "code",
    "deepnote_cell_height": 189
   },
   "source": "from sklearn.linear_model import LogisticRegression\n\nlogreg = LogisticRegression()\nlogreg.fit(X_train, y_train)\n\ndef log_reg_proba(test_X):\n  return logreg.predict_proba(test_X)",
   "execution_count": null,
   "outputs": []
  },
  {
   "cell_type": "code",
   "metadata": {
    "colab": {
     "autoexec": {
      "startup": false,
      "wait_interval": 0
     }
    },
    "colab_type": "code",
    "id": "DawvoHd7lnG9",
    "cell_id": "00046-695eea46-1d15-4efe-bc7c-093eb04269c2",
    "deepnote_to_be_reexecuted": false,
    "source_hash": "2f8f2b8e",
    "execution_start": 1657921870331,
    "execution_millis": 1,
    "deepnote_cell_type": "code",
    "deepnote_cell_height": 294.375
   },
   "source": "from sklearn import metrics\n\ndef log_reg(test_X):\n    outputs = np.where(log_reg_proba(test_X)[:,1] >= 0.1, 1, 0)\n    return outputs\n\npred_train = log_reg(X_train)\npred_test = log_reg(X_test)\nprint('Training accuracy:', metrics.accuracy_score(y_train, pred_train))\nprint('Validation accuracy:', metrics.accuracy_score(y_test, pred_test))",
   "execution_count": null,
   "outputs": [
    {
     "name": "stdout",
     "text": "Training accuracy: 0.9653073645769933\nValidation accuracy: 0.9610705596107056\n",
     "output_type": "stream"
    }
   ]
  },
  {
   "cell_type": "markdown",
   "source": "Fantastic, we have just built a logistic regression model! Let's go see how well it performs.",
   "metadata": {
    "colab_type": "text",
    "id": "JR8xu_VVsygN",
    "cell_id": "00047-37b44b5b-b8ae-425a-a8df-5c1cd90e0b18",
    "deepnote_cell_type": "markdown",
    "deepnote_cell_height": 52.390625
   }
  },
  {
   "cell_type": "markdown",
   "source": "### Model evaluation",
   "metadata": {
    "colab_type": "text",
    "id": "gAz096POwSRJ",
    "cell_id": "00048-9b4292d9-2696-491a-8090-5bdf7b2c819f",
    "deepnote_cell_type": "markdown",
    "deepnote_cell_height": 62
   }
  },
  {
   "cell_type": "markdown",
   "source": "To start, let's establish the baseline performance. This is important because it provides a starting point of comparison for later evaluation methods, like accuracy.\n\nA good baseline model to use is the Zero Rule algorithm. In classification problems, it simply predicts the class value with the greatest number of instances every time.",
   "metadata": {
    "colab_type": "text",
    "id": "570duVNhrTZh",
    "cell_id": "00049-a83a02f3-350a-4e1f-aa28-eb55b903bade",
    "deepnote_cell_type": "markdown",
    "deepnote_cell_height": 133.5625
   }
  },
  {
   "cell_type": "code",
   "metadata": {
    "colab": {
     "autoexec": {
      "startup": false,
      "wait_interval": 0
     }
    },
    "colab_type": "code",
    "id": "fwvqucK_Yg-2",
    "cell_id": "00050-477019de-a4be-420d-93db-ca884321cfb7",
    "deepnote_to_be_reexecuted": false,
    "source_hash": "d0611d2a",
    "execution_start": 1657921842331,
    "execution_millis": 2,
    "deepnote_cell_type": "code",
    "deepnote_cell_height": 99
   },
   "source": "def zero_rule_algorithm_classification(train,test):\n    return np.full(len(test), train.mode())",
   "execution_count": null,
   "outputs": []
  },
  {
   "cell_type": "markdown",
   "source": "Get your baseline performance by calculating the accuracy of your Zero Rule algorithm.",
   "metadata": {
    "colab_type": "text",
    "id": "I_nExUgUYll5",
    "cell_id": "00051-a1aaeceb-7bab-4913-aa74-5cd53912ab2e",
    "deepnote_cell_type": "markdown",
    "deepnote_cell_height": 52.390625
   }
  },
  {
   "cell_type": "code",
   "metadata": {
    "colab": {
     "autoexec": {
      "startup": false,
      "wait_interval": 0
     }
    },
    "colab_type": "code",
    "id": "zs0M8OdtYidB",
    "cell_id": "00052-474d102a-35fc-4b83-bac2-0944830964f0",
    "deepnote_to_be_reexecuted": false,
    "source_hash": "2d3fd6a8",
    "execution_start": 1657921647393,
    "execution_millis": 4,
    "deepnote_cell_type": "code",
    "deepnote_cell_height": 130.1875
   },
   "source": "correct = np.sum(zero_rule_algorithm_classification(y_train, X_test) == y_test)\nprint('Baseline:', correct/len(y_test)*100)",
   "execution_count": null,
   "outputs": [
    {
     "name": "stdout",
     "text": "Baseline: 91.97080291970804\n",
     "output_type": "stream"
    }
   ]
  },
  {
   "cell_type": "markdown",
   "source": "So maybe accuracy isn't the best performance measure for this dataset. As you've seen already, even when the models predict \"negative\" for all the records, we could already achieve a ~92% accuracy. However, that also implies we incorrectly predicted 100% of the positive cases, which in the context of this problem, is fatal.\n\nThankfully, it isn't the only way to evaluate your model. Let's take a look at a confusion matrix.\n\n![alt text](https://i.imgur.com/uipmEwt.png)",
   "metadata": {
    "colab_type": "text",
    "id": "WksirqfT5Ecw",
    "cell_id": "00053-4f9fd871-24ad-4bfd-a7ed-23bb9a14dbc0",
    "owner_user_id": "fd3b1d00-fa22-4aa1-8b8d-cb436cc3fcae",
    "deepnote_cell_type": "markdown",
    "deepnote_cell_height": 542.5625
   }
  },
  {
   "cell_type": "markdown",
   "source": "Create a confusion matrix using the logistic regression function you built earlier.",
   "metadata": {
    "colab_type": "text",
    "id": "-vzqX_SKaBzK",
    "cell_id": "00054-618c508d-3ee7-4d02-9aea-739f3189b730",
    "deepnote_cell_type": "markdown",
    "deepnote_cell_height": 52.390625
   }
  },
  {
   "cell_type": "code",
   "metadata": {
    "colab": {
     "autoexec": {
      "startup": false,
      "wait_interval": 0
     }
    },
    "colab_type": "code",
    "id": "DSS7JdYjaBWh",
    "cell_id": "00055-f5bb16f5-b948-487e-bf86-ddf09af4b7bc",
    "deepnote_to_be_reexecuted": false,
    "source_hash": "3b6f0844",
    "execution_start": 1657921594418,
    "execution_millis": 12229,
    "deepnote_cell_type": "code",
    "deepnote_cell_height": 349
   },
   "source": "from sklearn.metrics import confusion_matrix\n\npo.crosstab(y_test, pred_test, rownames=['Actual'], colnames=['Predicted'], margins=True)",
   "execution_count": null,
   "outputs": [
    {
     "output_type": "execute_result",
     "execution_count": 37,
     "data": {
      "application/vnd.deepnote.dataframe.v3+json": {
       "column_count": 3,
       "row_count": 3,
       "columns": [
        {
         "name": 0,
         "dtype": "int64",
         "stats": {
          "unique_count": 3,
          "nan_count": 0,
          "min": "9",
          "max": "379",
          "histogram": [
           {
            "bin_start": 9,
            "bin_end": 46,
            "count": 1
           },
           {
            "bin_start": 46,
            "bin_end": 83,
            "count": 0
           },
           {
            "bin_start": 83,
            "bin_end": 120,
            "count": 0
           },
           {
            "bin_start": 120,
            "bin_end": 157,
            "count": 0
           },
           {
            "bin_start": 157,
            "bin_end": 194,
            "count": 0
           },
           {
            "bin_start": 194,
            "bin_end": 231,
            "count": 0
           },
           {
            "bin_start": 231,
            "bin_end": 268,
            "count": 0
           },
           {
            "bin_start": 268,
            "bin_end": 305,
            "count": 0
           },
           {
            "bin_start": 305,
            "bin_end": 342,
            "count": 0
           },
           {
            "bin_start": 342,
            "bin_end": 379,
            "count": 2
           }
          ]
         }
        },
        {
         "name": 1,
         "dtype": "int64",
         "stats": {
          "unique_count": 3,
          "nan_count": 0,
          "min": "8",
          "max": "32",
          "histogram": [
           {
            "bin_start": 8,
            "bin_end": 10.4,
            "count": 1
           },
           {
            "bin_start": 10.4,
            "bin_end": 12.8,
            "count": 0
           },
           {
            "bin_start": 12.8,
            "bin_end": 15.2,
            "count": 0
           },
           {
            "bin_start": 15.2,
            "bin_end": 17.6,
            "count": 0
           },
           {
            "bin_start": 17.6,
            "bin_end": 20,
            "count": 0
           },
           {
            "bin_start": 20,
            "bin_end": 22.4,
            "count": 0
           },
           {
            "bin_start": 22.4,
            "bin_end": 24.8,
            "count": 1
           },
           {
            "bin_start": 24.8,
            "bin_end": 27.2,
            "count": 0
           },
           {
            "bin_start": 27.2,
            "bin_end": 29.599999999999998,
            "count": 0
           },
           {
            "bin_start": 29.599999999999998,
            "bin_end": 32,
            "count": 1
           }
          ]
         }
        },
        {
         "name": "All",
         "dtype": "int64",
         "stats": {
          "unique_count": 3,
          "nan_count": 0,
          "min": "33",
          "max": "411",
          "histogram": [
           {
            "bin_start": 33,
            "bin_end": 70.8,
            "count": 1
           },
           {
            "bin_start": 70.8,
            "bin_end": 108.6,
            "count": 0
           },
           {
            "bin_start": 108.6,
            "bin_end": 146.39999999999998,
            "count": 0
           },
           {
            "bin_start": 146.39999999999998,
            "bin_end": 184.2,
            "count": 0
           },
           {
            "bin_start": 184.2,
            "bin_end": 222,
            "count": 0
           },
           {
            "bin_start": 222,
            "bin_end": 259.79999999999995,
            "count": 0
           },
           {
            "bin_start": 259.79999999999995,
            "bin_end": 297.59999999999997,
            "count": 0
           },
           {
            "bin_start": 297.59999999999997,
            "bin_end": 335.4,
            "count": 0
           },
           {
            "bin_start": 335.4,
            "bin_end": 373.2,
            "count": 0
           },
           {
            "bin_start": 373.2,
            "bin_end": 411,
            "count": 2
           }
          ]
         }
        },
        {
         "name": "_deepnote_index_column",
         "dtype": "object"
        }
       ],
       "rows": [
        {
         "0": 370,
         "1": 8,
         "All": 378,
         "_deepnote_index_column": "0"
        },
        {
         "0": 9,
         "1": 24,
         "All": 33,
         "_deepnote_index_column": "1"
        },
        {
         "0": 379,
         "1": 32,
         "All": 411,
         "_deepnote_index_column": "All"
        }
       ]
      },
      "text/plain": "Predicted    0   1  All\nActual                 \n0          370   8  378\n1            9  24   33\nAll        379  32  411",
      "text/html": "<div>\n<style scoped>\n    .dataframe tbody tr th:only-of-type {\n        vertical-align: middle;\n    }\n\n    .dataframe tbody tr th {\n        vertical-align: top;\n    }\n\n    .dataframe thead th {\n        text-align: right;\n    }\n</style>\n<table border=\"1\" class=\"dataframe\">\n  <thead>\n    <tr style=\"text-align: right;\">\n      <th>Predicted</th>\n      <th>0</th>\n      <th>1</th>\n      <th>All</th>\n    </tr>\n    <tr>\n      <th>Actual</th>\n      <th></th>\n      <th></th>\n      <th></th>\n    </tr>\n  </thead>\n  <tbody>\n    <tr>\n      <th>0</th>\n      <td>370</td>\n      <td>8</td>\n      <td>378</td>\n    </tr>\n    <tr>\n      <th>1</th>\n      <td>9</td>\n      <td>24</td>\n      <td>33</td>\n    </tr>\n    <tr>\n      <th>All</th>\n      <td>379</td>\n      <td>32</td>\n      <td>411</td>\n    </tr>\n  </tbody>\n</table>\n</div>"
     },
     "metadata": {}
    }
   ]
  },
  {
   "cell_type": "markdown",
   "source": "\nYet another appropriate metric is the Area Under the Receiver Operator Curve. Specifically, the diagnostic performance of a test, or the accuracy of a test to discriminate diseased cases from normal cases is evaluated using Receiver Operating Characteristic (ROC) curve analysis.\n\nWhen you consider the results of a particular test in two populations, one population with a disease, the other population without the disease, you will rarely observe a perfect separation between the two groups. Hence, the overlapping areas in the diagram below (FN, FP).\n\nIn a Receiver Operating Characteristic (ROC) curve the true positive rate (Sensitivity) is plotted in function of the false positive rate (100-Specificity) for different cut-off points. Each point on the ROC curve represents a sensitivity/specificity pair corresponding to a particular decision threshold. A test with perfect discrimination (no overlap in the two distributions) has a ROC curve that passes through the upper left corner (100% sensitivity, 100% specificity). Therefore the closer the ROC curve is to the upper left corner, the higher the overall accuracy of the test.\n\n![alt text](https://www.medcalc.org/manual/_help/images/roc_intro1.png)\n\n\n\n",
   "metadata": {
    "colab_type": "text",
    "id": "z0JPOHmQn8N6",
    "cell_id": "00056-fdc3ef5e-8145-44a9-bb6a-3b892ca67fe1",
    "deepnote_cell_type": "markdown",
    "deepnote_cell_height": 516.296875
   }
  },
  {
   "cell_type": "markdown",
   "source": "Now, to graph the AUROC curve, we will need to predict probabilities of choosing a specific class value rather than the class value itself. Make a new logistic regression model that does so.",
   "metadata": {
    "colab_type": "text",
    "id": "cvTWQTcycBEp",
    "cell_id": "00057-d9366daa-54a3-413a-bd9b-4fbaaff44823",
    "deepnote_cell_type": "markdown",
    "deepnote_cell_height": 74.78125
   }
  },
  {
   "cell_type": "markdown",
   "source": "Now calculate the area under the receiver operator curve with your predictions.",
   "metadata": {
    "colab_type": "text",
    "id": "Xm0yv6wmDnQz",
    "cell_id": "00059-3b1177b1-8256-4c0b-9234-fdfb9d885e87",
    "deepnote_cell_type": "markdown",
    "deepnote_cell_height": 52.390625
   }
  },
  {
   "cell_type": "code",
   "metadata": {
    "colab": {
     "autoexec": {
      "startup": false,
      "wait_interval": 0
     }
    },
    "colab_type": "code",
    "id": "0xRxhlqbcc-I",
    "cell_id": "00060-70a6cbb2-d481-4b98-8649-1e732e27808d",
    "deepnote_to_be_reexecuted": false,
    "source_hash": "5dc1c656",
    "execution_start": 1657921968277,
    "execution_millis": 248,
    "deepnote_cell_type": "code",
    "deepnote_cell_height": 202.1875
   },
   "source": "from sklearn import metrics\n\nprobs = log_reg_proba(X_test)\nfpr, tpr, threshold = metrics.roc_curve(y_test, probs[:,1])\nroc_auc = metrics.auc(fpr, tpr)\nprint('AUC:', roc_auc)",
   "execution_count": null,
   "outputs": [
    {
     "name": "stdout",
     "text": "AUC: 0.9602372935706269\n",
     "output_type": "stream"
    }
   ]
  },
  {
   "cell_type": "markdown",
   "source": "Now graph the ROC curve using matplotlib, fully labeled.",
   "metadata": {
    "colab_type": "text",
    "id": "w3hnQOGUczOn",
    "cell_id": "00061-6b112153-f2f7-4456-98e3-b6b5abf3e6d5",
    "deepnote_cell_type": "markdown",
    "deepnote_cell_height": 52.390625
   }
  },
  {
   "cell_type": "code",
   "metadata": {
    "colab": {
     "autoexec": {
      "startup": false,
      "wait_interval": 0
     }
    },
    "colab_type": "code",
    "id": "JA-ieOGua55H",
    "cell_id": "00062-58ed95d2-f259-4088-bf15-97c4d7da684d",
    "deepnote_to_be_reexecuted": false,
    "source_hash": "a8deb7b5",
    "execution_start": 1657921970012,
    "execution_millis": 239,
    "deepnote_cell_type": "code",
    "deepnote_cell_height": 801.1875,
    "deepnote_output_heights": [
     21.1875,
     472
    ]
   },
   "source": "import matplotlib.pyplot as plt\n\nplt.figure(figsize=(5,5))\nplt.title('Receiver Operating Characteristic')\nplt.plot(fpr, tpr, label='AUC = %0.3f' % roc_auc)\nplt.legend(loc='lower right')\nplt.plot([0, 1], [0, 1], 'r--')\nplt.xlim([0, 1])\nplt.ylim([0, 1])\nplt.ylabel('True Positive Rate')\nplt.xlabel('False Positive Rate')",
   "execution_count": null,
   "outputs": [
    {
     "output_type": "execute_result",
     "execution_count": 86,
     "data": {
      "text/plain": "Text(0.5, 0, 'False Positive Rate')"
     },
     "metadata": {}
    },
    {
     "data": {
      "text/plain": "<Figure size 500x500 with 1 Axes>",
      "image/png": "[encoded data removed]"
     },
     "metadata": {
      "image/png": {
       "width": 469,
       "height": 470
      }
     },
     "output_type": "display_data"
    }
   ]
  },
  {
   "cell_type": "markdown",
   "source": "In conclusion, it looks like this model performed pretty bad. It's probably best to try out different columns or perhaps use a different model before we submit our model for scoring.",
   "metadata": {
    "colab_type": "text",
    "id": "5D4BtDZV6fxV",
    "cell_id": "00063-d8d82abe-c6d0-42e4-83ee-0ede0bd75851",
    "deepnote_cell_type": "markdown",
    "deepnote_cell_height": 74.78125
   }
  },
  {
   "cell_type": "markdown",
   "source": "# Submitting your Model",
   "metadata": {
    "colab_type": "text",
    "id": "5JW3myd8LHJy",
    "cell_id": "00064-ec6ed03f-6554-4d7a-b1ee-692862e12789",
    "owner_user_id": "ebd09714-693c-4027-a801-7e8a920b6a58",
    "deepnote_cell_type": "markdown",
    "deepnote_cell_height": 82
   }
  },
  {
   "cell_type": "markdown",
   "source": "Once you believe to have found the best classifier, run your classifier on the test data and make a pickle file containing of your predictions contained a pandas dataframe.\n\nThis pandas dataframe will contain three columns for your binary classifier (or 5 columns for the multiclass classifier): the first column should be your model's \"best guess\" for each patient (either 0 or 1, negative or positive) and the last two columns should be the probability the patient would be classified as either a 0 or 1.\n\n(see below for reference)",
   "metadata": {
    "colab_type": "text",
    "id": "Wuexs1daLNBY",
    "cell_id": "00065-376d636e-e176-405e-bf34-8238704b8b12",
    "deepnote_cell_type": "markdown",
    "deepnote_cell_height": 192.34375
   }
  },
  {
   "cell_type": "code",
   "metadata": {
    "cell_id": "b7a019f95ca14b768f0410f37a4c3ba8",
    "tags": [],
    "deepnote_to_be_reexecuted": false,
    "source_hash": "f35bdc0d",
    "execution_start": 1657921972945,
    "execution_millis": 44,
    "deepnote_table_state": {
     "pageSize": 10,
     "pageIndex": 4,
     "filters": [],
     "sortBy": []
    },
    "deepnote_table_loading": false,
    "deepnote_cell_type": "code",
    "deepnote_cell_height": 315
   },
   "source": "test_data = po.read_csv('../Datasets/allhypo.test.csv')\n\ndrop_columns = [\"TBG\", \"TBG Measured\"]\ntry:\n    test_data=test_data.drop(drop_columns,axis=1)\nexcept:\n    print(\"Already dropped\")\n\ntest_data[test_data=='?'] = np.nan\ntest_data[numeric_columns] = test_data[numeric_columns].apply(po.to_numeric)\n\nmedians = test_data.median()\nfor col in numeric_columns:\n    test_data.fillna(medians[col], inplace=True)",
   "execution_count": null,
   "outputs": []
  },
  {
   "cell_type": "code",
   "metadata": {
    "colab": {
     "autoexec": {
      "startup": false,
      "wait_interval": 0
     },
     "base_uri": "https://localhost:8080/",
     "height": 16
    },
    "colab_type": "code",
    "executionInfo": {
     "elapsed": 735,
     "status": "ok",
     "timestamp": 1531300930305,
     "user": {
      "displayName": "Lyle Lalunio",
      "photoUrl": "https://lh3.googleusercontent.com/a/default-user=s128",
      "userId": "108954789805627648380"
     },
     "user_tz": 240
    },
    "id": "GkZOEgg3m3g1",
    "outputId": "6e113681-1554-4d5d-ee1a-14fce422cdfe",
    "cell_id": "00066-10af5235-b89e-458a-9662-f0f792705571",
    "deepnote_to_be_reexecuted": false,
    "source_hash": "9132400f",
    "execution_start": 1657921976735,
    "execution_millis": 12,
    "deepnote_cell_type": "code",
    "deepnote_cell_height": 662.625
   },
   "source": "# after running this cell, you should see the pickle file pop up in the file explorer to the left\n# use the three dots next to the filename to download the file\n# after downloading the pickle file, email it to medlytics-21@mit.edu\nimport pickle\n\npreds = log_reg(test_data[features])\nprobs = log_reg_proba(test_data[features])\n\npredictions = po.DataFrame({\"guesses\": preds,\"prob_neg\": probs[:,0],\"prob_pos\": probs[:,1]})\nprint(predictions)\nprediction_pickle_path = 'prediction_pickle.pkl'\n\n# Create an variable to pickle and open it in write mode\nprediction_pickle = open(prediction_pickle_path, 'wb')\npickle.dump(predictions, prediction_pickle)\n\nprediction_pickle.close()",
   "execution_count": null,
   "outputs": [
    {
     "name": "stdout",
     "text": "     guesses  prob_neg  prob_pos\n0          1  0.725872  0.274128\n1          0  0.956466  0.043534\n2          0  0.929596  0.070404\n3          0  0.984275  0.015725\n4          0  0.977902  0.022098\n..       ...       ...       ...\n967        1  0.723957  0.276043\n968        0  0.979961  0.020039\n969        0  0.908768  0.091232\n970        0  0.981580  0.018420\n971        0  0.980434  0.019566\n\n[972 rows x 3 columns]\n",
     "output_type": "stream"
    }
   ]
  },
  {
   "cell_type": "code",
   "metadata": {
    "colab": {
     "autoexec": {
      "startup": false,
      "wait_interval": 0
     },
     "base_uri": "https://localhost:8080/",
     "height": 105
    },
    "colab_type": "code",
    "executionInfo": {
     "elapsed": 263,
     "status": "ok",
     "timestamp": 1531301033636,
     "user": {
      "displayName": "Lyle Lalunio",
      "photoUrl": "https://lh3.googleusercontent.com/a/default-user=s128",
      "userId": "108954789805627648380"
     },
     "user_tz": 240
    },
    "id": "Dj6_AB6LnjrW",
    "outputId": "399f0da3-727f-4e2f-9213-385243a95553",
    "cell_id": "00067-bc594228-5e0f-4b77-a810-af748a352536",
    "deepnote_to_be_reexecuted": false,
    "source_hash": "6bbc19f9",
    "execution_start": 1657921980217,
    "execution_millis": 9,
    "owner_user_id": "d6fb3fa0-1044-4f7b-8ee4-33f1bb732ee6",
    "deepnote_cell_type": "code",
    "deepnote_cell_height": 464.625
   },
   "source": "prediction_unpickle = open(prediction_pickle_path, 'rb')\n \n# load the unpickle object into a variable\npredictions = pickle.load(prediction_unpickle)\n \nprint(predictions)",
   "execution_count": null,
   "outputs": [
    {
     "name": "stdout",
     "text": "     guesses  prob_neg  prob_pos\n0          1  0.725872  0.274128\n1          0  0.956466  0.043534\n2          0  0.929596  0.070404\n3          0  0.984275  0.015725\n4          0  0.977902  0.022098\n..       ...       ...       ...\n967        1  0.723957  0.276043\n968        0  0.979961  0.020039\n969        0  0.908768  0.091232\n970        0  0.981580  0.018420\n971        0  0.980434  0.019566\n\n[972 rows x 3 columns]\n",
     "output_type": "stream"
    }
   ]
  },
  {
   "cell_type": "markdown",
   "source": "# Scoring your Model",
   "metadata": {
    "colab_type": "text",
    "id": "GW27RtFNttQA",
    "cell_id": "00068-27fe8845-7bc3-47d1-80d8-4d0a9706d491",
    "deepnote_cell_type": "markdown",
    "deepnote_cell_height": 82
   }
  },
  {
   "cell_type": "markdown",
   "source": "\n**Area Under ROC Curve**: A receiver operating characteristic (ROC) curve plots the true positive rate (y) against the false positive rate (x) at many decision threshold settings (output < threshold = 0, output > threshold = 1). The area under this curve represents the probability that a classifier will rank a randomly chosen positive instance higher than a randomly chosen negative one.\n\n**Confusion Matrix**: You will receive a certain number of points for each correct classification and a certain point penalty for each incorrect classification. The points are weighted, and are designed to equate to 0 in a Zero Rule baseline model. This point scheme is designed to punish you heavily for predicting false positives (FP) and false negatives (FN)--FN cases especially. In doing so, we hope you see the importance of clinical considerations and treat your models from a more human perspective, rather than detached from it.\n\n**Real World Cost**: Similar to the confusion matrix, we want you to keep in mind the other aspects of healthcare analytics--in this case, economic feasibility. In essence, we want you to minimize the amount of time and money spent on data collection by reducing the number of features collected. Each record certainly required a lot of time and money from several individuals and businesses to reliably create, and we hope you gain a better understanding of conducting a useful cost-benefit analysis with this scoring method. The full details of the weighted features can be found in the GitHub.",
   "metadata": {
    "colab_type": "text",
    "id": "iJdiisMerewv",
    "cell_id": "00069-d2f6afaa-cda0-49b1-9054-4584a4b7f46d",
    "deepnote_cell_type": "markdown",
    "deepnote_cell_height": 349.078125
   }
  },
  {
   "cell_type": "markdown",
   "source": "# Moving to the Next Level",
   "metadata": {
    "colab_type": "text",
    "id": "w66lpbB6Qv_M",
    "cell_id": "00070-ffd8f065-4590-4610-a4ac-c66262c746f2",
    "deepnote_cell_type": "markdown",
    "deepnote_cell_height": 82
   }
  },
  {
   "cell_type": "markdown",
   "source": "For those that finish early, remember how I converted the class values into simply \"negative\" and \"positive\"? Now try tackling the multiclass classifier (predicting the different types of positive hypothyroid cases instead of simply negative or positive)! \n\nThe same rules apply!",
   "metadata": {
    "colab_type": "text",
    "id": "X-HZ12lht_so",
    "cell_id": "00071-f937a6d6-cc0c-4bbf-8bde-35b0720a893e",
    "deepnote_cell_type": "markdown",
    "deepnote_cell_height": 111.171875
   }
  },
  {
   "cell_type": "code",
   "metadata": {
    "cell_id": "c33b8eede36741838a564705f5dd2fdf",
    "tags": [],
    "deepnote_to_be_reexecuted": false,
    "source_hash": "b623e53d",
    "execution_start": 1657921480601,
    "execution_millis": 1,
    "deepnote_cell_type": "code",
    "deepnote_cell_height": 81
   },
   "source": "",
   "execution_count": null,
   "outputs": []
  },
  {
   "cell_type": "markdown",
   "source": "<a style='text-decoration:none;line-height:16px;display:flex;color:#5B5B62;padding:10px;justify-content:end;' href='https://deepnote.com?utm_source=created-in-deepnote-cell&projectId=584e5e12-94dc-460b-99b5-559dcf20ab4a' target=\"_blank\">\n<img alt='Created in deepnote.com' style='display:inline;max-height:16px;margin:0px;margin-right:7.5px;' src='data:image/svg+xml;base64,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' > </img>\nCreated in <span style='font-weight:600;margin-left:4px;'>Deepnote</span></a>",
   "metadata": {
    "tags": [],
    "created_in_deepnote_cell": true,
    "deepnote_cell_type": "markdown"
   }
  }
 ],
 "nbformat": 4,
 "nbformat_minor": 1,
 "metadata": {
  "colab": {
   "collapsed_sections": [],
   "default_view": {},
   "name": "Challenge_Project_STUDENT.ipynb",
   "provenance": [],
   "version": "0.3.2",
   "views": {}
  },
  "kernelspec": {
   "display_name": "Python 3",
   "language": "python",
   "name": "python3"
  },
  "language_info": {
   "codemirror_mode": {
    "name": "ipython",
    "version": 3
   },
   "file_extension": ".py",
   "mimetype": "text/x-python",
   "name": "python",
   "nbconvert_exporter": "python",
   "pygments_lexer": "ipython3",
   "version": "3.7.3"
  },
  "deepnote_notebook_id": "f8c9caeb-052c-426a-b255-3c3b6ce5c5b0",
  "deepnote": {},
  "deepnote_execution_queue": []
 }
}